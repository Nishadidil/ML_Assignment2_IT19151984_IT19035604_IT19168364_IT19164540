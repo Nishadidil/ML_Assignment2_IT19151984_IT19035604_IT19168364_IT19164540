{
 "cells": [
  {
   "cell_type": "code",
   "execution_count": 1,
   "id": "68d8f246",
   "metadata": {},
   "outputs": [],
   "source": [
    "#import libraries\n",
    "import pandas as pd\n",
    "import numpy as np\n",
    "import seaborn as sns\n",
    "sns.set(color_codes=True)\n",
    "import os\n",
    "import matplotlib.pyplot as plt\n",
    "#encoder dataset\n",
    "from sklearn.preprocessing import LabelEncoder\n",
    "#standardScalern\n",
    "from sklearn.model_selection import train_test_split\n",
    "from sklearn.preprocessing import StandardScaler\n",
    "#minmaxScaler\n",
    "from sklearn.preprocessing import MinMaxScaler\n",
    "#for create model\n",
    "from sklearn.linear_model import LinearRegression"
   ]
  },
  {
   "cell_type": "code",
   "execution_count": 71,
   "id": "1fb580d4",
   "metadata": {},
   "outputs": [
    {
     "name": "stdout",
     "output_type": "stream",
     "text": [
      "['.ipynb_checkpoints', 'Assignment2.ipynb', 'Assignment2Final.ipynb', 'data_cleaning.ipynb', 'loan.csv', 'sample', 'Used_car_prices_in_Pakistan 2021_rawD.csv']\n"
     ]
    }
   ],
   "source": [
    "#print names of files in ML_assignment folder\n",
    "print(os.listdir())"
   ]
  },
  {
   "cell_type": "code",
   "execution_count": 72,
   "id": "5e0e11fc",
   "metadata": {},
   "outputs": [],
   "source": [
    "#import data-set\n",
    "df = pd.read_csv(\"Used_car_prices_in_Pakistan 2021_rawD.csv\")"
   ]
  },
  {
   "cell_type": "code",
   "execution_count": 73,
   "id": "051b35e7",
   "metadata": {},
   "outputs": [
    {
     "data": {
      "text/html": [
       "<div>\n",
       "<style scoped>\n",
       "    .dataframe tbody tr th:only-of-type {\n",
       "        vertical-align: middle;\n",
       "    }\n",
       "\n",
       "    .dataframe tbody tr th {\n",
       "        vertical-align: top;\n",
       "    }\n",
       "\n",
       "    .dataframe thead th {\n",
       "        text-align: right;\n",
       "    }\n",
       "</style>\n",
       "<table border=\"1\" class=\"dataframe\">\n",
       "  <thead>\n",
       "    <tr style=\"text-align: right;\">\n",
       "      <th></th>\n",
       "      <th>Make</th>\n",
       "      <th>Model</th>\n",
       "      <th>Version</th>\n",
       "      <th>Price</th>\n",
       "      <th>Make_Year</th>\n",
       "      <th>CC</th>\n",
       "      <th>Assembly</th>\n",
       "      <th>Mileage</th>\n",
       "      <th>Registered City</th>\n",
       "      <th>Transmission</th>\n",
       "    </tr>\n",
       "  </thead>\n",
       "  <tbody>\n",
       "    <tr>\n",
       "      <th>0</th>\n",
       "      <td>Honda</td>\n",
       "      <td>Insight</td>\n",
       "      <td>NaN</td>\n",
       "      <td>7400000.0</td>\n",
       "      <td>2019</td>\n",
       "      <td>1500</td>\n",
       "      <td>Imported</td>\n",
       "      <td>2000</td>\n",
       "      <td>Un-Registered</td>\n",
       "      <td>Automatic</td>\n",
       "    </tr>\n",
       "    <tr>\n",
       "      <th>1</th>\n",
       "      <td>Mitsubishi</td>\n",
       "      <td>Minica</td>\n",
       "      <td>Black Minica</td>\n",
       "      <td>1065000.0</td>\n",
       "      <td>2019</td>\n",
       "      <td>660</td>\n",
       "      <td>Imported</td>\n",
       "      <td>68000</td>\n",
       "      <td>Lahore</td>\n",
       "      <td>Automatic</td>\n",
       "    </tr>\n",
       "    <tr>\n",
       "      <th>2</th>\n",
       "      <td>Audi</td>\n",
       "      <td>A6</td>\n",
       "      <td>1.8 TFSI Business Class Edition</td>\n",
       "      <td>9300000.0</td>\n",
       "      <td>2015</td>\n",
       "      <td>1800</td>\n",
       "      <td>Local</td>\n",
       "      <td>70000</td>\n",
       "      <td>Lahore</td>\n",
       "      <td>Automatic</td>\n",
       "    </tr>\n",
       "    <tr>\n",
       "      <th>3</th>\n",
       "      <td>Toyota</td>\n",
       "      <td>Aqua</td>\n",
       "      <td>G</td>\n",
       "      <td>2375000.0</td>\n",
       "      <td>2014</td>\n",
       "      <td>1500</td>\n",
       "      <td>Imported</td>\n",
       "      <td>99900</td>\n",
       "      <td>Islamabad</td>\n",
       "      <td>Automatic</td>\n",
       "    </tr>\n",
       "    <tr>\n",
       "      <th>4</th>\n",
       "      <td>Honda</td>\n",
       "      <td>City</td>\n",
       "      <td>1.3 i-VTEC</td>\n",
       "      <td>2600000.0</td>\n",
       "      <td>2017</td>\n",
       "      <td>1300</td>\n",
       "      <td>Local</td>\n",
       "      <td>55000</td>\n",
       "      <td>Islamabad</td>\n",
       "      <td>Manual</td>\n",
       "    </tr>\n",
       "  </tbody>\n",
       "</table>\n",
       "</div>"
      ],
      "text/plain": [
       "         Make    Model                          Version      Price  Make_Year  \\\n",
       "0       Honda  Insight                              NaN  7400000.0       2019   \n",
       "1  Mitsubishi   Minica                     Black Minica  1065000.0       2019   \n",
       "2        Audi       A6  1.8 TFSI Business Class Edition  9300000.0       2015   \n",
       "3      Toyota     Aqua                                G  2375000.0       2014   \n",
       "4       Honda     City                       1.3 i-VTEC  2600000.0       2017   \n",
       "\n",
       "     CC  Assembly  Mileage Registered City Transmission  \n",
       "0  1500  Imported     2000   Un-Registered    Automatic  \n",
       "1   660  Imported    68000          Lahore    Automatic  \n",
       "2  1800     Local    70000          Lahore    Automatic  \n",
       "3  1500  Imported    99900       Islamabad    Automatic  \n",
       "4  1300     Local    55000       Islamabad       Manual  "
      ]
     },
     "execution_count": 73,
     "metadata": {},
     "output_type": "execute_result"
    }
   ],
   "source": [
    "#first five rows\n",
    "df.head()"
   ]
  },
  {
   "cell_type": "code",
   "execution_count": 74,
   "id": "d3b85f80",
   "metadata": {},
   "outputs": [
    {
     "data": {
      "text/html": [
       "<div>\n",
       "<style scoped>\n",
       "    .dataframe tbody tr th:only-of-type {\n",
       "        vertical-align: middle;\n",
       "    }\n",
       "\n",
       "    .dataframe tbody tr th {\n",
       "        vertical-align: top;\n",
       "    }\n",
       "\n",
       "    .dataframe thead th {\n",
       "        text-align: right;\n",
       "    }\n",
       "</style>\n",
       "<table border=\"1\" class=\"dataframe\">\n",
       "  <thead>\n",
       "    <tr style=\"text-align: right;\">\n",
       "      <th></th>\n",
       "      <th>Make</th>\n",
       "      <th>Model</th>\n",
       "      <th>Version</th>\n",
       "      <th>Price</th>\n",
       "      <th>Make_Year</th>\n",
       "      <th>CC</th>\n",
       "      <th>Assembly</th>\n",
       "      <th>Mileage</th>\n",
       "      <th>Registered City</th>\n",
       "      <th>Transmission</th>\n",
       "    </tr>\n",
       "  </thead>\n",
       "  <tbody>\n",
       "    <tr>\n",
       "      <th>80567</th>\n",
       "      <td>Suzuki</td>\n",
       "      <td>Bolan</td>\n",
       "      <td>NaN</td>\n",
       "      <td>750000.0</td>\n",
       "      <td>2015</td>\n",
       "      <td>800</td>\n",
       "      <td>Local</td>\n",
       "      <td>98000</td>\n",
       "      <td>Lahore</td>\n",
       "      <td>Manual</td>\n",
       "    </tr>\n",
       "    <tr>\n",
       "      <th>80568</th>\n",
       "      <td>Suzuki</td>\n",
       "      <td>Alto</td>\n",
       "      <td>VXR</td>\n",
       "      <td>1480000.0</td>\n",
       "      <td>2020</td>\n",
       "      <td>660</td>\n",
       "      <td>Local</td>\n",
       "      <td>7800</td>\n",
       "      <td>Karachi</td>\n",
       "      <td>Manual</td>\n",
       "    </tr>\n",
       "    <tr>\n",
       "      <th>80569</th>\n",
       "      <td>Toyota</td>\n",
       "      <td>Corolla</td>\n",
       "      <td>GLi Automatic 1.3 VVTi</td>\n",
       "      <td>2700000.0</td>\n",
       "      <td>2016</td>\n",
       "      <td>1300</td>\n",
       "      <td>Local</td>\n",
       "      <td>81000</td>\n",
       "      <td>Islamabad</td>\n",
       "      <td>Automatic</td>\n",
       "    </tr>\n",
       "    <tr>\n",
       "      <th>80570</th>\n",
       "      <td>FAW</td>\n",
       "      <td>X-PV</td>\n",
       "      <td>Standard</td>\n",
       "      <td>600000.0</td>\n",
       "      <td>2013</td>\n",
       "      <td>1000</td>\n",
       "      <td>Local</td>\n",
       "      <td>2</td>\n",
       "      <td>Lahore</td>\n",
       "      <td>Manual</td>\n",
       "    </tr>\n",
       "    <tr>\n",
       "      <th>80571</th>\n",
       "      <td>Honda</td>\n",
       "      <td>Civic</td>\n",
       "      <td>VTi Prosmatec 1.8 i-VTEC</td>\n",
       "      <td>2620000.0</td>\n",
       "      <td>2013</td>\n",
       "      <td>1800</td>\n",
       "      <td>Imported</td>\n",
       "      <td>100000</td>\n",
       "      <td>Islamabad</td>\n",
       "      <td>Automatic</td>\n",
       "    </tr>\n",
       "  </tbody>\n",
       "</table>\n",
       "</div>"
      ],
      "text/plain": [
       "         Make    Model                   Version      Price  Make_Year    CC  \\\n",
       "80567  Suzuki    Bolan                       NaN   750000.0       2015   800   \n",
       "80568  Suzuki     Alto                       VXR  1480000.0       2020   660   \n",
       "80569  Toyota  Corolla    GLi Automatic 1.3 VVTi  2700000.0       2016  1300   \n",
       "80570     FAW     X-PV                  Standard   600000.0       2013  1000   \n",
       "80571   Honda    Civic  VTi Prosmatec 1.8 i-VTEC  2620000.0       2013  1800   \n",
       "\n",
       "       Assembly  Mileage Registered City Transmission  \n",
       "80567     Local    98000          Lahore       Manual  \n",
       "80568     Local     7800         Karachi       Manual  \n",
       "80569     Local    81000       Islamabad    Automatic  \n",
       "80570     Local        2          Lahore       Manual  \n",
       "80571  Imported   100000       Islamabad    Automatic  "
      ]
     },
     "execution_count": 74,
     "metadata": {},
     "output_type": "execute_result"
    }
   ],
   "source": [
    "#last five rows\n",
    "df.tail()"
   ]
  },
  {
   "cell_type": "code",
   "execution_count": 75,
   "id": "11660508",
   "metadata": {},
   "outputs": [
    {
     "data": {
      "text/plain": [
       "(80572, 10)"
      ]
     },
     "execution_count": 75,
     "metadata": {},
     "output_type": "execute_result"
    }
   ],
   "source": [
    "#shape of the dataset\n",
    "df.shape"
   ]
  },
  {
   "cell_type": "markdown",
   "id": "7c189c30",
   "metadata": {},
   "source": [
    "# Data Cleaning : Detecting NAN values"
   ]
  },
  {
   "cell_type": "code",
   "execution_count": 76,
   "id": "cfc25797",
   "metadata": {},
   "outputs": [
    {
     "data": {
      "text/plain": [
       "Make                  0\n",
       "Model                 0\n",
       "Version            6772\n",
       "Price                 0\n",
       "Make_Year             0\n",
       "CC                    0\n",
       "Assembly              0\n",
       "Mileage               0\n",
       "Registered City       0\n",
       "Transmission          0\n",
       "dtype: int64"
      ]
     },
     "execution_count": 76,
     "metadata": {},
     "output_type": "execute_result"
    }
   ],
   "source": [
    "#Number of null value\n",
    "df.isnull().sum()"
   ]
  },
  {
   "cell_type": "markdown",
   "id": "5588d03a",
   "metadata": {},
   "source": [
    "# Detecting null values"
   ]
  },
  {
   "cell_type": "code",
   "execution_count": 77,
   "id": "d848773c",
   "metadata": {},
   "outputs": [],
   "source": [
    "missing_value=[\"NaN\",\"Call for price\",np.nan]\n",
    "df = pd.read_csv(\"Used_car_prices_in_Pakistan 2021_rawD.csv\", na_values=missing_value)"
   ]
  },
  {
   "cell_type": "code",
   "execution_count": 78,
   "id": "4dd8bb7a",
   "metadata": {},
   "outputs": [
    {
     "data": {
      "text/plain": [
       "Make               False\n",
       "Model              False\n",
       "Version             True\n",
       "Price               True\n",
       "Make_Year          False\n",
       "CC                 False\n",
       "Assembly           False\n",
       "Mileage            False\n",
       "Registered City    False\n",
       "Transmission       False\n",
       "dtype: bool"
      ]
     },
     "execution_count": 78,
     "metadata": {},
     "output_type": "execute_result"
    }
   ],
   "source": [
    "df.isnull().any()"
   ]
  },
  {
   "cell_type": "code",
   "execution_count": 79,
   "id": "cbb0215f",
   "metadata": {},
   "outputs": [
    {
     "data": {
      "text/plain": [
       "Make                  0\n",
       "Model                 0\n",
       "Version            6772\n",
       "Price              1209\n",
       "Make_Year             0\n",
       "CC                    0\n",
       "Assembly              0\n",
       "Mileage               0\n",
       "Registered City       0\n",
       "Transmission          0\n",
       "dtype: int64"
      ]
     },
     "execution_count": 79,
     "metadata": {},
     "output_type": "execute_result"
    }
   ],
   "source": [
    "#Number of null value\n",
    "df.isnull().sum()"
   ]
  },
  {
   "cell_type": "code",
   "execution_count": 80,
   "id": "308d94c2",
   "metadata": {},
   "outputs": [
    {
     "data": {
      "text/plain": [
       "Make               0.000000\n",
       "Model              0.000000\n",
       "Version            0.084049\n",
       "Price              0.015005\n",
       "Make_Year          0.000000\n",
       "CC                 0.000000\n",
       "Assembly           0.000000\n",
       "Mileage            0.000000\n",
       "Registered City    0.000000\n",
       "Transmission       0.000000\n",
       "dtype: float64"
      ]
     },
     "execution_count": 80,
     "metadata": {},
     "output_type": "execute_result"
    }
   ],
   "source": [
    "# Mean value % in null values\n",
    "df.isnull().mean()"
   ]
  },
  {
   "cell_type": "code",
   "execution_count": 81,
   "id": "5d79556e",
   "metadata": {},
   "outputs": [
    {
     "data": {
      "text/plain": [
       "<AxesSubplot:>"
      ]
     },
     "execution_count": 81,
     "metadata": {},
     "output_type": "execute_result"
    },
    {
     "data": {
      "image/png": "[encoded data removed]",
      "text/plain": [
       "<Figure size 432x288 with 1 Axes>"
      ]
     },
     "metadata": {
      "needs_background": "light"
     },
     "output_type": "display_data"
    }
   ],
   "source": [
    "df['Version'].value_counts().plot.bar()"
   ]
  },
  {
   "cell_type": "code",
   "execution_count": 82,
   "id": "fd38aeb7",
   "metadata": {},
   "outputs": [],
   "source": [
    "#display null values using graph\n",
    "#sns.heatmap(df.isnull(), yticklabels=False, annot=True)"
   ]
  },
  {
   "cell_type": "markdown",
   "id": "0caa8b75",
   "metadata": {},
   "source": [
    "# Add mean value in 'version' variable to the null values"
   ]
  },
  {
   "cell_type": "code",
   "execution_count": 83,
   "id": "8f0be0a8",
   "metadata": {},
   "outputs": [
    {
     "data": {
      "text/plain": [
       "0    GLi 1.3 VVTi\n",
       "dtype: object"
      ]
     },
     "execution_count": 83,
     "metadata": {},
     "output_type": "execute_result"
    }
   ],
   "source": [
    "df['Version'].mode()\n"
   ]
  },
  {
   "cell_type": "code",
   "execution_count": 84,
   "id": "e45f5490",
   "metadata": {},
   "outputs": [],
   "source": [
    "df['Version'].fillna('GLi 1.3 VVTi', inplace=True)"
   ]
  },
  {
   "cell_type": "code",
   "execution_count": 85,
   "id": "98b72205",
   "metadata": {},
   "outputs": [
    {
     "data": {
      "text/plain": [
       "0"
      ]
     },
     "execution_count": 85,
     "metadata": {},
     "output_type": "execute_result"
    }
   ],
   "source": [
    "df['Version'].isnull().sum()"
   ]
  },
  {
   "cell_type": "code",
   "execution_count": 86,
   "id": "6bb9f9cf",
   "metadata": {},
   "outputs": [
    {
     "data": {
      "text/plain": [
       "<AxesSubplot:>"
      ]
     },
     "execution_count": 86,
     "metadata": {},
     "output_type": "execute_result"
    },
    {
     "data": {
      "image/png": "[encoded data removed]",
      "text/plain": [
       "<Figure size 432x288 with 1 Axes>"
      ]
     },
     "metadata": {
      "needs_background": "light"
     },
     "output_type": "display_data"
    }
   ],
   "source": [
    "df['Version'].value_counts().plot.bar()"
   ]
  },
  {
   "cell_type": "code",
   "execution_count": 87,
   "id": "5731c6a9",
   "metadata": {},
   "outputs": [
    {
     "data": {
      "text/plain": [
       "0    750000.0\n",
       "dtype: float64"
      ]
     },
     "execution_count": 87,
     "metadata": {},
     "output_type": "execute_result"
    }
   ],
   "source": [
    "df['Price'].mode()"
   ]
  },
  {
   "cell_type": "code",
   "execution_count": 88,
   "id": "be569e7f",
   "metadata": {},
   "outputs": [],
   "source": [
    "df['Price'].fillna('750000.0', inplace=True)"
   ]
  },
  {
   "cell_type": "code",
   "execution_count": 89,
   "id": "899e2528",
   "metadata": {},
   "outputs": [
    {
     "data": {
      "text/plain": [
       "0"
      ]
     },
     "execution_count": 89,
     "metadata": {},
     "output_type": "execute_result"
    }
   ],
   "source": [
    "df['Price'].isnull().sum()"
   ]
  },
  {
   "cell_type": "code",
   "execution_count": 90,
   "id": "533a83ef",
   "metadata": {},
   "outputs": [
    {
     "data": {
      "text/plain": [
       "<AxesSubplot:>"
      ]
     },
     "execution_count": 90,
     "metadata": {},
     "output_type": "execute_result"
    },
    {
     "data": {
      "image/png": "[encoded data removed]",
      "text/plain": [
       "<Figure size 432x288 with 1 Axes>"
      ]
     },
     "metadata": {
      "needs_background": "light"
     },
     "output_type": "display_data"
    }
   ],
   "source": [
    "df['Price'].value_counts().plot.bar()"
   ]
  },
  {
   "cell_type": "markdown",
   "id": "e0b1f602",
   "metadata": {},
   "source": [
    "# Data Preprocessing"
   ]
  },
  {
   "cell_type": "markdown",
   "id": "fb7b3b30",
   "metadata": {},
   "source": [
    "# 3.1 LableEncoder"
   ]
  },
  {
   "cell_type": "code",
   "execution_count": 91,
   "id": "6ba199b1",
   "metadata": {},
   "outputs": [
    {
     "data": {
      "text/plain": [
       "Make               object\n",
       "Model              object\n",
       "Version            object\n",
       "Price              object\n",
       "Make_Year           int64\n",
       "CC                  int64\n",
       "Assembly           object\n",
       "Mileage             int64\n",
       "Registered City    object\n",
       "Transmission       object\n",
       "dtype: object"
      ]
     },
     "execution_count": 91,
     "metadata": {},
     "output_type": "execute_result"
    }
   ],
   "source": [
    "# data types in each colunm\n",
    "df.dtypes"
   ]
  },
  {
   "cell_type": "markdown",
   "id": "e267a7c5",
   "metadata": {},
   "source": [
    "# 3.1.1 LableEncoding an 'Make' variable (one-hot encoding)"
   ]
  },
  {
   "cell_type": "code",
   "execution_count": 92,
   "id": "f906d93a",
   "metadata": {},
   "outputs": [
    {
     "data": {
      "text/plain": [
       "array(['Honda', 'Mitsubishi', 'Audi', 'Toyota', 'Daihatsu', 'Suzuki',\n",
       "       'MG', 'KIA', 'Hyundai', 'Land', 'Mercedes', 'Changan', 'Nissan',\n",
       "       'Subaru', 'Lexus', 'FAW', 'Range', 'Volkswagen', 'Chevrolet',\n",
       "       'Ford', 'Proton', 'BMW', 'Mazda', 'Isuzu', 'Adam', 'Others',\n",
       "       'United', 'Prince', 'Porsche', 'Daewoo', 'Chery', 'Daehan',\n",
       "       'Citroen', 'Hummer', 'Buick', 'Jeep', 'JAC', 'DFSK', 'JMC', 'JW',\n",
       "       'Tesla', 'ZOTYE', 'Datsun', 'Bentley', 'Master', 'Plymouth',\n",
       "       'Chrysler', 'Dodge', 'GMC', 'Sogo', 'Volvo', 'Hino', 'Fiat',\n",
       "       'Jaguar', 'Peugeot', 'SsangYong', 'Cadillac', 'MINI', 'Roma',\n",
       "       'Sokon', 'Jinbei', 'Golden', 'Renault', 'Dongfeng', 'Rover',\n",
       "       'Geely'], dtype=object)"
      ]
     },
     "execution_count": 92,
     "metadata": {},
     "output_type": "execute_result"
    }
   ],
   "source": [
    "df['Make'].unique()"
   ]
  },
  {
   "cell_type": "code",
   "execution_count": 93,
   "id": "a22cfc35",
   "metadata": {},
   "outputs": [],
   "source": [
    "encode = LabelEncoder()"
   ]
  },
  {
   "cell_type": "code",
   "execution_count": 94,
   "id": "4514b797",
   "metadata": {},
   "outputs": [
    {
     "data": {
      "text/plain": [
       "array([25, 43,  1, ..., 61, 18, 25])"
      ]
     },
     "execution_count": 94,
     "metadata": {},
     "output_type": "execute_result"
    }
   ],
   "source": [
    "encode.fit_transform(df['Make'])"
   ]
  },
  {
   "cell_type": "code",
   "execution_count": 95,
   "id": "9d4dc3d3",
   "metadata": {},
   "outputs": [],
   "source": [
    "df['Make_label']=encode.fit_transform(df['Make'])"
   ]
  },
  {
   "cell_type": "code",
   "execution_count": 96,
   "id": "ca99880b",
   "metadata": {},
   "outputs": [
    {
     "data": {
      "text/plain": [
       "61    29793\n",
       "59    24209\n",
       "25    15186\n",
       "14     3016\n",
       "35     1321\n",
       "      ...  \n",
       "34        1\n",
       "52        1\n",
       "3         1\n",
       "54        1\n",
       "22        1\n",
       "Name: Make_label, Length: 66, dtype: int64"
      ]
     },
     "execution_count": 96,
     "metadata": {},
     "output_type": "execute_result"
    }
   ],
   "source": [
    "df['Make_label'].value_counts()"
   ]
  },
  {
   "cell_type": "code",
   "execution_count": 97,
   "id": "6339e0dc",
   "metadata": {},
   "outputs": [
    {
     "data": {
      "text/plain": [
       "Toyota      29793\n",
       "Suzuki      24209\n",
       "Honda       15186\n",
       "Daihatsu     3016\n",
       "KIA          1321\n",
       "            ...  \n",
       "Jinbei          1\n",
       "Renault         1\n",
       "Bentley         1\n",
       "Rover           1\n",
       "Geely           1\n",
       "Name: Make, Length: 66, dtype: int64"
      ]
     },
     "execution_count": 97,
     "metadata": {},
     "output_type": "execute_result"
    }
   ],
   "source": [
    "df['Make'].value_counts()"
   ]
  },
  {
   "cell_type": "markdown",
   "id": "85470f17",
   "metadata": {},
   "source": [
    "# Start one-hot encoding"
   ]
  },
  {
   "cell_type": "code",
   "execution_count": 98,
   "id": "c71130b5",
   "metadata": {},
   "outputs": [],
   "source": [
    "add_columns = pd.get_dummies(df['Make'])"
   ]
  },
  {
   "cell_type": "code",
   "execution_count": 99,
   "id": "82a49aad",
   "metadata": {},
   "outputs": [
    {
     "data": {
      "text/html": [
       "<div>\n",
       "<style scoped>\n",
       "    .dataframe tbody tr th:only-of-type {\n",
       "        vertical-align: middle;\n",
       "    }\n",
       "\n",
       "    .dataframe tbody tr th {\n",
       "        vertical-align: top;\n",
       "    }\n",
       "\n",
       "    .dataframe thead th {\n",
       "        text-align: right;\n",
       "    }\n",
       "</style>\n",
       "<table border=\"1\" class=\"dataframe\">\n",
       "  <thead>\n",
       "    <tr style=\"text-align: right;\">\n",
       "      <th></th>\n",
       "      <th>Adam</th>\n",
       "      <th>Audi</th>\n",
       "      <th>BMW</th>\n",
       "      <th>Bentley</th>\n",
       "      <th>Buick</th>\n",
       "      <th>Cadillac</th>\n",
       "      <th>Changan</th>\n",
       "      <th>Chery</th>\n",
       "      <th>Chevrolet</th>\n",
       "      <th>Chrysler</th>\n",
       "      <th>...</th>\n",
       "      <th>Sokon</th>\n",
       "      <th>SsangYong</th>\n",
       "      <th>Subaru</th>\n",
       "      <th>Suzuki</th>\n",
       "      <th>Tesla</th>\n",
       "      <th>Toyota</th>\n",
       "      <th>United</th>\n",
       "      <th>Volkswagen</th>\n",
       "      <th>Volvo</th>\n",
       "      <th>ZOTYE</th>\n",
       "    </tr>\n",
       "  </thead>\n",
       "  <tbody>\n",
       "    <tr>\n",
       "      <th>0</th>\n",
       "      <td>0</td>\n",
       "      <td>0</td>\n",
       "      <td>0</td>\n",
       "      <td>0</td>\n",
       "      <td>0</td>\n",
       "      <td>0</td>\n",
       "      <td>0</td>\n",
       "      <td>0</td>\n",
       "      <td>0</td>\n",
       "      <td>0</td>\n",
       "      <td>...</td>\n",
       "      <td>0</td>\n",
       "      <td>0</td>\n",
       "      <td>0</td>\n",
       "      <td>0</td>\n",
       "      <td>0</td>\n",
       "      <td>0</td>\n",
       "      <td>0</td>\n",
       "      <td>0</td>\n",
       "      <td>0</td>\n",
       "      <td>0</td>\n",
       "    </tr>\n",
       "    <tr>\n",
       "      <th>1</th>\n",
       "      <td>0</td>\n",
       "      <td>0</td>\n",
       "      <td>0</td>\n",
       "      <td>0</td>\n",
       "      <td>0</td>\n",
       "      <td>0</td>\n",
       "      <td>0</td>\n",
       "      <td>0</td>\n",
       "      <td>0</td>\n",
       "      <td>0</td>\n",
       "      <td>...</td>\n",
       "      <td>0</td>\n",
       "      <td>0</td>\n",
       "      <td>0</td>\n",
       "      <td>0</td>\n",
       "      <td>0</td>\n",
       "      <td>0</td>\n",
       "      <td>0</td>\n",
       "      <td>0</td>\n",
       "      <td>0</td>\n",
       "      <td>0</td>\n",
       "    </tr>\n",
       "    <tr>\n",
       "      <th>2</th>\n",
       "      <td>0</td>\n",
       "      <td>1</td>\n",
       "      <td>0</td>\n",
       "      <td>0</td>\n",
       "      <td>0</td>\n",
       "      <td>0</td>\n",
       "      <td>0</td>\n",
       "      <td>0</td>\n",
       "      <td>0</td>\n",
       "      <td>0</td>\n",
       "      <td>...</td>\n",
       "      <td>0</td>\n",
       "      <td>0</td>\n",
       "      <td>0</td>\n",
       "      <td>0</td>\n",
       "      <td>0</td>\n",
       "      <td>0</td>\n",
       "      <td>0</td>\n",
       "      <td>0</td>\n",
       "      <td>0</td>\n",
       "      <td>0</td>\n",
       "    </tr>\n",
       "    <tr>\n",
       "      <th>3</th>\n",
       "      <td>0</td>\n",
       "      <td>0</td>\n",
       "      <td>0</td>\n",
       "      <td>0</td>\n",
       "      <td>0</td>\n",
       "      <td>0</td>\n",
       "      <td>0</td>\n",
       "      <td>0</td>\n",
       "      <td>0</td>\n",
       "      <td>0</td>\n",
       "      <td>...</td>\n",
       "      <td>0</td>\n",
       "      <td>0</td>\n",
       "      <td>0</td>\n",
       "      <td>0</td>\n",
       "      <td>0</td>\n",
       "      <td>1</td>\n",
       "      <td>0</td>\n",
       "      <td>0</td>\n",
       "      <td>0</td>\n",
       "      <td>0</td>\n",
       "    </tr>\n",
       "    <tr>\n",
       "      <th>4</th>\n",
       "      <td>0</td>\n",
       "      <td>0</td>\n",
       "      <td>0</td>\n",
       "      <td>0</td>\n",
       "      <td>0</td>\n",
       "      <td>0</td>\n",
       "      <td>0</td>\n",
       "      <td>0</td>\n",
       "      <td>0</td>\n",
       "      <td>0</td>\n",
       "      <td>...</td>\n",
       "      <td>0</td>\n",
       "      <td>0</td>\n",
       "      <td>0</td>\n",
       "      <td>0</td>\n",
       "      <td>0</td>\n",
       "      <td>0</td>\n",
       "      <td>0</td>\n",
       "      <td>0</td>\n",
       "      <td>0</td>\n",
       "      <td>0</td>\n",
       "    </tr>\n",
       "    <tr>\n",
       "      <th>...</th>\n",
       "      <td>...</td>\n",
       "      <td>...</td>\n",
       "      <td>...</td>\n",
       "      <td>...</td>\n",
       "      <td>...</td>\n",
       "      <td>...</td>\n",
       "      <td>...</td>\n",
       "      <td>...</td>\n",
       "      <td>...</td>\n",
       "      <td>...</td>\n",
       "      <td>...</td>\n",
       "      <td>...</td>\n",
       "      <td>...</td>\n",
       "      <td>...</td>\n",
       "      <td>...</td>\n",
       "      <td>...</td>\n",
       "      <td>...</td>\n",
       "      <td>...</td>\n",
       "      <td>...</td>\n",
       "      <td>...</td>\n",
       "      <td>...</td>\n",
       "    </tr>\n",
       "    <tr>\n",
       "      <th>80567</th>\n",
       "      <td>0</td>\n",
       "      <td>0</td>\n",
       "      <td>0</td>\n",
       "      <td>0</td>\n",
       "      <td>0</td>\n",
       "      <td>0</td>\n",
       "      <td>0</td>\n",
       "      <td>0</td>\n",
       "      <td>0</td>\n",
       "      <td>0</td>\n",
       "      <td>...</td>\n",
       "      <td>0</td>\n",
       "      <td>0</td>\n",
       "      <td>0</td>\n",
       "      <td>1</td>\n",
       "      <td>0</td>\n",
       "      <td>0</td>\n",
       "      <td>0</td>\n",
       "      <td>0</td>\n",
       "      <td>0</td>\n",
       "      <td>0</td>\n",
       "    </tr>\n",
       "    <tr>\n",
       "      <th>80568</th>\n",
       "      <td>0</td>\n",
       "      <td>0</td>\n",
       "      <td>0</td>\n",
       "      <td>0</td>\n",
       "      <td>0</td>\n",
       "      <td>0</td>\n",
       "      <td>0</td>\n",
       "      <td>0</td>\n",
       "      <td>0</td>\n",
       "      <td>0</td>\n",
       "      <td>...</td>\n",
       "      <td>0</td>\n",
       "      <td>0</td>\n",
       "      <td>0</td>\n",
       "      <td>1</td>\n",
       "      <td>0</td>\n",
       "      <td>0</td>\n",
       "      <td>0</td>\n",
       "      <td>0</td>\n",
       "      <td>0</td>\n",
       "      <td>0</td>\n",
       "    </tr>\n",
       "    <tr>\n",
       "      <th>80569</th>\n",
       "      <td>0</td>\n",
       "      <td>0</td>\n",
       "      <td>0</td>\n",
       "      <td>0</td>\n",
       "      <td>0</td>\n",
       "      <td>0</td>\n",
       "      <td>0</td>\n",
       "      <td>0</td>\n",
       "      <td>0</td>\n",
       "      <td>0</td>\n",
       "      <td>...</td>\n",
       "      <td>0</td>\n",
       "      <td>0</td>\n",
       "      <td>0</td>\n",
       "      <td>0</td>\n",
       "      <td>0</td>\n",
       "      <td>1</td>\n",
       "      <td>0</td>\n",
       "      <td>0</td>\n",
       "      <td>0</td>\n",
       "      <td>0</td>\n",
       "    </tr>\n",
       "    <tr>\n",
       "      <th>80570</th>\n",
       "      <td>0</td>\n",
       "      <td>0</td>\n",
       "      <td>0</td>\n",
       "      <td>0</td>\n",
       "      <td>0</td>\n",
       "      <td>0</td>\n",
       "      <td>0</td>\n",
       "      <td>0</td>\n",
       "      <td>0</td>\n",
       "      <td>0</td>\n",
       "      <td>...</td>\n",
       "      <td>0</td>\n",
       "      <td>0</td>\n",
       "      <td>0</td>\n",
       "      <td>0</td>\n",
       "      <td>0</td>\n",
       "      <td>0</td>\n",
       "      <td>0</td>\n",
       "      <td>0</td>\n",
       "      <td>0</td>\n",
       "      <td>0</td>\n",
       "    </tr>\n",
       "    <tr>\n",
       "      <th>80571</th>\n",
       "      <td>0</td>\n",
       "      <td>0</td>\n",
       "      <td>0</td>\n",
       "      <td>0</td>\n",
       "      <td>0</td>\n",
       "      <td>0</td>\n",
       "      <td>0</td>\n",
       "      <td>0</td>\n",
       "      <td>0</td>\n",
       "      <td>0</td>\n",
       "      <td>...</td>\n",
       "      <td>0</td>\n",
       "      <td>0</td>\n",
       "      <td>0</td>\n",
       "      <td>0</td>\n",
       "      <td>0</td>\n",
       "      <td>0</td>\n",
       "      <td>0</td>\n",
       "      <td>0</td>\n",
       "      <td>0</td>\n",
       "      <td>0</td>\n",
       "    </tr>\n",
       "  </tbody>\n",
       "</table>\n",
       "<p>80572 rows × 66 columns</p>\n",
       "</div>"
      ],
      "text/plain": [
       "       Adam  Audi  BMW  Bentley  Buick  Cadillac  Changan  Chery  Chevrolet  \\\n",
       "0         0     0    0        0      0         0        0      0          0   \n",
       "1         0     0    0        0      0         0        0      0          0   \n",
       "2         0     1    0        0      0         0        0      0          0   \n",
       "3         0     0    0        0      0         0        0      0          0   \n",
       "4         0     0    0        0      0         0        0      0          0   \n",
       "...     ...   ...  ...      ...    ...       ...      ...    ...        ...   \n",
       "80567     0     0    0        0      0         0        0      0          0   \n",
       "80568     0     0    0        0      0         0        0      0          0   \n",
       "80569     0     0    0        0      0         0        0      0          0   \n",
       "80570     0     0    0        0      0         0        0      0          0   \n",
       "80571     0     0    0        0      0         0        0      0          0   \n",
       "\n",
       "       Chrysler  ...  Sokon  SsangYong  Subaru  Suzuki  Tesla  Toyota  United  \\\n",
       "0             0  ...      0          0       0       0      0       0       0   \n",
       "1             0  ...      0          0       0       0      0       0       0   \n",
       "2             0  ...      0          0       0       0      0       0       0   \n",
       "3             0  ...      0          0       0       0      0       1       0   \n",
       "4             0  ...      0          0       0       0      0       0       0   \n",
       "...         ...  ...    ...        ...     ...     ...    ...     ...     ...   \n",
       "80567         0  ...      0          0       0       1      0       0       0   \n",
       "80568         0  ...      0          0       0       1      0       0       0   \n",
       "80569         0  ...      0          0       0       0      0       1       0   \n",
       "80570         0  ...      0          0       0       0      0       0       0   \n",
       "80571         0  ...      0          0       0       0      0       0       0   \n",
       "\n",
       "       Volkswagen  Volvo  ZOTYE  \n",
       "0               0      0      0  \n",
       "1               0      0      0  \n",
       "2               0      0      0  \n",
       "3               0      0      0  \n",
       "4               0      0      0  \n",
       "...           ...    ...    ...  \n",
       "80567           0      0      0  \n",
       "80568           0      0      0  \n",
       "80569           0      0      0  \n",
       "80570           0      0      0  \n",
       "80571           0      0      0  \n",
       "\n",
       "[80572 rows x 66 columns]"
      ]
     },
     "execution_count": 99,
     "metadata": {},
     "output_type": "execute_result"
    }
   ],
   "source": [
    "add_columns"
   ]
  },
  {
   "cell_type": "code",
   "execution_count": 100,
   "id": "848346df",
   "metadata": {},
   "outputs": [
    {
     "data": {
      "text/html": [
       "<div>\n",
       "<style scoped>\n",
       "    .dataframe tbody tr th:only-of-type {\n",
       "        vertical-align: middle;\n",
       "    }\n",
       "\n",
       "    .dataframe tbody tr th {\n",
       "        vertical-align: top;\n",
       "    }\n",
       "\n",
       "    .dataframe thead th {\n",
       "        text-align: right;\n",
       "    }\n",
       "</style>\n",
       "<table border=\"1\" class=\"dataframe\">\n",
       "  <thead>\n",
       "    <tr style=\"text-align: right;\">\n",
       "      <th></th>\n",
       "      <th>Make</th>\n",
       "      <th>Model</th>\n",
       "      <th>Version</th>\n",
       "      <th>Price</th>\n",
       "      <th>Make_Year</th>\n",
       "      <th>CC</th>\n",
       "      <th>Assembly</th>\n",
       "      <th>Mileage</th>\n",
       "      <th>Registered City</th>\n",
       "      <th>Transmission</th>\n",
       "      <th>...</th>\n",
       "      <th>Sokon</th>\n",
       "      <th>SsangYong</th>\n",
       "      <th>Subaru</th>\n",
       "      <th>Suzuki</th>\n",
       "      <th>Tesla</th>\n",
       "      <th>Toyota</th>\n",
       "      <th>United</th>\n",
       "      <th>Volkswagen</th>\n",
       "      <th>Volvo</th>\n",
       "      <th>ZOTYE</th>\n",
       "    </tr>\n",
       "  </thead>\n",
       "  <tbody>\n",
       "    <tr>\n",
       "      <th>0</th>\n",
       "      <td>Honda</td>\n",
       "      <td>Insight</td>\n",
       "      <td>GLi 1.3 VVTi</td>\n",
       "      <td>7400000.0</td>\n",
       "      <td>2019</td>\n",
       "      <td>1500</td>\n",
       "      <td>Imported</td>\n",
       "      <td>2000</td>\n",
       "      <td>Un-Registered</td>\n",
       "      <td>Automatic</td>\n",
       "      <td>...</td>\n",
       "      <td>0</td>\n",
       "      <td>0</td>\n",
       "      <td>0</td>\n",
       "      <td>0</td>\n",
       "      <td>0</td>\n",
       "      <td>0</td>\n",
       "      <td>0</td>\n",
       "      <td>0</td>\n",
       "      <td>0</td>\n",
       "      <td>0</td>\n",
       "    </tr>\n",
       "    <tr>\n",
       "      <th>1</th>\n",
       "      <td>Mitsubishi</td>\n",
       "      <td>Minica</td>\n",
       "      <td>Black Minica</td>\n",
       "      <td>1065000.0</td>\n",
       "      <td>2019</td>\n",
       "      <td>660</td>\n",
       "      <td>Imported</td>\n",
       "      <td>68000</td>\n",
       "      <td>Lahore</td>\n",
       "      <td>Automatic</td>\n",
       "      <td>...</td>\n",
       "      <td>0</td>\n",
       "      <td>0</td>\n",
       "      <td>0</td>\n",
       "      <td>0</td>\n",
       "      <td>0</td>\n",
       "      <td>0</td>\n",
       "      <td>0</td>\n",
       "      <td>0</td>\n",
       "      <td>0</td>\n",
       "      <td>0</td>\n",
       "    </tr>\n",
       "    <tr>\n",
       "      <th>2</th>\n",
       "      <td>Audi</td>\n",
       "      <td>A6</td>\n",
       "      <td>1.8 TFSI Business Class Edition</td>\n",
       "      <td>9300000.0</td>\n",
       "      <td>2015</td>\n",
       "      <td>1800</td>\n",
       "      <td>Local</td>\n",
       "      <td>70000</td>\n",
       "      <td>Lahore</td>\n",
       "      <td>Automatic</td>\n",
       "      <td>...</td>\n",
       "      <td>0</td>\n",
       "      <td>0</td>\n",
       "      <td>0</td>\n",
       "      <td>0</td>\n",
       "      <td>0</td>\n",
       "      <td>0</td>\n",
       "      <td>0</td>\n",
       "      <td>0</td>\n",
       "      <td>0</td>\n",
       "      <td>0</td>\n",
       "    </tr>\n",
       "    <tr>\n",
       "      <th>3</th>\n",
       "      <td>Toyota</td>\n",
       "      <td>Aqua</td>\n",
       "      <td>G</td>\n",
       "      <td>2375000.0</td>\n",
       "      <td>2014</td>\n",
       "      <td>1500</td>\n",
       "      <td>Imported</td>\n",
       "      <td>99900</td>\n",
       "      <td>Islamabad</td>\n",
       "      <td>Automatic</td>\n",
       "      <td>...</td>\n",
       "      <td>0</td>\n",
       "      <td>0</td>\n",
       "      <td>0</td>\n",
       "      <td>0</td>\n",
       "      <td>0</td>\n",
       "      <td>1</td>\n",
       "      <td>0</td>\n",
       "      <td>0</td>\n",
       "      <td>0</td>\n",
       "      <td>0</td>\n",
       "    </tr>\n",
       "    <tr>\n",
       "      <th>4</th>\n",
       "      <td>Honda</td>\n",
       "      <td>City</td>\n",
       "      <td>1.3 i-VTEC</td>\n",
       "      <td>2600000.0</td>\n",
       "      <td>2017</td>\n",
       "      <td>1300</td>\n",
       "      <td>Local</td>\n",
       "      <td>55000</td>\n",
       "      <td>Islamabad</td>\n",
       "      <td>Manual</td>\n",
       "      <td>...</td>\n",
       "      <td>0</td>\n",
       "      <td>0</td>\n",
       "      <td>0</td>\n",
       "      <td>0</td>\n",
       "      <td>0</td>\n",
       "      <td>0</td>\n",
       "      <td>0</td>\n",
       "      <td>0</td>\n",
       "      <td>0</td>\n",
       "      <td>0</td>\n",
       "    </tr>\n",
       "    <tr>\n",
       "      <th>...</th>\n",
       "      <td>...</td>\n",
       "      <td>...</td>\n",
       "      <td>...</td>\n",
       "      <td>...</td>\n",
       "      <td>...</td>\n",
       "      <td>...</td>\n",
       "      <td>...</td>\n",
       "      <td>...</td>\n",
       "      <td>...</td>\n",
       "      <td>...</td>\n",
       "      <td>...</td>\n",
       "      <td>...</td>\n",
       "      <td>...</td>\n",
       "      <td>...</td>\n",
       "      <td>...</td>\n",
       "      <td>...</td>\n",
       "      <td>...</td>\n",
       "      <td>...</td>\n",
       "      <td>...</td>\n",
       "      <td>...</td>\n",
       "      <td>...</td>\n",
       "    </tr>\n",
       "    <tr>\n",
       "      <th>80567</th>\n",
       "      <td>Suzuki</td>\n",
       "      <td>Bolan</td>\n",
       "      <td>GLi 1.3 VVTi</td>\n",
       "      <td>750000.0</td>\n",
       "      <td>2015</td>\n",
       "      <td>800</td>\n",
       "      <td>Local</td>\n",
       "      <td>98000</td>\n",
       "      <td>Lahore</td>\n",
       "      <td>Manual</td>\n",
       "      <td>...</td>\n",
       "      <td>0</td>\n",
       "      <td>0</td>\n",
       "      <td>0</td>\n",
       "      <td>1</td>\n",
       "      <td>0</td>\n",
       "      <td>0</td>\n",
       "      <td>0</td>\n",
       "      <td>0</td>\n",
       "      <td>0</td>\n",
       "      <td>0</td>\n",
       "    </tr>\n",
       "    <tr>\n",
       "      <th>80568</th>\n",
       "      <td>Suzuki</td>\n",
       "      <td>Alto</td>\n",
       "      <td>VXR</td>\n",
       "      <td>1480000.0</td>\n",
       "      <td>2020</td>\n",
       "      <td>660</td>\n",
       "      <td>Local</td>\n",
       "      <td>7800</td>\n",
       "      <td>Karachi</td>\n",
       "      <td>Manual</td>\n",
       "      <td>...</td>\n",
       "      <td>0</td>\n",
       "      <td>0</td>\n",
       "      <td>0</td>\n",
       "      <td>1</td>\n",
       "      <td>0</td>\n",
       "      <td>0</td>\n",
       "      <td>0</td>\n",
       "      <td>0</td>\n",
       "      <td>0</td>\n",
       "      <td>0</td>\n",
       "    </tr>\n",
       "    <tr>\n",
       "      <th>80569</th>\n",
       "      <td>Toyota</td>\n",
       "      <td>Corolla</td>\n",
       "      <td>GLi Automatic 1.3 VVTi</td>\n",
       "      <td>2700000.0</td>\n",
       "      <td>2016</td>\n",
       "      <td>1300</td>\n",
       "      <td>Local</td>\n",
       "      <td>81000</td>\n",
       "      <td>Islamabad</td>\n",
       "      <td>Automatic</td>\n",
       "      <td>...</td>\n",
       "      <td>0</td>\n",
       "      <td>0</td>\n",
       "      <td>0</td>\n",
       "      <td>0</td>\n",
       "      <td>0</td>\n",
       "      <td>1</td>\n",
       "      <td>0</td>\n",
       "      <td>0</td>\n",
       "      <td>0</td>\n",
       "      <td>0</td>\n",
       "    </tr>\n",
       "    <tr>\n",
       "      <th>80570</th>\n",
       "      <td>FAW</td>\n",
       "      <td>X-PV</td>\n",
       "      <td>Standard</td>\n",
       "      <td>600000.0</td>\n",
       "      <td>2013</td>\n",
       "      <td>1000</td>\n",
       "      <td>Local</td>\n",
       "      <td>2</td>\n",
       "      <td>Lahore</td>\n",
       "      <td>Manual</td>\n",
       "      <td>...</td>\n",
       "      <td>0</td>\n",
       "      <td>0</td>\n",
       "      <td>0</td>\n",
       "      <td>0</td>\n",
       "      <td>0</td>\n",
       "      <td>0</td>\n",
       "      <td>0</td>\n",
       "      <td>0</td>\n",
       "      <td>0</td>\n",
       "      <td>0</td>\n",
       "    </tr>\n",
       "    <tr>\n",
       "      <th>80571</th>\n",
       "      <td>Honda</td>\n",
       "      <td>Civic</td>\n",
       "      <td>VTi Prosmatec 1.8 i-VTEC</td>\n",
       "      <td>2620000.0</td>\n",
       "      <td>2013</td>\n",
       "      <td>1800</td>\n",
       "      <td>Imported</td>\n",
       "      <td>100000</td>\n",
       "      <td>Islamabad</td>\n",
       "      <td>Automatic</td>\n",
       "      <td>...</td>\n",
       "      <td>0</td>\n",
       "      <td>0</td>\n",
       "      <td>0</td>\n",
       "      <td>0</td>\n",
       "      <td>0</td>\n",
       "      <td>0</td>\n",
       "      <td>0</td>\n",
       "      <td>0</td>\n",
       "      <td>0</td>\n",
       "      <td>0</td>\n",
       "    </tr>\n",
       "  </tbody>\n",
       "</table>\n",
       "<p>80572 rows × 77 columns</p>\n",
       "</div>"
      ],
      "text/plain": [
       "             Make    Model                          Version      Price  \\\n",
       "0           Honda  Insight                     GLi 1.3 VVTi  7400000.0   \n",
       "1      Mitsubishi   Minica                     Black Minica  1065000.0   \n",
       "2            Audi       A6  1.8 TFSI Business Class Edition  9300000.0   \n",
       "3          Toyota     Aqua                                G  2375000.0   \n",
       "4           Honda     City                       1.3 i-VTEC  2600000.0   \n",
       "...           ...      ...                              ...        ...   \n",
       "80567      Suzuki    Bolan                     GLi 1.3 VVTi   750000.0   \n",
       "80568      Suzuki     Alto                              VXR  1480000.0   \n",
       "80569      Toyota  Corolla           GLi Automatic 1.3 VVTi  2700000.0   \n",
       "80570         FAW     X-PV                         Standard   600000.0   \n",
       "80571       Honda    Civic         VTi Prosmatec 1.8 i-VTEC  2620000.0   \n",
       "\n",
       "       Make_Year    CC  Assembly  Mileage Registered City Transmission  ...  \\\n",
       "0           2019  1500  Imported     2000   Un-Registered    Automatic  ...   \n",
       "1           2019   660  Imported    68000          Lahore    Automatic  ...   \n",
       "2           2015  1800     Local    70000          Lahore    Automatic  ...   \n",
       "3           2014  1500  Imported    99900       Islamabad    Automatic  ...   \n",
       "4           2017  1300     Local    55000       Islamabad       Manual  ...   \n",
       "...          ...   ...       ...      ...             ...          ...  ...   \n",
       "80567       2015   800     Local    98000          Lahore       Manual  ...   \n",
       "80568       2020   660     Local     7800         Karachi       Manual  ...   \n",
       "80569       2016  1300     Local    81000       Islamabad    Automatic  ...   \n",
       "80570       2013  1000     Local        2          Lahore       Manual  ...   \n",
       "80571       2013  1800  Imported   100000       Islamabad    Automatic  ...   \n",
       "\n",
       "       Sokon  SsangYong  Subaru  Suzuki  Tesla  Toyota  United  Volkswagen  \\\n",
       "0          0          0       0       0      0       0       0           0   \n",
       "1          0          0       0       0      0       0       0           0   \n",
       "2          0          0       0       0      0       0       0           0   \n",
       "3          0          0       0       0      0       1       0           0   \n",
       "4          0          0       0       0      0       0       0           0   \n",
       "...      ...        ...     ...     ...    ...     ...     ...         ...   \n",
       "80567      0          0       0       1      0       0       0           0   \n",
       "80568      0          0       0       1      0       0       0           0   \n",
       "80569      0          0       0       0      0       1       0           0   \n",
       "80570      0          0       0       0      0       0       0           0   \n",
       "80571      0          0       0       0      0       0       0           0   \n",
       "\n",
       "       Volvo  ZOTYE  \n",
       "0          0      0  \n",
       "1          0      0  \n",
       "2          0      0  \n",
       "3          0      0  \n",
       "4          0      0  \n",
       "...      ...    ...  \n",
       "80567      0      0  \n",
       "80568      0      0  \n",
       "80569      0      0  \n",
       "80570      0      0  \n",
       "80571      0      0  \n",
       "\n",
       "[80572 rows x 77 columns]"
      ]
     },
     "execution_count": 100,
     "metadata": {},
     "output_type": "execute_result"
    }
   ],
   "source": [
    "df.join(add_columns)"
   ]
  },
  {
   "cell_type": "code",
   "execution_count": 101,
   "id": "5dc46258",
   "metadata": {},
   "outputs": [],
   "source": [
    "df.drop(['Make'], axis = 1, inplace = True)"
   ]
  },
  {
   "cell_type": "code",
   "execution_count": 102,
   "id": "bb329b01",
   "metadata": {},
   "outputs": [
    {
     "data": {
      "text/plain": [
       "Index(['Model', 'Version', 'Price', 'Make_Year', 'CC', 'Assembly', 'Mileage',\n",
       "       'Registered City', 'Transmission', 'Make_label'],\n",
       "      dtype='object')"
      ]
     },
     "execution_count": 102,
     "metadata": {},
     "output_type": "execute_result"
    }
   ],
   "source": [
    "df.columns"
   ]
  },
  {
   "cell_type": "code",
   "execution_count": 103,
   "id": "eb67098b",
   "metadata": {},
   "outputs": [],
   "source": [
    "df = df.join(add_columns)"
   ]
  },
  {
   "cell_type": "code",
   "execution_count": 104,
   "id": "7ce97e8c",
   "metadata": {},
   "outputs": [
    {
     "data": {
      "text/html": [
       "<div>\n",
       "<style scoped>\n",
       "    .dataframe tbody tr th:only-of-type {\n",
       "        vertical-align: middle;\n",
       "    }\n",
       "\n",
       "    .dataframe tbody tr th {\n",
       "        vertical-align: top;\n",
       "    }\n",
       "\n",
       "    .dataframe thead th {\n",
       "        text-align: right;\n",
       "    }\n",
       "</style>\n",
       "<table border=\"1\" class=\"dataframe\">\n",
       "  <thead>\n",
       "    <tr style=\"text-align: right;\">\n",
       "      <th></th>\n",
       "      <th>Model</th>\n",
       "      <th>Version</th>\n",
       "      <th>Price</th>\n",
       "      <th>Make_Year</th>\n",
       "      <th>CC</th>\n",
       "      <th>Assembly</th>\n",
       "      <th>Mileage</th>\n",
       "      <th>Registered City</th>\n",
       "      <th>Transmission</th>\n",
       "      <th>Make_label</th>\n",
       "      <th>...</th>\n",
       "      <th>Sokon</th>\n",
       "      <th>SsangYong</th>\n",
       "      <th>Subaru</th>\n",
       "      <th>Suzuki</th>\n",
       "      <th>Tesla</th>\n",
       "      <th>Toyota</th>\n",
       "      <th>United</th>\n",
       "      <th>Volkswagen</th>\n",
       "      <th>Volvo</th>\n",
       "      <th>ZOTYE</th>\n",
       "    </tr>\n",
       "  </thead>\n",
       "  <tbody>\n",
       "    <tr>\n",
       "      <th>0</th>\n",
       "      <td>Insight</td>\n",
       "      <td>GLi 1.3 VVTi</td>\n",
       "      <td>7400000.0</td>\n",
       "      <td>2019</td>\n",
       "      <td>1500</td>\n",
       "      <td>Imported</td>\n",
       "      <td>2000</td>\n",
       "      <td>Un-Registered</td>\n",
       "      <td>Automatic</td>\n",
       "      <td>25</td>\n",
       "      <td>...</td>\n",
       "      <td>0</td>\n",
       "      <td>0</td>\n",
       "      <td>0</td>\n",
       "      <td>0</td>\n",
       "      <td>0</td>\n",
       "      <td>0</td>\n",
       "      <td>0</td>\n",
       "      <td>0</td>\n",
       "      <td>0</td>\n",
       "      <td>0</td>\n",
       "    </tr>\n",
       "    <tr>\n",
       "      <th>1</th>\n",
       "      <td>Minica</td>\n",
       "      <td>Black Minica</td>\n",
       "      <td>1065000.0</td>\n",
       "      <td>2019</td>\n",
       "      <td>660</td>\n",
       "      <td>Imported</td>\n",
       "      <td>68000</td>\n",
       "      <td>Lahore</td>\n",
       "      <td>Automatic</td>\n",
       "      <td>43</td>\n",
       "      <td>...</td>\n",
       "      <td>0</td>\n",
       "      <td>0</td>\n",
       "      <td>0</td>\n",
       "      <td>0</td>\n",
       "      <td>0</td>\n",
       "      <td>0</td>\n",
       "      <td>0</td>\n",
       "      <td>0</td>\n",
       "      <td>0</td>\n",
       "      <td>0</td>\n",
       "    </tr>\n",
       "    <tr>\n",
       "      <th>2</th>\n",
       "      <td>A6</td>\n",
       "      <td>1.8 TFSI Business Class Edition</td>\n",
       "      <td>9300000.0</td>\n",
       "      <td>2015</td>\n",
       "      <td>1800</td>\n",
       "      <td>Local</td>\n",
       "      <td>70000</td>\n",
       "      <td>Lahore</td>\n",
       "      <td>Automatic</td>\n",
       "      <td>1</td>\n",
       "      <td>...</td>\n",
       "      <td>0</td>\n",
       "      <td>0</td>\n",
       "      <td>0</td>\n",
       "      <td>0</td>\n",
       "      <td>0</td>\n",
       "      <td>0</td>\n",
       "      <td>0</td>\n",
       "      <td>0</td>\n",
       "      <td>0</td>\n",
       "      <td>0</td>\n",
       "    </tr>\n",
       "    <tr>\n",
       "      <th>3</th>\n",
       "      <td>Aqua</td>\n",
       "      <td>G</td>\n",
       "      <td>2375000.0</td>\n",
       "      <td>2014</td>\n",
       "      <td>1500</td>\n",
       "      <td>Imported</td>\n",
       "      <td>99900</td>\n",
       "      <td>Islamabad</td>\n",
       "      <td>Automatic</td>\n",
       "      <td>61</td>\n",
       "      <td>...</td>\n",
       "      <td>0</td>\n",
       "      <td>0</td>\n",
       "      <td>0</td>\n",
       "      <td>0</td>\n",
       "      <td>0</td>\n",
       "      <td>1</td>\n",
       "      <td>0</td>\n",
       "      <td>0</td>\n",
       "      <td>0</td>\n",
       "      <td>0</td>\n",
       "    </tr>\n",
       "    <tr>\n",
       "      <th>4</th>\n",
       "      <td>City</td>\n",
       "      <td>1.3 i-VTEC</td>\n",
       "      <td>2600000.0</td>\n",
       "      <td>2017</td>\n",
       "      <td>1300</td>\n",
       "      <td>Local</td>\n",
       "      <td>55000</td>\n",
       "      <td>Islamabad</td>\n",
       "      <td>Manual</td>\n",
       "      <td>25</td>\n",
       "      <td>...</td>\n",
       "      <td>0</td>\n",
       "      <td>0</td>\n",
       "      <td>0</td>\n",
       "      <td>0</td>\n",
       "      <td>0</td>\n",
       "      <td>0</td>\n",
       "      <td>0</td>\n",
       "      <td>0</td>\n",
       "      <td>0</td>\n",
       "      <td>0</td>\n",
       "    </tr>\n",
       "    <tr>\n",
       "      <th>...</th>\n",
       "      <td>...</td>\n",
       "      <td>...</td>\n",
       "      <td>...</td>\n",
       "      <td>...</td>\n",
       "      <td>...</td>\n",
       "      <td>...</td>\n",
       "      <td>...</td>\n",
       "      <td>...</td>\n",
       "      <td>...</td>\n",
       "      <td>...</td>\n",
       "      <td>...</td>\n",
       "      <td>...</td>\n",
       "      <td>...</td>\n",
       "      <td>...</td>\n",
       "      <td>...</td>\n",
       "      <td>...</td>\n",
       "      <td>...</td>\n",
       "      <td>...</td>\n",
       "      <td>...</td>\n",
       "      <td>...</td>\n",
       "      <td>...</td>\n",
       "    </tr>\n",
       "    <tr>\n",
       "      <th>80567</th>\n",
       "      <td>Bolan</td>\n",
       "      <td>GLi 1.3 VVTi</td>\n",
       "      <td>750000.0</td>\n",
       "      <td>2015</td>\n",
       "      <td>800</td>\n",
       "      <td>Local</td>\n",
       "      <td>98000</td>\n",
       "      <td>Lahore</td>\n",
       "      <td>Manual</td>\n",
       "      <td>59</td>\n",
       "      <td>...</td>\n",
       "      <td>0</td>\n",
       "      <td>0</td>\n",
       "      <td>0</td>\n",
       "      <td>1</td>\n",
       "      <td>0</td>\n",
       "      <td>0</td>\n",
       "      <td>0</td>\n",
       "      <td>0</td>\n",
       "      <td>0</td>\n",
       "      <td>0</td>\n",
       "    </tr>\n",
       "    <tr>\n",
       "      <th>80568</th>\n",
       "      <td>Alto</td>\n",
       "      <td>VXR</td>\n",
       "      <td>1480000.0</td>\n",
       "      <td>2020</td>\n",
       "      <td>660</td>\n",
       "      <td>Local</td>\n",
       "      <td>7800</td>\n",
       "      <td>Karachi</td>\n",
       "      <td>Manual</td>\n",
       "      <td>59</td>\n",
       "      <td>...</td>\n",
       "      <td>0</td>\n",
       "      <td>0</td>\n",
       "      <td>0</td>\n",
       "      <td>1</td>\n",
       "      <td>0</td>\n",
       "      <td>0</td>\n",
       "      <td>0</td>\n",
       "      <td>0</td>\n",
       "      <td>0</td>\n",
       "      <td>0</td>\n",
       "    </tr>\n",
       "    <tr>\n",
       "      <th>80569</th>\n",
       "      <td>Corolla</td>\n",
       "      <td>GLi Automatic 1.3 VVTi</td>\n",
       "      <td>2700000.0</td>\n",
       "      <td>2016</td>\n",
       "      <td>1300</td>\n",
       "      <td>Local</td>\n",
       "      <td>81000</td>\n",
       "      <td>Islamabad</td>\n",
       "      <td>Automatic</td>\n",
       "      <td>61</td>\n",
       "      <td>...</td>\n",
       "      <td>0</td>\n",
       "      <td>0</td>\n",
       "      <td>0</td>\n",
       "      <td>0</td>\n",
       "      <td>0</td>\n",
       "      <td>1</td>\n",
       "      <td>0</td>\n",
       "      <td>0</td>\n",
       "      <td>0</td>\n",
       "      <td>0</td>\n",
       "    </tr>\n",
       "    <tr>\n",
       "      <th>80570</th>\n",
       "      <td>X-PV</td>\n",
       "      <td>Standard</td>\n",
       "      <td>600000.0</td>\n",
       "      <td>2013</td>\n",
       "      <td>1000</td>\n",
       "      <td>Local</td>\n",
       "      <td>2</td>\n",
       "      <td>Lahore</td>\n",
       "      <td>Manual</td>\n",
       "      <td>18</td>\n",
       "      <td>...</td>\n",
       "      <td>0</td>\n",
       "      <td>0</td>\n",
       "      <td>0</td>\n",
       "      <td>0</td>\n",
       "      <td>0</td>\n",
       "      <td>0</td>\n",
       "      <td>0</td>\n",
       "      <td>0</td>\n",
       "      <td>0</td>\n",
       "      <td>0</td>\n",
       "    </tr>\n",
       "    <tr>\n",
       "      <th>80571</th>\n",
       "      <td>Civic</td>\n",
       "      <td>VTi Prosmatec 1.8 i-VTEC</td>\n",
       "      <td>2620000.0</td>\n",
       "      <td>2013</td>\n",
       "      <td>1800</td>\n",
       "      <td>Imported</td>\n",
       "      <td>100000</td>\n",
       "      <td>Islamabad</td>\n",
       "      <td>Automatic</td>\n",
       "      <td>25</td>\n",
       "      <td>...</td>\n",
       "      <td>0</td>\n",
       "      <td>0</td>\n",
       "      <td>0</td>\n",
       "      <td>0</td>\n",
       "      <td>0</td>\n",
       "      <td>0</td>\n",
       "      <td>0</td>\n",
       "      <td>0</td>\n",
       "      <td>0</td>\n",
       "      <td>0</td>\n",
       "    </tr>\n",
       "  </tbody>\n",
       "</table>\n",
       "<p>80572 rows × 76 columns</p>\n",
       "</div>"
      ],
      "text/plain": [
       "         Model                          Version      Price  Make_Year    CC  \\\n",
       "0      Insight                     GLi 1.3 VVTi  7400000.0       2019  1500   \n",
       "1       Minica                     Black Minica  1065000.0       2019   660   \n",
       "2           A6  1.8 TFSI Business Class Edition  9300000.0       2015  1800   \n",
       "3         Aqua                                G  2375000.0       2014  1500   \n",
       "4         City                       1.3 i-VTEC  2600000.0       2017  1300   \n",
       "...        ...                              ...        ...        ...   ...   \n",
       "80567    Bolan                     GLi 1.3 VVTi   750000.0       2015   800   \n",
       "80568     Alto                              VXR  1480000.0       2020   660   \n",
       "80569  Corolla           GLi Automatic 1.3 VVTi  2700000.0       2016  1300   \n",
       "80570     X-PV                         Standard   600000.0       2013  1000   \n",
       "80571    Civic         VTi Prosmatec 1.8 i-VTEC  2620000.0       2013  1800   \n",
       "\n",
       "       Assembly  Mileage Registered City Transmission  Make_label  ...  Sokon  \\\n",
       "0      Imported     2000   Un-Registered    Automatic          25  ...      0   \n",
       "1      Imported    68000          Lahore    Automatic          43  ...      0   \n",
       "2         Local    70000          Lahore    Automatic           1  ...      0   \n",
       "3      Imported    99900       Islamabad    Automatic          61  ...      0   \n",
       "4         Local    55000       Islamabad       Manual          25  ...      0   \n",
       "...         ...      ...             ...          ...         ...  ...    ...   \n",
       "80567     Local    98000          Lahore       Manual          59  ...      0   \n",
       "80568     Local     7800         Karachi       Manual          59  ...      0   \n",
       "80569     Local    81000       Islamabad    Automatic          61  ...      0   \n",
       "80570     Local        2          Lahore       Manual          18  ...      0   \n",
       "80571  Imported   100000       Islamabad    Automatic          25  ...      0   \n",
       "\n",
       "       SsangYong  Subaru  Suzuki  Tesla  Toyota  United  Volkswagen  Volvo  \\\n",
       "0              0       0       0      0       0       0           0      0   \n",
       "1              0       0       0      0       0       0           0      0   \n",
       "2              0       0       0      0       0       0           0      0   \n",
       "3              0       0       0      0       1       0           0      0   \n",
       "4              0       0       0      0       0       0           0      0   \n",
       "...          ...     ...     ...    ...     ...     ...         ...    ...   \n",
       "80567          0       0       1      0       0       0           0      0   \n",
       "80568          0       0       1      0       0       0           0      0   \n",
       "80569          0       0       0      0       1       0           0      0   \n",
       "80570          0       0       0      0       0       0           0      0   \n",
       "80571          0       0       0      0       0       0           0      0   \n",
       "\n",
       "       ZOTYE  \n",
       "0          0  \n",
       "1          0  \n",
       "2          0  \n",
       "3          0  \n",
       "4          0  \n",
       "...      ...  \n",
       "80567      0  \n",
       "80568      0  \n",
       "80569      0  \n",
       "80570      0  \n",
       "80571      0  \n",
       "\n",
       "[80572 rows x 76 columns]"
      ]
     },
     "execution_count": 104,
     "metadata": {},
     "output_type": "execute_result"
    }
   ],
   "source": [
    "df"
   ]
  },
  {
   "cell_type": "markdown",
   "id": "860dcb0a",
   "metadata": {},
   "source": [
    "# 3.1.2 LableEncoding an 'Assembly' variable (one-hot encoding)"
   ]
  },
  {
   "cell_type": "code",
   "execution_count": 105,
   "id": "2e407f54",
   "metadata": {},
   "outputs": [
    {
     "data": {
      "text/plain": [
       "array(['Imported', 'Local'], dtype=object)"
      ]
     },
     "execution_count": 105,
     "metadata": {},
     "output_type": "execute_result"
    }
   ],
   "source": [
    "df['Assembly'].unique()"
   ]
  },
  {
   "cell_type": "code",
   "execution_count": 106,
   "id": "2d771561",
   "metadata": {},
   "outputs": [],
   "source": [
    "encode = LabelEncoder()"
   ]
  },
  {
   "cell_type": "code",
   "execution_count": 107,
   "id": "99004ba0",
   "metadata": {},
   "outputs": [
    {
     "data": {
      "text/plain": [
       "array([0, 0, 1, ..., 1, 1, 0])"
      ]
     },
     "execution_count": 107,
     "metadata": {},
     "output_type": "execute_result"
    }
   ],
   "source": [
    "encode.fit_transform(df['Assembly'])"
   ]
  },
  {
   "cell_type": "code",
   "execution_count": 108,
   "id": "e2f2c6ed",
   "metadata": {},
   "outputs": [],
   "source": [
    "df['Assembly_label']=encode.fit_transform(df['Assembly'])"
   ]
  },
  {
   "cell_type": "code",
   "execution_count": 109,
   "id": "ea4593d5",
   "metadata": {},
   "outputs": [
    {
     "data": {
      "text/plain": [
       "1    54498\n",
       "0    26074\n",
       "Name: Assembly_label, dtype: int64"
      ]
     },
     "execution_count": 109,
     "metadata": {},
     "output_type": "execute_result"
    }
   ],
   "source": [
    "df['Assembly_label'].value_counts()"
   ]
  },
  {
   "cell_type": "code",
   "execution_count": 110,
   "id": "1c34fabe",
   "metadata": {},
   "outputs": [
    {
     "data": {
      "text/plain": [
       "Local       54498\n",
       "Imported    26074\n",
       "Name: Assembly, dtype: int64"
      ]
     },
     "execution_count": 110,
     "metadata": {},
     "output_type": "execute_result"
    }
   ],
   "source": [
    "df['Assembly'].value_counts()"
   ]
  },
  {
   "cell_type": "markdown",
   "id": "fb9d0a65",
   "metadata": {},
   "source": [
    "# Start one-hot encoding"
   ]
  },
  {
   "cell_type": "code",
   "execution_count": 111,
   "id": "058fb016",
   "metadata": {},
   "outputs": [],
   "source": [
    "add_columns = pd.get_dummies(df['Assembly'])"
   ]
  },
  {
   "cell_type": "code",
   "execution_count": 112,
   "id": "1ce6fa77",
   "metadata": {},
   "outputs": [
    {
     "data": {
      "text/html": [
       "<div>\n",
       "<style scoped>\n",
       "    .dataframe tbody tr th:only-of-type {\n",
       "        vertical-align: middle;\n",
       "    }\n",
       "\n",
       "    .dataframe tbody tr th {\n",
       "        vertical-align: top;\n",
       "    }\n",
       "\n",
       "    .dataframe thead th {\n",
       "        text-align: right;\n",
       "    }\n",
       "</style>\n",
       "<table border=\"1\" class=\"dataframe\">\n",
       "  <thead>\n",
       "    <tr style=\"text-align: right;\">\n",
       "      <th></th>\n",
       "      <th>Imported</th>\n",
       "      <th>Local</th>\n",
       "    </tr>\n",
       "  </thead>\n",
       "  <tbody>\n",
       "    <tr>\n",
       "      <th>0</th>\n",
       "      <td>1</td>\n",
       "      <td>0</td>\n",
       "    </tr>\n",
       "    <tr>\n",
       "      <th>1</th>\n",
       "      <td>1</td>\n",
       "      <td>0</td>\n",
       "    </tr>\n",
       "    <tr>\n",
       "      <th>2</th>\n",
       "      <td>0</td>\n",
       "      <td>1</td>\n",
       "    </tr>\n",
       "    <tr>\n",
       "      <th>3</th>\n",
       "      <td>1</td>\n",
       "      <td>0</td>\n",
       "    </tr>\n",
       "    <tr>\n",
       "      <th>4</th>\n",
       "      <td>0</td>\n",
       "      <td>1</td>\n",
       "    </tr>\n",
       "    <tr>\n",
       "      <th>...</th>\n",
       "      <td>...</td>\n",
       "      <td>...</td>\n",
       "    </tr>\n",
       "    <tr>\n",
       "      <th>80567</th>\n",
       "      <td>0</td>\n",
       "      <td>1</td>\n",
       "    </tr>\n",
       "    <tr>\n",
       "      <th>80568</th>\n",
       "      <td>0</td>\n",
       "      <td>1</td>\n",
       "    </tr>\n",
       "    <tr>\n",
       "      <th>80569</th>\n",
       "      <td>0</td>\n",
       "      <td>1</td>\n",
       "    </tr>\n",
       "    <tr>\n",
       "      <th>80570</th>\n",
       "      <td>0</td>\n",
       "      <td>1</td>\n",
       "    </tr>\n",
       "    <tr>\n",
       "      <th>80571</th>\n",
       "      <td>1</td>\n",
       "      <td>0</td>\n",
       "    </tr>\n",
       "  </tbody>\n",
       "</table>\n",
       "<p>80572 rows × 2 columns</p>\n",
       "</div>"
      ],
      "text/plain": [
       "       Imported  Local\n",
       "0             1      0\n",
       "1             1      0\n",
       "2             0      1\n",
       "3             1      0\n",
       "4             0      1\n",
       "...         ...    ...\n",
       "80567         0      1\n",
       "80568         0      1\n",
       "80569         0      1\n",
       "80570         0      1\n",
       "80571         1      0\n",
       "\n",
       "[80572 rows x 2 columns]"
      ]
     },
     "execution_count": 112,
     "metadata": {},
     "output_type": "execute_result"
    }
   ],
   "source": [
    "add_columns"
   ]
  },
  {
   "cell_type": "code",
   "execution_count": 113,
   "id": "8006ecfb",
   "metadata": {},
   "outputs": [
    {
     "data": {
      "text/html": [
       "<div>\n",
       "<style scoped>\n",
       "    .dataframe tbody tr th:only-of-type {\n",
       "        vertical-align: middle;\n",
       "    }\n",
       "\n",
       "    .dataframe tbody tr th {\n",
       "        vertical-align: top;\n",
       "    }\n",
       "\n",
       "    .dataframe thead th {\n",
       "        text-align: right;\n",
       "    }\n",
       "</style>\n",
       "<table border=\"1\" class=\"dataframe\">\n",
       "  <thead>\n",
       "    <tr style=\"text-align: right;\">\n",
       "      <th></th>\n",
       "      <th>Model</th>\n",
       "      <th>Version</th>\n",
       "      <th>Price</th>\n",
       "      <th>Make_Year</th>\n",
       "      <th>CC</th>\n",
       "      <th>Assembly</th>\n",
       "      <th>Mileage</th>\n",
       "      <th>Registered City</th>\n",
       "      <th>Transmission</th>\n",
       "      <th>Make_label</th>\n",
       "      <th>...</th>\n",
       "      <th>Suzuki</th>\n",
       "      <th>Tesla</th>\n",
       "      <th>Toyota</th>\n",
       "      <th>United</th>\n",
       "      <th>Volkswagen</th>\n",
       "      <th>Volvo</th>\n",
       "      <th>ZOTYE</th>\n",
       "      <th>Assembly_label</th>\n",
       "      <th>Imported</th>\n",
       "      <th>Local</th>\n",
       "    </tr>\n",
       "  </thead>\n",
       "  <tbody>\n",
       "    <tr>\n",
       "      <th>0</th>\n",
       "      <td>Insight</td>\n",
       "      <td>GLi 1.3 VVTi</td>\n",
       "      <td>7400000.0</td>\n",
       "      <td>2019</td>\n",
       "      <td>1500</td>\n",
       "      <td>Imported</td>\n",
       "      <td>2000</td>\n",
       "      <td>Un-Registered</td>\n",
       "      <td>Automatic</td>\n",
       "      <td>25</td>\n",
       "      <td>...</td>\n",
       "      <td>0</td>\n",
       "      <td>0</td>\n",
       "      <td>0</td>\n",
       "      <td>0</td>\n",
       "      <td>0</td>\n",
       "      <td>0</td>\n",
       "      <td>0</td>\n",
       "      <td>0</td>\n",
       "      <td>1</td>\n",
       "      <td>0</td>\n",
       "    </tr>\n",
       "    <tr>\n",
       "      <th>1</th>\n",
       "      <td>Minica</td>\n",
       "      <td>Black Minica</td>\n",
       "      <td>1065000.0</td>\n",
       "      <td>2019</td>\n",
       "      <td>660</td>\n",
       "      <td>Imported</td>\n",
       "      <td>68000</td>\n",
       "      <td>Lahore</td>\n",
       "      <td>Automatic</td>\n",
       "      <td>43</td>\n",
       "      <td>...</td>\n",
       "      <td>0</td>\n",
       "      <td>0</td>\n",
       "      <td>0</td>\n",
       "      <td>0</td>\n",
       "      <td>0</td>\n",
       "      <td>0</td>\n",
       "      <td>0</td>\n",
       "      <td>0</td>\n",
       "      <td>1</td>\n",
       "      <td>0</td>\n",
       "    </tr>\n",
       "    <tr>\n",
       "      <th>2</th>\n",
       "      <td>A6</td>\n",
       "      <td>1.8 TFSI Business Class Edition</td>\n",
       "      <td>9300000.0</td>\n",
       "      <td>2015</td>\n",
       "      <td>1800</td>\n",
       "      <td>Local</td>\n",
       "      <td>70000</td>\n",
       "      <td>Lahore</td>\n",
       "      <td>Automatic</td>\n",
       "      <td>1</td>\n",
       "      <td>...</td>\n",
       "      <td>0</td>\n",
       "      <td>0</td>\n",
       "      <td>0</td>\n",
       "      <td>0</td>\n",
       "      <td>0</td>\n",
       "      <td>0</td>\n",
       "      <td>0</td>\n",
       "      <td>1</td>\n",
       "      <td>0</td>\n",
       "      <td>1</td>\n",
       "    </tr>\n",
       "    <tr>\n",
       "      <th>3</th>\n",
       "      <td>Aqua</td>\n",
       "      <td>G</td>\n",
       "      <td>2375000.0</td>\n",
       "      <td>2014</td>\n",
       "      <td>1500</td>\n",
       "      <td>Imported</td>\n",
       "      <td>99900</td>\n",
       "      <td>Islamabad</td>\n",
       "      <td>Automatic</td>\n",
       "      <td>61</td>\n",
       "      <td>...</td>\n",
       "      <td>0</td>\n",
       "      <td>0</td>\n",
       "      <td>1</td>\n",
       "      <td>0</td>\n",
       "      <td>0</td>\n",
       "      <td>0</td>\n",
       "      <td>0</td>\n",
       "      <td>0</td>\n",
       "      <td>1</td>\n",
       "      <td>0</td>\n",
       "    </tr>\n",
       "    <tr>\n",
       "      <th>4</th>\n",
       "      <td>City</td>\n",
       "      <td>1.3 i-VTEC</td>\n",
       "      <td>2600000.0</td>\n",
       "      <td>2017</td>\n",
       "      <td>1300</td>\n",
       "      <td>Local</td>\n",
       "      <td>55000</td>\n",
       "      <td>Islamabad</td>\n",
       "      <td>Manual</td>\n",
       "      <td>25</td>\n",
       "      <td>...</td>\n",
       "      <td>0</td>\n",
       "      <td>0</td>\n",
       "      <td>0</td>\n",
       "      <td>0</td>\n",
       "      <td>0</td>\n",
       "      <td>0</td>\n",
       "      <td>0</td>\n",
       "      <td>1</td>\n",
       "      <td>0</td>\n",
       "      <td>1</td>\n",
       "    </tr>\n",
       "    <tr>\n",
       "      <th>...</th>\n",
       "      <td>...</td>\n",
       "      <td>...</td>\n",
       "      <td>...</td>\n",
       "      <td>...</td>\n",
       "      <td>...</td>\n",
       "      <td>...</td>\n",
       "      <td>...</td>\n",
       "      <td>...</td>\n",
       "      <td>...</td>\n",
       "      <td>...</td>\n",
       "      <td>...</td>\n",
       "      <td>...</td>\n",
       "      <td>...</td>\n",
       "      <td>...</td>\n",
       "      <td>...</td>\n",
       "      <td>...</td>\n",
       "      <td>...</td>\n",
       "      <td>...</td>\n",
       "      <td>...</td>\n",
       "      <td>...</td>\n",
       "      <td>...</td>\n",
       "    </tr>\n",
       "    <tr>\n",
       "      <th>80567</th>\n",
       "      <td>Bolan</td>\n",
       "      <td>GLi 1.3 VVTi</td>\n",
       "      <td>750000.0</td>\n",
       "      <td>2015</td>\n",
       "      <td>800</td>\n",
       "      <td>Local</td>\n",
       "      <td>98000</td>\n",
       "      <td>Lahore</td>\n",
       "      <td>Manual</td>\n",
       "      <td>59</td>\n",
       "      <td>...</td>\n",
       "      <td>1</td>\n",
       "      <td>0</td>\n",
       "      <td>0</td>\n",
       "      <td>0</td>\n",
       "      <td>0</td>\n",
       "      <td>0</td>\n",
       "      <td>0</td>\n",
       "      <td>1</td>\n",
       "      <td>0</td>\n",
       "      <td>1</td>\n",
       "    </tr>\n",
       "    <tr>\n",
       "      <th>80568</th>\n",
       "      <td>Alto</td>\n",
       "      <td>VXR</td>\n",
       "      <td>1480000.0</td>\n",
       "      <td>2020</td>\n",
       "      <td>660</td>\n",
       "      <td>Local</td>\n",
       "      <td>7800</td>\n",
       "      <td>Karachi</td>\n",
       "      <td>Manual</td>\n",
       "      <td>59</td>\n",
       "      <td>...</td>\n",
       "      <td>1</td>\n",
       "      <td>0</td>\n",
       "      <td>0</td>\n",
       "      <td>0</td>\n",
       "      <td>0</td>\n",
       "      <td>0</td>\n",
       "      <td>0</td>\n",
       "      <td>1</td>\n",
       "      <td>0</td>\n",
       "      <td>1</td>\n",
       "    </tr>\n",
       "    <tr>\n",
       "      <th>80569</th>\n",
       "      <td>Corolla</td>\n",
       "      <td>GLi Automatic 1.3 VVTi</td>\n",
       "      <td>2700000.0</td>\n",
       "      <td>2016</td>\n",
       "      <td>1300</td>\n",
       "      <td>Local</td>\n",
       "      <td>81000</td>\n",
       "      <td>Islamabad</td>\n",
       "      <td>Automatic</td>\n",
       "      <td>61</td>\n",
       "      <td>...</td>\n",
       "      <td>0</td>\n",
       "      <td>0</td>\n",
       "      <td>1</td>\n",
       "      <td>0</td>\n",
       "      <td>0</td>\n",
       "      <td>0</td>\n",
       "      <td>0</td>\n",
       "      <td>1</td>\n",
       "      <td>0</td>\n",
       "      <td>1</td>\n",
       "    </tr>\n",
       "    <tr>\n",
       "      <th>80570</th>\n",
       "      <td>X-PV</td>\n",
       "      <td>Standard</td>\n",
       "      <td>600000.0</td>\n",
       "      <td>2013</td>\n",
       "      <td>1000</td>\n",
       "      <td>Local</td>\n",
       "      <td>2</td>\n",
       "      <td>Lahore</td>\n",
       "      <td>Manual</td>\n",
       "      <td>18</td>\n",
       "      <td>...</td>\n",
       "      <td>0</td>\n",
       "      <td>0</td>\n",
       "      <td>0</td>\n",
       "      <td>0</td>\n",
       "      <td>0</td>\n",
       "      <td>0</td>\n",
       "      <td>0</td>\n",
       "      <td>1</td>\n",
       "      <td>0</td>\n",
       "      <td>1</td>\n",
       "    </tr>\n",
       "    <tr>\n",
       "      <th>80571</th>\n",
       "      <td>Civic</td>\n",
       "      <td>VTi Prosmatec 1.8 i-VTEC</td>\n",
       "      <td>2620000.0</td>\n",
       "      <td>2013</td>\n",
       "      <td>1800</td>\n",
       "      <td>Imported</td>\n",
       "      <td>100000</td>\n",
       "      <td>Islamabad</td>\n",
       "      <td>Automatic</td>\n",
       "      <td>25</td>\n",
       "      <td>...</td>\n",
       "      <td>0</td>\n",
       "      <td>0</td>\n",
       "      <td>0</td>\n",
       "      <td>0</td>\n",
       "      <td>0</td>\n",
       "      <td>0</td>\n",
       "      <td>0</td>\n",
       "      <td>0</td>\n",
       "      <td>1</td>\n",
       "      <td>0</td>\n",
       "    </tr>\n",
       "  </tbody>\n",
       "</table>\n",
       "<p>80572 rows × 79 columns</p>\n",
       "</div>"
      ],
      "text/plain": [
       "         Model                          Version      Price  Make_Year    CC  \\\n",
       "0      Insight                     GLi 1.3 VVTi  7400000.0       2019  1500   \n",
       "1       Minica                     Black Minica  1065000.0       2019   660   \n",
       "2           A6  1.8 TFSI Business Class Edition  9300000.0       2015  1800   \n",
       "3         Aqua                                G  2375000.0       2014  1500   \n",
       "4         City                       1.3 i-VTEC  2600000.0       2017  1300   \n",
       "...        ...                              ...        ...        ...   ...   \n",
       "80567    Bolan                     GLi 1.3 VVTi   750000.0       2015   800   \n",
       "80568     Alto                              VXR  1480000.0       2020   660   \n",
       "80569  Corolla           GLi Automatic 1.3 VVTi  2700000.0       2016  1300   \n",
       "80570     X-PV                         Standard   600000.0       2013  1000   \n",
       "80571    Civic         VTi Prosmatec 1.8 i-VTEC  2620000.0       2013  1800   \n",
       "\n",
       "       Assembly  Mileage Registered City Transmission  Make_label  ...  \\\n",
       "0      Imported     2000   Un-Registered    Automatic          25  ...   \n",
       "1      Imported    68000          Lahore    Automatic          43  ...   \n",
       "2         Local    70000          Lahore    Automatic           1  ...   \n",
       "3      Imported    99900       Islamabad    Automatic          61  ...   \n",
       "4         Local    55000       Islamabad       Manual          25  ...   \n",
       "...         ...      ...             ...          ...         ...  ...   \n",
       "80567     Local    98000          Lahore       Manual          59  ...   \n",
       "80568     Local     7800         Karachi       Manual          59  ...   \n",
       "80569     Local    81000       Islamabad    Automatic          61  ...   \n",
       "80570     Local        2          Lahore       Manual          18  ...   \n",
       "80571  Imported   100000       Islamabad    Automatic          25  ...   \n",
       "\n",
       "       Suzuki  Tesla  Toyota  United  Volkswagen  Volvo  ZOTYE  \\\n",
       "0           0      0       0       0           0      0      0   \n",
       "1           0      0       0       0           0      0      0   \n",
       "2           0      0       0       0           0      0      0   \n",
       "3           0      0       1       0           0      0      0   \n",
       "4           0      0       0       0           0      0      0   \n",
       "...       ...    ...     ...     ...         ...    ...    ...   \n",
       "80567       1      0       0       0           0      0      0   \n",
       "80568       1      0       0       0           0      0      0   \n",
       "80569       0      0       1       0           0      0      0   \n",
       "80570       0      0       0       0           0      0      0   \n",
       "80571       0      0       0       0           0      0      0   \n",
       "\n",
       "       Assembly_label  Imported  Local  \n",
       "0                   0         1      0  \n",
       "1                   0         1      0  \n",
       "2                   1         0      1  \n",
       "3                   0         1      0  \n",
       "4                   1         0      1  \n",
       "...               ...       ...    ...  \n",
       "80567               1         0      1  \n",
       "80568               1         0      1  \n",
       "80569               1         0      1  \n",
       "80570               1         0      1  \n",
       "80571               0         1      0  \n",
       "\n",
       "[80572 rows x 79 columns]"
      ]
     },
     "execution_count": 113,
     "metadata": {},
     "output_type": "execute_result"
    }
   ],
   "source": [
    "df.join(add_columns)"
   ]
  },
  {
   "cell_type": "code",
   "execution_count": 114,
   "id": "8388e762",
   "metadata": {},
   "outputs": [],
   "source": [
    "df.drop(['Assembly'], axis = 1, inplace = True)"
   ]
  },
  {
   "cell_type": "code",
   "execution_count": 115,
   "id": "dae4f5f2",
   "metadata": {},
   "outputs": [
    {
     "data": {
      "text/plain": [
       "Index(['Model', 'Version', 'Price', 'Make_Year', 'CC', 'Mileage',\n",
       "       'Registered City', 'Transmission', 'Make_label', 'Adam', 'Audi', 'BMW',\n",
       "       'Bentley', 'Buick', 'Cadillac', 'Changan', 'Chery', 'Chevrolet',\n",
       "       'Chrysler', 'Citroen', 'DFSK', 'Daehan', 'Daewoo', 'Daihatsu', 'Datsun',\n",
       "       'Dodge', 'Dongfeng', 'FAW', 'Fiat', 'Ford', 'GMC', 'Geely', 'Golden',\n",
       "       'Hino', 'Honda', 'Hummer', 'Hyundai', 'Isuzu', 'JAC', 'JMC', 'JW',\n",
       "       'Jaguar', 'Jeep', 'Jinbei', 'KIA', 'Land', 'Lexus', 'MG', 'MINI',\n",
       "       'Master', 'Mazda', 'Mercedes', 'Mitsubishi', 'Nissan', 'Others',\n",
       "       'Peugeot', 'Plymouth', 'Porsche', 'Prince', 'Proton', 'Range',\n",
       "       'Renault', 'Roma', 'Rover', 'Sogo', 'Sokon', 'SsangYong', 'Subaru',\n",
       "       'Suzuki', 'Tesla', 'Toyota', 'United', 'Volkswagen', 'Volvo', 'ZOTYE',\n",
       "       'Assembly_label'],\n",
       "      dtype='object')"
      ]
     },
     "execution_count": 115,
     "metadata": {},
     "output_type": "execute_result"
    }
   ],
   "source": [
    "df.columns"
   ]
  },
  {
   "cell_type": "code",
   "execution_count": 116,
   "id": "5955786c",
   "metadata": {},
   "outputs": [],
   "source": [
    "df = df.join(add_columns)"
   ]
  },
  {
   "cell_type": "code",
   "execution_count": 117,
   "id": "b549b4d6",
   "metadata": {},
   "outputs": [
    {
     "data": {
      "text/html": [
       "<div>\n",
       "<style scoped>\n",
       "    .dataframe tbody tr th:only-of-type {\n",
       "        vertical-align: middle;\n",
       "    }\n",
       "\n",
       "    .dataframe tbody tr th {\n",
       "        vertical-align: top;\n",
       "    }\n",
       "\n",
       "    .dataframe thead th {\n",
       "        text-align: right;\n",
       "    }\n",
       "</style>\n",
       "<table border=\"1\" class=\"dataframe\">\n",
       "  <thead>\n",
       "    <tr style=\"text-align: right;\">\n",
       "      <th></th>\n",
       "      <th>Model</th>\n",
       "      <th>Version</th>\n",
       "      <th>Price</th>\n",
       "      <th>Make_Year</th>\n",
       "      <th>CC</th>\n",
       "      <th>Mileage</th>\n",
       "      <th>Registered City</th>\n",
       "      <th>Transmission</th>\n",
       "      <th>Make_label</th>\n",
       "      <th>Adam</th>\n",
       "      <th>...</th>\n",
       "      <th>Suzuki</th>\n",
       "      <th>Tesla</th>\n",
       "      <th>Toyota</th>\n",
       "      <th>United</th>\n",
       "      <th>Volkswagen</th>\n",
       "      <th>Volvo</th>\n",
       "      <th>ZOTYE</th>\n",
       "      <th>Assembly_label</th>\n",
       "      <th>Imported</th>\n",
       "      <th>Local</th>\n",
       "    </tr>\n",
       "  </thead>\n",
       "  <tbody>\n",
       "    <tr>\n",
       "      <th>0</th>\n",
       "      <td>Insight</td>\n",
       "      <td>GLi 1.3 VVTi</td>\n",
       "      <td>7400000.0</td>\n",
       "      <td>2019</td>\n",
       "      <td>1500</td>\n",
       "      <td>2000</td>\n",
       "      <td>Un-Registered</td>\n",
       "      <td>Automatic</td>\n",
       "      <td>25</td>\n",
       "      <td>0</td>\n",
       "      <td>...</td>\n",
       "      <td>0</td>\n",
       "      <td>0</td>\n",
       "      <td>0</td>\n",
       "      <td>0</td>\n",
       "      <td>0</td>\n",
       "      <td>0</td>\n",
       "      <td>0</td>\n",
       "      <td>0</td>\n",
       "      <td>1</td>\n",
       "      <td>0</td>\n",
       "    </tr>\n",
       "    <tr>\n",
       "      <th>1</th>\n",
       "      <td>Minica</td>\n",
       "      <td>Black Minica</td>\n",
       "      <td>1065000.0</td>\n",
       "      <td>2019</td>\n",
       "      <td>660</td>\n",
       "      <td>68000</td>\n",
       "      <td>Lahore</td>\n",
       "      <td>Automatic</td>\n",
       "      <td>43</td>\n",
       "      <td>0</td>\n",
       "      <td>...</td>\n",
       "      <td>0</td>\n",
       "      <td>0</td>\n",
       "      <td>0</td>\n",
       "      <td>0</td>\n",
       "      <td>0</td>\n",
       "      <td>0</td>\n",
       "      <td>0</td>\n",
       "      <td>0</td>\n",
       "      <td>1</td>\n",
       "      <td>0</td>\n",
       "    </tr>\n",
       "    <tr>\n",
       "      <th>2</th>\n",
       "      <td>A6</td>\n",
       "      <td>1.8 TFSI Business Class Edition</td>\n",
       "      <td>9300000.0</td>\n",
       "      <td>2015</td>\n",
       "      <td>1800</td>\n",
       "      <td>70000</td>\n",
       "      <td>Lahore</td>\n",
       "      <td>Automatic</td>\n",
       "      <td>1</td>\n",
       "      <td>0</td>\n",
       "      <td>...</td>\n",
       "      <td>0</td>\n",
       "      <td>0</td>\n",
       "      <td>0</td>\n",
       "      <td>0</td>\n",
       "      <td>0</td>\n",
       "      <td>0</td>\n",
       "      <td>0</td>\n",
       "      <td>1</td>\n",
       "      <td>0</td>\n",
       "      <td>1</td>\n",
       "    </tr>\n",
       "    <tr>\n",
       "      <th>3</th>\n",
       "      <td>Aqua</td>\n",
       "      <td>G</td>\n",
       "      <td>2375000.0</td>\n",
       "      <td>2014</td>\n",
       "      <td>1500</td>\n",
       "      <td>99900</td>\n",
       "      <td>Islamabad</td>\n",
       "      <td>Automatic</td>\n",
       "      <td>61</td>\n",
       "      <td>0</td>\n",
       "      <td>...</td>\n",
       "      <td>0</td>\n",
       "      <td>0</td>\n",
       "      <td>1</td>\n",
       "      <td>0</td>\n",
       "      <td>0</td>\n",
       "      <td>0</td>\n",
       "      <td>0</td>\n",
       "      <td>0</td>\n",
       "      <td>1</td>\n",
       "      <td>0</td>\n",
       "    </tr>\n",
       "    <tr>\n",
       "      <th>4</th>\n",
       "      <td>City</td>\n",
       "      <td>1.3 i-VTEC</td>\n",
       "      <td>2600000.0</td>\n",
       "      <td>2017</td>\n",
       "      <td>1300</td>\n",
       "      <td>55000</td>\n",
       "      <td>Islamabad</td>\n",
       "      <td>Manual</td>\n",
       "      <td>25</td>\n",
       "      <td>0</td>\n",
       "      <td>...</td>\n",
       "      <td>0</td>\n",
       "      <td>0</td>\n",
       "      <td>0</td>\n",
       "      <td>0</td>\n",
       "      <td>0</td>\n",
       "      <td>0</td>\n",
       "      <td>0</td>\n",
       "      <td>1</td>\n",
       "      <td>0</td>\n",
       "      <td>1</td>\n",
       "    </tr>\n",
       "    <tr>\n",
       "      <th>...</th>\n",
       "      <td>...</td>\n",
       "      <td>...</td>\n",
       "      <td>...</td>\n",
       "      <td>...</td>\n",
       "      <td>...</td>\n",
       "      <td>...</td>\n",
       "      <td>...</td>\n",
       "      <td>...</td>\n",
       "      <td>...</td>\n",
       "      <td>...</td>\n",
       "      <td>...</td>\n",
       "      <td>...</td>\n",
       "      <td>...</td>\n",
       "      <td>...</td>\n",
       "      <td>...</td>\n",
       "      <td>...</td>\n",
       "      <td>...</td>\n",
       "      <td>...</td>\n",
       "      <td>...</td>\n",
       "      <td>...</td>\n",
       "      <td>...</td>\n",
       "    </tr>\n",
       "    <tr>\n",
       "      <th>80567</th>\n",
       "      <td>Bolan</td>\n",
       "      <td>GLi 1.3 VVTi</td>\n",
       "      <td>750000.0</td>\n",
       "      <td>2015</td>\n",
       "      <td>800</td>\n",
       "      <td>98000</td>\n",
       "      <td>Lahore</td>\n",
       "      <td>Manual</td>\n",
       "      <td>59</td>\n",
       "      <td>0</td>\n",
       "      <td>...</td>\n",
       "      <td>1</td>\n",
       "      <td>0</td>\n",
       "      <td>0</td>\n",
       "      <td>0</td>\n",
       "      <td>0</td>\n",
       "      <td>0</td>\n",
       "      <td>0</td>\n",
       "      <td>1</td>\n",
       "      <td>0</td>\n",
       "      <td>1</td>\n",
       "    </tr>\n",
       "    <tr>\n",
       "      <th>80568</th>\n",
       "      <td>Alto</td>\n",
       "      <td>VXR</td>\n",
       "      <td>1480000.0</td>\n",
       "      <td>2020</td>\n",
       "      <td>660</td>\n",
       "      <td>7800</td>\n",
       "      <td>Karachi</td>\n",
       "      <td>Manual</td>\n",
       "      <td>59</td>\n",
       "      <td>0</td>\n",
       "      <td>...</td>\n",
       "      <td>1</td>\n",
       "      <td>0</td>\n",
       "      <td>0</td>\n",
       "      <td>0</td>\n",
       "      <td>0</td>\n",
       "      <td>0</td>\n",
       "      <td>0</td>\n",
       "      <td>1</td>\n",
       "      <td>0</td>\n",
       "      <td>1</td>\n",
       "    </tr>\n",
       "    <tr>\n",
       "      <th>80569</th>\n",
       "      <td>Corolla</td>\n",
       "      <td>GLi Automatic 1.3 VVTi</td>\n",
       "      <td>2700000.0</td>\n",
       "      <td>2016</td>\n",
       "      <td>1300</td>\n",
       "      <td>81000</td>\n",
       "      <td>Islamabad</td>\n",
       "      <td>Automatic</td>\n",
       "      <td>61</td>\n",
       "      <td>0</td>\n",
       "      <td>...</td>\n",
       "      <td>0</td>\n",
       "      <td>0</td>\n",
       "      <td>1</td>\n",
       "      <td>0</td>\n",
       "      <td>0</td>\n",
       "      <td>0</td>\n",
       "      <td>0</td>\n",
       "      <td>1</td>\n",
       "      <td>0</td>\n",
       "      <td>1</td>\n",
       "    </tr>\n",
       "    <tr>\n",
       "      <th>80570</th>\n",
       "      <td>X-PV</td>\n",
       "      <td>Standard</td>\n",
       "      <td>600000.0</td>\n",
       "      <td>2013</td>\n",
       "      <td>1000</td>\n",
       "      <td>2</td>\n",
       "      <td>Lahore</td>\n",
       "      <td>Manual</td>\n",
       "      <td>18</td>\n",
       "      <td>0</td>\n",
       "      <td>...</td>\n",
       "      <td>0</td>\n",
       "      <td>0</td>\n",
       "      <td>0</td>\n",
       "      <td>0</td>\n",
       "      <td>0</td>\n",
       "      <td>0</td>\n",
       "      <td>0</td>\n",
       "      <td>1</td>\n",
       "      <td>0</td>\n",
       "      <td>1</td>\n",
       "    </tr>\n",
       "    <tr>\n",
       "      <th>80571</th>\n",
       "      <td>Civic</td>\n",
       "      <td>VTi Prosmatec 1.8 i-VTEC</td>\n",
       "      <td>2620000.0</td>\n",
       "      <td>2013</td>\n",
       "      <td>1800</td>\n",
       "      <td>100000</td>\n",
       "      <td>Islamabad</td>\n",
       "      <td>Automatic</td>\n",
       "      <td>25</td>\n",
       "      <td>0</td>\n",
       "      <td>...</td>\n",
       "      <td>0</td>\n",
       "      <td>0</td>\n",
       "      <td>0</td>\n",
       "      <td>0</td>\n",
       "      <td>0</td>\n",
       "      <td>0</td>\n",
       "      <td>0</td>\n",
       "      <td>0</td>\n",
       "      <td>1</td>\n",
       "      <td>0</td>\n",
       "    </tr>\n",
       "  </tbody>\n",
       "</table>\n",
       "<p>80572 rows × 78 columns</p>\n",
       "</div>"
      ],
      "text/plain": [
       "         Model                          Version      Price  Make_Year    CC  \\\n",
       "0      Insight                     GLi 1.3 VVTi  7400000.0       2019  1500   \n",
       "1       Minica                     Black Minica  1065000.0       2019   660   \n",
       "2           A6  1.8 TFSI Business Class Edition  9300000.0       2015  1800   \n",
       "3         Aqua                                G  2375000.0       2014  1500   \n",
       "4         City                       1.3 i-VTEC  2600000.0       2017  1300   \n",
       "...        ...                              ...        ...        ...   ...   \n",
       "80567    Bolan                     GLi 1.3 VVTi   750000.0       2015   800   \n",
       "80568     Alto                              VXR  1480000.0       2020   660   \n",
       "80569  Corolla           GLi Automatic 1.3 VVTi  2700000.0       2016  1300   \n",
       "80570     X-PV                         Standard   600000.0       2013  1000   \n",
       "80571    Civic         VTi Prosmatec 1.8 i-VTEC  2620000.0       2013  1800   \n",
       "\n",
       "       Mileage Registered City Transmission  Make_label  Adam  ...  Suzuki  \\\n",
       "0         2000   Un-Registered    Automatic          25     0  ...       0   \n",
       "1        68000          Lahore    Automatic          43     0  ...       0   \n",
       "2        70000          Lahore    Automatic           1     0  ...       0   \n",
       "3        99900       Islamabad    Automatic          61     0  ...       0   \n",
       "4        55000       Islamabad       Manual          25     0  ...       0   \n",
       "...        ...             ...          ...         ...   ...  ...     ...   \n",
       "80567    98000          Lahore       Manual          59     0  ...       1   \n",
       "80568     7800         Karachi       Manual          59     0  ...       1   \n",
       "80569    81000       Islamabad    Automatic          61     0  ...       0   \n",
       "80570        2          Lahore       Manual          18     0  ...       0   \n",
       "80571   100000       Islamabad    Automatic          25     0  ...       0   \n",
       "\n",
       "       Tesla  Toyota  United  Volkswagen  Volvo  ZOTYE  Assembly_label  \\\n",
       "0          0       0       0           0      0      0               0   \n",
       "1          0       0       0           0      0      0               0   \n",
       "2          0       0       0           0      0      0               1   \n",
       "3          0       1       0           0      0      0               0   \n",
       "4          0       0       0           0      0      0               1   \n",
       "...      ...     ...     ...         ...    ...    ...             ...   \n",
       "80567      0       0       0           0      0      0               1   \n",
       "80568      0       0       0           0      0      0               1   \n",
       "80569      0       1       0           0      0      0               1   \n",
       "80570      0       0       0           0      0      0               1   \n",
       "80571      0       0       0           0      0      0               0   \n",
       "\n",
       "       Imported  Local  \n",
       "0             1      0  \n",
       "1             1      0  \n",
       "2             0      1  \n",
       "3             1      0  \n",
       "4             0      1  \n",
       "...         ...    ...  \n",
       "80567         0      1  \n",
       "80568         0      1  \n",
       "80569         0      1  \n",
       "80570         0      1  \n",
       "80571         1      0  \n",
       "\n",
       "[80572 rows x 78 columns]"
      ]
     },
     "execution_count": 117,
     "metadata": {},
     "output_type": "execute_result"
    }
   ],
   "source": [
    "df"
   ]
  },
  {
   "cell_type": "markdown",
   "id": "e8ecccc4",
   "metadata": {},
   "source": [
    "# 3.1.3 LableEncoding an 'Transmission' variable (one-hot encoding)"
   ]
  },
  {
   "cell_type": "code",
   "execution_count": 118,
   "id": "249c55ad",
   "metadata": {},
   "outputs": [
    {
     "data": {
      "text/plain": [
       "array(['Automatic', 'Manual'], dtype=object)"
      ]
     },
     "execution_count": 118,
     "metadata": {},
     "output_type": "execute_result"
    }
   ],
   "source": [
    "df['Transmission'].unique()"
   ]
  },
  {
   "cell_type": "code",
   "execution_count": 119,
   "id": "80c2189a",
   "metadata": {},
   "outputs": [],
   "source": [
    "encode = LabelEncoder()"
   ]
  },
  {
   "cell_type": "code",
   "execution_count": 120,
   "id": "4e4f1533",
   "metadata": {},
   "outputs": [
    {
     "data": {
      "text/plain": [
       "array([0, 0, 0, ..., 0, 1, 0])"
      ]
     },
     "execution_count": 120,
     "metadata": {},
     "output_type": "execute_result"
    }
   ],
   "source": [
    "encode.fit_transform(df['Transmission'])"
   ]
  },
  {
   "cell_type": "code",
   "execution_count": 121,
   "id": "4cdcfb68",
   "metadata": {},
   "outputs": [],
   "source": [
    "df['Transmission_label']=encode.fit_transform(df['Transmission'])"
   ]
  },
  {
   "cell_type": "code",
   "execution_count": 122,
   "id": "9f2ceacb",
   "metadata": {},
   "outputs": [
    {
     "data": {
      "text/plain": [
       "0    40408\n",
       "1    40164\n",
       "Name: Transmission_label, dtype: int64"
      ]
     },
     "execution_count": 122,
     "metadata": {},
     "output_type": "execute_result"
    }
   ],
   "source": [
    "df['Transmission_label'].value_counts()"
   ]
  },
  {
   "cell_type": "code",
   "execution_count": 123,
   "id": "93aa0857",
   "metadata": {},
   "outputs": [
    {
     "data": {
      "text/plain": [
       "Automatic    40408\n",
       "Manual       40164\n",
       "Name: Transmission, dtype: int64"
      ]
     },
     "execution_count": 123,
     "metadata": {},
     "output_type": "execute_result"
    }
   ],
   "source": [
    "df['Transmission'].value_counts()"
   ]
  },
  {
   "cell_type": "markdown",
   "id": "fb0ad472",
   "metadata": {},
   "source": [
    "# Start one-hot encoding"
   ]
  },
  {
   "cell_type": "code",
   "execution_count": 124,
   "id": "1195831e",
   "metadata": {},
   "outputs": [],
   "source": [
    "add_columns = pd.get_dummies(df['Transmission'])"
   ]
  },
  {
   "cell_type": "code",
   "execution_count": 125,
   "id": "2c1e6412",
   "metadata": {},
   "outputs": [
    {
     "data": {
      "text/html": [
       "<div>\n",
       "<style scoped>\n",
       "    .dataframe tbody tr th:only-of-type {\n",
       "        vertical-align: middle;\n",
       "    }\n",
       "\n",
       "    .dataframe tbody tr th {\n",
       "        vertical-align: top;\n",
       "    }\n",
       "\n",
       "    .dataframe thead th {\n",
       "        text-align: right;\n",
       "    }\n",
       "</style>\n",
       "<table border=\"1\" class=\"dataframe\">\n",
       "  <thead>\n",
       "    <tr style=\"text-align: right;\">\n",
       "      <th></th>\n",
       "      <th>Automatic</th>\n",
       "      <th>Manual</th>\n",
       "    </tr>\n",
       "  </thead>\n",
       "  <tbody>\n",
       "    <tr>\n",
       "      <th>0</th>\n",
       "      <td>1</td>\n",
       "      <td>0</td>\n",
       "    </tr>\n",
       "    <tr>\n",
       "      <th>1</th>\n",
       "      <td>1</td>\n",
       "      <td>0</td>\n",
       "    </tr>\n",
       "    <tr>\n",
       "      <th>2</th>\n",
       "      <td>1</td>\n",
       "      <td>0</td>\n",
       "    </tr>\n",
       "    <tr>\n",
       "      <th>3</th>\n",
       "      <td>1</td>\n",
       "      <td>0</td>\n",
       "    </tr>\n",
       "    <tr>\n",
       "      <th>4</th>\n",
       "      <td>0</td>\n",
       "      <td>1</td>\n",
       "    </tr>\n",
       "    <tr>\n",
       "      <th>...</th>\n",
       "      <td>...</td>\n",
       "      <td>...</td>\n",
       "    </tr>\n",
       "    <tr>\n",
       "      <th>80567</th>\n",
       "      <td>0</td>\n",
       "      <td>1</td>\n",
       "    </tr>\n",
       "    <tr>\n",
       "      <th>80568</th>\n",
       "      <td>0</td>\n",
       "      <td>1</td>\n",
       "    </tr>\n",
       "    <tr>\n",
       "      <th>80569</th>\n",
       "      <td>1</td>\n",
       "      <td>0</td>\n",
       "    </tr>\n",
       "    <tr>\n",
       "      <th>80570</th>\n",
       "      <td>0</td>\n",
       "      <td>1</td>\n",
       "    </tr>\n",
       "    <tr>\n",
       "      <th>80571</th>\n",
       "      <td>1</td>\n",
       "      <td>0</td>\n",
       "    </tr>\n",
       "  </tbody>\n",
       "</table>\n",
       "<p>80572 rows × 2 columns</p>\n",
       "</div>"
      ],
      "text/plain": [
       "       Automatic  Manual\n",
       "0              1       0\n",
       "1              1       0\n",
       "2              1       0\n",
       "3              1       0\n",
       "4              0       1\n",
       "...          ...     ...\n",
       "80567          0       1\n",
       "80568          0       1\n",
       "80569          1       0\n",
       "80570          0       1\n",
       "80571          1       0\n",
       "\n",
       "[80572 rows x 2 columns]"
      ]
     },
     "execution_count": 125,
     "metadata": {},
     "output_type": "execute_result"
    }
   ],
   "source": [
    "add_columns"
   ]
  },
  {
   "cell_type": "code",
   "execution_count": 126,
   "id": "2a3deb27",
   "metadata": {},
   "outputs": [
    {
     "data": {
      "text/html": [
       "<div>\n",
       "<style scoped>\n",
       "    .dataframe tbody tr th:only-of-type {\n",
       "        vertical-align: middle;\n",
       "    }\n",
       "\n",
       "    .dataframe tbody tr th {\n",
       "        vertical-align: top;\n",
       "    }\n",
       "\n",
       "    .dataframe thead th {\n",
       "        text-align: right;\n",
       "    }\n",
       "</style>\n",
       "<table border=\"1\" class=\"dataframe\">\n",
       "  <thead>\n",
       "    <tr style=\"text-align: right;\">\n",
       "      <th></th>\n",
       "      <th>Model</th>\n",
       "      <th>Version</th>\n",
       "      <th>Price</th>\n",
       "      <th>Make_Year</th>\n",
       "      <th>CC</th>\n",
       "      <th>Mileage</th>\n",
       "      <th>Registered City</th>\n",
       "      <th>Transmission</th>\n",
       "      <th>Make_label</th>\n",
       "      <th>Adam</th>\n",
       "      <th>...</th>\n",
       "      <th>United</th>\n",
       "      <th>Volkswagen</th>\n",
       "      <th>Volvo</th>\n",
       "      <th>ZOTYE</th>\n",
       "      <th>Assembly_label</th>\n",
       "      <th>Imported</th>\n",
       "      <th>Local</th>\n",
       "      <th>Transmission_label</th>\n",
       "      <th>Automatic</th>\n",
       "      <th>Manual</th>\n",
       "    </tr>\n",
       "  </thead>\n",
       "  <tbody>\n",
       "    <tr>\n",
       "      <th>0</th>\n",
       "      <td>Insight</td>\n",
       "      <td>GLi 1.3 VVTi</td>\n",
       "      <td>7400000.0</td>\n",
       "      <td>2019</td>\n",
       "      <td>1500</td>\n",
       "      <td>2000</td>\n",
       "      <td>Un-Registered</td>\n",
       "      <td>Automatic</td>\n",
       "      <td>25</td>\n",
       "      <td>0</td>\n",
       "      <td>...</td>\n",
       "      <td>0</td>\n",
       "      <td>0</td>\n",
       "      <td>0</td>\n",
       "      <td>0</td>\n",
       "      <td>0</td>\n",
       "      <td>1</td>\n",
       "      <td>0</td>\n",
       "      <td>0</td>\n",
       "      <td>1</td>\n",
       "      <td>0</td>\n",
       "    </tr>\n",
       "    <tr>\n",
       "      <th>1</th>\n",
       "      <td>Minica</td>\n",
       "      <td>Black Minica</td>\n",
       "      <td>1065000.0</td>\n",
       "      <td>2019</td>\n",
       "      <td>660</td>\n",
       "      <td>68000</td>\n",
       "      <td>Lahore</td>\n",
       "      <td>Automatic</td>\n",
       "      <td>43</td>\n",
       "      <td>0</td>\n",
       "      <td>...</td>\n",
       "      <td>0</td>\n",
       "      <td>0</td>\n",
       "      <td>0</td>\n",
       "      <td>0</td>\n",
       "      <td>0</td>\n",
       "      <td>1</td>\n",
       "      <td>0</td>\n",
       "      <td>0</td>\n",
       "      <td>1</td>\n",
       "      <td>0</td>\n",
       "    </tr>\n",
       "    <tr>\n",
       "      <th>2</th>\n",
       "      <td>A6</td>\n",
       "      <td>1.8 TFSI Business Class Edition</td>\n",
       "      <td>9300000.0</td>\n",
       "      <td>2015</td>\n",
       "      <td>1800</td>\n",
       "      <td>70000</td>\n",
       "      <td>Lahore</td>\n",
       "      <td>Automatic</td>\n",
       "      <td>1</td>\n",
       "      <td>0</td>\n",
       "      <td>...</td>\n",
       "      <td>0</td>\n",
       "      <td>0</td>\n",
       "      <td>0</td>\n",
       "      <td>0</td>\n",
       "      <td>1</td>\n",
       "      <td>0</td>\n",
       "      <td>1</td>\n",
       "      <td>0</td>\n",
       "      <td>1</td>\n",
       "      <td>0</td>\n",
       "    </tr>\n",
       "    <tr>\n",
       "      <th>3</th>\n",
       "      <td>Aqua</td>\n",
       "      <td>G</td>\n",
       "      <td>2375000.0</td>\n",
       "      <td>2014</td>\n",
       "      <td>1500</td>\n",
       "      <td>99900</td>\n",
       "      <td>Islamabad</td>\n",
       "      <td>Automatic</td>\n",
       "      <td>61</td>\n",
       "      <td>0</td>\n",
       "      <td>...</td>\n",
       "      <td>0</td>\n",
       "      <td>0</td>\n",
       "      <td>0</td>\n",
       "      <td>0</td>\n",
       "      <td>0</td>\n",
       "      <td>1</td>\n",
       "      <td>0</td>\n",
       "      <td>0</td>\n",
       "      <td>1</td>\n",
       "      <td>0</td>\n",
       "    </tr>\n",
       "    <tr>\n",
       "      <th>4</th>\n",
       "      <td>City</td>\n",
       "      <td>1.3 i-VTEC</td>\n",
       "      <td>2600000.0</td>\n",
       "      <td>2017</td>\n",
       "      <td>1300</td>\n",
       "      <td>55000</td>\n",
       "      <td>Islamabad</td>\n",
       "      <td>Manual</td>\n",
       "      <td>25</td>\n",
       "      <td>0</td>\n",
       "      <td>...</td>\n",
       "      <td>0</td>\n",
       "      <td>0</td>\n",
       "      <td>0</td>\n",
       "      <td>0</td>\n",
       "      <td>1</td>\n",
       "      <td>0</td>\n",
       "      <td>1</td>\n",
       "      <td>1</td>\n",
       "      <td>0</td>\n",
       "      <td>1</td>\n",
       "    </tr>\n",
       "    <tr>\n",
       "      <th>...</th>\n",
       "      <td>...</td>\n",
       "      <td>...</td>\n",
       "      <td>...</td>\n",
       "      <td>...</td>\n",
       "      <td>...</td>\n",
       "      <td>...</td>\n",
       "      <td>...</td>\n",
       "      <td>...</td>\n",
       "      <td>...</td>\n",
       "      <td>...</td>\n",
       "      <td>...</td>\n",
       "      <td>...</td>\n",
       "      <td>...</td>\n",
       "      <td>...</td>\n",
       "      <td>...</td>\n",
       "      <td>...</td>\n",
       "      <td>...</td>\n",
       "      <td>...</td>\n",
       "      <td>...</td>\n",
       "      <td>...</td>\n",
       "      <td>...</td>\n",
       "    </tr>\n",
       "    <tr>\n",
       "      <th>80567</th>\n",
       "      <td>Bolan</td>\n",
       "      <td>GLi 1.3 VVTi</td>\n",
       "      <td>750000.0</td>\n",
       "      <td>2015</td>\n",
       "      <td>800</td>\n",
       "      <td>98000</td>\n",
       "      <td>Lahore</td>\n",
       "      <td>Manual</td>\n",
       "      <td>59</td>\n",
       "      <td>0</td>\n",
       "      <td>...</td>\n",
       "      <td>0</td>\n",
       "      <td>0</td>\n",
       "      <td>0</td>\n",
       "      <td>0</td>\n",
       "      <td>1</td>\n",
       "      <td>0</td>\n",
       "      <td>1</td>\n",
       "      <td>1</td>\n",
       "      <td>0</td>\n",
       "      <td>1</td>\n",
       "    </tr>\n",
       "    <tr>\n",
       "      <th>80568</th>\n",
       "      <td>Alto</td>\n",
       "      <td>VXR</td>\n",
       "      <td>1480000.0</td>\n",
       "      <td>2020</td>\n",
       "      <td>660</td>\n",
       "      <td>7800</td>\n",
       "      <td>Karachi</td>\n",
       "      <td>Manual</td>\n",
       "      <td>59</td>\n",
       "      <td>0</td>\n",
       "      <td>...</td>\n",
       "      <td>0</td>\n",
       "      <td>0</td>\n",
       "      <td>0</td>\n",
       "      <td>0</td>\n",
       "      <td>1</td>\n",
       "      <td>0</td>\n",
       "      <td>1</td>\n",
       "      <td>1</td>\n",
       "      <td>0</td>\n",
       "      <td>1</td>\n",
       "    </tr>\n",
       "    <tr>\n",
       "      <th>80569</th>\n",
       "      <td>Corolla</td>\n",
       "      <td>GLi Automatic 1.3 VVTi</td>\n",
       "      <td>2700000.0</td>\n",
       "      <td>2016</td>\n",
       "      <td>1300</td>\n",
       "      <td>81000</td>\n",
       "      <td>Islamabad</td>\n",
       "      <td>Automatic</td>\n",
       "      <td>61</td>\n",
       "      <td>0</td>\n",
       "      <td>...</td>\n",
       "      <td>0</td>\n",
       "      <td>0</td>\n",
       "      <td>0</td>\n",
       "      <td>0</td>\n",
       "      <td>1</td>\n",
       "      <td>0</td>\n",
       "      <td>1</td>\n",
       "      <td>0</td>\n",
       "      <td>1</td>\n",
       "      <td>0</td>\n",
       "    </tr>\n",
       "    <tr>\n",
       "      <th>80570</th>\n",
       "      <td>X-PV</td>\n",
       "      <td>Standard</td>\n",
       "      <td>600000.0</td>\n",
       "      <td>2013</td>\n",
       "      <td>1000</td>\n",
       "      <td>2</td>\n",
       "      <td>Lahore</td>\n",
       "      <td>Manual</td>\n",
       "      <td>18</td>\n",
       "      <td>0</td>\n",
       "      <td>...</td>\n",
       "      <td>0</td>\n",
       "      <td>0</td>\n",
       "      <td>0</td>\n",
       "      <td>0</td>\n",
       "      <td>1</td>\n",
       "      <td>0</td>\n",
       "      <td>1</td>\n",
       "      <td>1</td>\n",
       "      <td>0</td>\n",
       "      <td>1</td>\n",
       "    </tr>\n",
       "    <tr>\n",
       "      <th>80571</th>\n",
       "      <td>Civic</td>\n",
       "      <td>VTi Prosmatec 1.8 i-VTEC</td>\n",
       "      <td>2620000.0</td>\n",
       "      <td>2013</td>\n",
       "      <td>1800</td>\n",
       "      <td>100000</td>\n",
       "      <td>Islamabad</td>\n",
       "      <td>Automatic</td>\n",
       "      <td>25</td>\n",
       "      <td>0</td>\n",
       "      <td>...</td>\n",
       "      <td>0</td>\n",
       "      <td>0</td>\n",
       "      <td>0</td>\n",
       "      <td>0</td>\n",
       "      <td>0</td>\n",
       "      <td>1</td>\n",
       "      <td>0</td>\n",
       "      <td>0</td>\n",
       "      <td>1</td>\n",
       "      <td>0</td>\n",
       "    </tr>\n",
       "  </tbody>\n",
       "</table>\n",
       "<p>80572 rows × 81 columns</p>\n",
       "</div>"
      ],
      "text/plain": [
       "         Model                          Version      Price  Make_Year    CC  \\\n",
       "0      Insight                     GLi 1.3 VVTi  7400000.0       2019  1500   \n",
       "1       Minica                     Black Minica  1065000.0       2019   660   \n",
       "2           A6  1.8 TFSI Business Class Edition  9300000.0       2015  1800   \n",
       "3         Aqua                                G  2375000.0       2014  1500   \n",
       "4         City                       1.3 i-VTEC  2600000.0       2017  1300   \n",
       "...        ...                              ...        ...        ...   ...   \n",
       "80567    Bolan                     GLi 1.3 VVTi   750000.0       2015   800   \n",
       "80568     Alto                              VXR  1480000.0       2020   660   \n",
       "80569  Corolla           GLi Automatic 1.3 VVTi  2700000.0       2016  1300   \n",
       "80570     X-PV                         Standard   600000.0       2013  1000   \n",
       "80571    Civic         VTi Prosmatec 1.8 i-VTEC  2620000.0       2013  1800   \n",
       "\n",
       "       Mileage Registered City Transmission  Make_label  Adam  ...  United  \\\n",
       "0         2000   Un-Registered    Automatic          25     0  ...       0   \n",
       "1        68000          Lahore    Automatic          43     0  ...       0   \n",
       "2        70000          Lahore    Automatic           1     0  ...       0   \n",
       "3        99900       Islamabad    Automatic          61     0  ...       0   \n",
       "4        55000       Islamabad       Manual          25     0  ...       0   \n",
       "...        ...             ...          ...         ...   ...  ...     ...   \n",
       "80567    98000          Lahore       Manual          59     0  ...       0   \n",
       "80568     7800         Karachi       Manual          59     0  ...       0   \n",
       "80569    81000       Islamabad    Automatic          61     0  ...       0   \n",
       "80570        2          Lahore       Manual          18     0  ...       0   \n",
       "80571   100000       Islamabad    Automatic          25     0  ...       0   \n",
       "\n",
       "       Volkswagen  Volvo  ZOTYE  Assembly_label  Imported  Local  \\\n",
       "0               0      0      0               0         1      0   \n",
       "1               0      0      0               0         1      0   \n",
       "2               0      0      0               1         0      1   \n",
       "3               0      0      0               0         1      0   \n",
       "4               0      0      0               1         0      1   \n",
       "...           ...    ...    ...             ...       ...    ...   \n",
       "80567           0      0      0               1         0      1   \n",
       "80568           0      0      0               1         0      1   \n",
       "80569           0      0      0               1         0      1   \n",
       "80570           0      0      0               1         0      1   \n",
       "80571           0      0      0               0         1      0   \n",
       "\n",
       "       Transmission_label  Automatic  Manual  \n",
       "0                       0          1       0  \n",
       "1                       0          1       0  \n",
       "2                       0          1       0  \n",
       "3                       0          1       0  \n",
       "4                       1          0       1  \n",
       "...                   ...        ...     ...  \n",
       "80567                   1          0       1  \n",
       "80568                   1          0       1  \n",
       "80569                   0          1       0  \n",
       "80570                   1          0       1  \n",
       "80571                   0          1       0  \n",
       "\n",
       "[80572 rows x 81 columns]"
      ]
     },
     "execution_count": 126,
     "metadata": {},
     "output_type": "execute_result"
    }
   ],
   "source": [
    "df.join(add_columns)"
   ]
  },
  {
   "cell_type": "code",
   "execution_count": 127,
   "id": "ce271bd2",
   "metadata": {},
   "outputs": [],
   "source": [
    "df.drop(['Transmission'], axis = 1, inplace = True)"
   ]
  },
  {
   "cell_type": "code",
   "execution_count": 128,
   "id": "ed8305ff",
   "metadata": {},
   "outputs": [
    {
     "data": {
      "text/plain": [
       "Index(['Model', 'Version', 'Price', 'Make_Year', 'CC', 'Mileage',\n",
       "       'Registered City', 'Make_label', 'Adam', 'Audi', 'BMW', 'Bentley',\n",
       "       'Buick', 'Cadillac', 'Changan', 'Chery', 'Chevrolet', 'Chrysler',\n",
       "       'Citroen', 'DFSK', 'Daehan', 'Daewoo', 'Daihatsu', 'Datsun', 'Dodge',\n",
       "       'Dongfeng', 'FAW', 'Fiat', 'Ford', 'GMC', 'Geely', 'Golden', 'Hino',\n",
       "       'Honda', 'Hummer', 'Hyundai', 'Isuzu', 'JAC', 'JMC', 'JW', 'Jaguar',\n",
       "       'Jeep', 'Jinbei', 'KIA', 'Land', 'Lexus', 'MG', 'MINI', 'Master',\n",
       "       'Mazda', 'Mercedes', 'Mitsubishi', 'Nissan', 'Others', 'Peugeot',\n",
       "       'Plymouth', 'Porsche', 'Prince', 'Proton', 'Range', 'Renault', 'Roma',\n",
       "       'Rover', 'Sogo', 'Sokon', 'SsangYong', 'Subaru', 'Suzuki', 'Tesla',\n",
       "       'Toyota', 'United', 'Volkswagen', 'Volvo', 'ZOTYE', 'Assembly_label',\n",
       "       'Imported', 'Local', 'Transmission_label'],\n",
       "      dtype='object')"
      ]
     },
     "execution_count": 128,
     "metadata": {},
     "output_type": "execute_result"
    }
   ],
   "source": [
    "df.columns\n"
   ]
  },
  {
   "cell_type": "code",
   "execution_count": 129,
   "id": "8781a7c0",
   "metadata": {},
   "outputs": [],
   "source": [
    "df = df.join(add_columns)"
   ]
  },
  {
   "cell_type": "code",
   "execution_count": 130,
   "id": "87a5f418",
   "metadata": {
    "scrolled": true
   },
   "outputs": [
    {
     "data": {
      "text/html": [
       "<div>\n",
       "<style scoped>\n",
       "    .dataframe tbody tr th:only-of-type {\n",
       "        vertical-align: middle;\n",
       "    }\n",
       "\n",
       "    .dataframe tbody tr th {\n",
       "        vertical-align: top;\n",
       "    }\n",
       "\n",
       "    .dataframe thead th {\n",
       "        text-align: right;\n",
       "    }\n",
       "</style>\n",
       "<table border=\"1\" class=\"dataframe\">\n",
       "  <thead>\n",
       "    <tr style=\"text-align: right;\">\n",
       "      <th></th>\n",
       "      <th>Model</th>\n",
       "      <th>Version</th>\n",
       "      <th>Price</th>\n",
       "      <th>Make_Year</th>\n",
       "      <th>CC</th>\n",
       "      <th>Mileage</th>\n",
       "      <th>Registered City</th>\n",
       "      <th>Make_label</th>\n",
       "      <th>Adam</th>\n",
       "      <th>Audi</th>\n",
       "      <th>...</th>\n",
       "      <th>United</th>\n",
       "      <th>Volkswagen</th>\n",
       "      <th>Volvo</th>\n",
       "      <th>ZOTYE</th>\n",
       "      <th>Assembly_label</th>\n",
       "      <th>Imported</th>\n",
       "      <th>Local</th>\n",
       "      <th>Transmission_label</th>\n",
       "      <th>Automatic</th>\n",
       "      <th>Manual</th>\n",
       "    </tr>\n",
       "  </thead>\n",
       "  <tbody>\n",
       "    <tr>\n",
       "      <th>0</th>\n",
       "      <td>Insight</td>\n",
       "      <td>GLi 1.3 VVTi</td>\n",
       "      <td>7400000.0</td>\n",
       "      <td>2019</td>\n",
       "      <td>1500</td>\n",
       "      <td>2000</td>\n",
       "      <td>Un-Registered</td>\n",
       "      <td>25</td>\n",
       "      <td>0</td>\n",
       "      <td>0</td>\n",
       "      <td>...</td>\n",
       "      <td>0</td>\n",
       "      <td>0</td>\n",
       "      <td>0</td>\n",
       "      <td>0</td>\n",
       "      <td>0</td>\n",
       "      <td>1</td>\n",
       "      <td>0</td>\n",
       "      <td>0</td>\n",
       "      <td>1</td>\n",
       "      <td>0</td>\n",
       "    </tr>\n",
       "    <tr>\n",
       "      <th>1</th>\n",
       "      <td>Minica</td>\n",
       "      <td>Black Minica</td>\n",
       "      <td>1065000.0</td>\n",
       "      <td>2019</td>\n",
       "      <td>660</td>\n",
       "      <td>68000</td>\n",
       "      <td>Lahore</td>\n",
       "      <td>43</td>\n",
       "      <td>0</td>\n",
       "      <td>0</td>\n",
       "      <td>...</td>\n",
       "      <td>0</td>\n",
       "      <td>0</td>\n",
       "      <td>0</td>\n",
       "      <td>0</td>\n",
       "      <td>0</td>\n",
       "      <td>1</td>\n",
       "      <td>0</td>\n",
       "      <td>0</td>\n",
       "      <td>1</td>\n",
       "      <td>0</td>\n",
       "    </tr>\n",
       "    <tr>\n",
       "      <th>2</th>\n",
       "      <td>A6</td>\n",
       "      <td>1.8 TFSI Business Class Edition</td>\n",
       "      <td>9300000.0</td>\n",
       "      <td>2015</td>\n",
       "      <td>1800</td>\n",
       "      <td>70000</td>\n",
       "      <td>Lahore</td>\n",
       "      <td>1</td>\n",
       "      <td>0</td>\n",
       "      <td>1</td>\n",
       "      <td>...</td>\n",
       "      <td>0</td>\n",
       "      <td>0</td>\n",
       "      <td>0</td>\n",
       "      <td>0</td>\n",
       "      <td>1</td>\n",
       "      <td>0</td>\n",
       "      <td>1</td>\n",
       "      <td>0</td>\n",
       "      <td>1</td>\n",
       "      <td>0</td>\n",
       "    </tr>\n",
       "    <tr>\n",
       "      <th>3</th>\n",
       "      <td>Aqua</td>\n",
       "      <td>G</td>\n",
       "      <td>2375000.0</td>\n",
       "      <td>2014</td>\n",
       "      <td>1500</td>\n",
       "      <td>99900</td>\n",
       "      <td>Islamabad</td>\n",
       "      <td>61</td>\n",
       "      <td>0</td>\n",
       "      <td>0</td>\n",
       "      <td>...</td>\n",
       "      <td>0</td>\n",
       "      <td>0</td>\n",
       "      <td>0</td>\n",
       "      <td>0</td>\n",
       "      <td>0</td>\n",
       "      <td>1</td>\n",
       "      <td>0</td>\n",
       "      <td>0</td>\n",
       "      <td>1</td>\n",
       "      <td>0</td>\n",
       "    </tr>\n",
       "    <tr>\n",
       "      <th>4</th>\n",
       "      <td>City</td>\n",
       "      <td>1.3 i-VTEC</td>\n",
       "      <td>2600000.0</td>\n",
       "      <td>2017</td>\n",
       "      <td>1300</td>\n",
       "      <td>55000</td>\n",
       "      <td>Islamabad</td>\n",
       "      <td>25</td>\n",
       "      <td>0</td>\n",
       "      <td>0</td>\n",
       "      <td>...</td>\n",
       "      <td>0</td>\n",
       "      <td>0</td>\n",
       "      <td>0</td>\n",
       "      <td>0</td>\n",
       "      <td>1</td>\n",
       "      <td>0</td>\n",
       "      <td>1</td>\n",
       "      <td>1</td>\n",
       "      <td>0</td>\n",
       "      <td>1</td>\n",
       "    </tr>\n",
       "    <tr>\n",
       "      <th>...</th>\n",
       "      <td>...</td>\n",
       "      <td>...</td>\n",
       "      <td>...</td>\n",
       "      <td>...</td>\n",
       "      <td>...</td>\n",
       "      <td>...</td>\n",
       "      <td>...</td>\n",
       "      <td>...</td>\n",
       "      <td>...</td>\n",
       "      <td>...</td>\n",
       "      <td>...</td>\n",
       "      <td>...</td>\n",
       "      <td>...</td>\n",
       "      <td>...</td>\n",
       "      <td>...</td>\n",
       "      <td>...</td>\n",
       "      <td>...</td>\n",
       "      <td>...</td>\n",
       "      <td>...</td>\n",
       "      <td>...</td>\n",
       "      <td>...</td>\n",
       "    </tr>\n",
       "    <tr>\n",
       "      <th>80567</th>\n",
       "      <td>Bolan</td>\n",
       "      <td>GLi 1.3 VVTi</td>\n",
       "      <td>750000.0</td>\n",
       "      <td>2015</td>\n",
       "      <td>800</td>\n",
       "      <td>98000</td>\n",
       "      <td>Lahore</td>\n",
       "      <td>59</td>\n",
       "      <td>0</td>\n",
       "      <td>0</td>\n",
       "      <td>...</td>\n",
       "      <td>0</td>\n",
       "      <td>0</td>\n",
       "      <td>0</td>\n",
       "      <td>0</td>\n",
       "      <td>1</td>\n",
       "      <td>0</td>\n",
       "      <td>1</td>\n",
       "      <td>1</td>\n",
       "      <td>0</td>\n",
       "      <td>1</td>\n",
       "    </tr>\n",
       "    <tr>\n",
       "      <th>80568</th>\n",
       "      <td>Alto</td>\n",
       "      <td>VXR</td>\n",
       "      <td>1480000.0</td>\n",
       "      <td>2020</td>\n",
       "      <td>660</td>\n",
       "      <td>7800</td>\n",
       "      <td>Karachi</td>\n",
       "      <td>59</td>\n",
       "      <td>0</td>\n",
       "      <td>0</td>\n",
       "      <td>...</td>\n",
       "      <td>0</td>\n",
       "      <td>0</td>\n",
       "      <td>0</td>\n",
       "      <td>0</td>\n",
       "      <td>1</td>\n",
       "      <td>0</td>\n",
       "      <td>1</td>\n",
       "      <td>1</td>\n",
       "      <td>0</td>\n",
       "      <td>1</td>\n",
       "    </tr>\n",
       "    <tr>\n",
       "      <th>80569</th>\n",
       "      <td>Corolla</td>\n",
       "      <td>GLi Automatic 1.3 VVTi</td>\n",
       "      <td>2700000.0</td>\n",
       "      <td>2016</td>\n",
       "      <td>1300</td>\n",
       "      <td>81000</td>\n",
       "      <td>Islamabad</td>\n",
       "      <td>61</td>\n",
       "      <td>0</td>\n",
       "      <td>0</td>\n",
       "      <td>...</td>\n",
       "      <td>0</td>\n",
       "      <td>0</td>\n",
       "      <td>0</td>\n",
       "      <td>0</td>\n",
       "      <td>1</td>\n",
       "      <td>0</td>\n",
       "      <td>1</td>\n",
       "      <td>0</td>\n",
       "      <td>1</td>\n",
       "      <td>0</td>\n",
       "    </tr>\n",
       "    <tr>\n",
       "      <th>80570</th>\n",
       "      <td>X-PV</td>\n",
       "      <td>Standard</td>\n",
       "      <td>600000.0</td>\n",
       "      <td>2013</td>\n",
       "      <td>1000</td>\n",
       "      <td>2</td>\n",
       "      <td>Lahore</td>\n",
       "      <td>18</td>\n",
       "      <td>0</td>\n",
       "      <td>0</td>\n",
       "      <td>...</td>\n",
       "      <td>0</td>\n",
       "      <td>0</td>\n",
       "      <td>0</td>\n",
       "      <td>0</td>\n",
       "      <td>1</td>\n",
       "      <td>0</td>\n",
       "      <td>1</td>\n",
       "      <td>1</td>\n",
       "      <td>0</td>\n",
       "      <td>1</td>\n",
       "    </tr>\n",
       "    <tr>\n",
       "      <th>80571</th>\n",
       "      <td>Civic</td>\n",
       "      <td>VTi Prosmatec 1.8 i-VTEC</td>\n",
       "      <td>2620000.0</td>\n",
       "      <td>2013</td>\n",
       "      <td>1800</td>\n",
       "      <td>100000</td>\n",
       "      <td>Islamabad</td>\n",
       "      <td>25</td>\n",
       "      <td>0</td>\n",
       "      <td>0</td>\n",
       "      <td>...</td>\n",
       "      <td>0</td>\n",
       "      <td>0</td>\n",
       "      <td>0</td>\n",
       "      <td>0</td>\n",
       "      <td>0</td>\n",
       "      <td>1</td>\n",
       "      <td>0</td>\n",
       "      <td>0</td>\n",
       "      <td>1</td>\n",
       "      <td>0</td>\n",
       "    </tr>\n",
       "  </tbody>\n",
       "</table>\n",
       "<p>80572 rows × 80 columns</p>\n",
       "</div>"
      ],
      "text/plain": [
       "         Model                          Version      Price  Make_Year    CC  \\\n",
       "0      Insight                     GLi 1.3 VVTi  7400000.0       2019  1500   \n",
       "1       Minica                     Black Minica  1065000.0       2019   660   \n",
       "2           A6  1.8 TFSI Business Class Edition  9300000.0       2015  1800   \n",
       "3         Aqua                                G  2375000.0       2014  1500   \n",
       "4         City                       1.3 i-VTEC  2600000.0       2017  1300   \n",
       "...        ...                              ...        ...        ...   ...   \n",
       "80567    Bolan                     GLi 1.3 VVTi   750000.0       2015   800   \n",
       "80568     Alto                              VXR  1480000.0       2020   660   \n",
       "80569  Corolla           GLi Automatic 1.3 VVTi  2700000.0       2016  1300   \n",
       "80570     X-PV                         Standard   600000.0       2013  1000   \n",
       "80571    Civic         VTi Prosmatec 1.8 i-VTEC  2620000.0       2013  1800   \n",
       "\n",
       "       Mileage Registered City  Make_label  Adam  Audi  ...  United  \\\n",
       "0         2000   Un-Registered          25     0     0  ...       0   \n",
       "1        68000          Lahore          43     0     0  ...       0   \n",
       "2        70000          Lahore           1     0     1  ...       0   \n",
       "3        99900       Islamabad          61     0     0  ...       0   \n",
       "4        55000       Islamabad          25     0     0  ...       0   \n",
       "...        ...             ...         ...   ...   ...  ...     ...   \n",
       "80567    98000          Lahore          59     0     0  ...       0   \n",
       "80568     7800         Karachi          59     0     0  ...       0   \n",
       "80569    81000       Islamabad          61     0     0  ...       0   \n",
       "80570        2          Lahore          18     0     0  ...       0   \n",
       "80571   100000       Islamabad          25     0     0  ...       0   \n",
       "\n",
       "       Volkswagen  Volvo  ZOTYE  Assembly_label  Imported  Local  \\\n",
       "0               0      0      0               0         1      0   \n",
       "1               0      0      0               0         1      0   \n",
       "2               0      0      0               1         0      1   \n",
       "3               0      0      0               0         1      0   \n",
       "4               0      0      0               1         0      1   \n",
       "...           ...    ...    ...             ...       ...    ...   \n",
       "80567           0      0      0               1         0      1   \n",
       "80568           0      0      0               1         0      1   \n",
       "80569           0      0      0               1         0      1   \n",
       "80570           0      0      0               1         0      1   \n",
       "80571           0      0      0               0         1      0   \n",
       "\n",
       "       Transmission_label  Automatic  Manual  \n",
       "0                       0          1       0  \n",
       "1                       0          1       0  \n",
       "2                       0          1       0  \n",
       "3                       0          1       0  \n",
       "4                       1          0       1  \n",
       "...                   ...        ...     ...  \n",
       "80567                   1          0       1  \n",
       "80568                   1          0       1  \n",
       "80569                   0          1       0  \n",
       "80570                   1          0       1  \n",
       "80571                   0          1       0  \n",
       "\n",
       "[80572 rows x 80 columns]"
      ]
     },
     "execution_count": 130,
     "metadata": {},
     "output_type": "execute_result"
    }
   ],
   "source": [
    "df"
   ]
  },
  {
   "cell_type": "markdown",
   "id": "24325389",
   "metadata": {},
   "source": [
    "# 3.32 StandarScaler"
   ]
  },
  {
   "cell_type": "code",
   "execution_count": 131,
   "id": "1329ed38",
   "metadata": {},
   "outputs": [
    {
     "data": {
      "text/plain": [
       "Model                 object\n",
       "Version               object\n",
       "Price                 object\n",
       "Make_Year              int64\n",
       "CC                     int64\n",
       "                       ...  \n",
       "Imported               uint8\n",
       "Local                  uint8\n",
       "Transmission_label     int32\n",
       "Automatic              uint8\n",
       "Manual                 uint8\n",
       "Length: 80, dtype: object"
      ]
     },
     "execution_count": 131,
     "metadata": {},
     "output_type": "execute_result"
    }
   ],
   "source": [
    "df.dtypes"
   ]
  },
  {
   "cell_type": "code",
   "execution_count": 132,
   "id": "08ba9512",
   "metadata": {},
   "outputs": [
    {
     "data": {
      "text/plain": [
       "Index(['Model', 'Version', 'Price', 'Make_Year', 'CC', 'Mileage',\n",
       "       'Registered City', 'Make_label', 'Adam', 'Audi', 'BMW', 'Bentley',\n",
       "       'Buick', 'Cadillac', 'Changan', 'Chery', 'Chevrolet', 'Chrysler',\n",
       "       'Citroen', 'DFSK', 'Daehan', 'Daewoo', 'Daihatsu', 'Datsun', 'Dodge',\n",
       "       'Dongfeng', 'FAW', 'Fiat', 'Ford', 'GMC', 'Geely', 'Golden', 'Hino',\n",
       "       'Honda', 'Hummer', 'Hyundai', 'Isuzu', 'JAC', 'JMC', 'JW', 'Jaguar',\n",
       "       'Jeep', 'Jinbei', 'KIA', 'Land', 'Lexus', 'MG', 'MINI', 'Master',\n",
       "       'Mazda', 'Mercedes', 'Mitsubishi', 'Nissan', 'Others', 'Peugeot',\n",
       "       'Plymouth', 'Porsche', 'Prince', 'Proton', 'Range', 'Renault', 'Roma',\n",
       "       'Rover', 'Sogo', 'Sokon', 'SsangYong', 'Subaru', 'Suzuki', 'Tesla',\n",
       "       'Toyota', 'United', 'Volkswagen', 'Volvo', 'ZOTYE', 'Assembly_label',\n",
       "       'Imported', 'Local', 'Transmission_label', 'Automatic', 'Manual'],\n",
       "      dtype='object')"
      ]
     },
     "execution_count": 132,
     "metadata": {},
     "output_type": "execute_result"
    }
   ],
   "source": [
    "df.columns"
   ]
  },
  {
   "cell_type": "code",
   "execution_count": 133,
   "id": "889a7562",
   "metadata": {},
   "outputs": [],
   "source": [
    "X = df.iloc[:, [3,4]]\n",
    "y = df.iloc[:, 2]"
   ]
  },
  {
   "cell_type": "code",
   "execution_count": 134,
   "id": "1ff95959",
   "metadata": {},
   "outputs": [
    {
     "data": {
      "text/html": [
       "<div>\n",
       "<style scoped>\n",
       "    .dataframe tbody tr th:only-of-type {\n",
       "        vertical-align: middle;\n",
       "    }\n",
       "\n",
       "    .dataframe tbody tr th {\n",
       "        vertical-align: top;\n",
       "    }\n",
       "\n",
       "    .dataframe thead th {\n",
       "        text-align: right;\n",
       "    }\n",
       "</style>\n",
       "<table border=\"1\" class=\"dataframe\">\n",
       "  <thead>\n",
       "    <tr style=\"text-align: right;\">\n",
       "      <th></th>\n",
       "      <th>Make_Year</th>\n",
       "      <th>CC</th>\n",
       "    </tr>\n",
       "  </thead>\n",
       "  <tbody>\n",
       "    <tr>\n",
       "      <th>0</th>\n",
       "      <td>2019</td>\n",
       "      <td>1500</td>\n",
       "    </tr>\n",
       "    <tr>\n",
       "      <th>1</th>\n",
       "      <td>2019</td>\n",
       "      <td>660</td>\n",
       "    </tr>\n",
       "    <tr>\n",
       "      <th>2</th>\n",
       "      <td>2015</td>\n",
       "      <td>1800</td>\n",
       "    </tr>\n",
       "    <tr>\n",
       "      <th>3</th>\n",
       "      <td>2014</td>\n",
       "      <td>1500</td>\n",
       "    </tr>\n",
       "    <tr>\n",
       "      <th>4</th>\n",
       "      <td>2017</td>\n",
       "      <td>1300</td>\n",
       "    </tr>\n",
       "  </tbody>\n",
       "</table>\n",
       "</div>"
      ],
      "text/plain": [
       "   Make_Year    CC\n",
       "0       2019  1500\n",
       "1       2019   660\n",
       "2       2015  1800\n",
       "3       2014  1500\n",
       "4       2017  1300"
      ]
     },
     "execution_count": 134,
     "metadata": {},
     "output_type": "execute_result"
    }
   ],
   "source": [
    "X.head()"
   ]
  },
  {
   "cell_type": "code",
   "execution_count": 135,
   "id": "a48cef7e",
   "metadata": {},
   "outputs": [],
   "source": [
    "#create train and test dataset\n",
    "X_train, X_test, y_train, y_test = train_test_split(X, y, random_state = 40)"
   ]
  },
  {
   "cell_type": "code",
   "execution_count": 136,
   "id": "62652273",
   "metadata": {},
   "outputs": [
    {
     "data": {
      "text/html": [
       "<div>\n",
       "<style scoped>\n",
       "    .dataframe tbody tr th:only-of-type {\n",
       "        vertical-align: middle;\n",
       "    }\n",
       "\n",
       "    .dataframe tbody tr th {\n",
       "        vertical-align: top;\n",
       "    }\n",
       "\n",
       "    .dataframe thead th {\n",
       "        text-align: right;\n",
       "    }\n",
       "</style>\n",
       "<table border=\"1\" class=\"dataframe\">\n",
       "  <thead>\n",
       "    <tr style=\"text-align: right;\">\n",
       "      <th></th>\n",
       "      <th>Make_Year</th>\n",
       "      <th>CC</th>\n",
       "    </tr>\n",
       "  </thead>\n",
       "  <tbody>\n",
       "    <tr>\n",
       "      <th>66779</th>\n",
       "      <td>2010</td>\n",
       "      <td>800</td>\n",
       "    </tr>\n",
       "    <tr>\n",
       "      <th>25178</th>\n",
       "      <td>2017</td>\n",
       "      <td>1500</td>\n",
       "    </tr>\n",
       "    <tr>\n",
       "      <th>58113</th>\n",
       "      <td>2013</td>\n",
       "      <td>1300</td>\n",
       "    </tr>\n",
       "    <tr>\n",
       "      <th>21750</th>\n",
       "      <td>2007</td>\n",
       "      <td>1000</td>\n",
       "    </tr>\n",
       "    <tr>\n",
       "      <th>56382</th>\n",
       "      <td>2011</td>\n",
       "      <td>660</td>\n",
       "    </tr>\n",
       "  </tbody>\n",
       "</table>\n",
       "</div>"
      ],
      "text/plain": [
       "       Make_Year    CC\n",
       "66779       2010   800\n",
       "25178       2017  1500\n",
       "58113       2013  1300\n",
       "21750       2007  1000\n",
       "56382       2011   660"
      ]
     },
     "execution_count": 136,
     "metadata": {},
     "output_type": "execute_result"
    }
   ],
   "source": [
    "X_train.head()"
   ]
  },
  {
   "cell_type": "code",
   "execution_count": 141,
   "id": "c0fb316a",
   "metadata": {},
   "outputs": [],
   "source": [
    "scaler = StandardScaler().fit(X_train)"
   ]
  },
  {
   "cell_type": "code",
   "execution_count": 142,
   "id": "a9534ba0",
   "metadata": {},
   "outputs": [
    {
     "name": "stdout",
     "output_type": "stream",
     "text": [
      "StandardScaler()\n"
     ]
    }
   ],
   "source": [
    "print(scaler)"
   ]
  },
  {
   "cell_type": "code",
   "execution_count": 143,
   "id": "6516ad84",
   "metadata": {},
   "outputs": [
    {
     "data": {
      "text/plain": [
       "array([2011.71260488, 1405.17077893])"
      ]
     },
     "execution_count": 143,
     "metadata": {},
     "output_type": "execute_result"
    }
   ],
   "source": [
    "#means of x values\n",
    "scaler.mean_"
   ]
  },
  {
   "cell_type": "code",
   "execution_count": 144,
   "id": "ce2a2e5e",
   "metadata": {},
   "outputs": [
    {
     "data": {
      "text/plain": [
       "array([  6.9490547 , 686.12926077])"
      ]
     },
     "execution_count": 144,
     "metadata": {},
     "output_type": "execute_result"
    }
   ],
   "source": [
    "#variance of x values\n",
    "scaler.scale_"
   ]
  },
  {
   "cell_type": "code",
   "execution_count": 145,
   "id": "3aa429d0",
   "metadata": {},
   "outputs": [
    {
     "data": {
      "text/plain": [
       "array([[-0.24645149, -0.88200695],\n",
       "       [ 0.76087977,  0.13820897],\n",
       "       [ 0.18526191, -0.15328129],\n",
       "       ...,\n",
       "       [-1.10987828,  0.86693464],\n",
       "       [ 0.76087977, -0.88200695],\n",
       "       [-1.82940061,  0.28395411]])"
      ]
     },
     "execution_count": 145,
     "metadata": {},
     "output_type": "execute_result"
    }
   ],
   "source": [
    "#transform values\n",
    "scaler.transform(X_train)"
   ]
  },
  {
   "cell_type": "code",
   "execution_count": 146,
   "id": "49ae00b6",
   "metadata": {},
   "outputs": [],
   "source": [
    "X_train_scaled = scaler.transform(X_train)"
   ]
  },
  {
   "cell_type": "code",
   "execution_count": 147,
   "id": "bfb9bd46",
   "metadata": {},
   "outputs": [
    {
     "name": "stdout",
     "output_type": "stream",
     "text": [
      "[[-0.24645149 -0.88200695]\n",
      " [ 0.76087977  0.13820897]\n",
      " [ 0.18526191 -0.15328129]\n",
      " ...\n",
      " [-1.10987828  0.86693464]\n",
      " [ 0.76087977 -0.88200695]\n",
      " [-1.82940061  0.28395411]]\n"
     ]
    }
   ],
   "source": [
    "#Standarlize values\n",
    "print(X_train_scaled)"
   ]
  },
  {
   "cell_type": "code",
   "execution_count": 148,
   "id": "8a253e24",
   "metadata": {},
   "outputs": [
    {
     "name": "stdout",
     "output_type": "stream",
     "text": [
      "[5.99764786e-15 5.36178801e-17]\n"
     ]
    }
   ],
   "source": [
    "print(X_train_scaled.mean(axis=0))"
   ]
  },
  {
   "cell_type": "code",
   "execution_count": 149,
   "id": "7b6961f4",
   "metadata": {},
   "outputs": [
    {
     "name": "stdout",
     "output_type": "stream",
     "text": [
      "[1. 1.]\n"
     ]
    }
   ],
   "source": [
    "#StandardDevation\n",
    "print(X_train_scaled.std(axis=0))"
   ]
  },
  {
   "cell_type": "code",
   "execution_count": null,
   "id": "85ab4fce",
   "metadata": {},
   "outputs": [],
   "source": [
    "#test set"
   ]
  },
  {
   "cell_type": "code",
   "execution_count": 152,
   "id": "11d48f29",
   "metadata": {},
   "outputs": [
    {
     "data": {
      "text/html": [
       "<div>\n",
       "<style scoped>\n",
       "    .dataframe tbody tr th:only-of-type {\n",
       "        vertical-align: middle;\n",
       "    }\n",
       "\n",
       "    .dataframe tbody tr th {\n",
       "        vertical-align: top;\n",
       "    }\n",
       "\n",
       "    .dataframe thead th {\n",
       "        text-align: right;\n",
       "    }\n",
       "</style>\n",
       "<table border=\"1\" class=\"dataframe\">\n",
       "  <thead>\n",
       "    <tr style=\"text-align: right;\">\n",
       "      <th></th>\n",
       "      <th>Make_Year</th>\n",
       "      <th>CC</th>\n",
       "    </tr>\n",
       "  </thead>\n",
       "  <tbody>\n",
       "    <tr>\n",
       "      <th>10753</th>\n",
       "      <td>1998</td>\n",
       "      <td>1800</td>\n",
       "    </tr>\n",
       "    <tr>\n",
       "      <th>42220</th>\n",
       "      <td>2017</td>\n",
       "      <td>800</td>\n",
       "    </tr>\n",
       "    <tr>\n",
       "      <th>21212</th>\n",
       "      <td>2018</td>\n",
       "      <td>800</td>\n",
       "    </tr>\n",
       "    <tr>\n",
       "      <th>26548</th>\n",
       "      <td>2016</td>\n",
       "      <td>1000</td>\n",
       "    </tr>\n",
       "    <tr>\n",
       "      <th>11191</th>\n",
       "      <td>2008</td>\n",
       "      <td>1300</td>\n",
       "    </tr>\n",
       "  </tbody>\n",
       "</table>\n",
       "</div>"
      ],
      "text/plain": [
       "       Make_Year    CC\n",
       "10753       1998  1800\n",
       "42220       2017   800\n",
       "21212       2018   800\n",
       "26548       2016  1000\n",
       "11191       2008  1300"
      ]
     },
     "execution_count": 152,
     "metadata": {},
     "output_type": "execute_result"
    }
   ],
   "source": [
    "X_test.head()"
   ]
  },
  {
   "cell_type": "code",
   "execution_count": 153,
   "id": "e259f8fe",
   "metadata": {},
   "outputs": [],
   "source": [
    "scaler = StandardScaler().fit(X_test)"
   ]
  },
  {
   "cell_type": "code",
   "execution_count": 154,
   "id": "aedc7913",
   "metadata": {},
   "outputs": [
    {
     "data": {
      "text/plain": [
       "array([2011.75902299, 1400.82073177])"
      ]
     },
     "execution_count": 154,
     "metadata": {},
     "output_type": "execute_result"
    }
   ],
   "source": [
    "scaler.mean_"
   ]
  },
  {
   "cell_type": "code",
   "execution_count": 155,
   "id": "55f2ddd6",
   "metadata": {},
   "outputs": [
    {
     "data": {
      "text/plain": [
       "array([  6.96612857, 679.39268131])"
      ]
     },
     "execution_count": 155,
     "metadata": {},
     "output_type": "execute_result"
    }
   ],
   "source": [
    "scaler.scale_"
   ]
  },
  {
   "cell_type": "code",
   "execution_count": 156,
   "id": "d5edc17c",
   "metadata": {},
   "outputs": [
    {
     "data": {
      "text/plain": [
       "array([[-1.97513193,  0.58755309],\n",
       "       [ 0.75235146, -0.88434973],\n",
       "       [ 0.89590322, -0.88434973],\n",
       "       ...,\n",
       "       [-0.25251084, -0.14839832],\n",
       "       [ 0.46524795,  1.91226562],\n",
       "       [ 1.32655849,  2.0594559 ]])"
      ]
     },
     "execution_count": 156,
     "metadata": {},
     "output_type": "execute_result"
    }
   ],
   "source": [
    "scaler.transform(X_test)"
   ]
  },
  {
   "cell_type": "code",
   "execution_count": 157,
   "id": "9bc9b467",
   "metadata": {},
   "outputs": [],
   "source": [
    "#save above result in a new variable\n",
    "X_test_scaled = scaler.transform(X_test)"
   ]
  },
  {
   "cell_type": "code",
   "execution_count": 158,
   "id": "f3dcd78a",
   "metadata": {},
   "outputs": [
    {
     "name": "stdout",
     "output_type": "stream",
     "text": [
      "[[-1.97513193  0.58755309]\n",
      " [ 0.75235146 -0.88434973]\n",
      " [ 0.89590322 -0.88434973]\n",
      " ...\n",
      " [-0.25251084 -0.14839832]\n",
      " [ 0.46524795  1.91226562]\n",
      " [ 1.32655849  2.0594559 ]]\n"
     ]
    }
   ],
   "source": [
    "#display data in new variable\n",
    "print(X_test_scaled)"
   ]
  },
  {
   "cell_type": "code",
   "execution_count": 159,
   "id": "a5d38152",
   "metadata": {},
   "outputs": [
    {
     "name": "stdout",
     "output_type": "stream",
     "text": [
      "[2.86502909e-15 6.34948580e-18]\n"
     ]
    }
   ],
   "source": [
    "#print mean value in new variable(X_test_scaled)\n",
    "print(X_test_scaled.mean(axis=0))"
   ]
  },
  {
   "cell_type": "code",
   "execution_count": 160,
   "id": "f24566b5",
   "metadata": {},
   "outputs": [
    {
     "name": "stdout",
     "output_type": "stream",
     "text": [
      "[1. 1.]\n"
     ]
    }
   ],
   "source": [
    "#standardDevation of newly created variable\n",
    "print(X_test_scaled.std(axis=0))"
   ]
  },
  {
   "cell_type": "markdown",
   "id": "44d62b66",
   "metadata": {},
   "source": [
    "# 3.3 MinMaxScaler"
   ]
  },
  {
   "cell_type": "code",
   "execution_count": 162,
   "id": "5ec36b76",
   "metadata": {},
   "outputs": [
    {
     "data": {
      "text/plain": [
       "Model                 object\n",
       "Version               object\n",
       "Price                 object\n",
       "Make_Year              int64\n",
       "CC                     int64\n",
       "                       ...  \n",
       "Imported               uint8\n",
       "Local                  uint8\n",
       "Transmission_label     int32\n",
       "Automatic              uint8\n",
       "Manual                 uint8\n",
       "Length: 80, dtype: object"
      ]
     },
     "execution_count": 162,
     "metadata": {},
     "output_type": "execute_result"
    }
   ],
   "source": [
    "df.dtypes"
   ]
  },
  {
   "cell_type": "code",
   "execution_count": 165,
   "id": "9ac7b5cd",
   "metadata": {},
   "outputs": [],
   "source": [
    "X = df.iloc[:, [3,4]]\n",
    "y = df.iloc[:, 2]"
   ]
  },
  {
   "cell_type": "code",
   "execution_count": 166,
   "id": "3cb48488",
   "metadata": {},
   "outputs": [],
   "source": [
    "#create train and test dataset\n",
    "X_train, X_test, y_train, y_test = train_test_split(X, y, random_state = 40)"
   ]
  },
  {
   "cell_type": "code",
   "execution_count": 167,
   "id": "d729ea9c",
   "metadata": {},
   "outputs": [
    {
     "data": {
      "text/html": [
       "<div>\n",
       "<style scoped>\n",
       "    .dataframe tbody tr th:only-of-type {\n",
       "        vertical-align: middle;\n",
       "    }\n",
       "\n",
       "    .dataframe tbody tr th {\n",
       "        vertical-align: top;\n",
       "    }\n",
       "\n",
       "    .dataframe thead th {\n",
       "        text-align: right;\n",
       "    }\n",
       "</style>\n",
       "<table border=\"1\" class=\"dataframe\">\n",
       "  <thead>\n",
       "    <tr style=\"text-align: right;\">\n",
       "      <th></th>\n",
       "      <th>Make_Year</th>\n",
       "      <th>CC</th>\n",
       "    </tr>\n",
       "  </thead>\n",
       "  <tbody>\n",
       "    <tr>\n",
       "      <th>66779</th>\n",
       "      <td>2010</td>\n",
       "      <td>800</td>\n",
       "    </tr>\n",
       "    <tr>\n",
       "      <th>25178</th>\n",
       "      <td>2017</td>\n",
       "      <td>1500</td>\n",
       "    </tr>\n",
       "    <tr>\n",
       "      <th>58113</th>\n",
       "      <td>2013</td>\n",
       "      <td>1300</td>\n",
       "    </tr>\n",
       "    <tr>\n",
       "      <th>21750</th>\n",
       "      <td>2007</td>\n",
       "      <td>1000</td>\n",
       "    </tr>\n",
       "    <tr>\n",
       "      <th>56382</th>\n",
       "      <td>2011</td>\n",
       "      <td>660</td>\n",
       "    </tr>\n",
       "  </tbody>\n",
       "</table>\n",
       "</div>"
      ],
      "text/plain": [
       "       Make_Year    CC\n",
       "66779       2010   800\n",
       "25178       2017  1500\n",
       "58113       2013  1300\n",
       "21750       2007  1000\n",
       "56382       2011   660"
      ]
     },
     "execution_count": 167,
     "metadata": {},
     "output_type": "execute_result"
    }
   ],
   "source": [
    "X_train.head()"
   ]
  },
  {
   "cell_type": "code",
   "execution_count": 168,
   "id": "344700d4",
   "metadata": {},
   "outputs": [],
   "source": [
    "scaler = MinMaxScaler().fit(X_train)"
   ]
  },
  {
   "cell_type": "code",
   "execution_count": 169,
   "id": "ce81a4e9",
   "metadata": {},
   "outputs": [
    {
     "name": "stdout",
     "output_type": "stream",
     "text": [
      "MinMaxScaler()\n"
     ]
    }
   ],
   "source": [
    "print(scaler)"
   ]
  },
  {
   "cell_type": "code",
   "execution_count": 170,
   "id": "6eebaf61",
   "metadata": {},
   "outputs": [
    {
     "data": {
      "text/plain": [
       "array([1.99e+03, 1.00e+00])"
      ]
     },
     "execution_count": 170,
     "metadata": {},
     "output_type": "execute_result"
    }
   ],
   "source": [
    "#minimum value in Make year and cc\n",
    "scaler.data_min_"
   ]
  },
  {
   "cell_type": "code",
   "execution_count": 172,
   "id": "e01413b6",
   "metadata": {},
   "outputs": [
    {
     "data": {
      "text/plain": [
       "array([ 2021., 10000.])"
      ]
     },
     "execution_count": 172,
     "metadata": {},
     "output_type": "execute_result"
    }
   ],
   "source": [
    "#maximum value in Make year and cc\n",
    "scaler.data_max_"
   ]
  },
  {
   "cell_type": "code",
   "execution_count": 173,
   "id": "a47bd6a4",
   "metadata": {},
   "outputs": [
    {
     "data": {
      "text/html": [
       "<div>\n",
       "<style scoped>\n",
       "    .dataframe tbody tr th:only-of-type {\n",
       "        vertical-align: middle;\n",
       "    }\n",
       "\n",
       "    .dataframe tbody tr th {\n",
       "        vertical-align: top;\n",
       "    }\n",
       "\n",
       "    .dataframe thead th {\n",
       "        text-align: right;\n",
       "    }\n",
       "</style>\n",
       "<table border=\"1\" class=\"dataframe\">\n",
       "  <thead>\n",
       "    <tr style=\"text-align: right;\">\n",
       "      <th></th>\n",
       "      <th>Make_Year</th>\n",
       "      <th>CC</th>\n",
       "    </tr>\n",
       "  </thead>\n",
       "  <tbody>\n",
       "    <tr>\n",
       "      <th>count</th>\n",
       "      <td>60429.000000</td>\n",
       "      <td>60429.000000</td>\n",
       "    </tr>\n",
       "    <tr>\n",
       "      <th>mean</th>\n",
       "      <td>2011.712605</td>\n",
       "      <td>1405.170779</td>\n",
       "    </tr>\n",
       "    <tr>\n",
       "      <th>std</th>\n",
       "      <td>6.949112</td>\n",
       "      <td>686.134938</td>\n",
       "    </tr>\n",
       "    <tr>\n",
       "      <th>min</th>\n",
       "      <td>1990.000000</td>\n",
       "      <td>1.000000</td>\n",
       "    </tr>\n",
       "    <tr>\n",
       "      <th>25%</th>\n",
       "      <td>2007.000000</td>\n",
       "      <td>1000.000000</td>\n",
       "    </tr>\n",
       "    <tr>\n",
       "      <th>50%</th>\n",
       "      <td>2013.000000</td>\n",
       "      <td>1300.000000</td>\n",
       "    </tr>\n",
       "    <tr>\n",
       "      <th>75%</th>\n",
       "      <td>2017.000000</td>\n",
       "      <td>1600.000000</td>\n",
       "    </tr>\n",
       "    <tr>\n",
       "      <th>max</th>\n",
       "      <td>2021.000000</td>\n",
       "      <td>10000.000000</td>\n",
       "    </tr>\n",
       "  </tbody>\n",
       "</table>\n",
       "</div>"
      ],
      "text/plain": [
       "          Make_Year            CC\n",
       "count  60429.000000  60429.000000\n",
       "mean    2011.712605   1405.170779\n",
       "std        6.949112    686.134938\n",
       "min     1990.000000      1.000000\n",
       "25%     2007.000000   1000.000000\n",
       "50%     2013.000000   1300.000000\n",
       "75%     2017.000000   1600.000000\n",
       "max     2021.000000  10000.000000"
      ]
     },
     "execution_count": 173,
     "metadata": {},
     "output_type": "execute_result"
    }
   ],
   "source": [
    "X_train.describe()"
   ]
  },
  {
   "cell_type": "code",
   "execution_count": 174,
   "id": "9ea00310",
   "metadata": {},
   "outputs": [
    {
     "data": {
      "text/plain": [
       "(0, 1)"
      ]
     },
     "execution_count": 174,
     "metadata": {},
     "output_type": "execute_result"
    }
   ],
   "source": [
    "scaler.feature_range"
   ]
  },
  {
   "cell_type": "code",
   "execution_count": 175,
   "id": "eb1d3e71",
   "metadata": {},
   "outputs": [
    {
     "data": {
      "text/plain": [
       "array([[0.64516129, 0.07990799],\n",
       "       [0.87096774, 0.14991499],\n",
       "       [0.74193548, 0.12991299],\n",
       "       ...,\n",
       "       [0.4516129 , 0.19991999],\n",
       "       [0.87096774, 0.07990799],\n",
       "       [0.29032258, 0.15991599]])"
      ]
     },
     "execution_count": 175,
     "metadata": {},
     "output_type": "execute_result"
    }
   ],
   "source": [
    "scaler.transform(X_train)"
   ]
  },
  {
   "cell_type": "code",
   "execution_count": 176,
   "id": "02693884",
   "metadata": {},
   "outputs": [],
   "source": [
    "#save above values in one variable\n",
    "X_train_scaled = scaler.transform(X_train)"
   ]
  },
  {
   "cell_type": "code",
   "execution_count": 177,
   "id": "1d4abb5e",
   "metadata": {},
   "outputs": [
    {
     "name": "stdout",
     "output_type": "stream",
     "text": [
      "[[0.64516129 0.07990799]\n",
      " [0.87096774 0.14991499]\n",
      " [0.74193548 0.12991299]\n",
      " ...\n",
      " [0.4516129  0.19991999]\n",
      " [0.87096774 0.07990799]\n",
      " [0.29032258 0.15991599]]\n"
     ]
    }
   ],
   "source": [
    "#this values we are use for our ML model\n",
    "print(X_train_scaled)"
   ]
  },
  {
   "cell_type": "code",
   "execution_count": 178,
   "id": "f93695e5",
   "metadata": {},
   "outputs": [],
   "source": [
    "scaler = MinMaxScaler().fit(X_test)"
   ]
  },
  {
   "cell_type": "code",
   "execution_count": 179,
   "id": "7a497ef4",
   "metadata": {},
   "outputs": [
    {
     "name": "stdout",
     "output_type": "stream",
     "text": [
      "MinMaxScaler()\n"
     ]
    }
   ],
   "source": [
    "print(scaler)"
   ]
  },
  {
   "cell_type": "code",
   "execution_count": 180,
   "id": "ee4e0c16",
   "metadata": {},
   "outputs": [
    {
     "data": {
      "text/plain": [
       "array([1.99e+03, 1.00e+00])"
      ]
     },
     "execution_count": 180,
     "metadata": {},
     "output_type": "execute_result"
    }
   ],
   "source": [
    "scaler.data_min_"
   ]
  },
  {
   "cell_type": "code",
   "execution_count": 181,
   "id": "1cc59363",
   "metadata": {},
   "outputs": [
    {
     "data": {
      "text/plain": [
       "array([2021., 7000.])"
      ]
     },
     "execution_count": 181,
     "metadata": {},
     "output_type": "execute_result"
    }
   ],
   "source": [
    "scaler.data_max_"
   ]
  },
  {
   "cell_type": "code",
   "execution_count": 182,
   "id": "bcad7e70",
   "metadata": {},
   "outputs": [
    {
     "data": {
      "text/plain": [
       "(0, 1)"
      ]
     },
     "execution_count": 182,
     "metadata": {},
     "output_type": "execute_result"
    }
   ],
   "source": [
    "scaler.feature_range"
   ]
  },
  {
   "cell_type": "code",
   "execution_count": 183,
   "id": "b0199335",
   "metadata": {},
   "outputs": [
    {
     "data": {
      "text/html": [
       "<div>\n",
       "<style scoped>\n",
       "    .dataframe tbody tr th:only-of-type {\n",
       "        vertical-align: middle;\n",
       "    }\n",
       "\n",
       "    .dataframe tbody tr th {\n",
       "        vertical-align: top;\n",
       "    }\n",
       "\n",
       "    .dataframe thead th {\n",
       "        text-align: right;\n",
       "    }\n",
       "</style>\n",
       "<table border=\"1\" class=\"dataframe\">\n",
       "  <thead>\n",
       "    <tr style=\"text-align: right;\">\n",
       "      <th></th>\n",
       "      <th>Make_Year</th>\n",
       "      <th>CC</th>\n",
       "    </tr>\n",
       "  </thead>\n",
       "  <tbody>\n",
       "    <tr>\n",
       "      <th>count</th>\n",
       "      <td>20143.000000</td>\n",
       "      <td>20143.000000</td>\n",
       "    </tr>\n",
       "    <tr>\n",
       "      <th>mean</th>\n",
       "      <td>2011.759023</td>\n",
       "      <td>1400.820732</td>\n",
       "    </tr>\n",
       "    <tr>\n",
       "      <th>std</th>\n",
       "      <td>6.966301</td>\n",
       "      <td>679.409546</td>\n",
       "    </tr>\n",
       "    <tr>\n",
       "      <th>min</th>\n",
       "      <td>1990.000000</td>\n",
       "      <td>1.000000</td>\n",
       "    </tr>\n",
       "    <tr>\n",
       "      <th>25%</th>\n",
       "      <td>2007.000000</td>\n",
       "      <td>1000.000000</td>\n",
       "    </tr>\n",
       "    <tr>\n",
       "      <th>50%</th>\n",
       "      <td>2014.000000</td>\n",
       "      <td>1300.000000</td>\n",
       "    </tr>\n",
       "    <tr>\n",
       "      <th>75%</th>\n",
       "      <td>2017.000000</td>\n",
       "      <td>1600.000000</td>\n",
       "    </tr>\n",
       "    <tr>\n",
       "      <th>max</th>\n",
       "      <td>2021.000000</td>\n",
       "      <td>7000.000000</td>\n",
       "    </tr>\n",
       "  </tbody>\n",
       "</table>\n",
       "</div>"
      ],
      "text/plain": [
       "          Make_Year            CC\n",
       "count  20143.000000  20143.000000\n",
       "mean    2011.759023   1400.820732\n",
       "std        6.966301    679.409546\n",
       "min     1990.000000      1.000000\n",
       "25%     2007.000000   1000.000000\n",
       "50%     2014.000000   1300.000000\n",
       "75%     2017.000000   1600.000000\n",
       "max     2021.000000   7000.000000"
      ]
     },
     "execution_count": 183,
     "metadata": {},
     "output_type": "execute_result"
    }
   ],
   "source": [
    "X_test.describe()"
   ]
  },
  {
   "cell_type": "code",
   "execution_count": 184,
   "id": "e0907da3",
   "metadata": {},
   "outputs": [
    {
     "data": {
      "text/plain": [
       "array([[0.25806452, 0.25703672],\n",
       "       [0.87096774, 0.11415917],\n",
       "       [0.90322581, 0.11415917],\n",
       "       ...,\n",
       "       [0.64516129, 0.18559794],\n",
       "       [0.80645161, 0.38562652],\n",
       "       [1.        , 0.39991427]])"
      ]
     },
     "execution_count": 184,
     "metadata": {},
     "output_type": "execute_result"
    }
   ],
   "source": [
    "scaler.transform(X_test)"
   ]
  },
  {
   "cell_type": "code",
   "execution_count": 185,
   "id": "0866319b",
   "metadata": {},
   "outputs": [],
   "source": [
    "X_test_scaled = scaler.transform(X_test)"
   ]
  },
  {
   "cell_type": "code",
   "execution_count": 186,
   "id": "8d4a1297",
   "metadata": {},
   "outputs": [
    {
     "name": "stdout",
     "output_type": "stream",
     "text": [
      "[[0.25806452 0.25703672]\n",
      " [0.87096774 0.11415917]\n",
      " [0.90322581 0.11415917]\n",
      " ...\n",
      " [0.64516129 0.18559794]\n",
      " [0.80645161 0.38562652]\n",
      " [1.         0.39991427]]\n"
     ]
    }
   ],
   "source": [
    "print(X_test_scaled)"
   ]
  },
  {
   "cell_type": "code",
   "execution_count": null,
   "id": "f869c7d3",
   "metadata": {},
   "outputs": [],
   "source": []
  },
  {
   "cell_type": "markdown",
   "id": "e434d96d",
   "metadata": {},
   "source": [
    "# 3.4 Seperate dependent and independent variables in dataset"
   ]
  },
  {
   "cell_type": "markdown",
   "id": "d654ab6d",
   "metadata": {},
   "source": [
    "# 3.2.1 indepepend variable"
   ]
  },
  {
   "cell_type": "code",
   "execution_count": 75,
   "id": "82fd9264",
   "metadata": {},
   "outputs": [],
   "source": [
    "x=df[['Make_Year','CC']]\n"
   ]
  },
  {
   "cell_type": "code",
   "execution_count": 76,
   "id": "4d24084a",
   "metadata": {},
   "outputs": [
    {
     "data": {
      "text/html": [
       "<div>\n",
       "<style scoped>\n",
       "    .dataframe tbody tr th:only-of-type {\n",
       "        vertical-align: middle;\n",
       "    }\n",
       "\n",
       "    .dataframe tbody tr th {\n",
       "        vertical-align: top;\n",
       "    }\n",
       "\n",
       "    .dataframe thead th {\n",
       "        text-align: right;\n",
       "    }\n",
       "</style>\n",
       "<table border=\"1\" class=\"dataframe\">\n",
       "  <thead>\n",
       "    <tr style=\"text-align: right;\">\n",
       "      <th></th>\n",
       "      <th>Make_Year</th>\n",
       "      <th>CC</th>\n",
       "    </tr>\n",
       "  </thead>\n",
       "  <tbody>\n",
       "    <tr>\n",
       "      <th>0</th>\n",
       "      <td>2019</td>\n",
       "      <td>1500</td>\n",
       "    </tr>\n",
       "    <tr>\n",
       "      <th>1</th>\n",
       "      <td>2019</td>\n",
       "      <td>660</td>\n",
       "    </tr>\n",
       "    <tr>\n",
       "      <th>2</th>\n",
       "      <td>2015</td>\n",
       "      <td>1800</td>\n",
       "    </tr>\n",
       "    <tr>\n",
       "      <th>3</th>\n",
       "      <td>2014</td>\n",
       "      <td>1500</td>\n",
       "    </tr>\n",
       "    <tr>\n",
       "      <th>4</th>\n",
       "      <td>2017</td>\n",
       "      <td>1300</td>\n",
       "    </tr>\n",
       "    <tr>\n",
       "      <th>...</th>\n",
       "      <td>...</td>\n",
       "      <td>...</td>\n",
       "    </tr>\n",
       "    <tr>\n",
       "      <th>80567</th>\n",
       "      <td>2015</td>\n",
       "      <td>800</td>\n",
       "    </tr>\n",
       "    <tr>\n",
       "      <th>80568</th>\n",
       "      <td>2020</td>\n",
       "      <td>660</td>\n",
       "    </tr>\n",
       "    <tr>\n",
       "      <th>80569</th>\n",
       "      <td>2016</td>\n",
       "      <td>1300</td>\n",
       "    </tr>\n",
       "    <tr>\n",
       "      <th>80570</th>\n",
       "      <td>2013</td>\n",
       "      <td>1000</td>\n",
       "    </tr>\n",
       "    <tr>\n",
       "      <th>80571</th>\n",
       "      <td>2013</td>\n",
       "      <td>1800</td>\n",
       "    </tr>\n",
       "  </tbody>\n",
       "</table>\n",
       "<p>80572 rows × 2 columns</p>\n",
       "</div>"
      ],
      "text/plain": [
       "       Make_Year    CC\n",
       "0           2019  1500\n",
       "1           2019   660\n",
       "2           2015  1800\n",
       "3           2014  1500\n",
       "4           2017  1300\n",
       "...          ...   ...\n",
       "80567       2015   800\n",
       "80568       2020   660\n",
       "80569       2016  1300\n",
       "80570       2013  1000\n",
       "80571       2013  1800\n",
       "\n",
       "[80572 rows x 2 columns]"
      ]
     },
     "execution_count": 76,
     "metadata": {},
     "output_type": "execute_result"
    }
   ],
   "source": [
    "#Display independent variable\n",
    "x"
   ]
  },
  {
   "cell_type": "code",
   "execution_count": 77,
   "id": "2c279e34",
   "metadata": {},
   "outputs": [],
   "source": [
    "x=df[['Make_Year','CC']].values"
   ]
  },
  {
   "cell_type": "code",
   "execution_count": 78,
   "id": "33bf45c4",
   "metadata": {},
   "outputs": [
    {
     "data": {
      "text/plain": [
       "array([[2019, 1500],\n",
       "       [2019,  660],\n",
       "       [2015, 1800],\n",
       "       ...,\n",
       "       [2016, 1300],\n",
       "       [2013, 1000],\n",
       "       [2013, 1800]], dtype=int64)"
      ]
     },
     "execution_count": 78,
     "metadata": {},
     "output_type": "execute_result"
    }
   ],
   "source": [
    "#Display independent variable\n",
    "x"
   ]
  },
  {
   "cell_type": "markdown",
   "id": "239a8fac",
   "metadata": {},
   "source": [
    "# 3.2.2 dependent Variable"
   ]
  },
  {
   "cell_type": "code",
   "execution_count": 79,
   "id": "89ab41a4",
   "metadata": {},
   "outputs": [],
   "source": [
    "y=df[['Price']]"
   ]
  },
  {
   "cell_type": "code",
   "execution_count": 80,
   "id": "7c304cb2",
   "metadata": {},
   "outputs": [
    {
     "data": {
      "text/html": [
       "<div>\n",
       "<style scoped>\n",
       "    .dataframe tbody tr th:only-of-type {\n",
       "        vertical-align: middle;\n",
       "    }\n",
       "\n",
       "    .dataframe tbody tr th {\n",
       "        vertical-align: top;\n",
       "    }\n",
       "\n",
       "    .dataframe thead th {\n",
       "        text-align: right;\n",
       "    }\n",
       "</style>\n",
       "<table border=\"1\" class=\"dataframe\">\n",
       "  <thead>\n",
       "    <tr style=\"text-align: right;\">\n",
       "      <th></th>\n",
       "      <th>Price</th>\n",
       "    </tr>\n",
       "  </thead>\n",
       "  <tbody>\n",
       "    <tr>\n",
       "      <th>0</th>\n",
       "      <td>7400000.0</td>\n",
       "    </tr>\n",
       "    <tr>\n",
       "      <th>1</th>\n",
       "      <td>1065000.0</td>\n",
       "    </tr>\n",
       "    <tr>\n",
       "      <th>2</th>\n",
       "      <td>9300000.0</td>\n",
       "    </tr>\n",
       "    <tr>\n",
       "      <th>3</th>\n",
       "      <td>2375000.0</td>\n",
       "    </tr>\n",
       "    <tr>\n",
       "      <th>4</th>\n",
       "      <td>2600000.0</td>\n",
       "    </tr>\n",
       "    <tr>\n",
       "      <th>...</th>\n",
       "      <td>...</td>\n",
       "    </tr>\n",
       "    <tr>\n",
       "      <th>80567</th>\n",
       "      <td>750000.0</td>\n",
       "    </tr>\n",
       "    <tr>\n",
       "      <th>80568</th>\n",
       "      <td>1480000.0</td>\n",
       "    </tr>\n",
       "    <tr>\n",
       "      <th>80569</th>\n",
       "      <td>2700000.0</td>\n",
       "    </tr>\n",
       "    <tr>\n",
       "      <th>80570</th>\n",
       "      <td>600000.0</td>\n",
       "    </tr>\n",
       "    <tr>\n",
       "      <th>80571</th>\n",
       "      <td>2620000.0</td>\n",
       "    </tr>\n",
       "  </tbody>\n",
       "</table>\n",
       "<p>80572 rows × 1 columns</p>\n",
       "</div>"
      ],
      "text/plain": [
       "           Price\n",
       "0      7400000.0\n",
       "1      1065000.0\n",
       "2      9300000.0\n",
       "3      2375000.0\n",
       "4      2600000.0\n",
       "...          ...\n",
       "80567   750000.0\n",
       "80568  1480000.0\n",
       "80569  2700000.0\n",
       "80570   600000.0\n",
       "80571  2620000.0\n",
       "\n",
       "[80572 rows x 1 columns]"
      ]
     },
     "execution_count": 80,
     "metadata": {},
     "output_type": "execute_result"
    }
   ],
   "source": [
    "y"
   ]
  },
  {
   "cell_type": "markdown",
   "id": "28f89287",
   "metadata": {},
   "source": [
    "# 4 Data Visualization"
   ]
  },
  {
   "cell_type": "code",
   "execution_count": 190,
   "id": "97d42b2f",
   "metadata": {},
   "outputs": [
    {
     "name": "stderr",
     "output_type": "stream",
     "text": [
      "C:\\Users\\Acer\\anaconda3\\lib\\site-packages\\seaborn\\_decorators.py:36: FutureWarning: Pass the following variables as keyword args: x, y. From version 0.12, the only valid positional argument will be `data`, and passing other arguments without an explicit keyword will result in an error or misinterpretation.\n",
      "  warnings.warn(\n"
     ]
    },
    {
     "data": {
      "text/plain": [
       "<AxesSubplot:xlabel='Make_Year', ylabel='Make_label'>"
      ]
     },
     "execution_count": 190,
     "metadata": {},
     "output_type": "execute_result"
    },
    {
     "data": {
      "image/png": "[encoded data removed]",
      "text/plain": [
       "<Figure size 432x288 with 1 Axes>"
      ]
     },
     "metadata": {},
     "output_type": "display_data"
    }
   ],
   "source": [
    "sns.barplot(df['Make_Year'], df['Make_label'])"
   ]
  },
  {
   "cell_type": "code",
   "execution_count": 191,
   "id": "74f56a15",
   "metadata": {
    "scrolled": true
   },
   "outputs": [
    {
     "name": "stderr",
     "output_type": "stream",
     "text": [
      "C:\\Users\\Acer\\anaconda3\\lib\\site-packages\\seaborn\\distributions.py:2619: FutureWarning: `distplot` is a deprecated function and will be removed in a future version. Please adapt your code to use either `displot` (a figure-level function with similar flexibility) or `histplot` (an axes-level function for histograms).\n",
      "  warnings.warn(msg, FutureWarning)\n"
     ]
    },
    {
     "data": {
      "text/plain": [
       "<AxesSubplot:xlabel='Make_Year', ylabel='Density'>"
      ]
     },
     "execution_count": 191,
     "metadata": {},
     "output_type": "execute_result"
    },
    {
     "data": {
      "image/png": "[encoded data removed]",
      "text/plain": [
       "<Figure size 432x288 with 1 Axes>"
      ]
     },
     "metadata": {},
     "output_type": "display_data"
    }
   ],
   "source": [
    "sns.distplot(df['Make_Year'])"
   ]
  },
  {
   "cell_type": "code",
   "execution_count": 192,
   "id": "578b35bb",
   "metadata": {},
   "outputs": [
    {
     "name": "stderr",
     "output_type": "stream",
     "text": [
      "C:\\Users\\Acer\\anaconda3\\lib\\site-packages\\seaborn\\distributions.py:2619: FutureWarning: `distplot` is a deprecated function and will be removed in a future version. Please adapt your code to use either `displot` (a figure-level function with similar flexibility) or `histplot` (an axes-level function for histograms).\n",
      "  warnings.warn(msg, FutureWarning)\n"
     ]
    },
    {
     "data": {
      "text/plain": [
       "<AxesSubplot:xlabel='CC', ylabel='Density'>"
      ]
     },
     "execution_count": 192,
     "metadata": {},
     "output_type": "execute_result"
    },
    {
     "data": {
      "image/png": "[encoded data removed]",
      "text/plain": [
       "<Figure size 432x288 with 1 Axes>"
      ]
     },
     "metadata": {},
     "output_type": "display_data"
    }
   ],
   "source": [
    "sns.distplot(df['CC'])"
   ]
  },
  {
   "cell_type": "code",
   "execution_count": 193,
   "id": "f779245b",
   "metadata": {
    "scrolled": true
   },
   "outputs": [
    {
     "name": "stderr",
     "output_type": "stream",
     "text": [
      "C:\\Users\\Acer\\anaconda3\\lib\\site-packages\\seaborn\\distributions.py:2619: FutureWarning: `distplot` is a deprecated function and will be removed in a future version. Please adapt your code to use either `displot` (a figure-level function with similar flexibility) or `histplot` (an axes-level function for histograms).\n",
      "  warnings.warn(msg, FutureWarning)\n"
     ]
    },
    {
     "data": {
      "text/plain": [
       "<AxesSubplot:xlabel='Make_label', ylabel='Density'>"
      ]
     },
     "execution_count": 193,
     "metadata": {},
     "output_type": "execute_result"
    },
    {
     "data": {
      "image/png": "[encoded data removed]",
      "text/plain": [
       "<Figure size 432x288 with 1 Axes>"
      ]
     },
     "metadata": {},
     "output_type": "display_data"
    }
   ],
   "source": [
    "sns.distplot(df['Make_label'])"
   ]
  },
  {
   "cell_type": "code",
   "execution_count": 194,
   "id": "375a7df9",
   "metadata": {},
   "outputs": [
    {
     "name": "stderr",
     "output_type": "stream",
     "text": [
      "C:\\Users\\Acer\\anaconda3\\lib\\site-packages\\seaborn\\_decorators.py:36: FutureWarning: Pass the following variables as keyword args: x, y. From version 0.12, the only valid positional argument will be `data`, and passing other arguments without an explicit keyword will result in an error or misinterpretation.\n",
      "  warnings.warn(\n"
     ]
    },
    {
     "data": {
      "text/plain": [
       "<seaborn.axisgrid.JointGrid at 0x17ce309b6d0>"
      ]
     },
     "execution_count": 194,
     "metadata": {},
     "output_type": "execute_result"
    },
    {
     "data": {
      "image/png": "[encoded data removed]",
      "text/plain": [
       "<Figure size 432x432 with 3 Axes>"
      ]
     },
     "metadata": {},
     "output_type": "display_data"
    }
   ],
   "source": [
    "sns.jointplot(df['Make_Year'], df['CC'])"
   ]
  },
  {
   "cell_type": "code",
   "execution_count": 195,
   "id": "f86b87fd",
   "metadata": {
    "scrolled": true
   },
   "outputs": [
    {
     "name": "stderr",
     "output_type": "stream",
     "text": [
      "C:\\Users\\Acer\\anaconda3\\lib\\site-packages\\seaborn\\_decorators.py:36: FutureWarning: Pass the following variables as keyword args: x, y. From version 0.12, the only valid positional argument will be `data`, and passing other arguments without an explicit keyword will result in an error or misinterpretation.\n",
      "  warnings.warn(\n"
     ]
    },
    {
     "data": {
      "text/plain": [
       "<seaborn.axisgrid.JointGrid at 0x17ce308c700>"
      ]
     },
     "execution_count": 195,
     "metadata": {},
     "output_type": "execute_result"
    },
    {
     "data": {
      "image/png": "[encoded data removed]",
      "text/plain": [
       "<Figure size 432x432 with 3 Axes>"
      ]
     },
     "metadata": {},
     "output_type": "display_data"
    }
   ],
   "source": [
    "sns.jointplot(df['Make_Year'], df['Make_label'])"
   ]
  },
  {
   "cell_type": "code",
   "execution_count": null,
   "id": "2f45f3f5",
   "metadata": {},
   "outputs": [
    {
     "name": "stderr",
     "output_type": "stream",
     "text": [
      "C:\\Users\\Acer\\anaconda3\\lib\\site-packages\\seaborn\\_decorators.py:36: FutureWarning: Pass the following variables as keyword args: x, y. From version 0.12, the only valid positional argument will be `data`, and passing other arguments without an explicit keyword will result in an error or misinterpretation.\n",
      "  warnings.warn(\n"
     ]
    }
   ],
   "source": [
    "sns.jointplot(df['Price'], df['Make_label'])"
   ]
  },
  {
   "cell_type": "code",
   "execution_count": null,
   "id": "1345e986",
   "metadata": {},
   "outputs": [],
   "source": [
    "sns.jointplot(df[''], df[''], kind=\"hex\")"
   ]
  },
  {
   "cell_type": "code",
   "execution_count": null,
   "id": "64435238",
   "metadata": {},
   "outputs": [],
   "source": [
    "sns.jointplot(df[''], df[''], kind=\"hkde\")"
   ]
  },
  {
   "cell_type": "code",
   "execution_count": null,
   "id": "c66cca33",
   "metadata": {},
   "outputs": [],
   "source": [
    "\n",
    "sns.pairplot(df[['', '', '']])"
   ]
  },
  {
   "cell_type": "code",
   "execution_count": null,
   "id": "db61596f",
   "metadata": {},
   "outputs": [],
   "source": [
    "#for categorical data \n",
    "sns.stripplot(df[''],df[''])"
   ]
  },
  {
   "cell_type": "code",
   "execution_count": null,
   "id": "4434ae33",
   "metadata": {},
   "outputs": [],
   "source": [
    "sns.stripplot(df[''],df[''],)"
   ]
  },
  {
   "cell_type": "markdown",
   "id": "05431e75",
   "metadata": {},
   "source": [
    "# Step 4 - Training the model"
   ]
  },
  {
   "cell_type": "code",
   "execution_count": 81,
   "id": "01c0eb17",
   "metadata": {},
   "outputs": [],
   "source": [
    "#creating a linear regression object\n",
    "model = LinearRegression()\n"
   ]
  },
  {
   "cell_type": "code",
   "execution_count": 82,
   "id": "5a63c746",
   "metadata": {},
   "outputs": [
    {
     "data": {
      "text/plain": [
       "Index(['Model', 'Version', 'Price', 'Make_Year', 'CC', 'Mileage',\n",
       "       'Registered City', 'Make_label', 'Adam', 'Audi', 'BMW', 'Bentley',\n",
       "       'Buick', 'Cadillac', 'Changan', 'Chery', 'Chevrolet', 'Chrysler',\n",
       "       'Citroen', 'DFSK', 'Daehan', 'Daewoo', 'Daihatsu', 'Datsun', 'Dodge',\n",
       "       'Dongfeng', 'FAW', 'Fiat', 'Ford', 'GMC', 'Geely', 'Golden', 'Hino',\n",
       "       'Honda', 'Hummer', 'Hyundai', 'Isuzu', 'JAC', 'JMC', 'JW', 'Jaguar',\n",
       "       'Jeep', 'Jinbei', 'KIA', 'Land', 'Lexus', 'MG', 'MINI', 'Master',\n",
       "       'Mazda', 'Mercedes', 'Mitsubishi', 'Nissan', 'Others', 'Peugeot',\n",
       "       'Plymouth', 'Porsche', 'Prince', 'Proton', 'Range', 'Renault', 'Roma',\n",
       "       'Rover', 'Sogo', 'Sokon', 'SsangYong', 'Subaru', 'Suzuki', 'Tesla',\n",
       "       'Toyota', 'United', 'Volkswagen', 'Volvo', 'ZOTYE', 'Assembly_label',\n",
       "       'Imported', 'Local', 'Transmission_label', 'Automatic', 'Manual'],\n",
       "      dtype='object')"
      ]
     },
     "execution_count": 82,
     "metadata": {},
     "output_type": "execute_result"
    }
   ],
   "source": [
    "df.columns"
   ]
  },
  {
   "cell_type": "code",
   "execution_count": 87,
   "id": "78ed2d13",
   "metadata": {
    "scrolled": true
   },
   "outputs": [
    {
     "data": {
      "text/plain": [
       "LinearRegression()"
      ]
     },
     "execution_count": 87,
     "metadata": {},
     "output_type": "execute_result"
    }
   ],
   "source": [
    "#model.fit(x,y)values\n",
    "model.fit(df[['Make_Year', 'CC', 'Make_label']], df['Price'])"
   ]
  },
  {
   "cell_type": "code",
   "execution_count": 88,
   "id": "58e5cadd",
   "metadata": {},
   "outputs": [
    {
     "data": {
      "text/plain": [
       "array([4694605.98052377])"
      ]
     },
     "execution_count": 88,
     "metadata": {},
     "output_type": "execute_result"
    }
   ],
   "source": [
    "#making prediction 1\n",
    "#model.predict([[x1, x2, x3]])\n",
    "\n",
    "model.predict([[2019, 1800, 1 ]])"
   ]
  },
  {
   "cell_type": "code",
   "execution_count": 89,
   "id": "a380bc2b",
   "metadata": {},
   "outputs": [
    {
     "data": {
      "text/plain": [
       "array([4704389.28555781])"
      ]
     },
     "execution_count": 89,
     "metadata": {},
     "output_type": "execute_result"
    }
   ],
   "source": [
    "model.predict([[2019, 1800, 3 ]])"
   ]
  },
  {
   "cell_type": "code",
   "execution_count": 90,
   "id": "021f808e",
   "metadata": {},
   "outputs": [
    {
     "data": {
      "text/plain": [
       "0.4630859449841035"
      ]
     },
     "execution_count": 90,
     "metadata": {},
     "output_type": "execute_result"
    }
   ],
   "source": [
    "#checking the accuracy of the model\n",
    "#model.score(x,y)\n",
    "\n",
    "model.score(df[['Make_Year', 'CC', 'Make_label']], df['Price'])"
   ]
  },
  {
   "cell_type": "code",
   "execution_count": null,
   "id": "b183621f",
   "metadata": {},
   "outputs": [],
   "source": []
  },
  {
   "cell_type": "code",
   "execution_count": null,
   "id": "87537d47",
   "metadata": {},
   "outputs": [],
   "source": []
  },
  {
   "cell_type": "code",
   "execution_count": null,
   "id": "62127875",
   "metadata": {},
   "outputs": [],
   "source": []
  },
  {
   "cell_type": "code",
   "execution_count": null,
   "id": "53227194",
   "metadata": {},
   "outputs": [],
   "source": []
  },
  {
   "cell_type": "code",
   "execution_count": null,
   "id": "447295b8",
   "metadata": {},
   "outputs": [],
   "source": []
  },
  {
   "cell_type": "code",
   "execution_count": null,
   "id": "a1becf32",
   "metadata": {},
   "outputs": [],
   "source": []
  },
  {
   "cell_type": "code",
   "execution_count": null,
   "id": "bf558f47",
   "metadata": {},
   "outputs": [],
   "source": []
  }
 ],
 "metadata": {
  "kernelspec": {
   "display_name": "Python 3 (ipykernel)",
   "language": "python",
   "name": "python3"
  },
  "language_info": {
   "codemirror_mode": {
    "name": "ipython",
    "version": 3
   },
   "file_extension": ".py",
   "mimetype": "text/x-python",
   "name": "python",
   "nbconvert_exporter": "python",
   "pygments_lexer": "ipython3",
   "version": "3.9.7"
  }
 },
 "nbformat": 4,
 "nbformat_minor": 5
}
