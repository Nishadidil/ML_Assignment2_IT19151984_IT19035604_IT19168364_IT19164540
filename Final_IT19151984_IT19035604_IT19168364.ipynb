{
 "cells": [
  {
   "cell_type": "markdown",
   "id": "47538c9a",
   "metadata": {},
   "source": [
    "# 1 Import dependencies"
   ]
  },
  {
   "cell_type": "code",
   "execution_count": 1,
   "id": "a62e1158",
   "metadata": {},
   "outputs": [],
   "source": [
    "#import libraries\n",
    "import pandas as pd\n",
    "import numpy as np\n",
    "import seaborn as sns\n",
    "sns.set(color_codes=True)\n",
    "import os\n",
    "import matplotlib.pyplot as plt\n",
    "#encoder dataset\n",
    "from sklearn.preprocessing import LabelEncoder\n",
    "#devide dataset using train and test\n",
    "from sklearn.model_selection import train_test_split\n",
    "#standardScalern\n",
    "from sklearn.preprocessing import StandardScaler\n",
    "#minmaxScaler\n",
    "from sklearn.preprocessing import MinMaxScaler\n",
    "#for create model\n",
    "from sklearn.linear_model import LinearRegression\n",
    "from sklearn.linear_model import Lasso\n",
    "from sklearn import metrics"
   ]
  },
  {
   "cell_type": "code",
   "execution_count": 2,
   "id": "1fb580d4",
   "metadata": {},
   "outputs": [
    {
     "name": "stdout",
     "output_type": "stream",
     "text": [
      "['.ipynb_checkpoints', 'Assignment2.ipynb', 'Assignment2Final.ipynb', 'Used_car_prices_in_Pakistan 2021_rawD.csv']\n"
     ]
    }
   ],
   "source": [
    "#print names of files in ML_assignment folder\n",
    "print(os.listdir())"
   ]
  },
  {
   "cell_type": "markdown",
   "id": "7a151f85",
   "metadata": {},
   "source": [
    "# 2 Import and identify dataset"
   ]
  },
  {
   "cell_type": "code",
   "execution_count": 11,
   "id": "5e0e11fc",
   "metadata": {},
   "outputs": [],
   "source": [
    "#import data-set\n",
    "dfUsedCar = pd.read_csv(\"Used_car_prices_in_Pakistan 2021_rawD.csv\")"
   ]
  },
  {
   "cell_type": "code",
   "execution_count": 12,
   "id": "051b35e7",
   "metadata": {},
   "outputs": [
    {
     "data": {
      "text/html": [
       "<div>\n",
       "<style scoped>\n",
       "    .dataframe tbody tr th:only-of-type {\n",
       "        vertical-align: middle;\n",
       "    }\n",
       "\n",
       "    .dataframe tbody tr th {\n",
       "        vertical-align: top;\n",
       "    }\n",
       "\n",
       "    .dataframe thead th {\n",
       "        text-align: right;\n",
       "    }\n",
       "</style>\n",
       "<table border=\"1\" class=\"dataframe\">\n",
       "  <thead>\n",
       "    <tr style=\"text-align: right;\">\n",
       "      <th></th>\n",
       "      <th>Make</th>\n",
       "      <th>Model</th>\n",
       "      <th>Version</th>\n",
       "      <th>Price</th>\n",
       "      <th>Make_Year</th>\n",
       "      <th>CC</th>\n",
       "      <th>Assembly</th>\n",
       "      <th>Mileage</th>\n",
       "      <th>Registered City</th>\n",
       "      <th>Transmission</th>\n",
       "    </tr>\n",
       "  </thead>\n",
       "  <tbody>\n",
       "    <tr>\n",
       "      <th>0</th>\n",
       "      <td>Honda</td>\n",
       "      <td>Insight</td>\n",
       "      <td>NaN</td>\n",
       "      <td>7400000.0</td>\n",
       "      <td>2019</td>\n",
       "      <td>1500</td>\n",
       "      <td>Imported</td>\n",
       "      <td>2000</td>\n",
       "      <td>Un-Registered</td>\n",
       "      <td>Automatic</td>\n",
       "    </tr>\n",
       "    <tr>\n",
       "      <th>1</th>\n",
       "      <td>Mitsubishi</td>\n",
       "      <td>Minica</td>\n",
       "      <td>Black Minica</td>\n",
       "      <td>1065000.0</td>\n",
       "      <td>2019</td>\n",
       "      <td>660</td>\n",
       "      <td>Imported</td>\n",
       "      <td>68000</td>\n",
       "      <td>Lahore</td>\n",
       "      <td>Automatic</td>\n",
       "    </tr>\n",
       "    <tr>\n",
       "      <th>2</th>\n",
       "      <td>Audi</td>\n",
       "      <td>A6</td>\n",
       "      <td>1.8 TFSI Business Class Edition</td>\n",
       "      <td>9300000.0</td>\n",
       "      <td>2015</td>\n",
       "      <td>1800</td>\n",
       "      <td>Local</td>\n",
       "      <td>70000</td>\n",
       "      <td>Lahore</td>\n",
       "      <td>Automatic</td>\n",
       "    </tr>\n",
       "    <tr>\n",
       "      <th>3</th>\n",
       "      <td>Toyota</td>\n",
       "      <td>Aqua</td>\n",
       "      <td>G</td>\n",
       "      <td>2375000.0</td>\n",
       "      <td>2014</td>\n",
       "      <td>1500</td>\n",
       "      <td>Imported</td>\n",
       "      <td>99900</td>\n",
       "      <td>Islamabad</td>\n",
       "      <td>Automatic</td>\n",
       "    </tr>\n",
       "    <tr>\n",
       "      <th>4</th>\n",
       "      <td>Honda</td>\n",
       "      <td>City</td>\n",
       "      <td>1.3 i-VTEC</td>\n",
       "      <td>2600000.0</td>\n",
       "      <td>2017</td>\n",
       "      <td>1300</td>\n",
       "      <td>Local</td>\n",
       "      <td>55000</td>\n",
       "      <td>Islamabad</td>\n",
       "      <td>Manual</td>\n",
       "    </tr>\n",
       "  </tbody>\n",
       "</table>\n",
       "</div>"
      ],
      "text/plain": [
       "         Make    Model                          Version      Price  Make_Year  \\\n",
       "0       Honda  Insight                              NaN  7400000.0       2019   \n",
       "1  Mitsubishi   Minica                     Black Minica  1065000.0       2019   \n",
       "2        Audi       A6  1.8 TFSI Business Class Edition  9300000.0       2015   \n",
       "3      Toyota     Aqua                                G  2375000.0       2014   \n",
       "4       Honda     City                       1.3 i-VTEC  2600000.0       2017   \n",
       "\n",
       "     CC  Assembly  Mileage Registered City Transmission  \n",
       "0  1500  Imported     2000   Un-Registered    Automatic  \n",
       "1   660  Imported    68000          Lahore    Automatic  \n",
       "2  1800     Local    70000          Lahore    Automatic  \n",
       "3  1500  Imported    99900       Islamabad    Automatic  \n",
       "4  1300     Local    55000       Islamabad       Manual  "
      ]
     },
     "execution_count": 12,
     "metadata": {},
     "output_type": "execute_result"
    }
   ],
   "source": [
    "#first five rows\n",
    "dfUsedCar.head()"
   ]
  },
  {
   "cell_type": "code",
   "execution_count": 13,
   "id": "d3b85f80",
   "metadata": {},
   "outputs": [
    {
     "data": {
      "text/html": [
       "<div>\n",
       "<style scoped>\n",
       "    .dataframe tbody tr th:only-of-type {\n",
       "        vertical-align: middle;\n",
       "    }\n",
       "\n",
       "    .dataframe tbody tr th {\n",
       "        vertical-align: top;\n",
       "    }\n",
       "\n",
       "    .dataframe thead th {\n",
       "        text-align: right;\n",
       "    }\n",
       "</style>\n",
       "<table border=\"1\" class=\"dataframe\">\n",
       "  <thead>\n",
       "    <tr style=\"text-align: right;\">\n",
       "      <th></th>\n",
       "      <th>Make</th>\n",
       "      <th>Model</th>\n",
       "      <th>Version</th>\n",
       "      <th>Price</th>\n",
       "      <th>Make_Year</th>\n",
       "      <th>CC</th>\n",
       "      <th>Assembly</th>\n",
       "      <th>Mileage</th>\n",
       "      <th>Registered City</th>\n",
       "      <th>Transmission</th>\n",
       "    </tr>\n",
       "  </thead>\n",
       "  <tbody>\n",
       "    <tr>\n",
       "      <th>80567</th>\n",
       "      <td>Suzuki</td>\n",
       "      <td>Bolan</td>\n",
       "      <td>NaN</td>\n",
       "      <td>750000.0</td>\n",
       "      <td>2015</td>\n",
       "      <td>800</td>\n",
       "      <td>Local</td>\n",
       "      <td>98000</td>\n",
       "      <td>Lahore</td>\n",
       "      <td>Manual</td>\n",
       "    </tr>\n",
       "    <tr>\n",
       "      <th>80568</th>\n",
       "      <td>Suzuki</td>\n",
       "      <td>Alto</td>\n",
       "      <td>VXR</td>\n",
       "      <td>1480000.0</td>\n",
       "      <td>2020</td>\n",
       "      <td>660</td>\n",
       "      <td>Local</td>\n",
       "      <td>7800</td>\n",
       "      <td>Karachi</td>\n",
       "      <td>Manual</td>\n",
       "    </tr>\n",
       "    <tr>\n",
       "      <th>80569</th>\n",
       "      <td>Toyota</td>\n",
       "      <td>Corolla</td>\n",
       "      <td>GLi Automatic 1.3 VVTi</td>\n",
       "      <td>2700000.0</td>\n",
       "      <td>2016</td>\n",
       "      <td>1300</td>\n",
       "      <td>Local</td>\n",
       "      <td>81000</td>\n",
       "      <td>Islamabad</td>\n",
       "      <td>Automatic</td>\n",
       "    </tr>\n",
       "    <tr>\n",
       "      <th>80570</th>\n",
       "      <td>FAW</td>\n",
       "      <td>X-PV</td>\n",
       "      <td>Standard</td>\n",
       "      <td>600000.0</td>\n",
       "      <td>2013</td>\n",
       "      <td>1000</td>\n",
       "      <td>Local</td>\n",
       "      <td>2</td>\n",
       "      <td>Lahore</td>\n",
       "      <td>Manual</td>\n",
       "    </tr>\n",
       "    <tr>\n",
       "      <th>80571</th>\n",
       "      <td>Honda</td>\n",
       "      <td>Civic</td>\n",
       "      <td>VTi Prosmatec 1.8 i-VTEC</td>\n",
       "      <td>2620000.0</td>\n",
       "      <td>2013</td>\n",
       "      <td>1800</td>\n",
       "      <td>Imported</td>\n",
       "      <td>100000</td>\n",
       "      <td>Islamabad</td>\n",
       "      <td>Automatic</td>\n",
       "    </tr>\n",
       "  </tbody>\n",
       "</table>\n",
       "</div>"
      ],
      "text/plain": [
       "         Make    Model                   Version      Price  Make_Year    CC  \\\n",
       "80567  Suzuki    Bolan                       NaN   750000.0       2015   800   \n",
       "80568  Suzuki     Alto                       VXR  1480000.0       2020   660   \n",
       "80569  Toyota  Corolla    GLi Automatic 1.3 VVTi  2700000.0       2016  1300   \n",
       "80570     FAW     X-PV                  Standard   600000.0       2013  1000   \n",
       "80571   Honda    Civic  VTi Prosmatec 1.8 i-VTEC  2620000.0       2013  1800   \n",
       "\n",
       "       Assembly  Mileage Registered City Transmission  \n",
       "80567     Local    98000          Lahore       Manual  \n",
       "80568     Local     7800         Karachi       Manual  \n",
       "80569     Local    81000       Islamabad    Automatic  \n",
       "80570     Local        2          Lahore       Manual  \n",
       "80571  Imported   100000       Islamabad    Automatic  "
      ]
     },
     "execution_count": 13,
     "metadata": {},
     "output_type": "execute_result"
    }
   ],
   "source": [
    "#last five rows\n",
    "dfUsedCar.tail()"
   ]
  },
  {
   "cell_type": "code",
   "execution_count": 14,
   "id": "11660508",
   "metadata": {},
   "outputs": [
    {
     "data": {
      "text/plain": [
       "(80572, 10)"
      ]
     },
     "execution_count": 14,
     "metadata": {},
     "output_type": "execute_result"
    }
   ],
   "source": [
    "#shape of the dataset(number of rows and columns)\n",
    "dfUsedCar.shape"
   ]
  },
  {
   "cell_type": "code",
   "execution_count": 15,
   "id": "0b31f578",
   "metadata": {},
   "outputs": [
    {
     "name": "stdout",
     "output_type": "stream",
     "text": [
      "<class 'pandas.core.frame.DataFrame'>\n",
      "RangeIndex: 80572 entries, 0 to 80571\n",
      "Data columns (total 10 columns):\n",
      " #   Column           Non-Null Count  Dtype \n",
      "---  ------           --------------  ----- \n",
      " 0   Make             80572 non-null  object\n",
      " 1   Model            80572 non-null  object\n",
      " 2   Version          73800 non-null  object\n",
      " 3   Price            80572 non-null  object\n",
      " 4   Make_Year        80572 non-null  int64 \n",
      " 5   CC               80572 non-null  int64 \n",
      " 6   Assembly         80572 non-null  object\n",
      " 7   Mileage          80572 non-null  int64 \n",
      " 8   Registered City  80572 non-null  object\n",
      " 9   Transmission     80572 non-null  object\n",
      "dtypes: int64(3), object(7)\n",
      "memory usage: 6.1+ MB\n"
     ]
    }
   ],
   "source": [
    "dfUsedCar.info()"
   ]
  },
  {
   "cell_type": "code",
   "execution_count": 16,
   "id": "0d5b079d",
   "metadata": {},
   "outputs": [
    {
     "name": "stdout",
     "output_type": "stream",
     "text": [
      "[nan 'Black Minica' '1.8 TFSI Business Class Edition' ... 'Trail 2.0 GT'\n",
      " '3' 'Wagon 20S']\n"
     ]
    }
   ],
   "source": [
    "print(dfUsedCar['Version'].unique())"
   ]
  },
  {
   "cell_type": "code",
   "execution_count": 17,
   "id": "846ac9c7",
   "metadata": {},
   "outputs": [
    {
     "name": "stdout",
     "output_type": "stream",
     "text": [
      "[ 1500   660  1800  1300  1000  1600  3000   800  2000  2800  2500  3400\n",
      "  2700  4600  4200  4700  4000  5000  1200  3500  2400  4608  5700  3200\n",
      "  4400  2100  8494     1  2200   700   100  2900   123     6  1400  1900\n",
      "  4500  1700  2300  1100  5500    30   860  3342  3300   125  2600  3700\n",
      "  4800    45  5663 10000    28  4300   300  5552  3600   950  4100   900\n",
      "  6200   600  5539  3378  2890     5   350   130  1699  6000   890  4663\n",
      "    16  1111  4164  3800  7000    12   880    13     7   598  4760  3724\n",
      "  2928  6500   930   898  4461   897   750  2185  2184  6600  6300   887\n",
      "  2222  1122  5300  3311  3224   933  3450  5600  3950   749  5200  2268\n",
      "  5379  4476  3883  2599  3900]\n"
     ]
    }
   ],
   "source": [
    "print(dfUsedCar['CC'].unique())"
   ]
  },
  {
   "cell_type": "code",
   "execution_count": 18,
   "id": "d735cf16",
   "metadata": {},
   "outputs": [
    {
     "name": "stdout",
     "output_type": "stream",
     "text": [
      "['Imported' 'Local']\n"
     ]
    }
   ],
   "source": [
    "print(dfUsedCar['Assembly'].unique())"
   ]
  },
  {
   "cell_type": "code",
   "execution_count": 19,
   "id": "33dbc0ac",
   "metadata": {},
   "outputs": [
    {
     "name": "stdout",
     "output_type": "stream",
     "text": [
      "[  2000  68000  70000 ...  16605 146100   7745]\n"
     ]
    }
   ],
   "source": [
    "print(dfUsedCar['Mileage'].unique())"
   ]
  },
  {
   "cell_type": "code",
   "execution_count": 20,
   "id": "f8d70db8",
   "metadata": {},
   "outputs": [
    {
     "name": "stdout",
     "output_type": "stream",
     "text": [
      "['Un-Registered' 'Lahore' 'Islamabad' 'Karachi' 'Faisalabad' 'Multan'\n",
      " 'Gujranwala' 'Rawalpindi' 'Abottabad' 'Peshawar' 'Sialkot' 'Mirpur A.K.'\n",
      " 'Vehari' 'Bahawalpur' 'Hyderabad' 'Quetta' 'Other' 'Jhang' 'Lodhran'\n",
      " 'Okara' 'Sara-E-Alamgir' 'Jehlum' 'Narowal' 'Mian Channu' 'Bahawal Nagar'\n",
      " 'Gujrat' 'Toba Tek Singh' 'Swat' 'Lower Dir' 'Abdul Hakeem' 'Shaikhupura'\n",
      " 'Mansahra' 'Jacobabad' 'D.G.Khan' 'Chakwal' 'Dera ismail khan'\n",
      " 'Wah cantt' 'Sargodha' 'Attock' 'Sahiwal' 'Khanewal' 'Rahim Yar Khan'\n",
      " 'Mardan' 'Chiniot' 'Kharian' 'Dunia Pur' 'Kohat' 'Depal pur'\n",
      " 'Mandi bahauddin' 'Hari pur' 'Sukkur' 'Kotly Ak' 'Muzaffarabad'\n",
      " 'Muzaffar Gargh' 'Chishtian' 'Daska' 'Lasbella' 'Haroonabad' 'Shikar pur'\n",
      " 'Panjan kisan' 'Bhakkar' 'Kashmir' 'Nawabshah' 'Mirpur khas'\n",
      " 'Nowshera cantt' 'Hafizabad' 'Burewala' 'Dir' 'Rawala kot' 'Badin'\n",
      " 'Bannu' 'Hassan abdal' 'Charsadda' 'Kallar Saddiyian' 'Fort Abbass'\n",
      " 'Raiwind' 'Iskandarabad' 'Bat khela' 'Muridkay' 'Liaqat Pur' 'Gujar Khan'\n",
      " 'Gilgit' 'Nankana sahib' 'Karak' 'Dina' 'Talagang' 'Sawabi'\n",
      " 'Adda shaiwala' 'Mian Wali' 'Tando Muhammad Khan' 'Wazirabad' 'Kamalia'\n",
      " 'Arifwala' 'Jamshoro' 'Layyah' 'Sibi' 'Pattoki' 'Bhera' 'Ghotki'\n",
      " 'Nowshera' 'Fateh Jang' 'Hujra Shah Mukeem' 'Gojra' 'Laki marwat'\n",
      " 'Umer Kot' 'Sambrial' 'Thatta' 'Shiekhopura' 'Renala khurd' 'Sohawa'\n",
      " 'Sanghi' 'Pak pattan sharif' 'Larkana' 'Tando Allah Yar' 'Murree'\n",
      " 'Dera murad jamali' 'Rajanpur' 'Kashmore' 'Ahmed Pur East' 'Hasilpur'\n",
      " 'Phalia' 'Khewra' 'Chichawatni' 'Kot radha kishan' 'Sadiqabad' 'Gambat'\n",
      " 'Ranipur' 'Kasur' 'Sanghar' 'Taxila' 'Shehdadpur' 'Bhimber' 'Hayatabad'\n",
      " 'Khushab' 'Akhora khattak' 'Phool nagar' 'Hala' 'Daulatpur' 'Jaranwala'\n",
      " 'Jauharabad' 'Jehangira' 'Babarloi' 'Kot addu' 'Melsi' 'Mehar'\n",
      " 'Bhirya road' 'Tandiliyawala' 'Chitral' 'Dadu' 'Dargai' 'Hazro' 'Chunian'\n",
      " 'Kamoke' 'Khurrianwala' 'Dadyal Ak' 'Malakand Agency' 'Mirpur mathelo'\n",
      " 'Kacha khooh' 'Chowk azam' 'Pir mahal' 'Yazman mandi' 'Shuja Abad'\n",
      " 'Rawat' 'Shakargarh' 'Bhalwal' 'Dinga' 'Jampur' 'Adda jahan khan'\n",
      " 'Gojar khan' 'Tando jam' 'Khair Pur Mirs' 'Karore lalisan'\n",
      " 'Sara e naurang' 'Moro' 'Khairpur' 'Shahpur chakar' 'Ahmedpur Lamma'\n",
      " 'Laliah' 'Madina' 'Shadiwal' 'Swatmingora' 'Warburton' 'Farooqabad'\n",
      " 'Sumandari' 'Jahaniya' 'Zafarwal' 'Allahabad']\n"
     ]
    }
   ],
   "source": [
    "print(dfUsedCar['Registered City'].unique())"
   ]
  },
  {
   "cell_type": "code",
   "execution_count": 21,
   "id": "9f6ba99a",
   "metadata": {},
   "outputs": [
    {
     "name": "stdout",
     "output_type": "stream",
     "text": [
      "['Automatic' 'Manual']\n"
     ]
    }
   ],
   "source": [
    "print(dfUsedCar['Transmission'].unique())"
   ]
  },
  {
   "cell_type": "code",
   "execution_count": 22,
   "id": "96ebfc6c",
   "metadata": {},
   "outputs": [
    {
     "name": "stdout",
     "output_type": "stream",
     "text": [
      "['Honda' 'Mitsubishi' 'Audi' 'Toyota' 'Daihatsu' 'Suzuki' 'MG' 'KIA'\n",
      " 'Hyundai' 'Land' 'Mercedes' 'Changan' 'Nissan' 'Subaru' 'Lexus' 'FAW'\n",
      " 'Range' 'Volkswagen' 'Chevrolet' 'Ford' 'Proton' 'BMW' 'Mazda' 'Isuzu'\n",
      " 'Adam' 'Others' 'United' 'Prince' 'Porsche' 'Daewoo' 'Chery' 'Daehan'\n",
      " 'Citroen' 'Hummer' 'Buick' 'Jeep' 'JAC' 'DFSK' 'JMC' 'JW' 'Tesla' 'ZOTYE'\n",
      " 'Datsun' 'Bentley' 'Master' 'Plymouth' 'Chrysler' 'Dodge' 'GMC' 'Sogo'\n",
      " 'Volvo' 'Hino' 'Fiat' 'Jaguar' 'Peugeot' 'SsangYong' 'Cadillac' 'MINI'\n",
      " 'Roma' 'Sokon' 'Jinbei' 'Golden' 'Renault' 'Dongfeng' 'Rover' 'Geely']\n"
     ]
    }
   ],
   "source": [
    "print(dfUsedCar['Make'].unique())\n"
   ]
  },
  {
   "cell_type": "code",
   "execution_count": 23,
   "id": "afd4bac7",
   "metadata": {},
   "outputs": [
    {
     "name": "stdout",
     "output_type": "stream",
     "text": [
      "[2019 2015 2014 2017 2011 2012 2006 2001 2008 2005 2007 2021 2018 2013\n",
      " 2009 2016 2004 2002 2010 1997 1995 2020 1993 2003 1994 2000 1998 1991\n",
      " 1992 1990 1996 1999]\n"
     ]
    }
   ],
   "source": [
    "print(dfUsedCar['Make_Year'].unique())"
   ]
  },
  {
   "cell_type": "code",
   "execution_count": 24,
   "id": "06bc41f6",
   "metadata": {},
   "outputs": [
    {
     "name": "stdout",
     "output_type": "stream",
     "text": [
      "['Insight' 'Minica' 'A6' 'Aqua' 'City' 'Hijet' 'Corolla' 'Cultus' 'Passo'\n",
      " 'Prius' 'Vitz' 'Belta' 'Civic' 'Hilux' 'Premio' 'Bolan' 'HS' 'Sportage'\n",
      " 'ZS' 'Vezel' 'Yaris' 'Elantra' 'Mira' 'Mehran' 'Boon' 'Sienta' 'Kei'\n",
      " 'Rover' 'Surf' 'Khyber' 'Fortuner' 'Alto' 'Benz' 'Land' 'Alsvin' 'Vitara'\n",
      " 'BR-V' 'Allion' 'Mega' 'Move' 'Cuore' 'Prado' 'Wagon' 'Mark' 'Swift'\n",
      " 'Ravi' 'Fit' 'Santro' 'Minicab' 'Cast' 'Mirage' 'Every' 'Otti' 'Stella'\n",
      " 'Life' 'Picanto' 'N' 'Dayz' 'Rush' 'e-tron' 'AD' 'Pajero' 'Grace' 'Note'\n",
      " 'RX' 'X-PV' 'Liana' 'Accord' 'A800' 'Terios' 'Tucson' 'A3' 'Other' 'Voxy'\n",
      " 'Hiace' 'Baleno' 'Clipper' 'Raum' 'LX' 'March' 'iQ' 'Up' 'Matiz' 'Lancer'\n",
      " 'C-HR' 'Platz' 'Ranger' 'Ek' 'I' 'Avanza' 'Crown' 'X70' 'F' 'Galant' '7'\n",
      " 'EK' 'Caravan' 'Potohar' 'Airwave' '3' 'Corona' 'L200' 'Pickup'\n",
      " 'Margalla' 'Rav4' 'Esse' 'Acty' 'Classic' 'MR' 'Pleo' 'Harrier' 'Flair'\n",
      " 'Navara' 'Vamos' 'NKR' 'Revo' 'Aygo' 'Camry' 'Karvaan' 'Spike' 'Coaster'\n",
      " '5' 'Joy' 'Noah' 'Estima' 'Cervo' 'Carrier' 'HR-V' 'Skyline' 'A5' 'Juke'\n",
      " 'Wingroad' 'X1' 'Bravo' 'Rvr' 'Jimny' 'Tanto' 'Pearl' 'Scrum' 'Freed'\n",
      " 'Porte' 'Hustler' 'Jade' 'Optra' 'Cefiro' 'X5' 'A4' 'Sunny' 'Kaghan'\n",
      " 'Rocky' 'Alphard' 'Cayenne' 'Racer' 'V2' 'Tiida' 'Wish' 'CR-Z' 'Ciaz'\n",
      " 'Dias' 'Q7' 'Stream' 'Grand' 'Moco' 'Sai' 'QQ' 'D-Max' 'Raize' 'Cedric'\n",
      " 'Shehzore' 'Sorento' 'Micra' 'Duet' 'H3' 'Pixis' 'CR-V' 'Tundra' 'APV'\n",
      " 'Midget' 'Charade' 'Chitral' 'Ferio' 'B2200' 'Wrangler' 'RX8' 'Esquire'\n",
      " 'S660' 'X200' 'Cressida' 'Tank' 'CT200h' 'Carry' 'Cross' 'Exclusive'\n",
      " 'Saga' 'Carol' 'Roox' 'Glory' 'Atrai' 'Copen' 'Alpha' 'Q3' 'Patrol'\n",
      " 'Spacia' 'New' 'Xbee' 'Taycan' 'Forland' 'Escudo' 'A8' 'Model' 'Sx4'\n",
      " 'Cx3' 'Z100' 'i8' '1' 'Probox' 'Safari' 'Excel' 'Q2' 'Demio' 'Wake'\n",
      " 'Cherry' 'Zest' 'Spectra' 'Sirius' 'Foton' 'Valiant' 'K07' 'Kix' 'Justy'\n",
      " 'CX70T' 'Santa' '300' 'Sj410' '6' 'i10' 'Pino' 'L300' 'Storia' 'Camaro'\n",
      " 'Aerio' 'M9' 'Fj' 'Town' 'Spark' 'Titan' 'Ram' 'Double' 'Gx' 'Cherokee'\n",
      " '1300' 'Avensis' 'Kizashi' 'Golf' 'Azwagon' 'Z4' 'Thats' 'Macan'\n",
      " 'Domingo' 'Gen' 'Ractis' '500' 'Sonata' 'Palette' 'Beetle' 'Cami'\n",
      " 'Sonica' 'Bluebird' 'Axela' 'Uno' 'Cielo' 'XF' '205' 'Aveo' 'Q5' 'ISIS'\n",
      " '350Z' 'Pride' 'C37' 'Starlet' 'Blue' 'Lite' 'R2' 'Thor' 'Toppo' 'FX'\n",
      " 'Fiesta' 'Sambar' 'Shogun' 'Verossa' 'Rexton' 'Murrano' '309' 'Escalade'\n",
      " 'Cooper' 'Cr' 'Gilgit' 'M8' 'Celerio' 'Qashqai' 'Mobilio' 'Serena'\n",
      " 'Ignis' 'Samuari' 'Stavic' 'Kalam' 'Concerto' 'Kalash' 'Tacoma' 'IST'\n",
      " 'Succeed' 'Accent' 'Auris' 'X4' '86' 'Latio' 'K01' 'Forester' 'Path'\n",
      " 'Carisma' 'Shahbaz' 'Vigus' 'Celica' 'E' 'Cruze' 'Sierra' '120' 'Family'\n",
      " 'Mx5' 'B' 'Nitro' 'Van' 'Mini' 'MR2' 'Panamera' 'H-100' 'Is' 'Mutt'\n",
      " 'Vios' 'Cayman' 'X' 'Terracan' 'Mpv' 'Senya' 'H1' 'Colt' 'Nv350' 'Gaia'\n",
      " 'Silverado' 'Nova' 'Inspire' 'Nv200' 'Trooper' 'Urban' 'Touareg' 'Dualis'\n",
      " 'Beat' 'TAFT' 'T6' 'X7' 'Lucida' 'Rustom' 'Bongo' 'Dragon' 'Impreza'\n",
      " 'Outlander' 'Stinger' 'President' 'Sprinter' 'H2' '626' 'Bj212' 'Guru'\n",
      " 'Twin' 'S40' 'Jiaxing' 'Corvette' 'Sc' 'Triton' 'X3' 'Familia' 'M'\n",
      " 'Avalon' 'Shineray' 'FUSO' 'Cube' 'Vanguard' 'Ck' 'Atenza']\n"
     ]
    }
   ],
   "source": [
    "print(dfUsedCar['Model'].unique())"
   ]
  },
  {
   "cell_type": "markdown",
   "id": "7c189c30",
   "metadata": {},
   "source": [
    "# 3 Data Cleaning : Detecting NAN values"
   ]
  },
  {
   "cell_type": "code",
   "execution_count": 25,
   "id": "cfc25797",
   "metadata": {},
   "outputs": [
    {
     "data": {
      "text/plain": [
       "Make                  0\n",
       "Model                 0\n",
       "Version            6772\n",
       "Price                 0\n",
       "Make_Year             0\n",
       "CC                    0\n",
       "Assembly              0\n",
       "Mileage               0\n",
       "Registered City       0\n",
       "Transmission          0\n",
       "dtype: int64"
      ]
     },
     "execution_count": 25,
     "metadata": {},
     "output_type": "execute_result"
    }
   ],
   "source": [
    "#Number of null value\n",
    "dfUsedCar.isnull().sum()"
   ]
  },
  {
   "cell_type": "markdown",
   "id": "5588d03a",
   "metadata": {},
   "source": [
    "# 3.1 Detecting null values"
   ]
  },
  {
   "cell_type": "code",
   "execution_count": 26,
   "id": "d848773c",
   "metadata": {},
   "outputs": [],
   "source": [
    "missing_value=[\"NaN\",\"Call for price\",np.nan]\n",
    "dfUsedCar = pd.read_csv(\"Used_car_prices_in_Pakistan 2021_rawD.csv\", na_values=missing_value)"
   ]
  },
  {
   "cell_type": "code",
   "execution_count": 27,
   "id": "4dd8bb7a",
   "metadata": {},
   "outputs": [
    {
     "data": {
      "text/plain": [
       "Make               False\n",
       "Model              False\n",
       "Version             True\n",
       "Price               True\n",
       "Make_Year          False\n",
       "CC                 False\n",
       "Assembly           False\n",
       "Mileage            False\n",
       "Registered City    False\n",
       "Transmission       False\n",
       "dtype: bool"
      ]
     },
     "execution_count": 27,
     "metadata": {},
     "output_type": "execute_result"
    }
   ],
   "source": [
    "dfUsedCar.isnull().any()"
   ]
  },
  {
   "cell_type": "code",
   "execution_count": 28,
   "id": "cbb0215f",
   "metadata": {},
   "outputs": [
    {
     "data": {
      "text/plain": [
       "Make                  0\n",
       "Model                 0\n",
       "Version            6772\n",
       "Price              1209\n",
       "Make_Year             0\n",
       "CC                    0\n",
       "Assembly              0\n",
       "Mileage               0\n",
       "Registered City       0\n",
       "Transmission          0\n",
       "dtype: int64"
      ]
     },
     "execution_count": 28,
     "metadata": {},
     "output_type": "execute_result"
    }
   ],
   "source": [
    "#Number of null value\n",
    "dfUsedCar.isnull().sum()"
   ]
  },
  {
   "cell_type": "code",
   "execution_count": 29,
   "id": "308d94c2",
   "metadata": {},
   "outputs": [
    {
     "data": {
      "text/plain": [
       "Make               0.000000\n",
       "Model              0.000000\n",
       "Version            0.084049\n",
       "Price              0.015005\n",
       "Make_Year          0.000000\n",
       "CC                 0.000000\n",
       "Assembly           0.000000\n",
       "Mileage            0.000000\n",
       "Registered City    0.000000\n",
       "Transmission       0.000000\n",
       "dtype: float64"
      ]
     },
     "execution_count": 29,
     "metadata": {},
     "output_type": "execute_result"
    }
   ],
   "source": [
    "# Mean value % in null values\n",
    "dfUsedCar.isnull().mean()"
   ]
  },
  {
   "cell_type": "markdown",
   "id": "0caa8b75",
   "metadata": {},
   "source": [
    "# 3.2 Add mean value in 'version' variable to the null values"
   ]
  },
  {
   "cell_type": "code",
   "execution_count": 31,
   "id": "8f0be0a8",
   "metadata": {},
   "outputs": [
    {
     "data": {
      "text/plain": [
       "0    GLi 1.3 VVTi\n",
       "dtype: object"
      ]
     },
     "execution_count": 31,
     "metadata": {},
     "output_type": "execute_result"
    }
   ],
   "source": [
    "dfUsedCar['Version'].mode()\n"
   ]
  },
  {
   "cell_type": "code",
   "execution_count": 32,
   "id": "e45f5490",
   "metadata": {},
   "outputs": [],
   "source": [
    "dfUsedCar['Version'].fillna('GLi 1.3 VVTi', inplace=True)"
   ]
  },
  {
   "cell_type": "code",
   "execution_count": 33,
   "id": "98b72205",
   "metadata": {},
   "outputs": [
    {
     "data": {
      "text/plain": [
       "0"
      ]
     },
     "execution_count": 33,
     "metadata": {},
     "output_type": "execute_result"
    }
   ],
   "source": [
    "dfUsedCar['Version'].isnull().sum()"
   ]
  },
  {
   "cell_type": "code",
   "execution_count": 34,
   "id": "5731c6a9",
   "metadata": {},
   "outputs": [
    {
     "data": {
      "text/plain": [
       "0    750000.0\n",
       "dtype: float64"
      ]
     },
     "execution_count": 34,
     "metadata": {},
     "output_type": "execute_result"
    }
   ],
   "source": [
    "dfUsedCar['Price'].mode()"
   ]
  },
  {
   "cell_type": "code",
   "execution_count": 35,
   "id": "be569e7f",
   "metadata": {},
   "outputs": [],
   "source": [
    "dfUsedCar['Price'].fillna('750000.0', inplace=True)"
   ]
  },
  {
   "cell_type": "code",
   "execution_count": 36,
   "id": "899e2528",
   "metadata": {},
   "outputs": [
    {
     "data": {
      "text/plain": [
       "0"
      ]
     },
     "execution_count": 36,
     "metadata": {},
     "output_type": "execute_result"
    }
   ],
   "source": [
    "dfUsedCar['Price'].isnull().sum()"
   ]
  },
  {
   "cell_type": "markdown",
   "id": "0e230555",
   "metadata": {},
   "source": [
    "# 4 Data analysis"
   ]
  },
  {
   "cell_type": "markdown",
   "id": "ca28e2b9",
   "metadata": {},
   "source": [
    "# 4.1 Distribution of categorical data"
   ]
  },
  {
   "cell_type": "code",
   "execution_count": 38,
   "id": "fb6dfdf6",
   "metadata": {},
   "outputs": [
    {
     "name": "stdout",
     "output_type": "stream",
     "text": [
      "Toyota      29793\n",
      "Suzuki      24209\n",
      "Honda       15186\n",
      "Daihatsu     3016\n",
      "KIA          1321\n",
      "            ...  \n",
      "Jinbei          1\n",
      "Renault         1\n",
      "Bentley         1\n",
      "Rover           1\n",
      "Geely           1\n",
      "Name: Make, Length: 66, dtype: int64\n"
     ]
    }
   ],
   "source": [
    "print(dfUsedCar.Make.value_counts())"
   ]
  },
  {
   "cell_type": "code",
   "execution_count": 39,
   "id": "b05eb04a",
   "metadata": {},
   "outputs": [
    {
     "name": "stdout",
     "output_type": "stream",
     "text": [
      "Local       54498\n",
      "Imported    26074\n",
      "Name: Assembly, dtype: int64\n"
     ]
    }
   ],
   "source": [
    "print(dfUsedCar.Assembly.value_counts())"
   ]
  },
  {
   "cell_type": "code",
   "execution_count": 40,
   "id": "7572805e",
   "metadata": {},
   "outputs": [
    {
     "name": "stdout",
     "output_type": "stream",
     "text": [
      "Automatic    40408\n",
      "Manual       40164\n",
      "Name: Transmission, dtype: int64\n"
     ]
    }
   ],
   "source": [
    "\n",
    "print(dfUsedCar.Transmission.value_counts())"
   ]
  },
  {
   "cell_type": "markdown",
   "id": "e0b1f602",
   "metadata": {},
   "source": [
    "# 5 Data Preprocessing"
   ]
  },
  {
   "cell_type": "markdown",
   "id": "fb7b3b30",
   "metadata": {},
   "source": [
    "# 5.1 LableEncoder"
   ]
  },
  {
   "cell_type": "code",
   "execution_count": 41,
   "id": "6ba199b1",
   "metadata": {},
   "outputs": [
    {
     "data": {
      "text/plain": [
       "Make               object\n",
       "Model              object\n",
       "Version            object\n",
       "Price              object\n",
       "Make_Year           int64\n",
       "CC                  int64\n",
       "Assembly           object\n",
       "Mileage             int64\n",
       "Registered City    object\n",
       "Transmission       object\n",
       "dtype: object"
      ]
     },
     "execution_count": 41,
     "metadata": {},
     "output_type": "execute_result"
    }
   ],
   "source": [
    "# data types in each colunm\n",
    "dfUsedCar.dtypes"
   ]
  },
  {
   "cell_type": "markdown",
   "id": "e267a7c5",
   "metadata": {},
   "source": [
    "# 5.1.1 LableEncoding an 'Make' variable (one-hot encoding)"
   ]
  },
  {
   "cell_type": "code",
   "execution_count": 169,
   "id": "f906d93a",
   "metadata": {},
   "outputs": [
    {
     "ename": "KeyError",
     "evalue": "'Make'",
     "output_type": "error",
     "traceback": [
      "\u001b[1;31m---------------------------------------------------------------------------\u001b[0m",
      "\u001b[1;31mKeyError\u001b[0m                                  Traceback (most recent call last)",
      "\u001b[1;32m~\\anaconda3\\lib\\site-packages\\pandas\\core\\indexes\\base.py\u001b[0m in \u001b[0;36mget_loc\u001b[1;34m(self, key, method, tolerance)\u001b[0m\n\u001b[0;32m   3360\u001b[0m             \u001b[1;32mtry\u001b[0m\u001b[1;33m:\u001b[0m\u001b[1;33m\u001b[0m\u001b[1;33m\u001b[0m\u001b[0m\n\u001b[1;32m-> 3361\u001b[1;33m                 \u001b[1;32mreturn\u001b[0m \u001b[0mself\u001b[0m\u001b[1;33m.\u001b[0m\u001b[0m_engine\u001b[0m\u001b[1;33m.\u001b[0m\u001b[0mget_loc\u001b[0m\u001b[1;33m(\u001b[0m\u001b[0mcasted_key\u001b[0m\u001b[1;33m)\u001b[0m\u001b[1;33m\u001b[0m\u001b[1;33m\u001b[0m\u001b[0m\n\u001b[0m\u001b[0;32m   3362\u001b[0m             \u001b[1;32mexcept\u001b[0m \u001b[0mKeyError\u001b[0m \u001b[1;32mas\u001b[0m \u001b[0merr\u001b[0m\u001b[1;33m:\u001b[0m\u001b[1;33m\u001b[0m\u001b[1;33m\u001b[0m\u001b[0m\n",
      "\u001b[1;32m~\\anaconda3\\lib\\site-packages\\pandas\\_libs\\index.pyx\u001b[0m in \u001b[0;36mpandas._libs.index.IndexEngine.get_loc\u001b[1;34m()\u001b[0m\n",
      "\u001b[1;32m~\\anaconda3\\lib\\site-packages\\pandas\\_libs\\index.pyx\u001b[0m in \u001b[0;36mpandas._libs.index.IndexEngine.get_loc\u001b[1;34m()\u001b[0m\n",
      "\u001b[1;32mpandas\\_libs\\hashtable_class_helper.pxi\u001b[0m in \u001b[0;36mpandas._libs.hashtable.PyObjectHashTable.get_item\u001b[1;34m()\u001b[0m\n",
      "\u001b[1;32mpandas\\_libs\\hashtable_class_helper.pxi\u001b[0m in \u001b[0;36mpandas._libs.hashtable.PyObjectHashTable.get_item\u001b[1;34m()\u001b[0m\n",
      "\u001b[1;31mKeyError\u001b[0m: 'Make'",
      "\nThe above exception was the direct cause of the following exception:\n",
      "\u001b[1;31mKeyError\u001b[0m                                  Traceback (most recent call last)",
      "\u001b[1;32m~\\AppData\\Local\\Temp/ipykernel_1272/2336557067.py\u001b[0m in \u001b[0;36m<module>\u001b[1;34m\u001b[0m\n\u001b[1;32m----> 1\u001b[1;33m \u001b[0mdfUsedCar\u001b[0m\u001b[1;33m[\u001b[0m\u001b[1;34m'Make'\u001b[0m\u001b[1;33m]\u001b[0m\u001b[1;33m.\u001b[0m\u001b[0munique\u001b[0m\u001b[1;33m(\u001b[0m\u001b[1;33m)\u001b[0m\u001b[1;33m\u001b[0m\u001b[1;33m\u001b[0m\u001b[0m\n\u001b[0m",
      "\u001b[1;32m~\\anaconda3\\lib\\site-packages\\pandas\\core\\frame.py\u001b[0m in \u001b[0;36m__getitem__\u001b[1;34m(self, key)\u001b[0m\n\u001b[0;32m   3456\u001b[0m             \u001b[1;32mif\u001b[0m \u001b[0mself\u001b[0m\u001b[1;33m.\u001b[0m\u001b[0mcolumns\u001b[0m\u001b[1;33m.\u001b[0m\u001b[0mnlevels\u001b[0m \u001b[1;33m>\u001b[0m \u001b[1;36m1\u001b[0m\u001b[1;33m:\u001b[0m\u001b[1;33m\u001b[0m\u001b[1;33m\u001b[0m\u001b[0m\n\u001b[0;32m   3457\u001b[0m                 \u001b[1;32mreturn\u001b[0m \u001b[0mself\u001b[0m\u001b[1;33m.\u001b[0m\u001b[0m_getitem_multilevel\u001b[0m\u001b[1;33m(\u001b[0m\u001b[0mkey\u001b[0m\u001b[1;33m)\u001b[0m\u001b[1;33m\u001b[0m\u001b[1;33m\u001b[0m\u001b[0m\n\u001b[1;32m-> 3458\u001b[1;33m             \u001b[0mindexer\u001b[0m \u001b[1;33m=\u001b[0m \u001b[0mself\u001b[0m\u001b[1;33m.\u001b[0m\u001b[0mcolumns\u001b[0m\u001b[1;33m.\u001b[0m\u001b[0mget_loc\u001b[0m\u001b[1;33m(\u001b[0m\u001b[0mkey\u001b[0m\u001b[1;33m)\u001b[0m\u001b[1;33m\u001b[0m\u001b[1;33m\u001b[0m\u001b[0m\n\u001b[0m\u001b[0;32m   3459\u001b[0m             \u001b[1;32mif\u001b[0m \u001b[0mis_integer\u001b[0m\u001b[1;33m(\u001b[0m\u001b[0mindexer\u001b[0m\u001b[1;33m)\u001b[0m\u001b[1;33m:\u001b[0m\u001b[1;33m\u001b[0m\u001b[1;33m\u001b[0m\u001b[0m\n\u001b[0;32m   3460\u001b[0m                 \u001b[0mindexer\u001b[0m \u001b[1;33m=\u001b[0m \u001b[1;33m[\u001b[0m\u001b[0mindexer\u001b[0m\u001b[1;33m]\u001b[0m\u001b[1;33m\u001b[0m\u001b[1;33m\u001b[0m\u001b[0m\n",
      "\u001b[1;32m~\\anaconda3\\lib\\site-packages\\pandas\\core\\indexes\\base.py\u001b[0m in \u001b[0;36mget_loc\u001b[1;34m(self, key, method, tolerance)\u001b[0m\n\u001b[0;32m   3361\u001b[0m                 \u001b[1;32mreturn\u001b[0m \u001b[0mself\u001b[0m\u001b[1;33m.\u001b[0m\u001b[0m_engine\u001b[0m\u001b[1;33m.\u001b[0m\u001b[0mget_loc\u001b[0m\u001b[1;33m(\u001b[0m\u001b[0mcasted_key\u001b[0m\u001b[1;33m)\u001b[0m\u001b[1;33m\u001b[0m\u001b[1;33m\u001b[0m\u001b[0m\n\u001b[0;32m   3362\u001b[0m             \u001b[1;32mexcept\u001b[0m \u001b[0mKeyError\u001b[0m \u001b[1;32mas\u001b[0m \u001b[0merr\u001b[0m\u001b[1;33m:\u001b[0m\u001b[1;33m\u001b[0m\u001b[1;33m\u001b[0m\u001b[0m\n\u001b[1;32m-> 3363\u001b[1;33m                 \u001b[1;32mraise\u001b[0m \u001b[0mKeyError\u001b[0m\u001b[1;33m(\u001b[0m\u001b[0mkey\u001b[0m\u001b[1;33m)\u001b[0m \u001b[1;32mfrom\u001b[0m \u001b[0merr\u001b[0m\u001b[1;33m\u001b[0m\u001b[1;33m\u001b[0m\u001b[0m\n\u001b[0m\u001b[0;32m   3364\u001b[0m \u001b[1;33m\u001b[0m\u001b[0m\n\u001b[0;32m   3365\u001b[0m         \u001b[1;32mif\u001b[0m \u001b[0mis_scalar\u001b[0m\u001b[1;33m(\u001b[0m\u001b[0mkey\u001b[0m\u001b[1;33m)\u001b[0m \u001b[1;32mand\u001b[0m \u001b[0misna\u001b[0m\u001b[1;33m(\u001b[0m\u001b[0mkey\u001b[0m\u001b[1;33m)\u001b[0m \u001b[1;32mand\u001b[0m \u001b[1;32mnot\u001b[0m \u001b[0mself\u001b[0m\u001b[1;33m.\u001b[0m\u001b[0mhasnans\u001b[0m\u001b[1;33m:\u001b[0m\u001b[1;33m\u001b[0m\u001b[1;33m\u001b[0m\u001b[0m\n",
      "\u001b[1;31mKeyError\u001b[0m: 'Make'"
     ]
    }
   ],
   "source": [
    "dfUsedCar['Make'].unique()"
   ]
  },
  {
   "cell_type": "code",
   "execution_count": 170,
   "id": "a22cfc35",
   "metadata": {},
   "outputs": [],
   "source": [
    "encode = LabelEncoder()"
   ]
  },
  {
   "cell_type": "code",
   "execution_count": 46,
   "id": "4514b797",
   "metadata": {},
   "outputs": [
    {
     "data": {
      "text/plain": [
       "array([25, 43,  1, ..., 61, 18, 25])"
      ]
     },
     "execution_count": 46,
     "metadata": {},
     "output_type": "execute_result"
    }
   ],
   "source": [
    "encode.fit_transform(dfUsedCar['Make'])"
   ]
  },
  {
   "cell_type": "code",
   "execution_count": 47,
   "id": "9d4dc3d3",
   "metadata": {},
   "outputs": [],
   "source": [
    "dfUsedCar['Make_label']=encode.fit_transform(dfUsedCar['Make'])"
   ]
  },
  {
   "cell_type": "code",
   "execution_count": 48,
   "id": "ca99880b",
   "metadata": {},
   "outputs": [
    {
     "data": {
      "text/plain": [
       "61    29793\n",
       "59    24209\n",
       "25    15186\n",
       "14     3016\n",
       "35     1321\n",
       "      ...  \n",
       "34        1\n",
       "52        1\n",
       "3         1\n",
       "54        1\n",
       "22        1\n",
       "Name: Make_label, Length: 66, dtype: int64"
      ]
     },
     "execution_count": 48,
     "metadata": {},
     "output_type": "execute_result"
    }
   ],
   "source": [
    "dfUsedCar['Make_label'].value_counts()"
   ]
  },
  {
   "cell_type": "code",
   "execution_count": 49,
   "id": "6339e0dc",
   "metadata": {},
   "outputs": [
    {
     "data": {
      "text/plain": [
       "Toyota      29793\n",
       "Suzuki      24209\n",
       "Honda       15186\n",
       "Daihatsu     3016\n",
       "KIA          1321\n",
       "            ...  \n",
       "Jinbei          1\n",
       "Renault         1\n",
       "Bentley         1\n",
       "Rover           1\n",
       "Geely           1\n",
       "Name: Make, Length: 66, dtype: int64"
      ]
     },
     "execution_count": 49,
     "metadata": {},
     "output_type": "execute_result"
    }
   ],
   "source": [
    "dfUsedCar['Make'].value_counts()"
   ]
  },
  {
   "cell_type": "markdown",
   "id": "85470f17",
   "metadata": {},
   "source": [
    "#  Start one-hot encoding"
   ]
  },
  {
   "cell_type": "code",
   "execution_count": 50,
   "id": "c71130b5",
   "metadata": {},
   "outputs": [],
   "source": [
    "add_columns = pd.get_dummies(dfUsedCar['Make'])"
   ]
  },
  {
   "cell_type": "code",
   "execution_count": 51,
   "id": "82a49aad",
   "metadata": {},
   "outputs": [
    {
     "data": {
      "text/html": [
       "<div>\n",
       "<style scoped>\n",
       "    .dataframe tbody tr th:only-of-type {\n",
       "        vertical-align: middle;\n",
       "    }\n",
       "\n",
       "    .dataframe tbody tr th {\n",
       "        vertical-align: top;\n",
       "    }\n",
       "\n",
       "    .dataframe thead th {\n",
       "        text-align: right;\n",
       "    }\n",
       "</style>\n",
       "<table border=\"1\" class=\"dataframe\">\n",
       "  <thead>\n",
       "    <tr style=\"text-align: right;\">\n",
       "      <th></th>\n",
       "      <th>Adam</th>\n",
       "      <th>Audi</th>\n",
       "      <th>BMW</th>\n",
       "      <th>Bentley</th>\n",
       "      <th>Buick</th>\n",
       "      <th>Cadillac</th>\n",
       "      <th>Changan</th>\n",
       "      <th>Chery</th>\n",
       "      <th>Chevrolet</th>\n",
       "      <th>Chrysler</th>\n",
       "      <th>...</th>\n",
       "      <th>Sokon</th>\n",
       "      <th>SsangYong</th>\n",
       "      <th>Subaru</th>\n",
       "      <th>Suzuki</th>\n",
       "      <th>Tesla</th>\n",
       "      <th>Toyota</th>\n",
       "      <th>United</th>\n",
       "      <th>Volkswagen</th>\n",
       "      <th>Volvo</th>\n",
       "      <th>ZOTYE</th>\n",
       "    </tr>\n",
       "  </thead>\n",
       "  <tbody>\n",
       "    <tr>\n",
       "      <th>0</th>\n",
       "      <td>0</td>\n",
       "      <td>0</td>\n",
       "      <td>0</td>\n",
       "      <td>0</td>\n",
       "      <td>0</td>\n",
       "      <td>0</td>\n",
       "      <td>0</td>\n",
       "      <td>0</td>\n",
       "      <td>0</td>\n",
       "      <td>0</td>\n",
       "      <td>...</td>\n",
       "      <td>0</td>\n",
       "      <td>0</td>\n",
       "      <td>0</td>\n",
       "      <td>0</td>\n",
       "      <td>0</td>\n",
       "      <td>0</td>\n",
       "      <td>0</td>\n",
       "      <td>0</td>\n",
       "      <td>0</td>\n",
       "      <td>0</td>\n",
       "    </tr>\n",
       "    <tr>\n",
       "      <th>1</th>\n",
       "      <td>0</td>\n",
       "      <td>0</td>\n",
       "      <td>0</td>\n",
       "      <td>0</td>\n",
       "      <td>0</td>\n",
       "      <td>0</td>\n",
       "      <td>0</td>\n",
       "      <td>0</td>\n",
       "      <td>0</td>\n",
       "      <td>0</td>\n",
       "      <td>...</td>\n",
       "      <td>0</td>\n",
       "      <td>0</td>\n",
       "      <td>0</td>\n",
       "      <td>0</td>\n",
       "      <td>0</td>\n",
       "      <td>0</td>\n",
       "      <td>0</td>\n",
       "      <td>0</td>\n",
       "      <td>0</td>\n",
       "      <td>0</td>\n",
       "    </tr>\n",
       "    <tr>\n",
       "      <th>2</th>\n",
       "      <td>0</td>\n",
       "      <td>1</td>\n",
       "      <td>0</td>\n",
       "      <td>0</td>\n",
       "      <td>0</td>\n",
       "      <td>0</td>\n",
       "      <td>0</td>\n",
       "      <td>0</td>\n",
       "      <td>0</td>\n",
       "      <td>0</td>\n",
       "      <td>...</td>\n",
       "      <td>0</td>\n",
       "      <td>0</td>\n",
       "      <td>0</td>\n",
       "      <td>0</td>\n",
       "      <td>0</td>\n",
       "      <td>0</td>\n",
       "      <td>0</td>\n",
       "      <td>0</td>\n",
       "      <td>0</td>\n",
       "      <td>0</td>\n",
       "    </tr>\n",
       "    <tr>\n",
       "      <th>3</th>\n",
       "      <td>0</td>\n",
       "      <td>0</td>\n",
       "      <td>0</td>\n",
       "      <td>0</td>\n",
       "      <td>0</td>\n",
       "      <td>0</td>\n",
       "      <td>0</td>\n",
       "      <td>0</td>\n",
       "      <td>0</td>\n",
       "      <td>0</td>\n",
       "      <td>...</td>\n",
       "      <td>0</td>\n",
       "      <td>0</td>\n",
       "      <td>0</td>\n",
       "      <td>0</td>\n",
       "      <td>0</td>\n",
       "      <td>1</td>\n",
       "      <td>0</td>\n",
       "      <td>0</td>\n",
       "      <td>0</td>\n",
       "      <td>0</td>\n",
       "    </tr>\n",
       "    <tr>\n",
       "      <th>4</th>\n",
       "      <td>0</td>\n",
       "      <td>0</td>\n",
       "      <td>0</td>\n",
       "      <td>0</td>\n",
       "      <td>0</td>\n",
       "      <td>0</td>\n",
       "      <td>0</td>\n",
       "      <td>0</td>\n",
       "      <td>0</td>\n",
       "      <td>0</td>\n",
       "      <td>...</td>\n",
       "      <td>0</td>\n",
       "      <td>0</td>\n",
       "      <td>0</td>\n",
       "      <td>0</td>\n",
       "      <td>0</td>\n",
       "      <td>0</td>\n",
       "      <td>0</td>\n",
       "      <td>0</td>\n",
       "      <td>0</td>\n",
       "      <td>0</td>\n",
       "    </tr>\n",
       "    <tr>\n",
       "      <th>...</th>\n",
       "      <td>...</td>\n",
       "      <td>...</td>\n",
       "      <td>...</td>\n",
       "      <td>...</td>\n",
       "      <td>...</td>\n",
       "      <td>...</td>\n",
       "      <td>...</td>\n",
       "      <td>...</td>\n",
       "      <td>...</td>\n",
       "      <td>...</td>\n",
       "      <td>...</td>\n",
       "      <td>...</td>\n",
       "      <td>...</td>\n",
       "      <td>...</td>\n",
       "      <td>...</td>\n",
       "      <td>...</td>\n",
       "      <td>...</td>\n",
       "      <td>...</td>\n",
       "      <td>...</td>\n",
       "      <td>...</td>\n",
       "      <td>...</td>\n",
       "    </tr>\n",
       "    <tr>\n",
       "      <th>80567</th>\n",
       "      <td>0</td>\n",
       "      <td>0</td>\n",
       "      <td>0</td>\n",
       "      <td>0</td>\n",
       "      <td>0</td>\n",
       "      <td>0</td>\n",
       "      <td>0</td>\n",
       "      <td>0</td>\n",
       "      <td>0</td>\n",
       "      <td>0</td>\n",
       "      <td>...</td>\n",
       "      <td>0</td>\n",
       "      <td>0</td>\n",
       "      <td>0</td>\n",
       "      <td>1</td>\n",
       "      <td>0</td>\n",
       "      <td>0</td>\n",
       "      <td>0</td>\n",
       "      <td>0</td>\n",
       "      <td>0</td>\n",
       "      <td>0</td>\n",
       "    </tr>\n",
       "    <tr>\n",
       "      <th>80568</th>\n",
       "      <td>0</td>\n",
       "      <td>0</td>\n",
       "      <td>0</td>\n",
       "      <td>0</td>\n",
       "      <td>0</td>\n",
       "      <td>0</td>\n",
       "      <td>0</td>\n",
       "      <td>0</td>\n",
       "      <td>0</td>\n",
       "      <td>0</td>\n",
       "      <td>...</td>\n",
       "      <td>0</td>\n",
       "      <td>0</td>\n",
       "      <td>0</td>\n",
       "      <td>1</td>\n",
       "      <td>0</td>\n",
       "      <td>0</td>\n",
       "      <td>0</td>\n",
       "      <td>0</td>\n",
       "      <td>0</td>\n",
       "      <td>0</td>\n",
       "    </tr>\n",
       "    <tr>\n",
       "      <th>80569</th>\n",
       "      <td>0</td>\n",
       "      <td>0</td>\n",
       "      <td>0</td>\n",
       "      <td>0</td>\n",
       "      <td>0</td>\n",
       "      <td>0</td>\n",
       "      <td>0</td>\n",
       "      <td>0</td>\n",
       "      <td>0</td>\n",
       "      <td>0</td>\n",
       "      <td>...</td>\n",
       "      <td>0</td>\n",
       "      <td>0</td>\n",
       "      <td>0</td>\n",
       "      <td>0</td>\n",
       "      <td>0</td>\n",
       "      <td>1</td>\n",
       "      <td>0</td>\n",
       "      <td>0</td>\n",
       "      <td>0</td>\n",
       "      <td>0</td>\n",
       "    </tr>\n",
       "    <tr>\n",
       "      <th>80570</th>\n",
       "      <td>0</td>\n",
       "      <td>0</td>\n",
       "      <td>0</td>\n",
       "      <td>0</td>\n",
       "      <td>0</td>\n",
       "      <td>0</td>\n",
       "      <td>0</td>\n",
       "      <td>0</td>\n",
       "      <td>0</td>\n",
       "      <td>0</td>\n",
       "      <td>...</td>\n",
       "      <td>0</td>\n",
       "      <td>0</td>\n",
       "      <td>0</td>\n",
       "      <td>0</td>\n",
       "      <td>0</td>\n",
       "      <td>0</td>\n",
       "      <td>0</td>\n",
       "      <td>0</td>\n",
       "      <td>0</td>\n",
       "      <td>0</td>\n",
       "    </tr>\n",
       "    <tr>\n",
       "      <th>80571</th>\n",
       "      <td>0</td>\n",
       "      <td>0</td>\n",
       "      <td>0</td>\n",
       "      <td>0</td>\n",
       "      <td>0</td>\n",
       "      <td>0</td>\n",
       "      <td>0</td>\n",
       "      <td>0</td>\n",
       "      <td>0</td>\n",
       "      <td>0</td>\n",
       "      <td>...</td>\n",
       "      <td>0</td>\n",
       "      <td>0</td>\n",
       "      <td>0</td>\n",
       "      <td>0</td>\n",
       "      <td>0</td>\n",
       "      <td>0</td>\n",
       "      <td>0</td>\n",
       "      <td>0</td>\n",
       "      <td>0</td>\n",
       "      <td>0</td>\n",
       "    </tr>\n",
       "  </tbody>\n",
       "</table>\n",
       "<p>80572 rows × 66 columns</p>\n",
       "</div>"
      ],
      "text/plain": [
       "       Adam  Audi  BMW  Bentley  Buick  Cadillac  Changan  Chery  Chevrolet  \\\n",
       "0         0     0    0        0      0         0        0      0          0   \n",
       "1         0     0    0        0      0         0        0      0          0   \n",
       "2         0     1    0        0      0         0        0      0          0   \n",
       "3         0     0    0        0      0         0        0      0          0   \n",
       "4         0     0    0        0      0         0        0      0          0   \n",
       "...     ...   ...  ...      ...    ...       ...      ...    ...        ...   \n",
       "80567     0     0    0        0      0         0        0      0          0   \n",
       "80568     0     0    0        0      0         0        0      0          0   \n",
       "80569     0     0    0        0      0         0        0      0          0   \n",
       "80570     0     0    0        0      0         0        0      0          0   \n",
       "80571     0     0    0        0      0         0        0      0          0   \n",
       "\n",
       "       Chrysler  ...  Sokon  SsangYong  Subaru  Suzuki  Tesla  Toyota  United  \\\n",
       "0             0  ...      0          0       0       0      0       0       0   \n",
       "1             0  ...      0          0       0       0      0       0       0   \n",
       "2             0  ...      0          0       0       0      0       0       0   \n",
       "3             0  ...      0          0       0       0      0       1       0   \n",
       "4             0  ...      0          0       0       0      0       0       0   \n",
       "...         ...  ...    ...        ...     ...     ...    ...     ...     ...   \n",
       "80567         0  ...      0          0       0       1      0       0       0   \n",
       "80568         0  ...      0          0       0       1      0       0       0   \n",
       "80569         0  ...      0          0       0       0      0       1       0   \n",
       "80570         0  ...      0          0       0       0      0       0       0   \n",
       "80571         0  ...      0          0       0       0      0       0       0   \n",
       "\n",
       "       Volkswagen  Volvo  ZOTYE  \n",
       "0               0      0      0  \n",
       "1               0      0      0  \n",
       "2               0      0      0  \n",
       "3               0      0      0  \n",
       "4               0      0      0  \n",
       "...           ...    ...    ...  \n",
       "80567           0      0      0  \n",
       "80568           0      0      0  \n",
       "80569           0      0      0  \n",
       "80570           0      0      0  \n",
       "80571           0      0      0  \n",
       "\n",
       "[80572 rows x 66 columns]"
      ]
     },
     "execution_count": 51,
     "metadata": {},
     "output_type": "execute_result"
    }
   ],
   "source": [
    "add_columns"
   ]
  },
  {
   "cell_type": "code",
   "execution_count": 52,
   "id": "848346df",
   "metadata": {},
   "outputs": [
    {
     "data": {
      "text/html": [
       "<div>\n",
       "<style scoped>\n",
       "    .dataframe tbody tr th:only-of-type {\n",
       "        vertical-align: middle;\n",
       "    }\n",
       "\n",
       "    .dataframe tbody tr th {\n",
       "        vertical-align: top;\n",
       "    }\n",
       "\n",
       "    .dataframe thead th {\n",
       "        text-align: right;\n",
       "    }\n",
       "</style>\n",
       "<table border=\"1\" class=\"dataframe\">\n",
       "  <thead>\n",
       "    <tr style=\"text-align: right;\">\n",
       "      <th></th>\n",
       "      <th>Make</th>\n",
       "      <th>Model</th>\n",
       "      <th>Version</th>\n",
       "      <th>Price</th>\n",
       "      <th>Make_Year</th>\n",
       "      <th>CC</th>\n",
       "      <th>Assembly</th>\n",
       "      <th>Mileage</th>\n",
       "      <th>Registered City</th>\n",
       "      <th>Transmission</th>\n",
       "      <th>...</th>\n",
       "      <th>Sokon</th>\n",
       "      <th>SsangYong</th>\n",
       "      <th>Subaru</th>\n",
       "      <th>Suzuki</th>\n",
       "      <th>Tesla</th>\n",
       "      <th>Toyota</th>\n",
       "      <th>United</th>\n",
       "      <th>Volkswagen</th>\n",
       "      <th>Volvo</th>\n",
       "      <th>ZOTYE</th>\n",
       "    </tr>\n",
       "  </thead>\n",
       "  <tbody>\n",
       "    <tr>\n",
       "      <th>0</th>\n",
       "      <td>Honda</td>\n",
       "      <td>Insight</td>\n",
       "      <td>GLi 1.3 VVTi</td>\n",
       "      <td>7400000.0</td>\n",
       "      <td>2019</td>\n",
       "      <td>1500</td>\n",
       "      <td>Imported</td>\n",
       "      <td>2000</td>\n",
       "      <td>Un-Registered</td>\n",
       "      <td>Automatic</td>\n",
       "      <td>...</td>\n",
       "      <td>0</td>\n",
       "      <td>0</td>\n",
       "      <td>0</td>\n",
       "      <td>0</td>\n",
       "      <td>0</td>\n",
       "      <td>0</td>\n",
       "      <td>0</td>\n",
       "      <td>0</td>\n",
       "      <td>0</td>\n",
       "      <td>0</td>\n",
       "    </tr>\n",
       "    <tr>\n",
       "      <th>1</th>\n",
       "      <td>Mitsubishi</td>\n",
       "      <td>Minica</td>\n",
       "      <td>Black Minica</td>\n",
       "      <td>1065000.0</td>\n",
       "      <td>2019</td>\n",
       "      <td>660</td>\n",
       "      <td>Imported</td>\n",
       "      <td>68000</td>\n",
       "      <td>Lahore</td>\n",
       "      <td>Automatic</td>\n",
       "      <td>...</td>\n",
       "      <td>0</td>\n",
       "      <td>0</td>\n",
       "      <td>0</td>\n",
       "      <td>0</td>\n",
       "      <td>0</td>\n",
       "      <td>0</td>\n",
       "      <td>0</td>\n",
       "      <td>0</td>\n",
       "      <td>0</td>\n",
       "      <td>0</td>\n",
       "    </tr>\n",
       "    <tr>\n",
       "      <th>2</th>\n",
       "      <td>Audi</td>\n",
       "      <td>A6</td>\n",
       "      <td>1.8 TFSI Business Class Edition</td>\n",
       "      <td>9300000.0</td>\n",
       "      <td>2015</td>\n",
       "      <td>1800</td>\n",
       "      <td>Local</td>\n",
       "      <td>70000</td>\n",
       "      <td>Lahore</td>\n",
       "      <td>Automatic</td>\n",
       "      <td>...</td>\n",
       "      <td>0</td>\n",
       "      <td>0</td>\n",
       "      <td>0</td>\n",
       "      <td>0</td>\n",
       "      <td>0</td>\n",
       "      <td>0</td>\n",
       "      <td>0</td>\n",
       "      <td>0</td>\n",
       "      <td>0</td>\n",
       "      <td>0</td>\n",
       "    </tr>\n",
       "    <tr>\n",
       "      <th>3</th>\n",
       "      <td>Toyota</td>\n",
       "      <td>Aqua</td>\n",
       "      <td>G</td>\n",
       "      <td>2375000.0</td>\n",
       "      <td>2014</td>\n",
       "      <td>1500</td>\n",
       "      <td>Imported</td>\n",
       "      <td>99900</td>\n",
       "      <td>Islamabad</td>\n",
       "      <td>Automatic</td>\n",
       "      <td>...</td>\n",
       "      <td>0</td>\n",
       "      <td>0</td>\n",
       "      <td>0</td>\n",
       "      <td>0</td>\n",
       "      <td>0</td>\n",
       "      <td>1</td>\n",
       "      <td>0</td>\n",
       "      <td>0</td>\n",
       "      <td>0</td>\n",
       "      <td>0</td>\n",
       "    </tr>\n",
       "    <tr>\n",
       "      <th>4</th>\n",
       "      <td>Honda</td>\n",
       "      <td>City</td>\n",
       "      <td>1.3 i-VTEC</td>\n",
       "      <td>2600000.0</td>\n",
       "      <td>2017</td>\n",
       "      <td>1300</td>\n",
       "      <td>Local</td>\n",
       "      <td>55000</td>\n",
       "      <td>Islamabad</td>\n",
       "      <td>Manual</td>\n",
       "      <td>...</td>\n",
       "      <td>0</td>\n",
       "      <td>0</td>\n",
       "      <td>0</td>\n",
       "      <td>0</td>\n",
       "      <td>0</td>\n",
       "      <td>0</td>\n",
       "      <td>0</td>\n",
       "      <td>0</td>\n",
       "      <td>0</td>\n",
       "      <td>0</td>\n",
       "    </tr>\n",
       "    <tr>\n",
       "      <th>...</th>\n",
       "      <td>...</td>\n",
       "      <td>...</td>\n",
       "      <td>...</td>\n",
       "      <td>...</td>\n",
       "      <td>...</td>\n",
       "      <td>...</td>\n",
       "      <td>...</td>\n",
       "      <td>...</td>\n",
       "      <td>...</td>\n",
       "      <td>...</td>\n",
       "      <td>...</td>\n",
       "      <td>...</td>\n",
       "      <td>...</td>\n",
       "      <td>...</td>\n",
       "      <td>...</td>\n",
       "      <td>...</td>\n",
       "      <td>...</td>\n",
       "      <td>...</td>\n",
       "      <td>...</td>\n",
       "      <td>...</td>\n",
       "      <td>...</td>\n",
       "    </tr>\n",
       "    <tr>\n",
       "      <th>80567</th>\n",
       "      <td>Suzuki</td>\n",
       "      <td>Bolan</td>\n",
       "      <td>GLi 1.3 VVTi</td>\n",
       "      <td>750000.0</td>\n",
       "      <td>2015</td>\n",
       "      <td>800</td>\n",
       "      <td>Local</td>\n",
       "      <td>98000</td>\n",
       "      <td>Lahore</td>\n",
       "      <td>Manual</td>\n",
       "      <td>...</td>\n",
       "      <td>0</td>\n",
       "      <td>0</td>\n",
       "      <td>0</td>\n",
       "      <td>1</td>\n",
       "      <td>0</td>\n",
       "      <td>0</td>\n",
       "      <td>0</td>\n",
       "      <td>0</td>\n",
       "      <td>0</td>\n",
       "      <td>0</td>\n",
       "    </tr>\n",
       "    <tr>\n",
       "      <th>80568</th>\n",
       "      <td>Suzuki</td>\n",
       "      <td>Alto</td>\n",
       "      <td>VXR</td>\n",
       "      <td>1480000.0</td>\n",
       "      <td>2020</td>\n",
       "      <td>660</td>\n",
       "      <td>Local</td>\n",
       "      <td>7800</td>\n",
       "      <td>Karachi</td>\n",
       "      <td>Manual</td>\n",
       "      <td>...</td>\n",
       "      <td>0</td>\n",
       "      <td>0</td>\n",
       "      <td>0</td>\n",
       "      <td>1</td>\n",
       "      <td>0</td>\n",
       "      <td>0</td>\n",
       "      <td>0</td>\n",
       "      <td>0</td>\n",
       "      <td>0</td>\n",
       "      <td>0</td>\n",
       "    </tr>\n",
       "    <tr>\n",
       "      <th>80569</th>\n",
       "      <td>Toyota</td>\n",
       "      <td>Corolla</td>\n",
       "      <td>GLi Automatic 1.3 VVTi</td>\n",
       "      <td>2700000.0</td>\n",
       "      <td>2016</td>\n",
       "      <td>1300</td>\n",
       "      <td>Local</td>\n",
       "      <td>81000</td>\n",
       "      <td>Islamabad</td>\n",
       "      <td>Automatic</td>\n",
       "      <td>...</td>\n",
       "      <td>0</td>\n",
       "      <td>0</td>\n",
       "      <td>0</td>\n",
       "      <td>0</td>\n",
       "      <td>0</td>\n",
       "      <td>1</td>\n",
       "      <td>0</td>\n",
       "      <td>0</td>\n",
       "      <td>0</td>\n",
       "      <td>0</td>\n",
       "    </tr>\n",
       "    <tr>\n",
       "      <th>80570</th>\n",
       "      <td>FAW</td>\n",
       "      <td>X-PV</td>\n",
       "      <td>Standard</td>\n",
       "      <td>600000.0</td>\n",
       "      <td>2013</td>\n",
       "      <td>1000</td>\n",
       "      <td>Local</td>\n",
       "      <td>2</td>\n",
       "      <td>Lahore</td>\n",
       "      <td>Manual</td>\n",
       "      <td>...</td>\n",
       "      <td>0</td>\n",
       "      <td>0</td>\n",
       "      <td>0</td>\n",
       "      <td>0</td>\n",
       "      <td>0</td>\n",
       "      <td>0</td>\n",
       "      <td>0</td>\n",
       "      <td>0</td>\n",
       "      <td>0</td>\n",
       "      <td>0</td>\n",
       "    </tr>\n",
       "    <tr>\n",
       "      <th>80571</th>\n",
       "      <td>Honda</td>\n",
       "      <td>Civic</td>\n",
       "      <td>VTi Prosmatec 1.8 i-VTEC</td>\n",
       "      <td>2620000.0</td>\n",
       "      <td>2013</td>\n",
       "      <td>1800</td>\n",
       "      <td>Imported</td>\n",
       "      <td>100000</td>\n",
       "      <td>Islamabad</td>\n",
       "      <td>Automatic</td>\n",
       "      <td>...</td>\n",
       "      <td>0</td>\n",
       "      <td>0</td>\n",
       "      <td>0</td>\n",
       "      <td>0</td>\n",
       "      <td>0</td>\n",
       "      <td>0</td>\n",
       "      <td>0</td>\n",
       "      <td>0</td>\n",
       "      <td>0</td>\n",
       "      <td>0</td>\n",
       "    </tr>\n",
       "  </tbody>\n",
       "</table>\n",
       "<p>80572 rows × 77 columns</p>\n",
       "</div>"
      ],
      "text/plain": [
       "             Make    Model                          Version      Price  \\\n",
       "0           Honda  Insight                     GLi 1.3 VVTi  7400000.0   \n",
       "1      Mitsubishi   Minica                     Black Minica  1065000.0   \n",
       "2            Audi       A6  1.8 TFSI Business Class Edition  9300000.0   \n",
       "3          Toyota     Aqua                                G  2375000.0   \n",
       "4           Honda     City                       1.3 i-VTEC  2600000.0   \n",
       "...           ...      ...                              ...        ...   \n",
       "80567      Suzuki    Bolan                     GLi 1.3 VVTi   750000.0   \n",
       "80568      Suzuki     Alto                              VXR  1480000.0   \n",
       "80569      Toyota  Corolla           GLi Automatic 1.3 VVTi  2700000.0   \n",
       "80570         FAW     X-PV                         Standard   600000.0   \n",
       "80571       Honda    Civic         VTi Prosmatec 1.8 i-VTEC  2620000.0   \n",
       "\n",
       "       Make_Year    CC  Assembly  Mileage Registered City Transmission  ...  \\\n",
       "0           2019  1500  Imported     2000   Un-Registered    Automatic  ...   \n",
       "1           2019   660  Imported    68000          Lahore    Automatic  ...   \n",
       "2           2015  1800     Local    70000          Lahore    Automatic  ...   \n",
       "3           2014  1500  Imported    99900       Islamabad    Automatic  ...   \n",
       "4           2017  1300     Local    55000       Islamabad       Manual  ...   \n",
       "...          ...   ...       ...      ...             ...          ...  ...   \n",
       "80567       2015   800     Local    98000          Lahore       Manual  ...   \n",
       "80568       2020   660     Local     7800         Karachi       Manual  ...   \n",
       "80569       2016  1300     Local    81000       Islamabad    Automatic  ...   \n",
       "80570       2013  1000     Local        2          Lahore       Manual  ...   \n",
       "80571       2013  1800  Imported   100000       Islamabad    Automatic  ...   \n",
       "\n",
       "       Sokon  SsangYong  Subaru  Suzuki  Tesla  Toyota  United  Volkswagen  \\\n",
       "0          0          0       0       0      0       0       0           0   \n",
       "1          0          0       0       0      0       0       0           0   \n",
       "2          0          0       0       0      0       0       0           0   \n",
       "3          0          0       0       0      0       1       0           0   \n",
       "4          0          0       0       0      0       0       0           0   \n",
       "...      ...        ...     ...     ...    ...     ...     ...         ...   \n",
       "80567      0          0       0       1      0       0       0           0   \n",
       "80568      0          0       0       1      0       0       0           0   \n",
       "80569      0          0       0       0      0       1       0           0   \n",
       "80570      0          0       0       0      0       0       0           0   \n",
       "80571      0          0       0       0      0       0       0           0   \n",
       "\n",
       "       Volvo  ZOTYE  \n",
       "0          0      0  \n",
       "1          0      0  \n",
       "2          0      0  \n",
       "3          0      0  \n",
       "4          0      0  \n",
       "...      ...    ...  \n",
       "80567      0      0  \n",
       "80568      0      0  \n",
       "80569      0      0  \n",
       "80570      0      0  \n",
       "80571      0      0  \n",
       "\n",
       "[80572 rows x 77 columns]"
      ]
     },
     "execution_count": 52,
     "metadata": {},
     "output_type": "execute_result"
    }
   ],
   "source": [
    "dfUsedCar.join(add_columns)"
   ]
  },
  {
   "cell_type": "code",
   "execution_count": 53,
   "id": "5dc46258",
   "metadata": {},
   "outputs": [],
   "source": [
    "dfUsedCar.drop(['Make'], axis = 1, inplace = True)"
   ]
  },
  {
   "cell_type": "code",
   "execution_count": 54,
   "id": "bb329b01",
   "metadata": {},
   "outputs": [
    {
     "data": {
      "text/plain": [
       "Index(['Model', 'Version', 'Price', 'Make_Year', 'CC', 'Assembly', 'Mileage',\n",
       "       'Registered City', 'Transmission', 'Make_label'],\n",
       "      dtype='object')"
      ]
     },
     "execution_count": 54,
     "metadata": {},
     "output_type": "execute_result"
    }
   ],
   "source": [
    "dfUsedCar.columns"
   ]
  },
  {
   "cell_type": "code",
   "execution_count": 55,
   "id": "eb67098b",
   "metadata": {},
   "outputs": [],
   "source": [
    "dfUsedCar = dfUsedCar.join(add_columns)"
   ]
  },
  {
   "cell_type": "code",
   "execution_count": 56,
   "id": "7ce97e8c",
   "metadata": {},
   "outputs": [
    {
     "data": {
      "text/html": [
       "<div>\n",
       "<style scoped>\n",
       "    .dataframe tbody tr th:only-of-type {\n",
       "        vertical-align: middle;\n",
       "    }\n",
       "\n",
       "    .dataframe tbody tr th {\n",
       "        vertical-align: top;\n",
       "    }\n",
       "\n",
       "    .dataframe thead th {\n",
       "        text-align: right;\n",
       "    }\n",
       "</style>\n",
       "<table border=\"1\" class=\"dataframe\">\n",
       "  <thead>\n",
       "    <tr style=\"text-align: right;\">\n",
       "      <th></th>\n",
       "      <th>Model</th>\n",
       "      <th>Version</th>\n",
       "      <th>Price</th>\n",
       "      <th>Make_Year</th>\n",
       "      <th>CC</th>\n",
       "      <th>Assembly</th>\n",
       "      <th>Mileage</th>\n",
       "      <th>Registered City</th>\n",
       "      <th>Transmission</th>\n",
       "      <th>Make_label</th>\n",
       "      <th>...</th>\n",
       "      <th>Sokon</th>\n",
       "      <th>SsangYong</th>\n",
       "      <th>Subaru</th>\n",
       "      <th>Suzuki</th>\n",
       "      <th>Tesla</th>\n",
       "      <th>Toyota</th>\n",
       "      <th>United</th>\n",
       "      <th>Volkswagen</th>\n",
       "      <th>Volvo</th>\n",
       "      <th>ZOTYE</th>\n",
       "    </tr>\n",
       "  </thead>\n",
       "  <tbody>\n",
       "    <tr>\n",
       "      <th>0</th>\n",
       "      <td>Insight</td>\n",
       "      <td>GLi 1.3 VVTi</td>\n",
       "      <td>7400000.0</td>\n",
       "      <td>2019</td>\n",
       "      <td>1500</td>\n",
       "      <td>Imported</td>\n",
       "      <td>2000</td>\n",
       "      <td>Un-Registered</td>\n",
       "      <td>Automatic</td>\n",
       "      <td>25</td>\n",
       "      <td>...</td>\n",
       "      <td>0</td>\n",
       "      <td>0</td>\n",
       "      <td>0</td>\n",
       "      <td>0</td>\n",
       "      <td>0</td>\n",
       "      <td>0</td>\n",
       "      <td>0</td>\n",
       "      <td>0</td>\n",
       "      <td>0</td>\n",
       "      <td>0</td>\n",
       "    </tr>\n",
       "    <tr>\n",
       "      <th>1</th>\n",
       "      <td>Minica</td>\n",
       "      <td>Black Minica</td>\n",
       "      <td>1065000.0</td>\n",
       "      <td>2019</td>\n",
       "      <td>660</td>\n",
       "      <td>Imported</td>\n",
       "      <td>68000</td>\n",
       "      <td>Lahore</td>\n",
       "      <td>Automatic</td>\n",
       "      <td>43</td>\n",
       "      <td>...</td>\n",
       "      <td>0</td>\n",
       "      <td>0</td>\n",
       "      <td>0</td>\n",
       "      <td>0</td>\n",
       "      <td>0</td>\n",
       "      <td>0</td>\n",
       "      <td>0</td>\n",
       "      <td>0</td>\n",
       "      <td>0</td>\n",
       "      <td>0</td>\n",
       "    </tr>\n",
       "    <tr>\n",
       "      <th>2</th>\n",
       "      <td>A6</td>\n",
       "      <td>1.8 TFSI Business Class Edition</td>\n",
       "      <td>9300000.0</td>\n",
       "      <td>2015</td>\n",
       "      <td>1800</td>\n",
       "      <td>Local</td>\n",
       "      <td>70000</td>\n",
       "      <td>Lahore</td>\n",
       "      <td>Automatic</td>\n",
       "      <td>1</td>\n",
       "      <td>...</td>\n",
       "      <td>0</td>\n",
       "      <td>0</td>\n",
       "      <td>0</td>\n",
       "      <td>0</td>\n",
       "      <td>0</td>\n",
       "      <td>0</td>\n",
       "      <td>0</td>\n",
       "      <td>0</td>\n",
       "      <td>0</td>\n",
       "      <td>0</td>\n",
       "    </tr>\n",
       "    <tr>\n",
       "      <th>3</th>\n",
       "      <td>Aqua</td>\n",
       "      <td>G</td>\n",
       "      <td>2375000.0</td>\n",
       "      <td>2014</td>\n",
       "      <td>1500</td>\n",
       "      <td>Imported</td>\n",
       "      <td>99900</td>\n",
       "      <td>Islamabad</td>\n",
       "      <td>Automatic</td>\n",
       "      <td>61</td>\n",
       "      <td>...</td>\n",
       "      <td>0</td>\n",
       "      <td>0</td>\n",
       "      <td>0</td>\n",
       "      <td>0</td>\n",
       "      <td>0</td>\n",
       "      <td>1</td>\n",
       "      <td>0</td>\n",
       "      <td>0</td>\n",
       "      <td>0</td>\n",
       "      <td>0</td>\n",
       "    </tr>\n",
       "    <tr>\n",
       "      <th>4</th>\n",
       "      <td>City</td>\n",
       "      <td>1.3 i-VTEC</td>\n",
       "      <td>2600000.0</td>\n",
       "      <td>2017</td>\n",
       "      <td>1300</td>\n",
       "      <td>Local</td>\n",
       "      <td>55000</td>\n",
       "      <td>Islamabad</td>\n",
       "      <td>Manual</td>\n",
       "      <td>25</td>\n",
       "      <td>...</td>\n",
       "      <td>0</td>\n",
       "      <td>0</td>\n",
       "      <td>0</td>\n",
       "      <td>0</td>\n",
       "      <td>0</td>\n",
       "      <td>0</td>\n",
       "      <td>0</td>\n",
       "      <td>0</td>\n",
       "      <td>0</td>\n",
       "      <td>0</td>\n",
       "    </tr>\n",
       "    <tr>\n",
       "      <th>...</th>\n",
       "      <td>...</td>\n",
       "      <td>...</td>\n",
       "      <td>...</td>\n",
       "      <td>...</td>\n",
       "      <td>...</td>\n",
       "      <td>...</td>\n",
       "      <td>...</td>\n",
       "      <td>...</td>\n",
       "      <td>...</td>\n",
       "      <td>...</td>\n",
       "      <td>...</td>\n",
       "      <td>...</td>\n",
       "      <td>...</td>\n",
       "      <td>...</td>\n",
       "      <td>...</td>\n",
       "      <td>...</td>\n",
       "      <td>...</td>\n",
       "      <td>...</td>\n",
       "      <td>...</td>\n",
       "      <td>...</td>\n",
       "      <td>...</td>\n",
       "    </tr>\n",
       "    <tr>\n",
       "      <th>80567</th>\n",
       "      <td>Bolan</td>\n",
       "      <td>GLi 1.3 VVTi</td>\n",
       "      <td>750000.0</td>\n",
       "      <td>2015</td>\n",
       "      <td>800</td>\n",
       "      <td>Local</td>\n",
       "      <td>98000</td>\n",
       "      <td>Lahore</td>\n",
       "      <td>Manual</td>\n",
       "      <td>59</td>\n",
       "      <td>...</td>\n",
       "      <td>0</td>\n",
       "      <td>0</td>\n",
       "      <td>0</td>\n",
       "      <td>1</td>\n",
       "      <td>0</td>\n",
       "      <td>0</td>\n",
       "      <td>0</td>\n",
       "      <td>0</td>\n",
       "      <td>0</td>\n",
       "      <td>0</td>\n",
       "    </tr>\n",
       "    <tr>\n",
       "      <th>80568</th>\n",
       "      <td>Alto</td>\n",
       "      <td>VXR</td>\n",
       "      <td>1480000.0</td>\n",
       "      <td>2020</td>\n",
       "      <td>660</td>\n",
       "      <td>Local</td>\n",
       "      <td>7800</td>\n",
       "      <td>Karachi</td>\n",
       "      <td>Manual</td>\n",
       "      <td>59</td>\n",
       "      <td>...</td>\n",
       "      <td>0</td>\n",
       "      <td>0</td>\n",
       "      <td>0</td>\n",
       "      <td>1</td>\n",
       "      <td>0</td>\n",
       "      <td>0</td>\n",
       "      <td>0</td>\n",
       "      <td>0</td>\n",
       "      <td>0</td>\n",
       "      <td>0</td>\n",
       "    </tr>\n",
       "    <tr>\n",
       "      <th>80569</th>\n",
       "      <td>Corolla</td>\n",
       "      <td>GLi Automatic 1.3 VVTi</td>\n",
       "      <td>2700000.0</td>\n",
       "      <td>2016</td>\n",
       "      <td>1300</td>\n",
       "      <td>Local</td>\n",
       "      <td>81000</td>\n",
       "      <td>Islamabad</td>\n",
       "      <td>Automatic</td>\n",
       "      <td>61</td>\n",
       "      <td>...</td>\n",
       "      <td>0</td>\n",
       "      <td>0</td>\n",
       "      <td>0</td>\n",
       "      <td>0</td>\n",
       "      <td>0</td>\n",
       "      <td>1</td>\n",
       "      <td>0</td>\n",
       "      <td>0</td>\n",
       "      <td>0</td>\n",
       "      <td>0</td>\n",
       "    </tr>\n",
       "    <tr>\n",
       "      <th>80570</th>\n",
       "      <td>X-PV</td>\n",
       "      <td>Standard</td>\n",
       "      <td>600000.0</td>\n",
       "      <td>2013</td>\n",
       "      <td>1000</td>\n",
       "      <td>Local</td>\n",
       "      <td>2</td>\n",
       "      <td>Lahore</td>\n",
       "      <td>Manual</td>\n",
       "      <td>18</td>\n",
       "      <td>...</td>\n",
       "      <td>0</td>\n",
       "      <td>0</td>\n",
       "      <td>0</td>\n",
       "      <td>0</td>\n",
       "      <td>0</td>\n",
       "      <td>0</td>\n",
       "      <td>0</td>\n",
       "      <td>0</td>\n",
       "      <td>0</td>\n",
       "      <td>0</td>\n",
       "    </tr>\n",
       "    <tr>\n",
       "      <th>80571</th>\n",
       "      <td>Civic</td>\n",
       "      <td>VTi Prosmatec 1.8 i-VTEC</td>\n",
       "      <td>2620000.0</td>\n",
       "      <td>2013</td>\n",
       "      <td>1800</td>\n",
       "      <td>Imported</td>\n",
       "      <td>100000</td>\n",
       "      <td>Islamabad</td>\n",
       "      <td>Automatic</td>\n",
       "      <td>25</td>\n",
       "      <td>...</td>\n",
       "      <td>0</td>\n",
       "      <td>0</td>\n",
       "      <td>0</td>\n",
       "      <td>0</td>\n",
       "      <td>0</td>\n",
       "      <td>0</td>\n",
       "      <td>0</td>\n",
       "      <td>0</td>\n",
       "      <td>0</td>\n",
       "      <td>0</td>\n",
       "    </tr>\n",
       "  </tbody>\n",
       "</table>\n",
       "<p>80572 rows × 76 columns</p>\n",
       "</div>"
      ],
      "text/plain": [
       "         Model                          Version      Price  Make_Year    CC  \\\n",
       "0      Insight                     GLi 1.3 VVTi  7400000.0       2019  1500   \n",
       "1       Minica                     Black Minica  1065000.0       2019   660   \n",
       "2           A6  1.8 TFSI Business Class Edition  9300000.0       2015  1800   \n",
       "3         Aqua                                G  2375000.0       2014  1500   \n",
       "4         City                       1.3 i-VTEC  2600000.0       2017  1300   \n",
       "...        ...                              ...        ...        ...   ...   \n",
       "80567    Bolan                     GLi 1.3 VVTi   750000.0       2015   800   \n",
       "80568     Alto                              VXR  1480000.0       2020   660   \n",
       "80569  Corolla           GLi Automatic 1.3 VVTi  2700000.0       2016  1300   \n",
       "80570     X-PV                         Standard   600000.0       2013  1000   \n",
       "80571    Civic         VTi Prosmatec 1.8 i-VTEC  2620000.0       2013  1800   \n",
       "\n",
       "       Assembly  Mileage Registered City Transmission  Make_label  ...  Sokon  \\\n",
       "0      Imported     2000   Un-Registered    Automatic          25  ...      0   \n",
       "1      Imported    68000          Lahore    Automatic          43  ...      0   \n",
       "2         Local    70000          Lahore    Automatic           1  ...      0   \n",
       "3      Imported    99900       Islamabad    Automatic          61  ...      0   \n",
       "4         Local    55000       Islamabad       Manual          25  ...      0   \n",
       "...         ...      ...             ...          ...         ...  ...    ...   \n",
       "80567     Local    98000          Lahore       Manual          59  ...      0   \n",
       "80568     Local     7800         Karachi       Manual          59  ...      0   \n",
       "80569     Local    81000       Islamabad    Automatic          61  ...      0   \n",
       "80570     Local        2          Lahore       Manual          18  ...      0   \n",
       "80571  Imported   100000       Islamabad    Automatic          25  ...      0   \n",
       "\n",
       "       SsangYong  Subaru  Suzuki  Tesla  Toyota  United  Volkswagen  Volvo  \\\n",
       "0              0       0       0      0       0       0           0      0   \n",
       "1              0       0       0      0       0       0           0      0   \n",
       "2              0       0       0      0       0       0           0      0   \n",
       "3              0       0       0      0       1       0           0      0   \n",
       "4              0       0       0      0       0       0           0      0   \n",
       "...          ...     ...     ...    ...     ...     ...         ...    ...   \n",
       "80567          0       0       1      0       0       0           0      0   \n",
       "80568          0       0       1      0       0       0           0      0   \n",
       "80569          0       0       0      0       1       0           0      0   \n",
       "80570          0       0       0      0       0       0           0      0   \n",
       "80571          0       0       0      0       0       0           0      0   \n",
       "\n",
       "       ZOTYE  \n",
       "0          0  \n",
       "1          0  \n",
       "2          0  \n",
       "3          0  \n",
       "4          0  \n",
       "...      ...  \n",
       "80567      0  \n",
       "80568      0  \n",
       "80569      0  \n",
       "80570      0  \n",
       "80571      0  \n",
       "\n",
       "[80572 rows x 76 columns]"
      ]
     },
     "execution_count": 56,
     "metadata": {},
     "output_type": "execute_result"
    }
   ],
   "source": [
    "dfUsedCar"
   ]
  },
  {
   "cell_type": "markdown",
   "id": "860dcb0a",
   "metadata": {},
   "source": [
    "# 5.1.2 LableEncoding an 'Assembly' variable (one-hot encoding)"
   ]
  },
  {
   "cell_type": "code",
   "execution_count": 57,
   "id": "2e407f54",
   "metadata": {},
   "outputs": [
    {
     "data": {
      "text/plain": [
       "array(['Imported', 'Local'], dtype=object)"
      ]
     },
     "execution_count": 57,
     "metadata": {},
     "output_type": "execute_result"
    }
   ],
   "source": [
    "dfUsedCar['Assembly'].unique()"
   ]
  },
  {
   "cell_type": "code",
   "execution_count": 58,
   "id": "2d771561",
   "metadata": {},
   "outputs": [],
   "source": [
    "encode = LabelEncoder()"
   ]
  },
  {
   "cell_type": "code",
   "execution_count": 59,
   "id": "99004ba0",
   "metadata": {},
   "outputs": [
    {
     "data": {
      "text/plain": [
       "array([0, 0, 1, ..., 1, 1, 0])"
      ]
     },
     "execution_count": 59,
     "metadata": {},
     "output_type": "execute_result"
    }
   ],
   "source": [
    "encode.fit_transform(dfUsedCar['Assembly'])"
   ]
  },
  {
   "cell_type": "code",
   "execution_count": 60,
   "id": "e2f2c6ed",
   "metadata": {},
   "outputs": [],
   "source": [
    "dfUsedCar['Assembly_label']=encode.fit_transform(dfUsedCar['Assembly'])"
   ]
  },
  {
   "cell_type": "code",
   "execution_count": 61,
   "id": "ea4593d5",
   "metadata": {},
   "outputs": [
    {
     "data": {
      "text/plain": [
       "1    54498\n",
       "0    26074\n",
       "Name: Assembly_label, dtype: int64"
      ]
     },
     "execution_count": 61,
     "metadata": {},
     "output_type": "execute_result"
    }
   ],
   "source": [
    "dfUsedCar['Assembly_label'].value_counts()"
   ]
  },
  {
   "cell_type": "code",
   "execution_count": 62,
   "id": "1c34fabe",
   "metadata": {},
   "outputs": [
    {
     "data": {
      "text/plain": [
       "Local       54498\n",
       "Imported    26074\n",
       "Name: Assembly, dtype: int64"
      ]
     },
     "execution_count": 62,
     "metadata": {},
     "output_type": "execute_result"
    }
   ],
   "source": [
    "dfUsedCar['Assembly'].value_counts()"
   ]
  },
  {
   "cell_type": "markdown",
   "id": "fb9d0a65",
   "metadata": {},
   "source": [
    "# Start one-hot encoding"
   ]
  },
  {
   "cell_type": "code",
   "execution_count": 63,
   "id": "058fb016",
   "metadata": {},
   "outputs": [],
   "source": [
    "add_columns = pd.get_dummies(dfUsedCar['Assembly'])"
   ]
  },
  {
   "cell_type": "code",
   "execution_count": 64,
   "id": "1ce6fa77",
   "metadata": {},
   "outputs": [
    {
     "data": {
      "text/html": [
       "<div>\n",
       "<style scoped>\n",
       "    .dataframe tbody tr th:only-of-type {\n",
       "        vertical-align: middle;\n",
       "    }\n",
       "\n",
       "    .dataframe tbody tr th {\n",
       "        vertical-align: top;\n",
       "    }\n",
       "\n",
       "    .dataframe thead th {\n",
       "        text-align: right;\n",
       "    }\n",
       "</style>\n",
       "<table border=\"1\" class=\"dataframe\">\n",
       "  <thead>\n",
       "    <tr style=\"text-align: right;\">\n",
       "      <th></th>\n",
       "      <th>Imported</th>\n",
       "      <th>Local</th>\n",
       "    </tr>\n",
       "  </thead>\n",
       "  <tbody>\n",
       "    <tr>\n",
       "      <th>0</th>\n",
       "      <td>1</td>\n",
       "      <td>0</td>\n",
       "    </tr>\n",
       "    <tr>\n",
       "      <th>1</th>\n",
       "      <td>1</td>\n",
       "      <td>0</td>\n",
       "    </tr>\n",
       "    <tr>\n",
       "      <th>2</th>\n",
       "      <td>0</td>\n",
       "      <td>1</td>\n",
       "    </tr>\n",
       "    <tr>\n",
       "      <th>3</th>\n",
       "      <td>1</td>\n",
       "      <td>0</td>\n",
       "    </tr>\n",
       "    <tr>\n",
       "      <th>4</th>\n",
       "      <td>0</td>\n",
       "      <td>1</td>\n",
       "    </tr>\n",
       "    <tr>\n",
       "      <th>...</th>\n",
       "      <td>...</td>\n",
       "      <td>...</td>\n",
       "    </tr>\n",
       "    <tr>\n",
       "      <th>80567</th>\n",
       "      <td>0</td>\n",
       "      <td>1</td>\n",
       "    </tr>\n",
       "    <tr>\n",
       "      <th>80568</th>\n",
       "      <td>0</td>\n",
       "      <td>1</td>\n",
       "    </tr>\n",
       "    <tr>\n",
       "      <th>80569</th>\n",
       "      <td>0</td>\n",
       "      <td>1</td>\n",
       "    </tr>\n",
       "    <tr>\n",
       "      <th>80570</th>\n",
       "      <td>0</td>\n",
       "      <td>1</td>\n",
       "    </tr>\n",
       "    <tr>\n",
       "      <th>80571</th>\n",
       "      <td>1</td>\n",
       "      <td>0</td>\n",
       "    </tr>\n",
       "  </tbody>\n",
       "</table>\n",
       "<p>80572 rows × 2 columns</p>\n",
       "</div>"
      ],
      "text/plain": [
       "       Imported  Local\n",
       "0             1      0\n",
       "1             1      0\n",
       "2             0      1\n",
       "3             1      0\n",
       "4             0      1\n",
       "...         ...    ...\n",
       "80567         0      1\n",
       "80568         0      1\n",
       "80569         0      1\n",
       "80570         0      1\n",
       "80571         1      0\n",
       "\n",
       "[80572 rows x 2 columns]"
      ]
     },
     "execution_count": 64,
     "metadata": {},
     "output_type": "execute_result"
    }
   ],
   "source": [
    "add_columns"
   ]
  },
  {
   "cell_type": "code",
   "execution_count": 65,
   "id": "8006ecfb",
   "metadata": {},
   "outputs": [
    {
     "data": {
      "text/html": [
       "<div>\n",
       "<style scoped>\n",
       "    .dataframe tbody tr th:only-of-type {\n",
       "        vertical-align: middle;\n",
       "    }\n",
       "\n",
       "    .dataframe tbody tr th {\n",
       "        vertical-align: top;\n",
       "    }\n",
       "\n",
       "    .dataframe thead th {\n",
       "        text-align: right;\n",
       "    }\n",
       "</style>\n",
       "<table border=\"1\" class=\"dataframe\">\n",
       "  <thead>\n",
       "    <tr style=\"text-align: right;\">\n",
       "      <th></th>\n",
       "      <th>Model</th>\n",
       "      <th>Version</th>\n",
       "      <th>Price</th>\n",
       "      <th>Make_Year</th>\n",
       "      <th>CC</th>\n",
       "      <th>Assembly</th>\n",
       "      <th>Mileage</th>\n",
       "      <th>Registered City</th>\n",
       "      <th>Transmission</th>\n",
       "      <th>Make_label</th>\n",
       "      <th>...</th>\n",
       "      <th>Suzuki</th>\n",
       "      <th>Tesla</th>\n",
       "      <th>Toyota</th>\n",
       "      <th>United</th>\n",
       "      <th>Volkswagen</th>\n",
       "      <th>Volvo</th>\n",
       "      <th>ZOTYE</th>\n",
       "      <th>Assembly_label</th>\n",
       "      <th>Imported</th>\n",
       "      <th>Local</th>\n",
       "    </tr>\n",
       "  </thead>\n",
       "  <tbody>\n",
       "    <tr>\n",
       "      <th>0</th>\n",
       "      <td>Insight</td>\n",
       "      <td>GLi 1.3 VVTi</td>\n",
       "      <td>7400000.0</td>\n",
       "      <td>2019</td>\n",
       "      <td>1500</td>\n",
       "      <td>Imported</td>\n",
       "      <td>2000</td>\n",
       "      <td>Un-Registered</td>\n",
       "      <td>Automatic</td>\n",
       "      <td>25</td>\n",
       "      <td>...</td>\n",
       "      <td>0</td>\n",
       "      <td>0</td>\n",
       "      <td>0</td>\n",
       "      <td>0</td>\n",
       "      <td>0</td>\n",
       "      <td>0</td>\n",
       "      <td>0</td>\n",
       "      <td>0</td>\n",
       "      <td>1</td>\n",
       "      <td>0</td>\n",
       "    </tr>\n",
       "    <tr>\n",
       "      <th>1</th>\n",
       "      <td>Minica</td>\n",
       "      <td>Black Minica</td>\n",
       "      <td>1065000.0</td>\n",
       "      <td>2019</td>\n",
       "      <td>660</td>\n",
       "      <td>Imported</td>\n",
       "      <td>68000</td>\n",
       "      <td>Lahore</td>\n",
       "      <td>Automatic</td>\n",
       "      <td>43</td>\n",
       "      <td>...</td>\n",
       "      <td>0</td>\n",
       "      <td>0</td>\n",
       "      <td>0</td>\n",
       "      <td>0</td>\n",
       "      <td>0</td>\n",
       "      <td>0</td>\n",
       "      <td>0</td>\n",
       "      <td>0</td>\n",
       "      <td>1</td>\n",
       "      <td>0</td>\n",
       "    </tr>\n",
       "    <tr>\n",
       "      <th>2</th>\n",
       "      <td>A6</td>\n",
       "      <td>1.8 TFSI Business Class Edition</td>\n",
       "      <td>9300000.0</td>\n",
       "      <td>2015</td>\n",
       "      <td>1800</td>\n",
       "      <td>Local</td>\n",
       "      <td>70000</td>\n",
       "      <td>Lahore</td>\n",
       "      <td>Automatic</td>\n",
       "      <td>1</td>\n",
       "      <td>...</td>\n",
       "      <td>0</td>\n",
       "      <td>0</td>\n",
       "      <td>0</td>\n",
       "      <td>0</td>\n",
       "      <td>0</td>\n",
       "      <td>0</td>\n",
       "      <td>0</td>\n",
       "      <td>1</td>\n",
       "      <td>0</td>\n",
       "      <td>1</td>\n",
       "    </tr>\n",
       "    <tr>\n",
       "      <th>3</th>\n",
       "      <td>Aqua</td>\n",
       "      <td>G</td>\n",
       "      <td>2375000.0</td>\n",
       "      <td>2014</td>\n",
       "      <td>1500</td>\n",
       "      <td>Imported</td>\n",
       "      <td>99900</td>\n",
       "      <td>Islamabad</td>\n",
       "      <td>Automatic</td>\n",
       "      <td>61</td>\n",
       "      <td>...</td>\n",
       "      <td>0</td>\n",
       "      <td>0</td>\n",
       "      <td>1</td>\n",
       "      <td>0</td>\n",
       "      <td>0</td>\n",
       "      <td>0</td>\n",
       "      <td>0</td>\n",
       "      <td>0</td>\n",
       "      <td>1</td>\n",
       "      <td>0</td>\n",
       "    </tr>\n",
       "    <tr>\n",
       "      <th>4</th>\n",
       "      <td>City</td>\n",
       "      <td>1.3 i-VTEC</td>\n",
       "      <td>2600000.0</td>\n",
       "      <td>2017</td>\n",
       "      <td>1300</td>\n",
       "      <td>Local</td>\n",
       "      <td>55000</td>\n",
       "      <td>Islamabad</td>\n",
       "      <td>Manual</td>\n",
       "      <td>25</td>\n",
       "      <td>...</td>\n",
       "      <td>0</td>\n",
       "      <td>0</td>\n",
       "      <td>0</td>\n",
       "      <td>0</td>\n",
       "      <td>0</td>\n",
       "      <td>0</td>\n",
       "      <td>0</td>\n",
       "      <td>1</td>\n",
       "      <td>0</td>\n",
       "      <td>1</td>\n",
       "    </tr>\n",
       "    <tr>\n",
       "      <th>...</th>\n",
       "      <td>...</td>\n",
       "      <td>...</td>\n",
       "      <td>...</td>\n",
       "      <td>...</td>\n",
       "      <td>...</td>\n",
       "      <td>...</td>\n",
       "      <td>...</td>\n",
       "      <td>...</td>\n",
       "      <td>...</td>\n",
       "      <td>...</td>\n",
       "      <td>...</td>\n",
       "      <td>...</td>\n",
       "      <td>...</td>\n",
       "      <td>...</td>\n",
       "      <td>...</td>\n",
       "      <td>...</td>\n",
       "      <td>...</td>\n",
       "      <td>...</td>\n",
       "      <td>...</td>\n",
       "      <td>...</td>\n",
       "      <td>...</td>\n",
       "    </tr>\n",
       "    <tr>\n",
       "      <th>80567</th>\n",
       "      <td>Bolan</td>\n",
       "      <td>GLi 1.3 VVTi</td>\n",
       "      <td>750000.0</td>\n",
       "      <td>2015</td>\n",
       "      <td>800</td>\n",
       "      <td>Local</td>\n",
       "      <td>98000</td>\n",
       "      <td>Lahore</td>\n",
       "      <td>Manual</td>\n",
       "      <td>59</td>\n",
       "      <td>...</td>\n",
       "      <td>1</td>\n",
       "      <td>0</td>\n",
       "      <td>0</td>\n",
       "      <td>0</td>\n",
       "      <td>0</td>\n",
       "      <td>0</td>\n",
       "      <td>0</td>\n",
       "      <td>1</td>\n",
       "      <td>0</td>\n",
       "      <td>1</td>\n",
       "    </tr>\n",
       "    <tr>\n",
       "      <th>80568</th>\n",
       "      <td>Alto</td>\n",
       "      <td>VXR</td>\n",
       "      <td>1480000.0</td>\n",
       "      <td>2020</td>\n",
       "      <td>660</td>\n",
       "      <td>Local</td>\n",
       "      <td>7800</td>\n",
       "      <td>Karachi</td>\n",
       "      <td>Manual</td>\n",
       "      <td>59</td>\n",
       "      <td>...</td>\n",
       "      <td>1</td>\n",
       "      <td>0</td>\n",
       "      <td>0</td>\n",
       "      <td>0</td>\n",
       "      <td>0</td>\n",
       "      <td>0</td>\n",
       "      <td>0</td>\n",
       "      <td>1</td>\n",
       "      <td>0</td>\n",
       "      <td>1</td>\n",
       "    </tr>\n",
       "    <tr>\n",
       "      <th>80569</th>\n",
       "      <td>Corolla</td>\n",
       "      <td>GLi Automatic 1.3 VVTi</td>\n",
       "      <td>2700000.0</td>\n",
       "      <td>2016</td>\n",
       "      <td>1300</td>\n",
       "      <td>Local</td>\n",
       "      <td>81000</td>\n",
       "      <td>Islamabad</td>\n",
       "      <td>Automatic</td>\n",
       "      <td>61</td>\n",
       "      <td>...</td>\n",
       "      <td>0</td>\n",
       "      <td>0</td>\n",
       "      <td>1</td>\n",
       "      <td>0</td>\n",
       "      <td>0</td>\n",
       "      <td>0</td>\n",
       "      <td>0</td>\n",
       "      <td>1</td>\n",
       "      <td>0</td>\n",
       "      <td>1</td>\n",
       "    </tr>\n",
       "    <tr>\n",
       "      <th>80570</th>\n",
       "      <td>X-PV</td>\n",
       "      <td>Standard</td>\n",
       "      <td>600000.0</td>\n",
       "      <td>2013</td>\n",
       "      <td>1000</td>\n",
       "      <td>Local</td>\n",
       "      <td>2</td>\n",
       "      <td>Lahore</td>\n",
       "      <td>Manual</td>\n",
       "      <td>18</td>\n",
       "      <td>...</td>\n",
       "      <td>0</td>\n",
       "      <td>0</td>\n",
       "      <td>0</td>\n",
       "      <td>0</td>\n",
       "      <td>0</td>\n",
       "      <td>0</td>\n",
       "      <td>0</td>\n",
       "      <td>1</td>\n",
       "      <td>0</td>\n",
       "      <td>1</td>\n",
       "    </tr>\n",
       "    <tr>\n",
       "      <th>80571</th>\n",
       "      <td>Civic</td>\n",
       "      <td>VTi Prosmatec 1.8 i-VTEC</td>\n",
       "      <td>2620000.0</td>\n",
       "      <td>2013</td>\n",
       "      <td>1800</td>\n",
       "      <td>Imported</td>\n",
       "      <td>100000</td>\n",
       "      <td>Islamabad</td>\n",
       "      <td>Automatic</td>\n",
       "      <td>25</td>\n",
       "      <td>...</td>\n",
       "      <td>0</td>\n",
       "      <td>0</td>\n",
       "      <td>0</td>\n",
       "      <td>0</td>\n",
       "      <td>0</td>\n",
       "      <td>0</td>\n",
       "      <td>0</td>\n",
       "      <td>0</td>\n",
       "      <td>1</td>\n",
       "      <td>0</td>\n",
       "    </tr>\n",
       "  </tbody>\n",
       "</table>\n",
       "<p>80572 rows × 79 columns</p>\n",
       "</div>"
      ],
      "text/plain": [
       "         Model                          Version      Price  Make_Year    CC  \\\n",
       "0      Insight                     GLi 1.3 VVTi  7400000.0       2019  1500   \n",
       "1       Minica                     Black Minica  1065000.0       2019   660   \n",
       "2           A6  1.8 TFSI Business Class Edition  9300000.0       2015  1800   \n",
       "3         Aqua                                G  2375000.0       2014  1500   \n",
       "4         City                       1.3 i-VTEC  2600000.0       2017  1300   \n",
       "...        ...                              ...        ...        ...   ...   \n",
       "80567    Bolan                     GLi 1.3 VVTi   750000.0       2015   800   \n",
       "80568     Alto                              VXR  1480000.0       2020   660   \n",
       "80569  Corolla           GLi Automatic 1.3 VVTi  2700000.0       2016  1300   \n",
       "80570     X-PV                         Standard   600000.0       2013  1000   \n",
       "80571    Civic         VTi Prosmatec 1.8 i-VTEC  2620000.0       2013  1800   \n",
       "\n",
       "       Assembly  Mileage Registered City Transmission  Make_label  ...  \\\n",
       "0      Imported     2000   Un-Registered    Automatic          25  ...   \n",
       "1      Imported    68000          Lahore    Automatic          43  ...   \n",
       "2         Local    70000          Lahore    Automatic           1  ...   \n",
       "3      Imported    99900       Islamabad    Automatic          61  ...   \n",
       "4         Local    55000       Islamabad       Manual          25  ...   \n",
       "...         ...      ...             ...          ...         ...  ...   \n",
       "80567     Local    98000          Lahore       Manual          59  ...   \n",
       "80568     Local     7800         Karachi       Manual          59  ...   \n",
       "80569     Local    81000       Islamabad    Automatic          61  ...   \n",
       "80570     Local        2          Lahore       Manual          18  ...   \n",
       "80571  Imported   100000       Islamabad    Automatic          25  ...   \n",
       "\n",
       "       Suzuki  Tesla  Toyota  United  Volkswagen  Volvo  ZOTYE  \\\n",
       "0           0      0       0       0           0      0      0   \n",
       "1           0      0       0       0           0      0      0   \n",
       "2           0      0       0       0           0      0      0   \n",
       "3           0      0       1       0           0      0      0   \n",
       "4           0      0       0       0           0      0      0   \n",
       "...       ...    ...     ...     ...         ...    ...    ...   \n",
       "80567       1      0       0       0           0      0      0   \n",
       "80568       1      0       0       0           0      0      0   \n",
       "80569       0      0       1       0           0      0      0   \n",
       "80570       0      0       0       0           0      0      0   \n",
       "80571       0      0       0       0           0      0      0   \n",
       "\n",
       "       Assembly_label  Imported  Local  \n",
       "0                   0         1      0  \n",
       "1                   0         1      0  \n",
       "2                   1         0      1  \n",
       "3                   0         1      0  \n",
       "4                   1         0      1  \n",
       "...               ...       ...    ...  \n",
       "80567               1         0      1  \n",
       "80568               1         0      1  \n",
       "80569               1         0      1  \n",
       "80570               1         0      1  \n",
       "80571               0         1      0  \n",
       "\n",
       "[80572 rows x 79 columns]"
      ]
     },
     "execution_count": 65,
     "metadata": {},
     "output_type": "execute_result"
    }
   ],
   "source": [
    "dfUsedCar.join(add_columns)"
   ]
  },
  {
   "cell_type": "code",
   "execution_count": 66,
   "id": "8388e762",
   "metadata": {},
   "outputs": [],
   "source": [
    "dfUsedCar.drop(['Assembly'], axis = 1, inplace = True)"
   ]
  },
  {
   "cell_type": "code",
   "execution_count": 67,
   "id": "dae4f5f2",
   "metadata": {},
   "outputs": [
    {
     "data": {
      "text/plain": [
       "Index(['Model', 'Version', 'Price', 'Make_Year', 'CC', 'Mileage',\n",
       "       'Registered City', 'Transmission', 'Make_label', 'Adam', 'Audi', 'BMW',\n",
       "       'Bentley', 'Buick', 'Cadillac', 'Changan', 'Chery', 'Chevrolet',\n",
       "       'Chrysler', 'Citroen', 'DFSK', 'Daehan', 'Daewoo', 'Daihatsu', 'Datsun',\n",
       "       'Dodge', 'Dongfeng', 'FAW', 'Fiat', 'Ford', 'GMC', 'Geely', 'Golden',\n",
       "       'Hino', 'Honda', 'Hummer', 'Hyundai', 'Isuzu', 'JAC', 'JMC', 'JW',\n",
       "       'Jaguar', 'Jeep', 'Jinbei', 'KIA', 'Land', 'Lexus', 'MG', 'MINI',\n",
       "       'Master', 'Mazda', 'Mercedes', 'Mitsubishi', 'Nissan', 'Others',\n",
       "       'Peugeot', 'Plymouth', 'Porsche', 'Prince', 'Proton', 'Range',\n",
       "       'Renault', 'Roma', 'Rover', 'Sogo', 'Sokon', 'SsangYong', 'Subaru',\n",
       "       'Suzuki', 'Tesla', 'Toyota', 'United', 'Volkswagen', 'Volvo', 'ZOTYE',\n",
       "       'Assembly_label'],\n",
       "      dtype='object')"
      ]
     },
     "execution_count": 67,
     "metadata": {},
     "output_type": "execute_result"
    }
   ],
   "source": [
    "dfUsedCar.columns"
   ]
  },
  {
   "cell_type": "code",
   "execution_count": 68,
   "id": "5955786c",
   "metadata": {},
   "outputs": [],
   "source": [
    "dfUsedCar = dfUsedCar.join(add_columns)"
   ]
  },
  {
   "cell_type": "code",
   "execution_count": 69,
   "id": "b549b4d6",
   "metadata": {},
   "outputs": [
    {
     "data": {
      "text/html": [
       "<div>\n",
       "<style scoped>\n",
       "    .dataframe tbody tr th:only-of-type {\n",
       "        vertical-align: middle;\n",
       "    }\n",
       "\n",
       "    .dataframe tbody tr th {\n",
       "        vertical-align: top;\n",
       "    }\n",
       "\n",
       "    .dataframe thead th {\n",
       "        text-align: right;\n",
       "    }\n",
       "</style>\n",
       "<table border=\"1\" class=\"dataframe\">\n",
       "  <thead>\n",
       "    <tr style=\"text-align: right;\">\n",
       "      <th></th>\n",
       "      <th>Model</th>\n",
       "      <th>Version</th>\n",
       "      <th>Price</th>\n",
       "      <th>Make_Year</th>\n",
       "      <th>CC</th>\n",
       "      <th>Mileage</th>\n",
       "      <th>Registered City</th>\n",
       "      <th>Transmission</th>\n",
       "      <th>Make_label</th>\n",
       "      <th>Adam</th>\n",
       "      <th>...</th>\n",
       "      <th>Suzuki</th>\n",
       "      <th>Tesla</th>\n",
       "      <th>Toyota</th>\n",
       "      <th>United</th>\n",
       "      <th>Volkswagen</th>\n",
       "      <th>Volvo</th>\n",
       "      <th>ZOTYE</th>\n",
       "      <th>Assembly_label</th>\n",
       "      <th>Imported</th>\n",
       "      <th>Local</th>\n",
       "    </tr>\n",
       "  </thead>\n",
       "  <tbody>\n",
       "    <tr>\n",
       "      <th>0</th>\n",
       "      <td>Insight</td>\n",
       "      <td>GLi 1.3 VVTi</td>\n",
       "      <td>7400000.0</td>\n",
       "      <td>2019</td>\n",
       "      <td>1500</td>\n",
       "      <td>2000</td>\n",
       "      <td>Un-Registered</td>\n",
       "      <td>Automatic</td>\n",
       "      <td>25</td>\n",
       "      <td>0</td>\n",
       "      <td>...</td>\n",
       "      <td>0</td>\n",
       "      <td>0</td>\n",
       "      <td>0</td>\n",
       "      <td>0</td>\n",
       "      <td>0</td>\n",
       "      <td>0</td>\n",
       "      <td>0</td>\n",
       "      <td>0</td>\n",
       "      <td>1</td>\n",
       "      <td>0</td>\n",
       "    </tr>\n",
       "    <tr>\n",
       "      <th>1</th>\n",
       "      <td>Minica</td>\n",
       "      <td>Black Minica</td>\n",
       "      <td>1065000.0</td>\n",
       "      <td>2019</td>\n",
       "      <td>660</td>\n",
       "      <td>68000</td>\n",
       "      <td>Lahore</td>\n",
       "      <td>Automatic</td>\n",
       "      <td>43</td>\n",
       "      <td>0</td>\n",
       "      <td>...</td>\n",
       "      <td>0</td>\n",
       "      <td>0</td>\n",
       "      <td>0</td>\n",
       "      <td>0</td>\n",
       "      <td>0</td>\n",
       "      <td>0</td>\n",
       "      <td>0</td>\n",
       "      <td>0</td>\n",
       "      <td>1</td>\n",
       "      <td>0</td>\n",
       "    </tr>\n",
       "    <tr>\n",
       "      <th>2</th>\n",
       "      <td>A6</td>\n",
       "      <td>1.8 TFSI Business Class Edition</td>\n",
       "      <td>9300000.0</td>\n",
       "      <td>2015</td>\n",
       "      <td>1800</td>\n",
       "      <td>70000</td>\n",
       "      <td>Lahore</td>\n",
       "      <td>Automatic</td>\n",
       "      <td>1</td>\n",
       "      <td>0</td>\n",
       "      <td>...</td>\n",
       "      <td>0</td>\n",
       "      <td>0</td>\n",
       "      <td>0</td>\n",
       "      <td>0</td>\n",
       "      <td>0</td>\n",
       "      <td>0</td>\n",
       "      <td>0</td>\n",
       "      <td>1</td>\n",
       "      <td>0</td>\n",
       "      <td>1</td>\n",
       "    </tr>\n",
       "    <tr>\n",
       "      <th>3</th>\n",
       "      <td>Aqua</td>\n",
       "      <td>G</td>\n",
       "      <td>2375000.0</td>\n",
       "      <td>2014</td>\n",
       "      <td>1500</td>\n",
       "      <td>99900</td>\n",
       "      <td>Islamabad</td>\n",
       "      <td>Automatic</td>\n",
       "      <td>61</td>\n",
       "      <td>0</td>\n",
       "      <td>...</td>\n",
       "      <td>0</td>\n",
       "      <td>0</td>\n",
       "      <td>1</td>\n",
       "      <td>0</td>\n",
       "      <td>0</td>\n",
       "      <td>0</td>\n",
       "      <td>0</td>\n",
       "      <td>0</td>\n",
       "      <td>1</td>\n",
       "      <td>0</td>\n",
       "    </tr>\n",
       "    <tr>\n",
       "      <th>4</th>\n",
       "      <td>City</td>\n",
       "      <td>1.3 i-VTEC</td>\n",
       "      <td>2600000.0</td>\n",
       "      <td>2017</td>\n",
       "      <td>1300</td>\n",
       "      <td>55000</td>\n",
       "      <td>Islamabad</td>\n",
       "      <td>Manual</td>\n",
       "      <td>25</td>\n",
       "      <td>0</td>\n",
       "      <td>...</td>\n",
       "      <td>0</td>\n",
       "      <td>0</td>\n",
       "      <td>0</td>\n",
       "      <td>0</td>\n",
       "      <td>0</td>\n",
       "      <td>0</td>\n",
       "      <td>0</td>\n",
       "      <td>1</td>\n",
       "      <td>0</td>\n",
       "      <td>1</td>\n",
       "    </tr>\n",
       "    <tr>\n",
       "      <th>...</th>\n",
       "      <td>...</td>\n",
       "      <td>...</td>\n",
       "      <td>...</td>\n",
       "      <td>...</td>\n",
       "      <td>...</td>\n",
       "      <td>...</td>\n",
       "      <td>...</td>\n",
       "      <td>...</td>\n",
       "      <td>...</td>\n",
       "      <td>...</td>\n",
       "      <td>...</td>\n",
       "      <td>...</td>\n",
       "      <td>...</td>\n",
       "      <td>...</td>\n",
       "      <td>...</td>\n",
       "      <td>...</td>\n",
       "      <td>...</td>\n",
       "      <td>...</td>\n",
       "      <td>...</td>\n",
       "      <td>...</td>\n",
       "      <td>...</td>\n",
       "    </tr>\n",
       "    <tr>\n",
       "      <th>80567</th>\n",
       "      <td>Bolan</td>\n",
       "      <td>GLi 1.3 VVTi</td>\n",
       "      <td>750000.0</td>\n",
       "      <td>2015</td>\n",
       "      <td>800</td>\n",
       "      <td>98000</td>\n",
       "      <td>Lahore</td>\n",
       "      <td>Manual</td>\n",
       "      <td>59</td>\n",
       "      <td>0</td>\n",
       "      <td>...</td>\n",
       "      <td>1</td>\n",
       "      <td>0</td>\n",
       "      <td>0</td>\n",
       "      <td>0</td>\n",
       "      <td>0</td>\n",
       "      <td>0</td>\n",
       "      <td>0</td>\n",
       "      <td>1</td>\n",
       "      <td>0</td>\n",
       "      <td>1</td>\n",
       "    </tr>\n",
       "    <tr>\n",
       "      <th>80568</th>\n",
       "      <td>Alto</td>\n",
       "      <td>VXR</td>\n",
       "      <td>1480000.0</td>\n",
       "      <td>2020</td>\n",
       "      <td>660</td>\n",
       "      <td>7800</td>\n",
       "      <td>Karachi</td>\n",
       "      <td>Manual</td>\n",
       "      <td>59</td>\n",
       "      <td>0</td>\n",
       "      <td>...</td>\n",
       "      <td>1</td>\n",
       "      <td>0</td>\n",
       "      <td>0</td>\n",
       "      <td>0</td>\n",
       "      <td>0</td>\n",
       "      <td>0</td>\n",
       "      <td>0</td>\n",
       "      <td>1</td>\n",
       "      <td>0</td>\n",
       "      <td>1</td>\n",
       "    </tr>\n",
       "    <tr>\n",
       "      <th>80569</th>\n",
       "      <td>Corolla</td>\n",
       "      <td>GLi Automatic 1.3 VVTi</td>\n",
       "      <td>2700000.0</td>\n",
       "      <td>2016</td>\n",
       "      <td>1300</td>\n",
       "      <td>81000</td>\n",
       "      <td>Islamabad</td>\n",
       "      <td>Automatic</td>\n",
       "      <td>61</td>\n",
       "      <td>0</td>\n",
       "      <td>...</td>\n",
       "      <td>0</td>\n",
       "      <td>0</td>\n",
       "      <td>1</td>\n",
       "      <td>0</td>\n",
       "      <td>0</td>\n",
       "      <td>0</td>\n",
       "      <td>0</td>\n",
       "      <td>1</td>\n",
       "      <td>0</td>\n",
       "      <td>1</td>\n",
       "    </tr>\n",
       "    <tr>\n",
       "      <th>80570</th>\n",
       "      <td>X-PV</td>\n",
       "      <td>Standard</td>\n",
       "      <td>600000.0</td>\n",
       "      <td>2013</td>\n",
       "      <td>1000</td>\n",
       "      <td>2</td>\n",
       "      <td>Lahore</td>\n",
       "      <td>Manual</td>\n",
       "      <td>18</td>\n",
       "      <td>0</td>\n",
       "      <td>...</td>\n",
       "      <td>0</td>\n",
       "      <td>0</td>\n",
       "      <td>0</td>\n",
       "      <td>0</td>\n",
       "      <td>0</td>\n",
       "      <td>0</td>\n",
       "      <td>0</td>\n",
       "      <td>1</td>\n",
       "      <td>0</td>\n",
       "      <td>1</td>\n",
       "    </tr>\n",
       "    <tr>\n",
       "      <th>80571</th>\n",
       "      <td>Civic</td>\n",
       "      <td>VTi Prosmatec 1.8 i-VTEC</td>\n",
       "      <td>2620000.0</td>\n",
       "      <td>2013</td>\n",
       "      <td>1800</td>\n",
       "      <td>100000</td>\n",
       "      <td>Islamabad</td>\n",
       "      <td>Automatic</td>\n",
       "      <td>25</td>\n",
       "      <td>0</td>\n",
       "      <td>...</td>\n",
       "      <td>0</td>\n",
       "      <td>0</td>\n",
       "      <td>0</td>\n",
       "      <td>0</td>\n",
       "      <td>0</td>\n",
       "      <td>0</td>\n",
       "      <td>0</td>\n",
       "      <td>0</td>\n",
       "      <td>1</td>\n",
       "      <td>0</td>\n",
       "    </tr>\n",
       "  </tbody>\n",
       "</table>\n",
       "<p>80572 rows × 78 columns</p>\n",
       "</div>"
      ],
      "text/plain": [
       "         Model                          Version      Price  Make_Year    CC  \\\n",
       "0      Insight                     GLi 1.3 VVTi  7400000.0       2019  1500   \n",
       "1       Minica                     Black Minica  1065000.0       2019   660   \n",
       "2           A6  1.8 TFSI Business Class Edition  9300000.0       2015  1800   \n",
       "3         Aqua                                G  2375000.0       2014  1500   \n",
       "4         City                       1.3 i-VTEC  2600000.0       2017  1300   \n",
       "...        ...                              ...        ...        ...   ...   \n",
       "80567    Bolan                     GLi 1.3 VVTi   750000.0       2015   800   \n",
       "80568     Alto                              VXR  1480000.0       2020   660   \n",
       "80569  Corolla           GLi Automatic 1.3 VVTi  2700000.0       2016  1300   \n",
       "80570     X-PV                         Standard   600000.0       2013  1000   \n",
       "80571    Civic         VTi Prosmatec 1.8 i-VTEC  2620000.0       2013  1800   \n",
       "\n",
       "       Mileage Registered City Transmission  Make_label  Adam  ...  Suzuki  \\\n",
       "0         2000   Un-Registered    Automatic          25     0  ...       0   \n",
       "1        68000          Lahore    Automatic          43     0  ...       0   \n",
       "2        70000          Lahore    Automatic           1     0  ...       0   \n",
       "3        99900       Islamabad    Automatic          61     0  ...       0   \n",
       "4        55000       Islamabad       Manual          25     0  ...       0   \n",
       "...        ...             ...          ...         ...   ...  ...     ...   \n",
       "80567    98000          Lahore       Manual          59     0  ...       1   \n",
       "80568     7800         Karachi       Manual          59     0  ...       1   \n",
       "80569    81000       Islamabad    Automatic          61     0  ...       0   \n",
       "80570        2          Lahore       Manual          18     0  ...       0   \n",
       "80571   100000       Islamabad    Automatic          25     0  ...       0   \n",
       "\n",
       "       Tesla  Toyota  United  Volkswagen  Volvo  ZOTYE  Assembly_label  \\\n",
       "0          0       0       0           0      0      0               0   \n",
       "1          0       0       0           0      0      0               0   \n",
       "2          0       0       0           0      0      0               1   \n",
       "3          0       1       0           0      0      0               0   \n",
       "4          0       0       0           0      0      0               1   \n",
       "...      ...     ...     ...         ...    ...    ...             ...   \n",
       "80567      0       0       0           0      0      0               1   \n",
       "80568      0       0       0           0      0      0               1   \n",
       "80569      0       1       0           0      0      0               1   \n",
       "80570      0       0       0           0      0      0               1   \n",
       "80571      0       0       0           0      0      0               0   \n",
       "\n",
       "       Imported  Local  \n",
       "0             1      0  \n",
       "1             1      0  \n",
       "2             0      1  \n",
       "3             1      0  \n",
       "4             0      1  \n",
       "...         ...    ...  \n",
       "80567         0      1  \n",
       "80568         0      1  \n",
       "80569         0      1  \n",
       "80570         0      1  \n",
       "80571         1      0  \n",
       "\n",
       "[80572 rows x 78 columns]"
      ]
     },
     "execution_count": 69,
     "metadata": {},
     "output_type": "execute_result"
    }
   ],
   "source": [
    "dfUsedCar"
   ]
  },
  {
   "cell_type": "markdown",
   "id": "e8ecccc4",
   "metadata": {},
   "source": [
    "# 5.1.3 LableEncoding an 'Transmission' variable (one-hot encoding)"
   ]
  },
  {
   "cell_type": "code",
   "execution_count": 70,
   "id": "249c55ad",
   "metadata": {},
   "outputs": [
    {
     "data": {
      "text/plain": [
       "array(['Automatic', 'Manual'], dtype=object)"
      ]
     },
     "execution_count": 70,
     "metadata": {},
     "output_type": "execute_result"
    }
   ],
   "source": [
    "dfUsedCar['Transmission'].unique()"
   ]
  },
  {
   "cell_type": "code",
   "execution_count": 71,
   "id": "80c2189a",
   "metadata": {},
   "outputs": [],
   "source": [
    "encode = LabelEncoder()"
   ]
  },
  {
   "cell_type": "code",
   "execution_count": 72,
   "id": "4e4f1533",
   "metadata": {},
   "outputs": [
    {
     "data": {
      "text/plain": [
       "array([0, 0, 0, ..., 0, 1, 0])"
      ]
     },
     "execution_count": 72,
     "metadata": {},
     "output_type": "execute_result"
    }
   ],
   "source": [
    "encode.fit_transform(dfUsedCar['Transmission'])"
   ]
  },
  {
   "cell_type": "code",
   "execution_count": 73,
   "id": "4cdcfb68",
   "metadata": {},
   "outputs": [],
   "source": [
    "dfUsedCar['Transmission_label']=encode.fit_transform(dfUsedCar['Transmission'])"
   ]
  },
  {
   "cell_type": "code",
   "execution_count": 74,
   "id": "9f2ceacb",
   "metadata": {},
   "outputs": [
    {
     "data": {
      "text/plain": [
       "0    40408\n",
       "1    40164\n",
       "Name: Transmission_label, dtype: int64"
      ]
     },
     "execution_count": 74,
     "metadata": {},
     "output_type": "execute_result"
    }
   ],
   "source": [
    "dfUsedCar['Transmission_label'].value_counts()"
   ]
  },
  {
   "cell_type": "code",
   "execution_count": 76,
   "id": "93aa0857",
   "metadata": {},
   "outputs": [
    {
     "data": {
      "text/plain": [
       "Automatic    40408\n",
       "Manual       40164\n",
       "Name: Transmission, dtype: int64"
      ]
     },
     "execution_count": 76,
     "metadata": {},
     "output_type": "execute_result"
    }
   ],
   "source": [
    "dfUsedCar['Transmission'].value_counts()"
   ]
  },
  {
   "cell_type": "markdown",
   "id": "fb0ad472",
   "metadata": {},
   "source": [
    "# Start one-hot encoding"
   ]
  },
  {
   "cell_type": "code",
   "execution_count": 78,
   "id": "1195831e",
   "metadata": {},
   "outputs": [],
   "source": [
    "add_columns = pd.get_dummies(dfUsedCar['Transmission'])"
   ]
  },
  {
   "cell_type": "code",
   "execution_count": 79,
   "id": "2c1e6412",
   "metadata": {},
   "outputs": [
    {
     "data": {
      "text/html": [
       "<div>\n",
       "<style scoped>\n",
       "    .dataframe tbody tr th:only-of-type {\n",
       "        vertical-align: middle;\n",
       "    }\n",
       "\n",
       "    .dataframe tbody tr th {\n",
       "        vertical-align: top;\n",
       "    }\n",
       "\n",
       "    .dataframe thead th {\n",
       "        text-align: right;\n",
       "    }\n",
       "</style>\n",
       "<table border=\"1\" class=\"dataframe\">\n",
       "  <thead>\n",
       "    <tr style=\"text-align: right;\">\n",
       "      <th></th>\n",
       "      <th>Automatic</th>\n",
       "      <th>Manual</th>\n",
       "    </tr>\n",
       "  </thead>\n",
       "  <tbody>\n",
       "    <tr>\n",
       "      <th>0</th>\n",
       "      <td>1</td>\n",
       "      <td>0</td>\n",
       "    </tr>\n",
       "    <tr>\n",
       "      <th>1</th>\n",
       "      <td>1</td>\n",
       "      <td>0</td>\n",
       "    </tr>\n",
       "    <tr>\n",
       "      <th>2</th>\n",
       "      <td>1</td>\n",
       "      <td>0</td>\n",
       "    </tr>\n",
       "    <tr>\n",
       "      <th>3</th>\n",
       "      <td>1</td>\n",
       "      <td>0</td>\n",
       "    </tr>\n",
       "    <tr>\n",
       "      <th>4</th>\n",
       "      <td>0</td>\n",
       "      <td>1</td>\n",
       "    </tr>\n",
       "    <tr>\n",
       "      <th>...</th>\n",
       "      <td>...</td>\n",
       "      <td>...</td>\n",
       "    </tr>\n",
       "    <tr>\n",
       "      <th>80567</th>\n",
       "      <td>0</td>\n",
       "      <td>1</td>\n",
       "    </tr>\n",
       "    <tr>\n",
       "      <th>80568</th>\n",
       "      <td>0</td>\n",
       "      <td>1</td>\n",
       "    </tr>\n",
       "    <tr>\n",
       "      <th>80569</th>\n",
       "      <td>1</td>\n",
       "      <td>0</td>\n",
       "    </tr>\n",
       "    <tr>\n",
       "      <th>80570</th>\n",
       "      <td>0</td>\n",
       "      <td>1</td>\n",
       "    </tr>\n",
       "    <tr>\n",
       "      <th>80571</th>\n",
       "      <td>1</td>\n",
       "      <td>0</td>\n",
       "    </tr>\n",
       "  </tbody>\n",
       "</table>\n",
       "<p>80572 rows × 2 columns</p>\n",
       "</div>"
      ],
      "text/plain": [
       "       Automatic  Manual\n",
       "0              1       0\n",
       "1              1       0\n",
       "2              1       0\n",
       "3              1       0\n",
       "4              0       1\n",
       "...          ...     ...\n",
       "80567          0       1\n",
       "80568          0       1\n",
       "80569          1       0\n",
       "80570          0       1\n",
       "80571          1       0\n",
       "\n",
       "[80572 rows x 2 columns]"
      ]
     },
     "execution_count": 79,
     "metadata": {},
     "output_type": "execute_result"
    }
   ],
   "source": [
    "add_columns"
   ]
  },
  {
   "cell_type": "code",
   "execution_count": 80,
   "id": "2a3deb27",
   "metadata": {},
   "outputs": [
    {
     "data": {
      "text/html": [
       "<div>\n",
       "<style scoped>\n",
       "    .dataframe tbody tr th:only-of-type {\n",
       "        vertical-align: middle;\n",
       "    }\n",
       "\n",
       "    .dataframe tbody tr th {\n",
       "        vertical-align: top;\n",
       "    }\n",
       "\n",
       "    .dataframe thead th {\n",
       "        text-align: right;\n",
       "    }\n",
       "</style>\n",
       "<table border=\"1\" class=\"dataframe\">\n",
       "  <thead>\n",
       "    <tr style=\"text-align: right;\">\n",
       "      <th></th>\n",
       "      <th>Model</th>\n",
       "      <th>Version</th>\n",
       "      <th>Price</th>\n",
       "      <th>Make_Year</th>\n",
       "      <th>CC</th>\n",
       "      <th>Mileage</th>\n",
       "      <th>Registered City</th>\n",
       "      <th>Transmission</th>\n",
       "      <th>Make_label</th>\n",
       "      <th>Adam</th>\n",
       "      <th>...</th>\n",
       "      <th>United</th>\n",
       "      <th>Volkswagen</th>\n",
       "      <th>Volvo</th>\n",
       "      <th>ZOTYE</th>\n",
       "      <th>Assembly_label</th>\n",
       "      <th>Imported</th>\n",
       "      <th>Local</th>\n",
       "      <th>Transmission_label</th>\n",
       "      <th>Automatic</th>\n",
       "      <th>Manual</th>\n",
       "    </tr>\n",
       "  </thead>\n",
       "  <tbody>\n",
       "    <tr>\n",
       "      <th>0</th>\n",
       "      <td>Insight</td>\n",
       "      <td>GLi 1.3 VVTi</td>\n",
       "      <td>7400000.0</td>\n",
       "      <td>2019</td>\n",
       "      <td>1500</td>\n",
       "      <td>2000</td>\n",
       "      <td>Un-Registered</td>\n",
       "      <td>Automatic</td>\n",
       "      <td>25</td>\n",
       "      <td>0</td>\n",
       "      <td>...</td>\n",
       "      <td>0</td>\n",
       "      <td>0</td>\n",
       "      <td>0</td>\n",
       "      <td>0</td>\n",
       "      <td>0</td>\n",
       "      <td>1</td>\n",
       "      <td>0</td>\n",
       "      <td>0</td>\n",
       "      <td>1</td>\n",
       "      <td>0</td>\n",
       "    </tr>\n",
       "    <tr>\n",
       "      <th>1</th>\n",
       "      <td>Minica</td>\n",
       "      <td>Black Minica</td>\n",
       "      <td>1065000.0</td>\n",
       "      <td>2019</td>\n",
       "      <td>660</td>\n",
       "      <td>68000</td>\n",
       "      <td>Lahore</td>\n",
       "      <td>Automatic</td>\n",
       "      <td>43</td>\n",
       "      <td>0</td>\n",
       "      <td>...</td>\n",
       "      <td>0</td>\n",
       "      <td>0</td>\n",
       "      <td>0</td>\n",
       "      <td>0</td>\n",
       "      <td>0</td>\n",
       "      <td>1</td>\n",
       "      <td>0</td>\n",
       "      <td>0</td>\n",
       "      <td>1</td>\n",
       "      <td>0</td>\n",
       "    </tr>\n",
       "    <tr>\n",
       "      <th>2</th>\n",
       "      <td>A6</td>\n",
       "      <td>1.8 TFSI Business Class Edition</td>\n",
       "      <td>9300000.0</td>\n",
       "      <td>2015</td>\n",
       "      <td>1800</td>\n",
       "      <td>70000</td>\n",
       "      <td>Lahore</td>\n",
       "      <td>Automatic</td>\n",
       "      <td>1</td>\n",
       "      <td>0</td>\n",
       "      <td>...</td>\n",
       "      <td>0</td>\n",
       "      <td>0</td>\n",
       "      <td>0</td>\n",
       "      <td>0</td>\n",
       "      <td>1</td>\n",
       "      <td>0</td>\n",
       "      <td>1</td>\n",
       "      <td>0</td>\n",
       "      <td>1</td>\n",
       "      <td>0</td>\n",
       "    </tr>\n",
       "    <tr>\n",
       "      <th>3</th>\n",
       "      <td>Aqua</td>\n",
       "      <td>G</td>\n",
       "      <td>2375000.0</td>\n",
       "      <td>2014</td>\n",
       "      <td>1500</td>\n",
       "      <td>99900</td>\n",
       "      <td>Islamabad</td>\n",
       "      <td>Automatic</td>\n",
       "      <td>61</td>\n",
       "      <td>0</td>\n",
       "      <td>...</td>\n",
       "      <td>0</td>\n",
       "      <td>0</td>\n",
       "      <td>0</td>\n",
       "      <td>0</td>\n",
       "      <td>0</td>\n",
       "      <td>1</td>\n",
       "      <td>0</td>\n",
       "      <td>0</td>\n",
       "      <td>1</td>\n",
       "      <td>0</td>\n",
       "    </tr>\n",
       "    <tr>\n",
       "      <th>4</th>\n",
       "      <td>City</td>\n",
       "      <td>1.3 i-VTEC</td>\n",
       "      <td>2600000.0</td>\n",
       "      <td>2017</td>\n",
       "      <td>1300</td>\n",
       "      <td>55000</td>\n",
       "      <td>Islamabad</td>\n",
       "      <td>Manual</td>\n",
       "      <td>25</td>\n",
       "      <td>0</td>\n",
       "      <td>...</td>\n",
       "      <td>0</td>\n",
       "      <td>0</td>\n",
       "      <td>0</td>\n",
       "      <td>0</td>\n",
       "      <td>1</td>\n",
       "      <td>0</td>\n",
       "      <td>1</td>\n",
       "      <td>1</td>\n",
       "      <td>0</td>\n",
       "      <td>1</td>\n",
       "    </tr>\n",
       "    <tr>\n",
       "      <th>...</th>\n",
       "      <td>...</td>\n",
       "      <td>...</td>\n",
       "      <td>...</td>\n",
       "      <td>...</td>\n",
       "      <td>...</td>\n",
       "      <td>...</td>\n",
       "      <td>...</td>\n",
       "      <td>...</td>\n",
       "      <td>...</td>\n",
       "      <td>...</td>\n",
       "      <td>...</td>\n",
       "      <td>...</td>\n",
       "      <td>...</td>\n",
       "      <td>...</td>\n",
       "      <td>...</td>\n",
       "      <td>...</td>\n",
       "      <td>...</td>\n",
       "      <td>...</td>\n",
       "      <td>...</td>\n",
       "      <td>...</td>\n",
       "      <td>...</td>\n",
       "    </tr>\n",
       "    <tr>\n",
       "      <th>80567</th>\n",
       "      <td>Bolan</td>\n",
       "      <td>GLi 1.3 VVTi</td>\n",
       "      <td>750000.0</td>\n",
       "      <td>2015</td>\n",
       "      <td>800</td>\n",
       "      <td>98000</td>\n",
       "      <td>Lahore</td>\n",
       "      <td>Manual</td>\n",
       "      <td>59</td>\n",
       "      <td>0</td>\n",
       "      <td>...</td>\n",
       "      <td>0</td>\n",
       "      <td>0</td>\n",
       "      <td>0</td>\n",
       "      <td>0</td>\n",
       "      <td>1</td>\n",
       "      <td>0</td>\n",
       "      <td>1</td>\n",
       "      <td>1</td>\n",
       "      <td>0</td>\n",
       "      <td>1</td>\n",
       "    </tr>\n",
       "    <tr>\n",
       "      <th>80568</th>\n",
       "      <td>Alto</td>\n",
       "      <td>VXR</td>\n",
       "      <td>1480000.0</td>\n",
       "      <td>2020</td>\n",
       "      <td>660</td>\n",
       "      <td>7800</td>\n",
       "      <td>Karachi</td>\n",
       "      <td>Manual</td>\n",
       "      <td>59</td>\n",
       "      <td>0</td>\n",
       "      <td>...</td>\n",
       "      <td>0</td>\n",
       "      <td>0</td>\n",
       "      <td>0</td>\n",
       "      <td>0</td>\n",
       "      <td>1</td>\n",
       "      <td>0</td>\n",
       "      <td>1</td>\n",
       "      <td>1</td>\n",
       "      <td>0</td>\n",
       "      <td>1</td>\n",
       "    </tr>\n",
       "    <tr>\n",
       "      <th>80569</th>\n",
       "      <td>Corolla</td>\n",
       "      <td>GLi Automatic 1.3 VVTi</td>\n",
       "      <td>2700000.0</td>\n",
       "      <td>2016</td>\n",
       "      <td>1300</td>\n",
       "      <td>81000</td>\n",
       "      <td>Islamabad</td>\n",
       "      <td>Automatic</td>\n",
       "      <td>61</td>\n",
       "      <td>0</td>\n",
       "      <td>...</td>\n",
       "      <td>0</td>\n",
       "      <td>0</td>\n",
       "      <td>0</td>\n",
       "      <td>0</td>\n",
       "      <td>1</td>\n",
       "      <td>0</td>\n",
       "      <td>1</td>\n",
       "      <td>0</td>\n",
       "      <td>1</td>\n",
       "      <td>0</td>\n",
       "    </tr>\n",
       "    <tr>\n",
       "      <th>80570</th>\n",
       "      <td>X-PV</td>\n",
       "      <td>Standard</td>\n",
       "      <td>600000.0</td>\n",
       "      <td>2013</td>\n",
       "      <td>1000</td>\n",
       "      <td>2</td>\n",
       "      <td>Lahore</td>\n",
       "      <td>Manual</td>\n",
       "      <td>18</td>\n",
       "      <td>0</td>\n",
       "      <td>...</td>\n",
       "      <td>0</td>\n",
       "      <td>0</td>\n",
       "      <td>0</td>\n",
       "      <td>0</td>\n",
       "      <td>1</td>\n",
       "      <td>0</td>\n",
       "      <td>1</td>\n",
       "      <td>1</td>\n",
       "      <td>0</td>\n",
       "      <td>1</td>\n",
       "    </tr>\n",
       "    <tr>\n",
       "      <th>80571</th>\n",
       "      <td>Civic</td>\n",
       "      <td>VTi Prosmatec 1.8 i-VTEC</td>\n",
       "      <td>2620000.0</td>\n",
       "      <td>2013</td>\n",
       "      <td>1800</td>\n",
       "      <td>100000</td>\n",
       "      <td>Islamabad</td>\n",
       "      <td>Automatic</td>\n",
       "      <td>25</td>\n",
       "      <td>0</td>\n",
       "      <td>...</td>\n",
       "      <td>0</td>\n",
       "      <td>0</td>\n",
       "      <td>0</td>\n",
       "      <td>0</td>\n",
       "      <td>0</td>\n",
       "      <td>1</td>\n",
       "      <td>0</td>\n",
       "      <td>0</td>\n",
       "      <td>1</td>\n",
       "      <td>0</td>\n",
       "    </tr>\n",
       "  </tbody>\n",
       "</table>\n",
       "<p>80572 rows × 81 columns</p>\n",
       "</div>"
      ],
      "text/plain": [
       "         Model                          Version      Price  Make_Year    CC  \\\n",
       "0      Insight                     GLi 1.3 VVTi  7400000.0       2019  1500   \n",
       "1       Minica                     Black Minica  1065000.0       2019   660   \n",
       "2           A6  1.8 TFSI Business Class Edition  9300000.0       2015  1800   \n",
       "3         Aqua                                G  2375000.0       2014  1500   \n",
       "4         City                       1.3 i-VTEC  2600000.0       2017  1300   \n",
       "...        ...                              ...        ...        ...   ...   \n",
       "80567    Bolan                     GLi 1.3 VVTi   750000.0       2015   800   \n",
       "80568     Alto                              VXR  1480000.0       2020   660   \n",
       "80569  Corolla           GLi Automatic 1.3 VVTi  2700000.0       2016  1300   \n",
       "80570     X-PV                         Standard   600000.0       2013  1000   \n",
       "80571    Civic         VTi Prosmatec 1.8 i-VTEC  2620000.0       2013  1800   \n",
       "\n",
       "       Mileage Registered City Transmission  Make_label  Adam  ...  United  \\\n",
       "0         2000   Un-Registered    Automatic          25     0  ...       0   \n",
       "1        68000          Lahore    Automatic          43     0  ...       0   \n",
       "2        70000          Lahore    Automatic           1     0  ...       0   \n",
       "3        99900       Islamabad    Automatic          61     0  ...       0   \n",
       "4        55000       Islamabad       Manual          25     0  ...       0   \n",
       "...        ...             ...          ...         ...   ...  ...     ...   \n",
       "80567    98000          Lahore       Manual          59     0  ...       0   \n",
       "80568     7800         Karachi       Manual          59     0  ...       0   \n",
       "80569    81000       Islamabad    Automatic          61     0  ...       0   \n",
       "80570        2          Lahore       Manual          18     0  ...       0   \n",
       "80571   100000       Islamabad    Automatic          25     0  ...       0   \n",
       "\n",
       "       Volkswagen  Volvo  ZOTYE  Assembly_label  Imported  Local  \\\n",
       "0               0      0      0               0         1      0   \n",
       "1               0      0      0               0         1      0   \n",
       "2               0      0      0               1         0      1   \n",
       "3               0      0      0               0         1      0   \n",
       "4               0      0      0               1         0      1   \n",
       "...           ...    ...    ...             ...       ...    ...   \n",
       "80567           0      0      0               1         0      1   \n",
       "80568           0      0      0               1         0      1   \n",
       "80569           0      0      0               1         0      1   \n",
       "80570           0      0      0               1         0      1   \n",
       "80571           0      0      0               0         1      0   \n",
       "\n",
       "       Transmission_label  Automatic  Manual  \n",
       "0                       0          1       0  \n",
       "1                       0          1       0  \n",
       "2                       0          1       0  \n",
       "3                       0          1       0  \n",
       "4                       1          0       1  \n",
       "...                   ...        ...     ...  \n",
       "80567                   1          0       1  \n",
       "80568                   1          0       1  \n",
       "80569                   0          1       0  \n",
       "80570                   1          0       1  \n",
       "80571                   0          1       0  \n",
       "\n",
       "[80572 rows x 81 columns]"
      ]
     },
     "execution_count": 80,
     "metadata": {},
     "output_type": "execute_result"
    }
   ],
   "source": [
    "dfUsedCar.join(add_columns)"
   ]
  },
  {
   "cell_type": "code",
   "execution_count": 82,
   "id": "ce271bd2",
   "metadata": {},
   "outputs": [],
   "source": [
    "dfUsedCar.drop(['Transmission'], axis = 1, inplace = True)"
   ]
  },
  {
   "cell_type": "code",
   "execution_count": 83,
   "id": "ed8305ff",
   "metadata": {},
   "outputs": [
    {
     "data": {
      "text/plain": [
       "Index(['Model', 'Version', 'Price', 'Make_Year', 'CC', 'Mileage',\n",
       "       'Registered City', 'Make_label', 'Adam', 'Audi', 'BMW', 'Bentley',\n",
       "       'Buick', 'Cadillac', 'Changan', 'Chery', 'Chevrolet', 'Chrysler',\n",
       "       'Citroen', 'DFSK', 'Daehan', 'Daewoo', 'Daihatsu', 'Datsun', 'Dodge',\n",
       "       'Dongfeng', 'FAW', 'Fiat', 'Ford', 'GMC', 'Geely', 'Golden', 'Hino',\n",
       "       'Honda', 'Hummer', 'Hyundai', 'Isuzu', 'JAC', 'JMC', 'JW', 'Jaguar',\n",
       "       'Jeep', 'Jinbei', 'KIA', 'Land', 'Lexus', 'MG', 'MINI', 'Master',\n",
       "       'Mazda', 'Mercedes', 'Mitsubishi', 'Nissan', 'Others', 'Peugeot',\n",
       "       'Plymouth', 'Porsche', 'Prince', 'Proton', 'Range', 'Renault', 'Roma',\n",
       "       'Rover', 'Sogo', 'Sokon', 'SsangYong', 'Subaru', 'Suzuki', 'Tesla',\n",
       "       'Toyota', 'United', 'Volkswagen', 'Volvo', 'ZOTYE', 'Assembly_label',\n",
       "       'Imported', 'Local', 'Transmission_label'],\n",
       "      dtype='object')"
      ]
     },
     "execution_count": 83,
     "metadata": {},
     "output_type": "execute_result"
    }
   ],
   "source": [
    "dfUsedCar.columns\n"
   ]
  },
  {
   "cell_type": "code",
   "execution_count": 84,
   "id": "8781a7c0",
   "metadata": {},
   "outputs": [],
   "source": [
    "dfUsedCar = dfUsedCar.join(add_columns)"
   ]
  },
  {
   "cell_type": "code",
   "execution_count": 85,
   "id": "87a5f418",
   "metadata": {
    "scrolled": true
   },
   "outputs": [
    {
     "data": {
      "text/html": [
       "<div>\n",
       "<style scoped>\n",
       "    .dataframe tbody tr th:only-of-type {\n",
       "        vertical-align: middle;\n",
       "    }\n",
       "\n",
       "    .dataframe tbody tr th {\n",
       "        vertical-align: top;\n",
       "    }\n",
       "\n",
       "    .dataframe thead th {\n",
       "        text-align: right;\n",
       "    }\n",
       "</style>\n",
       "<table border=\"1\" class=\"dataframe\">\n",
       "  <thead>\n",
       "    <tr style=\"text-align: right;\">\n",
       "      <th></th>\n",
       "      <th>Model</th>\n",
       "      <th>Version</th>\n",
       "      <th>Price</th>\n",
       "      <th>Make_Year</th>\n",
       "      <th>CC</th>\n",
       "      <th>Mileage</th>\n",
       "      <th>Registered City</th>\n",
       "      <th>Make_label</th>\n",
       "      <th>Adam</th>\n",
       "      <th>Audi</th>\n",
       "      <th>...</th>\n",
       "      <th>United</th>\n",
       "      <th>Volkswagen</th>\n",
       "      <th>Volvo</th>\n",
       "      <th>ZOTYE</th>\n",
       "      <th>Assembly_label</th>\n",
       "      <th>Imported</th>\n",
       "      <th>Local</th>\n",
       "      <th>Transmission_label</th>\n",
       "      <th>Automatic</th>\n",
       "      <th>Manual</th>\n",
       "    </tr>\n",
       "  </thead>\n",
       "  <tbody>\n",
       "    <tr>\n",
       "      <th>0</th>\n",
       "      <td>Insight</td>\n",
       "      <td>GLi 1.3 VVTi</td>\n",
       "      <td>7400000.0</td>\n",
       "      <td>2019</td>\n",
       "      <td>1500</td>\n",
       "      <td>2000</td>\n",
       "      <td>Un-Registered</td>\n",
       "      <td>25</td>\n",
       "      <td>0</td>\n",
       "      <td>0</td>\n",
       "      <td>...</td>\n",
       "      <td>0</td>\n",
       "      <td>0</td>\n",
       "      <td>0</td>\n",
       "      <td>0</td>\n",
       "      <td>0</td>\n",
       "      <td>1</td>\n",
       "      <td>0</td>\n",
       "      <td>0</td>\n",
       "      <td>1</td>\n",
       "      <td>0</td>\n",
       "    </tr>\n",
       "    <tr>\n",
       "      <th>1</th>\n",
       "      <td>Minica</td>\n",
       "      <td>Black Minica</td>\n",
       "      <td>1065000.0</td>\n",
       "      <td>2019</td>\n",
       "      <td>660</td>\n",
       "      <td>68000</td>\n",
       "      <td>Lahore</td>\n",
       "      <td>43</td>\n",
       "      <td>0</td>\n",
       "      <td>0</td>\n",
       "      <td>...</td>\n",
       "      <td>0</td>\n",
       "      <td>0</td>\n",
       "      <td>0</td>\n",
       "      <td>0</td>\n",
       "      <td>0</td>\n",
       "      <td>1</td>\n",
       "      <td>0</td>\n",
       "      <td>0</td>\n",
       "      <td>1</td>\n",
       "      <td>0</td>\n",
       "    </tr>\n",
       "    <tr>\n",
       "      <th>2</th>\n",
       "      <td>A6</td>\n",
       "      <td>1.8 TFSI Business Class Edition</td>\n",
       "      <td>9300000.0</td>\n",
       "      <td>2015</td>\n",
       "      <td>1800</td>\n",
       "      <td>70000</td>\n",
       "      <td>Lahore</td>\n",
       "      <td>1</td>\n",
       "      <td>0</td>\n",
       "      <td>1</td>\n",
       "      <td>...</td>\n",
       "      <td>0</td>\n",
       "      <td>0</td>\n",
       "      <td>0</td>\n",
       "      <td>0</td>\n",
       "      <td>1</td>\n",
       "      <td>0</td>\n",
       "      <td>1</td>\n",
       "      <td>0</td>\n",
       "      <td>1</td>\n",
       "      <td>0</td>\n",
       "    </tr>\n",
       "    <tr>\n",
       "      <th>3</th>\n",
       "      <td>Aqua</td>\n",
       "      <td>G</td>\n",
       "      <td>2375000.0</td>\n",
       "      <td>2014</td>\n",
       "      <td>1500</td>\n",
       "      <td>99900</td>\n",
       "      <td>Islamabad</td>\n",
       "      <td>61</td>\n",
       "      <td>0</td>\n",
       "      <td>0</td>\n",
       "      <td>...</td>\n",
       "      <td>0</td>\n",
       "      <td>0</td>\n",
       "      <td>0</td>\n",
       "      <td>0</td>\n",
       "      <td>0</td>\n",
       "      <td>1</td>\n",
       "      <td>0</td>\n",
       "      <td>0</td>\n",
       "      <td>1</td>\n",
       "      <td>0</td>\n",
       "    </tr>\n",
       "    <tr>\n",
       "      <th>4</th>\n",
       "      <td>City</td>\n",
       "      <td>1.3 i-VTEC</td>\n",
       "      <td>2600000.0</td>\n",
       "      <td>2017</td>\n",
       "      <td>1300</td>\n",
       "      <td>55000</td>\n",
       "      <td>Islamabad</td>\n",
       "      <td>25</td>\n",
       "      <td>0</td>\n",
       "      <td>0</td>\n",
       "      <td>...</td>\n",
       "      <td>0</td>\n",
       "      <td>0</td>\n",
       "      <td>0</td>\n",
       "      <td>0</td>\n",
       "      <td>1</td>\n",
       "      <td>0</td>\n",
       "      <td>1</td>\n",
       "      <td>1</td>\n",
       "      <td>0</td>\n",
       "      <td>1</td>\n",
       "    </tr>\n",
       "    <tr>\n",
       "      <th>...</th>\n",
       "      <td>...</td>\n",
       "      <td>...</td>\n",
       "      <td>...</td>\n",
       "      <td>...</td>\n",
       "      <td>...</td>\n",
       "      <td>...</td>\n",
       "      <td>...</td>\n",
       "      <td>...</td>\n",
       "      <td>...</td>\n",
       "      <td>...</td>\n",
       "      <td>...</td>\n",
       "      <td>...</td>\n",
       "      <td>...</td>\n",
       "      <td>...</td>\n",
       "      <td>...</td>\n",
       "      <td>...</td>\n",
       "      <td>...</td>\n",
       "      <td>...</td>\n",
       "      <td>...</td>\n",
       "      <td>...</td>\n",
       "      <td>...</td>\n",
       "    </tr>\n",
       "    <tr>\n",
       "      <th>80567</th>\n",
       "      <td>Bolan</td>\n",
       "      <td>GLi 1.3 VVTi</td>\n",
       "      <td>750000.0</td>\n",
       "      <td>2015</td>\n",
       "      <td>800</td>\n",
       "      <td>98000</td>\n",
       "      <td>Lahore</td>\n",
       "      <td>59</td>\n",
       "      <td>0</td>\n",
       "      <td>0</td>\n",
       "      <td>...</td>\n",
       "      <td>0</td>\n",
       "      <td>0</td>\n",
       "      <td>0</td>\n",
       "      <td>0</td>\n",
       "      <td>1</td>\n",
       "      <td>0</td>\n",
       "      <td>1</td>\n",
       "      <td>1</td>\n",
       "      <td>0</td>\n",
       "      <td>1</td>\n",
       "    </tr>\n",
       "    <tr>\n",
       "      <th>80568</th>\n",
       "      <td>Alto</td>\n",
       "      <td>VXR</td>\n",
       "      <td>1480000.0</td>\n",
       "      <td>2020</td>\n",
       "      <td>660</td>\n",
       "      <td>7800</td>\n",
       "      <td>Karachi</td>\n",
       "      <td>59</td>\n",
       "      <td>0</td>\n",
       "      <td>0</td>\n",
       "      <td>...</td>\n",
       "      <td>0</td>\n",
       "      <td>0</td>\n",
       "      <td>0</td>\n",
       "      <td>0</td>\n",
       "      <td>1</td>\n",
       "      <td>0</td>\n",
       "      <td>1</td>\n",
       "      <td>1</td>\n",
       "      <td>0</td>\n",
       "      <td>1</td>\n",
       "    </tr>\n",
       "    <tr>\n",
       "      <th>80569</th>\n",
       "      <td>Corolla</td>\n",
       "      <td>GLi Automatic 1.3 VVTi</td>\n",
       "      <td>2700000.0</td>\n",
       "      <td>2016</td>\n",
       "      <td>1300</td>\n",
       "      <td>81000</td>\n",
       "      <td>Islamabad</td>\n",
       "      <td>61</td>\n",
       "      <td>0</td>\n",
       "      <td>0</td>\n",
       "      <td>...</td>\n",
       "      <td>0</td>\n",
       "      <td>0</td>\n",
       "      <td>0</td>\n",
       "      <td>0</td>\n",
       "      <td>1</td>\n",
       "      <td>0</td>\n",
       "      <td>1</td>\n",
       "      <td>0</td>\n",
       "      <td>1</td>\n",
       "      <td>0</td>\n",
       "    </tr>\n",
       "    <tr>\n",
       "      <th>80570</th>\n",
       "      <td>X-PV</td>\n",
       "      <td>Standard</td>\n",
       "      <td>600000.0</td>\n",
       "      <td>2013</td>\n",
       "      <td>1000</td>\n",
       "      <td>2</td>\n",
       "      <td>Lahore</td>\n",
       "      <td>18</td>\n",
       "      <td>0</td>\n",
       "      <td>0</td>\n",
       "      <td>...</td>\n",
       "      <td>0</td>\n",
       "      <td>0</td>\n",
       "      <td>0</td>\n",
       "      <td>0</td>\n",
       "      <td>1</td>\n",
       "      <td>0</td>\n",
       "      <td>1</td>\n",
       "      <td>1</td>\n",
       "      <td>0</td>\n",
       "      <td>1</td>\n",
       "    </tr>\n",
       "    <tr>\n",
       "      <th>80571</th>\n",
       "      <td>Civic</td>\n",
       "      <td>VTi Prosmatec 1.8 i-VTEC</td>\n",
       "      <td>2620000.0</td>\n",
       "      <td>2013</td>\n",
       "      <td>1800</td>\n",
       "      <td>100000</td>\n",
       "      <td>Islamabad</td>\n",
       "      <td>25</td>\n",
       "      <td>0</td>\n",
       "      <td>0</td>\n",
       "      <td>...</td>\n",
       "      <td>0</td>\n",
       "      <td>0</td>\n",
       "      <td>0</td>\n",
       "      <td>0</td>\n",
       "      <td>0</td>\n",
       "      <td>1</td>\n",
       "      <td>0</td>\n",
       "      <td>0</td>\n",
       "      <td>1</td>\n",
       "      <td>0</td>\n",
       "    </tr>\n",
       "  </tbody>\n",
       "</table>\n",
       "<p>80572 rows × 80 columns</p>\n",
       "</div>"
      ],
      "text/plain": [
       "         Model                          Version      Price  Make_Year    CC  \\\n",
       "0      Insight                     GLi 1.3 VVTi  7400000.0       2019  1500   \n",
       "1       Minica                     Black Minica  1065000.0       2019   660   \n",
       "2           A6  1.8 TFSI Business Class Edition  9300000.0       2015  1800   \n",
       "3         Aqua                                G  2375000.0       2014  1500   \n",
       "4         City                       1.3 i-VTEC  2600000.0       2017  1300   \n",
       "...        ...                              ...        ...        ...   ...   \n",
       "80567    Bolan                     GLi 1.3 VVTi   750000.0       2015   800   \n",
       "80568     Alto                              VXR  1480000.0       2020   660   \n",
       "80569  Corolla           GLi Automatic 1.3 VVTi  2700000.0       2016  1300   \n",
       "80570     X-PV                         Standard   600000.0       2013  1000   \n",
       "80571    Civic         VTi Prosmatec 1.8 i-VTEC  2620000.0       2013  1800   \n",
       "\n",
       "       Mileage Registered City  Make_label  Adam  Audi  ...  United  \\\n",
       "0         2000   Un-Registered          25     0     0  ...       0   \n",
       "1        68000          Lahore          43     0     0  ...       0   \n",
       "2        70000          Lahore           1     0     1  ...       0   \n",
       "3        99900       Islamabad          61     0     0  ...       0   \n",
       "4        55000       Islamabad          25     0     0  ...       0   \n",
       "...        ...             ...         ...   ...   ...  ...     ...   \n",
       "80567    98000          Lahore          59     0     0  ...       0   \n",
       "80568     7800         Karachi          59     0     0  ...       0   \n",
       "80569    81000       Islamabad          61     0     0  ...       0   \n",
       "80570        2          Lahore          18     0     0  ...       0   \n",
       "80571   100000       Islamabad          25     0     0  ...       0   \n",
       "\n",
       "       Volkswagen  Volvo  ZOTYE  Assembly_label  Imported  Local  \\\n",
       "0               0      0      0               0         1      0   \n",
       "1               0      0      0               0         1      0   \n",
       "2               0      0      0               1         0      1   \n",
       "3               0      0      0               0         1      0   \n",
       "4               0      0      0               1         0      1   \n",
       "...           ...    ...    ...             ...       ...    ...   \n",
       "80567           0      0      0               1         0      1   \n",
       "80568           0      0      0               1         0      1   \n",
       "80569           0      0      0               1         0      1   \n",
       "80570           0      0      0               1         0      1   \n",
       "80571           0      0      0               0         1      0   \n",
       "\n",
       "       Transmission_label  Automatic  Manual  \n",
       "0                       0          1       0  \n",
       "1                       0          1       0  \n",
       "2                       0          1       0  \n",
       "3                       0          1       0  \n",
       "4                       1          0       1  \n",
       "...                   ...        ...     ...  \n",
       "80567                   1          0       1  \n",
       "80568                   1          0       1  \n",
       "80569                   0          1       0  \n",
       "80570                   1          0       1  \n",
       "80571                   0          1       0  \n",
       "\n",
       "[80572 rows x 80 columns]"
      ]
     },
     "execution_count": 85,
     "metadata": {},
     "output_type": "execute_result"
    }
   ],
   "source": [
    "dfUsedCar"
   ]
  },
  {
   "cell_type": "markdown",
   "id": "36f982fe",
   "metadata": {},
   "source": [
    "# 5.2 Final dataset"
   ]
  },
  {
   "cell_type": "code",
   "execution_count": 86,
   "id": "c1ded8b5",
   "metadata": {},
   "outputs": [
    {
     "data": {
      "text/html": [
       "<div>\n",
       "<style scoped>\n",
       "    .dataframe tbody tr th:only-of-type {\n",
       "        vertical-align: middle;\n",
       "    }\n",
       "\n",
       "    .dataframe tbody tr th {\n",
       "        vertical-align: top;\n",
       "    }\n",
       "\n",
       "    .dataframe thead th {\n",
       "        text-align: right;\n",
       "    }\n",
       "</style>\n",
       "<table border=\"1\" class=\"dataframe\">\n",
       "  <thead>\n",
       "    <tr style=\"text-align: right;\">\n",
       "      <th></th>\n",
       "      <th>Model</th>\n",
       "      <th>Version</th>\n",
       "      <th>Price</th>\n",
       "      <th>Make_Year</th>\n",
       "      <th>CC</th>\n",
       "      <th>Mileage</th>\n",
       "      <th>Registered City</th>\n",
       "      <th>Make_label</th>\n",
       "      <th>Adam</th>\n",
       "      <th>Audi</th>\n",
       "      <th>...</th>\n",
       "      <th>United</th>\n",
       "      <th>Volkswagen</th>\n",
       "      <th>Volvo</th>\n",
       "      <th>ZOTYE</th>\n",
       "      <th>Assembly_label</th>\n",
       "      <th>Imported</th>\n",
       "      <th>Local</th>\n",
       "      <th>Transmission_label</th>\n",
       "      <th>Automatic</th>\n",
       "      <th>Manual</th>\n",
       "    </tr>\n",
       "  </thead>\n",
       "  <tbody>\n",
       "    <tr>\n",
       "      <th>0</th>\n",
       "      <td>Insight</td>\n",
       "      <td>GLi 1.3 VVTi</td>\n",
       "      <td>7400000.0</td>\n",
       "      <td>2019</td>\n",
       "      <td>1500</td>\n",
       "      <td>2000</td>\n",
       "      <td>Un-Registered</td>\n",
       "      <td>25</td>\n",
       "      <td>0</td>\n",
       "      <td>0</td>\n",
       "      <td>...</td>\n",
       "      <td>0</td>\n",
       "      <td>0</td>\n",
       "      <td>0</td>\n",
       "      <td>0</td>\n",
       "      <td>0</td>\n",
       "      <td>1</td>\n",
       "      <td>0</td>\n",
       "      <td>0</td>\n",
       "      <td>1</td>\n",
       "      <td>0</td>\n",
       "    </tr>\n",
       "    <tr>\n",
       "      <th>1</th>\n",
       "      <td>Minica</td>\n",
       "      <td>Black Minica</td>\n",
       "      <td>1065000.0</td>\n",
       "      <td>2019</td>\n",
       "      <td>660</td>\n",
       "      <td>68000</td>\n",
       "      <td>Lahore</td>\n",
       "      <td>43</td>\n",
       "      <td>0</td>\n",
       "      <td>0</td>\n",
       "      <td>...</td>\n",
       "      <td>0</td>\n",
       "      <td>0</td>\n",
       "      <td>0</td>\n",
       "      <td>0</td>\n",
       "      <td>0</td>\n",
       "      <td>1</td>\n",
       "      <td>0</td>\n",
       "      <td>0</td>\n",
       "      <td>1</td>\n",
       "      <td>0</td>\n",
       "    </tr>\n",
       "    <tr>\n",
       "      <th>2</th>\n",
       "      <td>A6</td>\n",
       "      <td>1.8 TFSI Business Class Edition</td>\n",
       "      <td>9300000.0</td>\n",
       "      <td>2015</td>\n",
       "      <td>1800</td>\n",
       "      <td>70000</td>\n",
       "      <td>Lahore</td>\n",
       "      <td>1</td>\n",
       "      <td>0</td>\n",
       "      <td>1</td>\n",
       "      <td>...</td>\n",
       "      <td>0</td>\n",
       "      <td>0</td>\n",
       "      <td>0</td>\n",
       "      <td>0</td>\n",
       "      <td>1</td>\n",
       "      <td>0</td>\n",
       "      <td>1</td>\n",
       "      <td>0</td>\n",
       "      <td>1</td>\n",
       "      <td>0</td>\n",
       "    </tr>\n",
       "    <tr>\n",
       "      <th>3</th>\n",
       "      <td>Aqua</td>\n",
       "      <td>G</td>\n",
       "      <td>2375000.0</td>\n",
       "      <td>2014</td>\n",
       "      <td>1500</td>\n",
       "      <td>99900</td>\n",
       "      <td>Islamabad</td>\n",
       "      <td>61</td>\n",
       "      <td>0</td>\n",
       "      <td>0</td>\n",
       "      <td>...</td>\n",
       "      <td>0</td>\n",
       "      <td>0</td>\n",
       "      <td>0</td>\n",
       "      <td>0</td>\n",
       "      <td>0</td>\n",
       "      <td>1</td>\n",
       "      <td>0</td>\n",
       "      <td>0</td>\n",
       "      <td>1</td>\n",
       "      <td>0</td>\n",
       "    </tr>\n",
       "    <tr>\n",
       "      <th>4</th>\n",
       "      <td>City</td>\n",
       "      <td>1.3 i-VTEC</td>\n",
       "      <td>2600000.0</td>\n",
       "      <td>2017</td>\n",
       "      <td>1300</td>\n",
       "      <td>55000</td>\n",
       "      <td>Islamabad</td>\n",
       "      <td>25</td>\n",
       "      <td>0</td>\n",
       "      <td>0</td>\n",
       "      <td>...</td>\n",
       "      <td>0</td>\n",
       "      <td>0</td>\n",
       "      <td>0</td>\n",
       "      <td>0</td>\n",
       "      <td>1</td>\n",
       "      <td>0</td>\n",
       "      <td>1</td>\n",
       "      <td>1</td>\n",
       "      <td>0</td>\n",
       "      <td>1</td>\n",
       "    </tr>\n",
       "    <tr>\n",
       "      <th>...</th>\n",
       "      <td>...</td>\n",
       "      <td>...</td>\n",
       "      <td>...</td>\n",
       "      <td>...</td>\n",
       "      <td>...</td>\n",
       "      <td>...</td>\n",
       "      <td>...</td>\n",
       "      <td>...</td>\n",
       "      <td>...</td>\n",
       "      <td>...</td>\n",
       "      <td>...</td>\n",
       "      <td>...</td>\n",
       "      <td>...</td>\n",
       "      <td>...</td>\n",
       "      <td>...</td>\n",
       "      <td>...</td>\n",
       "      <td>...</td>\n",
       "      <td>...</td>\n",
       "      <td>...</td>\n",
       "      <td>...</td>\n",
       "      <td>...</td>\n",
       "    </tr>\n",
       "    <tr>\n",
       "      <th>80567</th>\n",
       "      <td>Bolan</td>\n",
       "      <td>GLi 1.3 VVTi</td>\n",
       "      <td>750000.0</td>\n",
       "      <td>2015</td>\n",
       "      <td>800</td>\n",
       "      <td>98000</td>\n",
       "      <td>Lahore</td>\n",
       "      <td>59</td>\n",
       "      <td>0</td>\n",
       "      <td>0</td>\n",
       "      <td>...</td>\n",
       "      <td>0</td>\n",
       "      <td>0</td>\n",
       "      <td>0</td>\n",
       "      <td>0</td>\n",
       "      <td>1</td>\n",
       "      <td>0</td>\n",
       "      <td>1</td>\n",
       "      <td>1</td>\n",
       "      <td>0</td>\n",
       "      <td>1</td>\n",
       "    </tr>\n",
       "    <tr>\n",
       "      <th>80568</th>\n",
       "      <td>Alto</td>\n",
       "      <td>VXR</td>\n",
       "      <td>1480000.0</td>\n",
       "      <td>2020</td>\n",
       "      <td>660</td>\n",
       "      <td>7800</td>\n",
       "      <td>Karachi</td>\n",
       "      <td>59</td>\n",
       "      <td>0</td>\n",
       "      <td>0</td>\n",
       "      <td>...</td>\n",
       "      <td>0</td>\n",
       "      <td>0</td>\n",
       "      <td>0</td>\n",
       "      <td>0</td>\n",
       "      <td>1</td>\n",
       "      <td>0</td>\n",
       "      <td>1</td>\n",
       "      <td>1</td>\n",
       "      <td>0</td>\n",
       "      <td>1</td>\n",
       "    </tr>\n",
       "    <tr>\n",
       "      <th>80569</th>\n",
       "      <td>Corolla</td>\n",
       "      <td>GLi Automatic 1.3 VVTi</td>\n",
       "      <td>2700000.0</td>\n",
       "      <td>2016</td>\n",
       "      <td>1300</td>\n",
       "      <td>81000</td>\n",
       "      <td>Islamabad</td>\n",
       "      <td>61</td>\n",
       "      <td>0</td>\n",
       "      <td>0</td>\n",
       "      <td>...</td>\n",
       "      <td>0</td>\n",
       "      <td>0</td>\n",
       "      <td>0</td>\n",
       "      <td>0</td>\n",
       "      <td>1</td>\n",
       "      <td>0</td>\n",
       "      <td>1</td>\n",
       "      <td>0</td>\n",
       "      <td>1</td>\n",
       "      <td>0</td>\n",
       "    </tr>\n",
       "    <tr>\n",
       "      <th>80570</th>\n",
       "      <td>X-PV</td>\n",
       "      <td>Standard</td>\n",
       "      <td>600000.0</td>\n",
       "      <td>2013</td>\n",
       "      <td>1000</td>\n",
       "      <td>2</td>\n",
       "      <td>Lahore</td>\n",
       "      <td>18</td>\n",
       "      <td>0</td>\n",
       "      <td>0</td>\n",
       "      <td>...</td>\n",
       "      <td>0</td>\n",
       "      <td>0</td>\n",
       "      <td>0</td>\n",
       "      <td>0</td>\n",
       "      <td>1</td>\n",
       "      <td>0</td>\n",
       "      <td>1</td>\n",
       "      <td>1</td>\n",
       "      <td>0</td>\n",
       "      <td>1</td>\n",
       "    </tr>\n",
       "    <tr>\n",
       "      <th>80571</th>\n",
       "      <td>Civic</td>\n",
       "      <td>VTi Prosmatec 1.8 i-VTEC</td>\n",
       "      <td>2620000.0</td>\n",
       "      <td>2013</td>\n",
       "      <td>1800</td>\n",
       "      <td>100000</td>\n",
       "      <td>Islamabad</td>\n",
       "      <td>25</td>\n",
       "      <td>0</td>\n",
       "      <td>0</td>\n",
       "      <td>...</td>\n",
       "      <td>0</td>\n",
       "      <td>0</td>\n",
       "      <td>0</td>\n",
       "      <td>0</td>\n",
       "      <td>0</td>\n",
       "      <td>1</td>\n",
       "      <td>0</td>\n",
       "      <td>0</td>\n",
       "      <td>1</td>\n",
       "      <td>0</td>\n",
       "    </tr>\n",
       "  </tbody>\n",
       "</table>\n",
       "<p>80572 rows × 80 columns</p>\n",
       "</div>"
      ],
      "text/plain": [
       "         Model                          Version      Price  Make_Year    CC  \\\n",
       "0      Insight                     GLi 1.3 VVTi  7400000.0       2019  1500   \n",
       "1       Minica                     Black Minica  1065000.0       2019   660   \n",
       "2           A6  1.8 TFSI Business Class Edition  9300000.0       2015  1800   \n",
       "3         Aqua                                G  2375000.0       2014  1500   \n",
       "4         City                       1.3 i-VTEC  2600000.0       2017  1300   \n",
       "...        ...                              ...        ...        ...   ...   \n",
       "80567    Bolan                     GLi 1.3 VVTi   750000.0       2015   800   \n",
       "80568     Alto                              VXR  1480000.0       2020   660   \n",
       "80569  Corolla           GLi Automatic 1.3 VVTi  2700000.0       2016  1300   \n",
       "80570     X-PV                         Standard   600000.0       2013  1000   \n",
       "80571    Civic         VTi Prosmatec 1.8 i-VTEC  2620000.0       2013  1800   \n",
       "\n",
       "       Mileage Registered City  Make_label  Adam  Audi  ...  United  \\\n",
       "0         2000   Un-Registered          25     0     0  ...       0   \n",
       "1        68000          Lahore          43     0     0  ...       0   \n",
       "2        70000          Lahore           1     0     1  ...       0   \n",
       "3        99900       Islamabad          61     0     0  ...       0   \n",
       "4        55000       Islamabad          25     0     0  ...       0   \n",
       "...        ...             ...         ...   ...   ...  ...     ...   \n",
       "80567    98000          Lahore          59     0     0  ...       0   \n",
       "80568     7800         Karachi          59     0     0  ...       0   \n",
       "80569    81000       Islamabad          61     0     0  ...       0   \n",
       "80570        2          Lahore          18     0     0  ...       0   \n",
       "80571   100000       Islamabad          25     0     0  ...       0   \n",
       "\n",
       "       Volkswagen  Volvo  ZOTYE  Assembly_label  Imported  Local  \\\n",
       "0               0      0      0               0         1      0   \n",
       "1               0      0      0               0         1      0   \n",
       "2               0      0      0               1         0      1   \n",
       "3               0      0      0               0         1      0   \n",
       "4               0      0      0               1         0      1   \n",
       "...           ...    ...    ...             ...       ...    ...   \n",
       "80567           0      0      0               1         0      1   \n",
       "80568           0      0      0               1         0      1   \n",
       "80569           0      0      0               1         0      1   \n",
       "80570           0      0      0               1         0      1   \n",
       "80571           0      0      0               0         1      0   \n",
       "\n",
       "       Transmission_label  Automatic  Manual  \n",
       "0                       0          1       0  \n",
       "1                       0          1       0  \n",
       "2                       0          1       0  \n",
       "3                       0          1       0  \n",
       "4                       1          0       1  \n",
       "...                   ...        ...     ...  \n",
       "80567                   1          0       1  \n",
       "80568                   1          0       1  \n",
       "80569                   0          1       0  \n",
       "80570                   1          0       1  \n",
       "80571                   0          1       0  \n",
       "\n",
       "[80572 rows x 80 columns]"
      ]
     },
     "execution_count": 86,
     "metadata": {},
     "output_type": "execute_result"
    }
   ],
   "source": [
    "dfUsedCar"
   ]
  },
  {
   "cell_type": "markdown",
   "id": "24325389",
   "metadata": {},
   "source": [
    "# 5.3 StandarScaler"
   ]
  },
  {
   "cell_type": "code",
   "execution_count": 87,
   "id": "1329ed38",
   "metadata": {},
   "outputs": [
    {
     "data": {
      "text/plain": [
       "Model                 object\n",
       "Version               object\n",
       "Price                 object\n",
       "Make_Year              int64\n",
       "CC                     int64\n",
       "                       ...  \n",
       "Imported               uint8\n",
       "Local                  uint8\n",
       "Transmission_label     int32\n",
       "Automatic              uint8\n",
       "Manual                 uint8\n",
       "Length: 80, dtype: object"
      ]
     },
     "execution_count": 87,
     "metadata": {},
     "output_type": "execute_result"
    }
   ],
   "source": [
    "dfUsedCar.dtypes"
   ]
  },
  {
   "cell_type": "code",
   "execution_count": 88,
   "id": "08ba9512",
   "metadata": {},
   "outputs": [
    {
     "data": {
      "text/plain": [
       "Index(['Model', 'Version', 'Price', 'Make_Year', 'CC', 'Mileage',\n",
       "       'Registered City', 'Make_label', 'Adam', 'Audi', 'BMW', 'Bentley',\n",
       "       'Buick', 'Cadillac', 'Changan', 'Chery', 'Chevrolet', 'Chrysler',\n",
       "       'Citroen', 'DFSK', 'Daehan', 'Daewoo', 'Daihatsu', 'Datsun', 'Dodge',\n",
       "       'Dongfeng', 'FAW', 'Fiat', 'Ford', 'GMC', 'Geely', 'Golden', 'Hino',\n",
       "       'Honda', 'Hummer', 'Hyundai', 'Isuzu', 'JAC', 'JMC', 'JW', 'Jaguar',\n",
       "       'Jeep', 'Jinbei', 'KIA', 'Land', 'Lexus', 'MG', 'MINI', 'Master',\n",
       "       'Mazda', 'Mercedes', 'Mitsubishi', 'Nissan', 'Others', 'Peugeot',\n",
       "       'Plymouth', 'Porsche', 'Prince', 'Proton', 'Range', 'Renault', 'Roma',\n",
       "       'Rover', 'Sogo', 'Sokon', 'SsangYong', 'Subaru', 'Suzuki', 'Tesla',\n",
       "       'Toyota', 'United', 'Volkswagen', 'Volvo', 'ZOTYE', 'Assembly_label',\n",
       "       'Imported', 'Local', 'Transmission_label', 'Automatic', 'Manual'],\n",
       "      dtype='object')"
      ]
     },
     "execution_count": 88,
     "metadata": {},
     "output_type": "execute_result"
    }
   ],
   "source": [
    "dfUsedCar.columns"
   ]
  },
  {
   "cell_type": "code",
   "execution_count": 106,
   "id": "c0fb316a",
   "metadata": {},
   "outputs": [],
   "source": [
    "scaler = StandardScaler().fit(X_train)"
   ]
  },
  {
   "cell_type": "code",
   "execution_count": 107,
   "id": "a9534ba0",
   "metadata": {},
   "outputs": [
    {
     "name": "stdout",
     "output_type": "stream",
     "text": [
      "StandardScaler()\n"
     ]
    }
   ],
   "source": [
    "print(scaler)"
   ]
  },
  {
   "cell_type": "code",
   "execution_count": 108,
   "id": "6516ad84",
   "metadata": {},
   "outputs": [
    {
     "data": {
      "text/plain": [
       "array([2.51661165e+06, 2.01169721e+03, 1.40156494e+03, 8.60537766e+04,\n",
       "       4.89395983e+01, 4.13710361e-05, 4.17847465e-03, 2.56500424e-03,\n",
       "       2.06855181e-05, 2.06855181e-05, 6.20565542e-05, 2.89597253e-03,\n",
       "       1.44798626e-04, 1.15838901e-03, 4.13710361e-05, 2.06855181e-05,\n",
       "       1.17907453e-03, 6.20565542e-05, 1.36524419e-03, 3.84543781e-02,\n",
       "       0.00000000e+00, 8.27420723e-05, 2.06855181e-05, 4.69561260e-03,\n",
       "       4.13710361e-05, 5.99880024e-04, 4.13710361e-05, 0.00000000e+00,\n",
       "       2.06855181e-05, 6.20565542e-05, 1.88114101e-01, 4.13710361e-05,\n",
       "       1.46660323e-02, 6.82622096e-04, 8.27420723e-05, 2.06855181e-05,\n",
       "       1.86169663e-04, 2.06855181e-05, 2.06855181e-04, 0.00000000e+00,\n",
       "       1.70034959e-02, 3.51653807e-04, 1.32387316e-03, 4.34395879e-03,\n",
       "       6.20565542e-05, 2.06855181e-04, 2.99940012e-03, 8.93614381e-03,\n",
       "       1.18528019e-02, 1.51417992e-02, 1.24113108e-04, 4.13710361e-05,\n",
       "       0.00000000e+00, 4.13710361e-04, 1.59278489e-03, 4.75766916e-04,\n",
       "       8.27420723e-04, 0.00000000e+00, 1.24113108e-04, 2.06855181e-05,\n",
       "       1.03427590e-04, 0.00000000e+00, 1.86169663e-04, 9.92904867e-04,\n",
       "       3.01263885e-01, 2.06855181e-05, 3.68471133e-01, 1.11701798e-03,\n",
       "       1.44798626e-04, 0.00000000e+00, 6.20565542e-05, 6.78195395e-01,\n",
       "       3.21804605e-01, 6.78195395e-01, 4.98458929e-01, 5.01541071e-01,\n",
       "       4.98458929e-01])"
      ]
     },
     "execution_count": 108,
     "metadata": {},
     "output_type": "execute_result"
    }
   ],
   "source": [
    "#means of x values\n",
    "scaler.mean_"
   ]
  },
  {
   "cell_type": "code",
   "execution_count": 109,
   "id": "ce2a2e5e",
   "metadata": {},
   "outputs": [
    {
     "data": {
      "text/plain": [
       "array([3.62655335e+06, 6.95870618e+00, 6.80793275e+02, 8.25960984e+04,\n",
       "       1.68579987e+01, 6.43189899e-03, 6.45059300e-02, 5.05808758e-02,\n",
       "       4.54808643e-03, 4.54808643e-03, 7.87735382e-03, 5.37362622e-02,\n",
       "       1.20323589e-02, 3.40153957e-02, 6.43189899e-03, 4.54808643e-03,\n",
       "       3.43174054e-02, 7.87735382e-03, 3.69239800e-02, 1.92290507e-01,\n",
       "       1.00000000e+00, 9.09589061e-03, 4.54808643e-03, 6.83634685e-02,\n",
       "       6.43189899e-03, 2.44851009e-02, 6.43189899e-03, 1.00000000e+00,\n",
       "       4.54808643e-03, 7.87735382e-03, 3.90803258e-01, 6.43189899e-03,\n",
       "       1.20212062e-01, 2.61181187e-02, 9.09589061e-03, 4.54808643e-03,\n",
       "       1.36431303e-02, 4.54808643e-03, 1.43809733e-02, 1.00000000e+00,\n",
       "       1.29284094e-01, 1.87491372e-02, 3.63609752e-02, 6.57654074e-02,\n",
       "       7.87735382e-03, 1.43809733e-02, 5.46845839e-02, 9.41078591e-02,\n",
       "       1.08223440e-01, 1.22116850e-01, 1.11399149e-02, 6.43189899e-03,\n",
       "       1.00000000e+00, 2.03356634e-02, 3.98779128e-02, 2.18068925e-02,\n",
       "       2.87530189e-02, 1.00000000e+00, 1.11399149e-02, 4.54808643e-03,\n",
       "       1.01694097e-02, 1.00000000e+00, 1.36431303e-02, 3.14947457e-02,\n",
       "       4.58807102e-01, 4.54808643e-03, 4.82390047e-01, 3.34031473e-02,\n",
       "       1.20323589e-02, 1.00000000e+00, 7.87735382e-03, 4.67168493e-01,\n",
       "       4.67168493e-01, 4.67168493e-01, 4.99997625e-01, 4.99997625e-01,\n",
       "       4.99997625e-01])"
      ]
     },
     "execution_count": 109,
     "metadata": {},
     "output_type": "execute_result"
    }
   ],
   "source": [
    "#variance of x values\n",
    "scaler.scale_"
   ]
  },
  {
   "cell_type": "code",
   "execution_count": 110,
   "id": "3aa429d0",
   "metadata": {},
   "outputs": [
    {
     "data": {
      "text/plain": [
       "array([[-0.5505535 , -0.96242106, -0.88362351, ...,  1.00308691,\n",
       "        -1.00308691,  1.00308691],\n",
       "       [-0.01974648,  0.90574231,  0.14458876, ...,  1.00308691,\n",
       "        -1.00308691,  1.00308691],\n",
       "       [-0.52435783, -0.53130644, -0.88362351, ...,  1.00308691,\n",
       "        -1.00308691,  1.00308691],\n",
       "       ...,\n",
       "       [-0.08730373, -1.10612594,  0.8790261 , ..., -0.99692259,\n",
       "         0.99692259, -0.99692259],\n",
       "       [-0.64430643,  0.76203744, -0.88362351, ...,  1.00308691,\n",
       "        -1.00308691,  1.00308691],\n",
       "       [-0.45404313, -1.82465031,  0.29147623, ..., -0.99692259,\n",
       "         0.99692259, -0.99692259]])"
      ]
     },
     "execution_count": 110,
     "metadata": {},
     "output_type": "execute_result"
    }
   ],
   "source": [
    "#transform values\n",
    "scaler.transform(X_train)"
   ]
  },
  {
   "cell_type": "code",
   "execution_count": 111,
   "id": "49ae00b6",
   "metadata": {},
   "outputs": [],
   "source": [
    "X_train_scaled = scaler.transform(X_train)"
   ]
  },
  {
   "cell_type": "code",
   "execution_count": 112,
   "id": "bfb9bd46",
   "metadata": {},
   "outputs": [
    {
     "name": "stdout",
     "output_type": "stream",
     "text": [
      "[[-0.5505535  -0.96242106 -0.88362351 ...  1.00308691 -1.00308691\n",
      "   1.00308691]\n",
      " [-0.01974648  0.90574231  0.14458876 ...  1.00308691 -1.00308691\n",
      "   1.00308691]\n",
      " [-0.52435783 -0.53130644 -0.88362351 ...  1.00308691 -1.00308691\n",
      "   1.00308691]\n",
      " ...\n",
      " [-0.08730373 -1.10612594  0.8790261  ... -0.99692259  0.99692259\n",
      "  -0.99692259]\n",
      " [-0.64430643  0.76203744 -0.88362351 ...  1.00308691 -1.00308691\n",
      "   1.00308691]\n",
      " [-0.45404313 -1.82465031  0.29147623 ... -0.99692259  0.99692259\n",
      "  -0.99692259]]\n"
     ]
    }
   ],
   "source": [
    "#Standarlize values\n",
    "print(X_train_scaled)"
   ]
  },
  {
   "cell_type": "code",
   "execution_count": 113,
   "id": "8a253e24",
   "metadata": {},
   "outputs": [
    {
     "name": "stdout",
     "output_type": "stream",
     "text": [
      "[-6.07025112e-17  1.32635722e-14 -1.39189535e-16 -1.20523146e-17\n",
      " -1.91661198e-16 -4.99730116e-18 -2.35167114e-18 -8.81876676e-18\n",
      " -4.40938338e-19 -2.20469169e-18  1.32281501e-18 -1.79314924e-17\n",
      " -5.87917784e-19  1.76375335e-17 -5.29126006e-18 -5.87917784e-19\n",
      "  1.85194102e-17  1.32281501e-18 -1.14643968e-17  2.16059786e-17\n",
      "  0.00000000e+00  4.70334227e-18 -1.61677391e-18 -5.42354156e-17\n",
      " -1.17583557e-18 -1.05825201e-17 -4.40938338e-18  0.00000000e+00\n",
      " -1.76375335e-18  1.76375335e-18  3.48341287e-17 -7.64293119e-18\n",
      "  5.20307239e-17 -1.20523146e-17  4.11542449e-18 -1.02885612e-18\n",
      "  6.83454424e-18 -4.40938338e-19  6.61407507e-18  0.00000000e+00\n",
      "  1.45509652e-17 -9.99460233e-18  1.32281501e-17  9.70064344e-18\n",
      "  2.35167114e-18  7.05501341e-18 -5.43823950e-18 -6.74635657e-17\n",
      "  6.17313673e-18  1.81519616e-17 -2.49865058e-18 -3.23354781e-18\n",
      "  0.00000000e+00  4.40938338e-18  2.35167114e-18  4.11542449e-18\n",
      "  2.35167114e-18  0.00000000e+00 -2.93958892e-18 -1.02885612e-18\n",
      " -6.32011618e-18  0.00000000e+00  7.34897230e-18 -1.16113762e-17\n",
      " -7.36367024e-17 -1.32281501e-18  7.23138874e-17  8.37782842e-18\n",
      " -4.40938338e-19  0.00000000e+00  1.17583557e-18 -7.75316578e-17\n",
      "  7.75316578e-17 -7.75316578e-17  1.07772679e-16  1.77018370e-16\n",
      "  1.07772679e-16]\n"
     ]
    }
   ],
   "source": [
    "print(X_train_scaled.mean(axis=0))"
   ]
  },
  {
   "cell_type": "code",
   "execution_count": 114,
   "id": "7b6961f4",
   "metadata": {},
   "outputs": [
    {
     "name": "stdout",
     "output_type": "stream",
     "text": [
      "[1. 1. 1. 1. 1. 1. 1. 1. 1. 1. 1. 1. 1. 1. 1. 1. 1. 1. 1. 1. 0. 1. 1. 1.\n",
      " 1. 1. 1. 0. 1. 1. 1. 1. 1. 1. 1. 1. 1. 1. 1. 0. 1. 1. 1. 1. 1. 1. 1. 1.\n",
      " 1. 1. 1. 1. 0. 1. 1. 1. 1. 0. 1. 1. 1. 0. 1. 1. 1. 1. 1. 1. 1. 0. 1. 1.\n",
      " 1. 1. 1. 1. 1.]\n"
     ]
    }
   ],
   "source": [
    "#StandardDevation\n",
    "print(X_train_scaled.std(axis=0))"
   ]
  },
  {
   "cell_type": "code",
   "execution_count": 115,
   "id": "85ab4fce",
   "metadata": {},
   "outputs": [],
   "source": [
    "#test set"
   ]
  },
  {
   "cell_type": "code",
   "execution_count": 116,
   "id": "11d48f29",
   "metadata": {},
   "outputs": [
    {
     "data": {
      "text/html": [
       "<div>\n",
       "<style scoped>\n",
       "    .dataframe tbody tr th:only-of-type {\n",
       "        vertical-align: middle;\n",
       "    }\n",
       "\n",
       "    .dataframe tbody tr th {\n",
       "        vertical-align: top;\n",
       "    }\n",
       "\n",
       "    .dataframe thead th {\n",
       "        text-align: right;\n",
       "    }\n",
       "</style>\n",
       "<table border=\"1\" class=\"dataframe\">\n",
       "  <thead>\n",
       "    <tr style=\"text-align: right;\">\n",
       "      <th></th>\n",
       "      <th>Price</th>\n",
       "      <th>Make_Year</th>\n",
       "      <th>CC</th>\n",
       "      <th>Mileage</th>\n",
       "      <th>Make_label</th>\n",
       "      <th>Adam</th>\n",
       "      <th>Audi</th>\n",
       "      <th>BMW</th>\n",
       "      <th>Bentley</th>\n",
       "      <th>Buick</th>\n",
       "      <th>...</th>\n",
       "      <th>United</th>\n",
       "      <th>Volkswagen</th>\n",
       "      <th>Volvo</th>\n",
       "      <th>ZOTYE</th>\n",
       "      <th>Assembly_label</th>\n",
       "      <th>Imported</th>\n",
       "      <th>Local</th>\n",
       "      <th>Transmission_label</th>\n",
       "      <th>Automatic</th>\n",
       "      <th>Manual</th>\n",
       "    </tr>\n",
       "  </thead>\n",
       "  <tbody>\n",
       "    <tr>\n",
       "      <th>10753</th>\n",
       "      <td>1680000.0</td>\n",
       "      <td>1998</td>\n",
       "      <td>1800</td>\n",
       "      <td>200000</td>\n",
       "      <td>42</td>\n",
       "      <td>0</td>\n",
       "      <td>0</td>\n",
       "      <td>0</td>\n",
       "      <td>0</td>\n",
       "      <td>0</td>\n",
       "      <td>...</td>\n",
       "      <td>0</td>\n",
       "      <td>0</td>\n",
       "      <td>0</td>\n",
       "      <td>0</td>\n",
       "      <td>0</td>\n",
       "      <td>1</td>\n",
       "      <td>0</td>\n",
       "      <td>1</td>\n",
       "      <td>0</td>\n",
       "      <td>1</td>\n",
       "    </tr>\n",
       "    <tr>\n",
       "      <th>42220</th>\n",
       "      <td>950000.0</td>\n",
       "      <td>2017</td>\n",
       "      <td>800</td>\n",
       "      <td>32000</td>\n",
       "      <td>59</td>\n",
       "      <td>0</td>\n",
       "      <td>0</td>\n",
       "      <td>0</td>\n",
       "      <td>0</td>\n",
       "      <td>0</td>\n",
       "      <td>...</td>\n",
       "      <td>0</td>\n",
       "      <td>0</td>\n",
       "      <td>0</td>\n",
       "      <td>0</td>\n",
       "      <td>1</td>\n",
       "      <td>0</td>\n",
       "      <td>1</td>\n",
       "      <td>1</td>\n",
       "      <td>0</td>\n",
       "      <td>1</td>\n",
       "    </tr>\n",
       "    <tr>\n",
       "      <th>21212</th>\n",
       "      <td>900000.0</td>\n",
       "      <td>2018</td>\n",
       "      <td>800</td>\n",
       "      <td>38500</td>\n",
       "      <td>59</td>\n",
       "      <td>0</td>\n",
       "      <td>0</td>\n",
       "      <td>0</td>\n",
       "      <td>0</td>\n",
       "      <td>0</td>\n",
       "      <td>...</td>\n",
       "      <td>0</td>\n",
       "      <td>0</td>\n",
       "      <td>0</td>\n",
       "      <td>0</td>\n",
       "      <td>1</td>\n",
       "      <td>0</td>\n",
       "      <td>1</td>\n",
       "      <td>1</td>\n",
       "      <td>0</td>\n",
       "      <td>1</td>\n",
       "    </tr>\n",
       "    <tr>\n",
       "      <th>26548</th>\n",
       "      <td>1370000.0</td>\n",
       "      <td>2016</td>\n",
       "      <td>1000</td>\n",
       "      <td>66000</td>\n",
       "      <td>59</td>\n",
       "      <td>0</td>\n",
       "      <td>0</td>\n",
       "      <td>0</td>\n",
       "      <td>0</td>\n",
       "      <td>0</td>\n",
       "      <td>...</td>\n",
       "      <td>0</td>\n",
       "      <td>0</td>\n",
       "      <td>0</td>\n",
       "      <td>0</td>\n",
       "      <td>1</td>\n",
       "      <td>0</td>\n",
       "      <td>1</td>\n",
       "      <td>1</td>\n",
       "      <td>0</td>\n",
       "      <td>1</td>\n",
       "    </tr>\n",
       "    <tr>\n",
       "      <th>11191</th>\n",
       "      <td>1260000.0</td>\n",
       "      <td>2008</td>\n",
       "      <td>1300</td>\n",
       "      <td>135000</td>\n",
       "      <td>25</td>\n",
       "      <td>0</td>\n",
       "      <td>0</td>\n",
       "      <td>0</td>\n",
       "      <td>0</td>\n",
       "      <td>0</td>\n",
       "      <td>...</td>\n",
       "      <td>0</td>\n",
       "      <td>0</td>\n",
       "      <td>0</td>\n",
       "      <td>0</td>\n",
       "      <td>1</td>\n",
       "      <td>0</td>\n",
       "      <td>1</td>\n",
       "      <td>1</td>\n",
       "      <td>0</td>\n",
       "      <td>1</td>\n",
       "    </tr>\n",
       "  </tbody>\n",
       "</table>\n",
       "<p>5 rows × 77 columns</p>\n",
       "</div>"
      ],
      "text/plain": [
       "           Price  Make_Year    CC  Mileage  Make_label  Adam  Audi  BMW  \\\n",
       "10753  1680000.0       1998  1800   200000          42     0     0    0   \n",
       "42220   950000.0       2017   800    32000          59     0     0    0   \n",
       "21212   900000.0       2018   800    38500          59     0     0    0   \n",
       "26548  1370000.0       2016  1000    66000          59     0     0    0   \n",
       "11191  1260000.0       2008  1300   135000          25     0     0    0   \n",
       "\n",
       "       Bentley  Buick  ...  United  Volkswagen  Volvo  ZOTYE  Assembly_label  \\\n",
       "10753        0      0  ...       0           0      0      0               0   \n",
       "42220        0      0  ...       0           0      0      0               1   \n",
       "21212        0      0  ...       0           0      0      0               1   \n",
       "26548        0      0  ...       0           0      0      0               1   \n",
       "11191        0      0  ...       0           0      0      0               1   \n",
       "\n",
       "       Imported  Local  Transmission_label  Automatic  Manual  \n",
       "10753         1      0                   1          0       1  \n",
       "42220         0      1                   1          0       1  \n",
       "21212         0      1                   1          0       1  \n",
       "26548         0      1                   1          0       1  \n",
       "11191         0      1                   1          0       1  \n",
       "\n",
       "[5 rows x 77 columns]"
      ]
     },
     "execution_count": 116,
     "metadata": {},
     "output_type": "execute_result"
    }
   ],
   "source": [
    "X_test.head()"
   ]
  },
  {
   "cell_type": "code",
   "execution_count": 117,
   "id": "e259f8fe",
   "metadata": {},
   "outputs": [],
   "source": [
    "scaler = StandardScaler().fit(X_test)"
   ]
  },
  {
   "cell_type": "code",
   "execution_count": 118,
   "id": "aedc7913",
   "metadata": {},
   "outputs": [
    {
     "data": {
      "text/plain": [
       "array([2.55256502e+06, 2.01176472e+03, 1.40786072e+03, 8.50534916e+04,\n",
       "       4.89797077e+01, 3.10279562e-05, 3.72335474e-03, 3.35101927e-03,\n",
       "       0.00000000e+00, 6.20559124e-05, 3.10279562e-05, 3.56821496e-03,\n",
       "       2.17195693e-04, 1.52036985e-03, 6.20559124e-05, 0.00000000e+00,\n",
       "       1.67550963e-03, 3.10279562e-04, 1.05495051e-03, 3.58993453e-02,\n",
       "       6.20559124e-05, 3.10279562e-05, 6.20559124e-05, 4.43699773e-03,\n",
       "       3.10279562e-05, 3.72335474e-04, 6.20559124e-05, 3.10279562e-05,\n",
       "       3.10279562e-05, 9.30838686e-05, 1.89022309e-01, 6.20559124e-05,\n",
       "       1.47382792e-02, 5.27475255e-04, 1.55139781e-04, 6.20559124e-05,\n",
       "       1.86167737e-04, 3.10279562e-05, 2.17195693e-04, 3.10279562e-05,\n",
       "       1.54829501e-02, 4.65419343e-04, 1.61345372e-03, 4.37494182e-03,\n",
       "       6.20559124e-05, 9.30838686e-05, 2.76148810e-03, 9.18427503e-03,\n",
       "       1.16975395e-02, 1.46451953e-02, 1.55139781e-04, 9.30838686e-05,\n",
       "       3.10279562e-05, 3.72335474e-04, 1.83064942e-03, 3.41307518e-04,\n",
       "       1.11700642e-03, 3.10279562e-05, 1.24111825e-04, 0.00000000e+00,\n",
       "       9.30838686e-05, 3.10279562e-05, 1.86167737e-04, 1.11700642e-03,\n",
       "       2.99264637e-01, 3.10279562e-05, 3.71714915e-01, 1.02392255e-03,\n",
       "       1.55139781e-04, 6.20559124e-05, 9.30838686e-05, 6.73678985e-01,\n",
       "       3.26321015e-01, 6.73678985e-01, 4.98526172e-01, 5.01473828e-01,\n",
       "       4.98526172e-01])"
      ]
     },
     "execution_count": 118,
     "metadata": {},
     "output_type": "execute_result"
    }
   ],
   "source": [
    "scaler.mean_"
   ]
  },
  {
   "cell_type": "code",
   "execution_count": 119,
   "id": "55f2ddd6",
   "metadata": {},
   "outputs": [
    {
     "data": {
      "text/plain": [
       "array([3.74351053e+06, 6.94512659e+00, 6.89891187e+02, 8.17026977e+04,\n",
       "       1.68701078e+01, 5.57018792e-03, 6.09055939e-02, 5.77909157e-02,\n",
       "       1.00000000e+00, 7.87731309e-03, 5.57018792e-03, 5.96278694e-02,\n",
       "       1.47359601e-02, 3.89622680e-02, 7.87731309e-03, 1.00000000e+00,\n",
       "       4.08986834e-02, 1.76120211e-02, 3.24628648e-02, 1.86039196e-01,\n",
       "       7.87731309e-03, 5.57018792e-03, 7.87731309e-03, 6.64628527e-02,\n",
       "       5.57018792e-03, 1.92924037e-02, 7.87731309e-03, 5.57018792e-03,\n",
       "       5.57018792e-03, 9.64754912e-03, 3.91526341e-01, 7.87731309e-03,\n",
       "       1.20503371e-01, 2.29607714e-02, 1.24545459e-02, 7.87731309e-03,\n",
       "       1.36430597e-02, 5.57018792e-03, 1.47359601e-02, 5.57018792e-03,\n",
       "       1.23463470e-01, 2.15685588e-02, 4.01354019e-02, 6.59984978e-02,\n",
       "       7.87731309e-03, 9.64754912e-03, 5.24772549e-02, 9.53935224e-02,\n",
       "       1.07520728e-01, 1.20127905e-01, 1.24545459e-02, 9.64754912e-03,\n",
       "       5.57018792e-03, 1.92924037e-02, 4.27469079e-02, 1.84713569e-02,\n",
       "       3.34029747e-02, 5.57018792e-03, 1.11398573e-02, 1.00000000e+00,\n",
       "       9.64754912e-03, 5.57018792e-03, 1.36430597e-02, 3.34029747e-02,\n",
       "       4.57935928e-01, 5.57018792e-03, 4.83262803e-01, 3.19824035e-02,\n",
       "       1.24545459e-02, 7.87731309e-03, 9.64754912e-03, 4.68866303e-01,\n",
       "       4.68866303e-01, 4.68866303e-01, 4.99997828e-01, 4.99997828e-01,\n",
       "       4.99997828e-01])"
      ]
     },
     "execution_count": 119,
     "metadata": {},
     "output_type": "execute_result"
    }
   ],
   "source": [
    "scaler.scale_"
   ]
  },
  {
   "cell_type": "code",
   "execution_count": 120,
   "id": "d5edc17c",
   "metadata": {},
   "outputs": [
    {
     "data": {
      "text/plain": [
       "array([[-0.23308737, -1.98192428,  0.56840744, ...,  1.00295201,\n",
       "        -1.00295201,  1.00295201],\n",
       "       [-0.42809149,  0.75380699, -0.88109651, ...,  1.00295201,\n",
       "        -1.00295201,  1.00295201],\n",
       "       [-0.44144794,  0.89779285, -0.88109651, ...,  1.00295201,\n",
       "        -1.00295201,  1.00295201],\n",
       "       ...,\n",
       "       [-0.45480439,  0.75380699, -0.88109651, ...,  1.00295201,\n",
       "        -1.00295201,  1.00295201],\n",
       "       [ 0.13261215,  1.32975042,  0.13355626, ..., -0.99705668,\n",
       "         0.99705668, -0.99705668],\n",
       "       [-0.47884599, -1.69395257,  0.27850665, ...,  1.00295201,\n",
       "        -1.00295201,  1.00295201]])"
      ]
     },
     "execution_count": 120,
     "metadata": {},
     "output_type": "execute_result"
    }
   ],
   "source": [
    "scaler.transform(X_test)"
   ]
  },
  {
   "cell_type": "code",
   "execution_count": 121,
   "id": "9bc9b467",
   "metadata": {},
   "outputs": [],
   "source": [
    "#save above result in a new variable\n",
    "X_test_scaled = scaler.transform(X_test)"
   ]
  },
  {
   "cell_type": "code",
   "execution_count": 122,
   "id": "f3dcd78a",
   "metadata": {},
   "outputs": [
    {
     "name": "stdout",
     "output_type": "stream",
     "text": [
      "[[-0.23308737 -1.98192428  0.56840744 ...  1.00295201 -1.00295201\n",
      "   1.00295201]\n",
      " [-0.42809149  0.75380699 -0.88109651 ...  1.00295201 -1.00295201\n",
      "   1.00295201]\n",
      " [-0.44144794  0.89779285 -0.88109651 ...  1.00295201 -1.00295201\n",
      "   1.00295201]\n",
      " ...\n",
      " [-0.45480439  0.75380699 -0.88109651 ...  1.00295201 -1.00295201\n",
      "   1.00295201]\n",
      " [ 0.13261215  1.32975042  0.13355626 ... -0.99705668  0.99705668\n",
      "  -0.99705668]\n",
      " [-0.47884599 -1.69395257  0.27850665 ...  1.00295201 -1.00295201\n",
      "   1.00295201]]\n"
     ]
    }
   ],
   "source": [
    "#display data in new variable\n",
    "print(X_test_scaled)"
   ]
  },
  {
   "cell_type": "code",
   "execution_count": 123,
   "id": "a5d38152",
   "metadata": {},
   "outputs": [
    {
     "name": "stdout",
     "output_type": "stream",
     "text": [
      "[-5.20301857e-17  1.40887161e-14 -1.01855703e-16 -4.85027155e-18\n",
      " -4.27705764e-17 -4.62980466e-18 -5.51167222e-18 -5.55576560e-17\n",
      "  0.00000000e+00  4.40933778e-19 -3.52747022e-18 -7.71634111e-18\n",
      "  8.37774177e-18  1.74168842e-17 -4.40933778e-19  0.00000000e+00\n",
      " -3.52747022e-18  4.40933778e-18  2.24876227e-17 -5.32427536e-17\n",
      " -1.76373511e-18  1.98420200e-18 -1.32280133e-18 -1.71964173e-17\n",
      " -4.62980466e-18  1.14642782e-17  1.76373511e-18  2.20466889e-18\n",
      " -3.52747022e-18  8.81867555e-19 -1.32280133e-18  1.32280133e-18\n",
      " -4.85027155e-18  3.52747022e-18 -4.85027155e-18  0.00000000e+00\n",
      "  1.32280133e-18 -4.62980466e-18  5.07073844e-18 -4.40933778e-19\n",
      " -2.38104240e-17  3.08653644e-18 -1.91806193e-17  1.76373511e-18\n",
      " -1.32280133e-18  8.81867555e-19 -7.05494044e-18 -5.68804573e-17\n",
      " -3.26290995e-17  3.27393330e-17 -4.18887089e-18  3.52747022e-18\n",
      " -1.76373511e-18  1.23461458e-17  1.91806193e-17  0.00000000e+00\n",
      "  1.27870795e-17 -4.62980466e-18  1.76373511e-18  0.00000000e+00\n",
      "  2.64560267e-18  4.40933778e-19  1.76373511e-18  1.36689471e-17\n",
      "  3.74793711e-17 -4.40933778e-19  1.14642782e-17 -1.17949785e-17\n",
      " -4.62980466e-18 -1.32280133e-18  2.42513578e-18 -1.14532549e-16\n",
      "  1.10233444e-18 -1.14532549e-16  2.13852882e-17 -7.73838780e-17\n",
      "  2.13852882e-17]\n"
     ]
    }
   ],
   "source": [
    "#print mean value in new variable(X_test_scaled)\n",
    "print(X_test_scaled.mean(axis=0))"
   ]
  },
  {
   "cell_type": "code",
   "execution_count": 124,
   "id": "f24566b5",
   "metadata": {},
   "outputs": [
    {
     "name": "stdout",
     "output_type": "stream",
     "text": [
      "[1. 1. 1. 1. 1. 1. 1. 1. 0. 1. 1. 1. 1. 1. 1. 0. 1. 1. 1. 1. 1. 1. 1. 1.\n",
      " 1. 1. 1. 1. 1. 1. 1. 1. 1. 1. 1. 1. 1. 1. 1. 1. 1. 1. 1. 1. 1. 1. 1. 1.\n",
      " 1. 1. 1. 1. 1. 1. 1. 1. 1. 1. 1. 0. 1. 1. 1. 1. 1. 1. 1. 1. 1. 1. 1. 1.\n",
      " 1. 1. 1. 1. 1.]\n"
     ]
    }
   ],
   "source": [
    "#standardDevation of newly created variable\n",
    "print(X_test_scaled.std(axis=0))"
   ]
  },
  {
   "cell_type": "markdown",
   "id": "44d62b66",
   "metadata": {},
   "source": [
    "# 5.4 MinMaxScaler"
   ]
  },
  {
   "cell_type": "code",
   "execution_count": 125,
   "id": "5ec36b76",
   "metadata": {},
   "outputs": [
    {
     "data": {
      "text/plain": [
       "Model                 object\n",
       "Version               object\n",
       "Price                 object\n",
       "Make_Year              int64\n",
       "CC                     int64\n",
       "                       ...  \n",
       "Imported               uint8\n",
       "Local                  uint8\n",
       "Transmission_label     int32\n",
       "Automatic              uint8\n",
       "Manual                 uint8\n",
       "Length: 80, dtype: object"
      ]
     },
     "execution_count": 125,
     "metadata": {},
     "output_type": "execute_result"
    }
   ],
   "source": [
    "dfUsedCar.dtypes"
   ]
  },
  {
   "cell_type": "code",
   "execution_count": 126,
   "id": "9ac7b5cd",
   "metadata": {},
   "outputs": [],
   "source": [
    "X = dfUsedCar.iloc[:, [3,4]]\n",
    "y = dfUsedCar.iloc[:, 2]"
   ]
  },
  {
   "cell_type": "code",
   "execution_count": 127,
   "id": "3cb48488",
   "metadata": {},
   "outputs": [],
   "source": [
    "#create train and test dataset\n",
    "X_train, X_test, y_train, y_test = train_test_split(X, y, random_state = 40)"
   ]
  },
  {
   "cell_type": "code",
   "execution_count": 128,
   "id": "d729ea9c",
   "metadata": {},
   "outputs": [
    {
     "data": {
      "text/html": [
       "<div>\n",
       "<style scoped>\n",
       "    .dataframe tbody tr th:only-of-type {\n",
       "        vertical-align: middle;\n",
       "    }\n",
       "\n",
       "    .dataframe tbody tr th {\n",
       "        vertical-align: top;\n",
       "    }\n",
       "\n",
       "    .dataframe thead th {\n",
       "        text-align: right;\n",
       "    }\n",
       "</style>\n",
       "<table border=\"1\" class=\"dataframe\">\n",
       "  <thead>\n",
       "    <tr style=\"text-align: right;\">\n",
       "      <th></th>\n",
       "      <th>Make_Year</th>\n",
       "      <th>CC</th>\n",
       "    </tr>\n",
       "  </thead>\n",
       "  <tbody>\n",
       "    <tr>\n",
       "      <th>66779</th>\n",
       "      <td>2010</td>\n",
       "      <td>800</td>\n",
       "    </tr>\n",
       "    <tr>\n",
       "      <th>25178</th>\n",
       "      <td>2017</td>\n",
       "      <td>1500</td>\n",
       "    </tr>\n",
       "    <tr>\n",
       "      <th>58113</th>\n",
       "      <td>2013</td>\n",
       "      <td>1300</td>\n",
       "    </tr>\n",
       "    <tr>\n",
       "      <th>21750</th>\n",
       "      <td>2007</td>\n",
       "      <td>1000</td>\n",
       "    </tr>\n",
       "    <tr>\n",
       "      <th>56382</th>\n",
       "      <td>2011</td>\n",
       "      <td>660</td>\n",
       "    </tr>\n",
       "  </tbody>\n",
       "</table>\n",
       "</div>"
      ],
      "text/plain": [
       "       Make_Year    CC\n",
       "66779       2010   800\n",
       "25178       2017  1500\n",
       "58113       2013  1300\n",
       "21750       2007  1000\n",
       "56382       2011   660"
      ]
     },
     "execution_count": 128,
     "metadata": {},
     "output_type": "execute_result"
    }
   ],
   "source": [
    "X_train.head()"
   ]
  },
  {
   "cell_type": "code",
   "execution_count": 129,
   "id": "344700d4",
   "metadata": {},
   "outputs": [],
   "source": [
    "scaler = MinMaxScaler().fit(X_train)"
   ]
  },
  {
   "cell_type": "code",
   "execution_count": 130,
   "id": "ce81a4e9",
   "metadata": {},
   "outputs": [
    {
     "name": "stdout",
     "output_type": "stream",
     "text": [
      "MinMaxScaler()\n"
     ]
    }
   ],
   "source": [
    "print(scaler)"
   ]
  },
  {
   "cell_type": "code",
   "execution_count": 131,
   "id": "6eebaf61",
   "metadata": {},
   "outputs": [
    {
     "data": {
      "text/plain": [
       "array([1.99e+03, 1.00e+00])"
      ]
     },
     "execution_count": 131,
     "metadata": {},
     "output_type": "execute_result"
    }
   ],
   "source": [
    "#minimum value in Make year and cc\n",
    "scaler.data_min_"
   ]
  },
  {
   "cell_type": "code",
   "execution_count": 132,
   "id": "e01413b6",
   "metadata": {},
   "outputs": [
    {
     "data": {
      "text/plain": [
       "array([ 2021., 10000.])"
      ]
     },
     "execution_count": 132,
     "metadata": {},
     "output_type": "execute_result"
    }
   ],
   "source": [
    "#maximum value in Make year and cc\n",
    "scaler.data_max_"
   ]
  },
  {
   "cell_type": "code",
   "execution_count": 133,
   "id": "a47bd6a4",
   "metadata": {},
   "outputs": [
    {
     "data": {
      "text/html": [
       "<div>\n",
       "<style scoped>\n",
       "    .dataframe tbody tr th:only-of-type {\n",
       "        vertical-align: middle;\n",
       "    }\n",
       "\n",
       "    .dataframe tbody tr th {\n",
       "        vertical-align: top;\n",
       "    }\n",
       "\n",
       "    .dataframe thead th {\n",
       "        text-align: right;\n",
       "    }\n",
       "</style>\n",
       "<table border=\"1\" class=\"dataframe\">\n",
       "  <thead>\n",
       "    <tr style=\"text-align: right;\">\n",
       "      <th></th>\n",
       "      <th>Make_Year</th>\n",
       "      <th>CC</th>\n",
       "    </tr>\n",
       "  </thead>\n",
       "  <tbody>\n",
       "    <tr>\n",
       "      <th>count</th>\n",
       "      <td>60429.000000</td>\n",
       "      <td>60429.000000</td>\n",
       "    </tr>\n",
       "    <tr>\n",
       "      <th>mean</th>\n",
       "      <td>2011.712605</td>\n",
       "      <td>1405.170779</td>\n",
       "    </tr>\n",
       "    <tr>\n",
       "      <th>std</th>\n",
       "      <td>6.949112</td>\n",
       "      <td>686.134938</td>\n",
       "    </tr>\n",
       "    <tr>\n",
       "      <th>min</th>\n",
       "      <td>1990.000000</td>\n",
       "      <td>1.000000</td>\n",
       "    </tr>\n",
       "    <tr>\n",
       "      <th>25%</th>\n",
       "      <td>2007.000000</td>\n",
       "      <td>1000.000000</td>\n",
       "    </tr>\n",
       "    <tr>\n",
       "      <th>50%</th>\n",
       "      <td>2013.000000</td>\n",
       "      <td>1300.000000</td>\n",
       "    </tr>\n",
       "    <tr>\n",
       "      <th>75%</th>\n",
       "      <td>2017.000000</td>\n",
       "      <td>1600.000000</td>\n",
       "    </tr>\n",
       "    <tr>\n",
       "      <th>max</th>\n",
       "      <td>2021.000000</td>\n",
       "      <td>10000.000000</td>\n",
       "    </tr>\n",
       "  </tbody>\n",
       "</table>\n",
       "</div>"
      ],
      "text/plain": [
       "          Make_Year            CC\n",
       "count  60429.000000  60429.000000\n",
       "mean    2011.712605   1405.170779\n",
       "std        6.949112    686.134938\n",
       "min     1990.000000      1.000000\n",
       "25%     2007.000000   1000.000000\n",
       "50%     2013.000000   1300.000000\n",
       "75%     2017.000000   1600.000000\n",
       "max     2021.000000  10000.000000"
      ]
     },
     "execution_count": 133,
     "metadata": {},
     "output_type": "execute_result"
    }
   ],
   "source": [
    "X_train.describe()"
   ]
  },
  {
   "cell_type": "code",
   "execution_count": 134,
   "id": "9ea00310",
   "metadata": {},
   "outputs": [
    {
     "data": {
      "text/plain": [
       "(0, 1)"
      ]
     },
     "execution_count": 134,
     "metadata": {},
     "output_type": "execute_result"
    }
   ],
   "source": [
    "scaler.feature_range"
   ]
  },
  {
   "cell_type": "code",
   "execution_count": 135,
   "id": "eb1d3e71",
   "metadata": {},
   "outputs": [
    {
     "data": {
      "text/plain": [
       "array([[0.64516129, 0.07990799],\n",
       "       [0.87096774, 0.14991499],\n",
       "       [0.74193548, 0.12991299],\n",
       "       ...,\n",
       "       [0.4516129 , 0.19991999],\n",
       "       [0.87096774, 0.07990799],\n",
       "       [0.29032258, 0.15991599]])"
      ]
     },
     "execution_count": 135,
     "metadata": {},
     "output_type": "execute_result"
    }
   ],
   "source": [
    "scaler.transform(X_train)"
   ]
  },
  {
   "cell_type": "code",
   "execution_count": 136,
   "id": "02693884",
   "metadata": {},
   "outputs": [],
   "source": [
    "#save above values in one variable\n",
    "X_train_scaled = scaler.transform(X_train)"
   ]
  },
  {
   "cell_type": "code",
   "execution_count": 137,
   "id": "1d4abb5e",
   "metadata": {},
   "outputs": [
    {
     "name": "stdout",
     "output_type": "stream",
     "text": [
      "[[0.64516129 0.07990799]\n",
      " [0.87096774 0.14991499]\n",
      " [0.74193548 0.12991299]\n",
      " ...\n",
      " [0.4516129  0.19991999]\n",
      " [0.87096774 0.07990799]\n",
      " [0.29032258 0.15991599]]\n"
     ]
    }
   ],
   "source": [
    "#this values we are use for our ML model\n",
    "print(X_train_scaled)"
   ]
  },
  {
   "cell_type": "code",
   "execution_count": 138,
   "id": "f93695e5",
   "metadata": {},
   "outputs": [],
   "source": [
    "scaler = MinMaxScaler().fit(X_test)"
   ]
  },
  {
   "cell_type": "code",
   "execution_count": 139,
   "id": "7a497ef4",
   "metadata": {},
   "outputs": [
    {
     "name": "stdout",
     "output_type": "stream",
     "text": [
      "MinMaxScaler()\n"
     ]
    }
   ],
   "source": [
    "print(scaler)"
   ]
  },
  {
   "cell_type": "code",
   "execution_count": 140,
   "id": "ee4e0c16",
   "metadata": {},
   "outputs": [
    {
     "data": {
      "text/plain": [
       "array([1.99e+03, 1.00e+00])"
      ]
     },
     "execution_count": 140,
     "metadata": {},
     "output_type": "execute_result"
    }
   ],
   "source": [
    "scaler.data_min_"
   ]
  },
  {
   "cell_type": "code",
   "execution_count": 141,
   "id": "1cc59363",
   "metadata": {},
   "outputs": [
    {
     "data": {
      "text/plain": [
       "array([2021., 7000.])"
      ]
     },
     "execution_count": 141,
     "metadata": {},
     "output_type": "execute_result"
    }
   ],
   "source": [
    "scaler.data_max_"
   ]
  },
  {
   "cell_type": "code",
   "execution_count": 142,
   "id": "bcad7e70",
   "metadata": {},
   "outputs": [
    {
     "data": {
      "text/plain": [
       "(0, 1)"
      ]
     },
     "execution_count": 142,
     "metadata": {},
     "output_type": "execute_result"
    }
   ],
   "source": [
    "scaler.feature_range"
   ]
  },
  {
   "cell_type": "code",
   "execution_count": 143,
   "id": "b0199335",
   "metadata": {},
   "outputs": [
    {
     "data": {
      "text/html": [
       "<div>\n",
       "<style scoped>\n",
       "    .dataframe tbody tr th:only-of-type {\n",
       "        vertical-align: middle;\n",
       "    }\n",
       "\n",
       "    .dataframe tbody tr th {\n",
       "        vertical-align: top;\n",
       "    }\n",
       "\n",
       "    .dataframe thead th {\n",
       "        text-align: right;\n",
       "    }\n",
       "</style>\n",
       "<table border=\"1\" class=\"dataframe\">\n",
       "  <thead>\n",
       "    <tr style=\"text-align: right;\">\n",
       "      <th></th>\n",
       "      <th>Make_Year</th>\n",
       "      <th>CC</th>\n",
       "    </tr>\n",
       "  </thead>\n",
       "  <tbody>\n",
       "    <tr>\n",
       "      <th>count</th>\n",
       "      <td>20143.000000</td>\n",
       "      <td>20143.000000</td>\n",
       "    </tr>\n",
       "    <tr>\n",
       "      <th>mean</th>\n",
       "      <td>2011.759023</td>\n",
       "      <td>1400.820732</td>\n",
       "    </tr>\n",
       "    <tr>\n",
       "      <th>std</th>\n",
       "      <td>6.966301</td>\n",
       "      <td>679.409546</td>\n",
       "    </tr>\n",
       "    <tr>\n",
       "      <th>min</th>\n",
       "      <td>1990.000000</td>\n",
       "      <td>1.000000</td>\n",
       "    </tr>\n",
       "    <tr>\n",
       "      <th>25%</th>\n",
       "      <td>2007.000000</td>\n",
       "      <td>1000.000000</td>\n",
       "    </tr>\n",
       "    <tr>\n",
       "      <th>50%</th>\n",
       "      <td>2014.000000</td>\n",
       "      <td>1300.000000</td>\n",
       "    </tr>\n",
       "    <tr>\n",
       "      <th>75%</th>\n",
       "      <td>2017.000000</td>\n",
       "      <td>1600.000000</td>\n",
       "    </tr>\n",
       "    <tr>\n",
       "      <th>max</th>\n",
       "      <td>2021.000000</td>\n",
       "      <td>7000.000000</td>\n",
       "    </tr>\n",
       "  </tbody>\n",
       "</table>\n",
       "</div>"
      ],
      "text/plain": [
       "          Make_Year            CC\n",
       "count  20143.000000  20143.000000\n",
       "mean    2011.759023   1400.820732\n",
       "std        6.966301    679.409546\n",
       "min     1990.000000      1.000000\n",
       "25%     2007.000000   1000.000000\n",
       "50%     2014.000000   1300.000000\n",
       "75%     2017.000000   1600.000000\n",
       "max     2021.000000   7000.000000"
      ]
     },
     "execution_count": 143,
     "metadata": {},
     "output_type": "execute_result"
    }
   ],
   "source": [
    "X_test.describe()"
   ]
  },
  {
   "cell_type": "code",
   "execution_count": 144,
   "id": "e0907da3",
   "metadata": {},
   "outputs": [
    {
     "data": {
      "text/plain": [
       "array([[0.25806452, 0.25703672],\n",
       "       [0.87096774, 0.11415917],\n",
       "       [0.90322581, 0.11415917],\n",
       "       ...,\n",
       "       [0.64516129, 0.18559794],\n",
       "       [0.80645161, 0.38562652],\n",
       "       [1.        , 0.39991427]])"
      ]
     },
     "execution_count": 144,
     "metadata": {},
     "output_type": "execute_result"
    }
   ],
   "source": [
    "scaler.transform(X_test)"
   ]
  },
  {
   "cell_type": "code",
   "execution_count": 145,
   "id": "0866319b",
   "metadata": {},
   "outputs": [],
   "source": [
    "X_test_scaled = scaler.transform(X_test)"
   ]
  },
  {
   "cell_type": "code",
   "execution_count": 146,
   "id": "8d4a1297",
   "metadata": {},
   "outputs": [
    {
     "name": "stdout",
     "output_type": "stream",
     "text": [
      "[[0.25806452 0.25703672]\n",
      " [0.87096774 0.11415917]\n",
      " [0.90322581 0.11415917]\n",
      " ...\n",
      " [0.64516129 0.18559794]\n",
      " [0.80645161 0.38562652]\n",
      " [1.         0.39991427]]\n"
     ]
    }
   ],
   "source": [
    "print(X_test_scaled)"
   ]
  },
  {
   "cell_type": "markdown",
   "id": "28f89287",
   "metadata": {},
   "source": [
    "# 6 Data Visualization"
   ]
  },
  {
   "cell_type": "code",
   "execution_count": 148,
   "id": "97d42b2f",
   "metadata": {},
   "outputs": [
    {
     "name": "stderr",
     "output_type": "stream",
     "text": [
      "C:\\Users\\Acer\\anaconda3\\lib\\site-packages\\seaborn\\_decorators.py:36: FutureWarning: Pass the following variables as keyword args: x, y. From version 0.12, the only valid positional argument will be `data`, and passing other arguments without an explicit keyword will result in an error or misinterpretation.\n",
      "  warnings.warn(\n"
     ]
    },
    {
     "data": {
      "text/plain": [
       "<AxesSubplot:xlabel='Make_Year', ylabel='Make_label'>"
      ]
     },
     "execution_count": 148,
     "metadata": {},
     "output_type": "execute_result"
    },
    {
     "data": {
      "image/png": "[encoded data removed]",
      "text/plain": [
       "<Figure size 432x288 with 1 Axes>"
      ]
     },
     "metadata": {},
     "output_type": "display_data"
    }
   ],
   "source": [
    "sns.barplot(dfUsedCar['Make_Year'], dfUsedCar['Make_label'])"
   ]
  },
  {
   "cell_type": "code",
   "execution_count": 149,
   "id": "74f56a15",
   "metadata": {
    "scrolled": true
   },
   "outputs": [
    {
     "name": "stderr",
     "output_type": "stream",
     "text": [
      "C:\\Users\\Acer\\anaconda3\\lib\\site-packages\\seaborn\\distributions.py:2619: FutureWarning: `distplot` is a deprecated function and will be removed in a future version. Please adapt your code to use either `displot` (a figure-level function with similar flexibility) or `histplot` (an axes-level function for histograms).\n",
      "  warnings.warn(msg, FutureWarning)\n"
     ]
    },
    {
     "data": {
      "text/plain": [
       "<AxesSubplot:xlabel='Make_Year', ylabel='Density'>"
      ]
     },
     "execution_count": 149,
     "metadata": {},
     "output_type": "execute_result"
    },
    {
     "data": {
      "image/png": "[encoded data removed]",
      "text/plain": [
       "<Figure size 432x288 with 1 Axes>"
      ]
     },
     "metadata": {},
     "output_type": "display_data"
    }
   ],
   "source": [
    "sns.distplot(dfUsedCar['Make_Year'])"
   ]
  },
  {
   "cell_type": "code",
   "execution_count": 150,
   "id": "578b35bb",
   "metadata": {},
   "outputs": [
    {
     "name": "stderr",
     "output_type": "stream",
     "text": [
      "C:\\Users\\Acer\\anaconda3\\lib\\site-packages\\seaborn\\distributions.py:2619: FutureWarning: `distplot` is a deprecated function and will be removed in a future version. Please adapt your code to use either `displot` (a figure-level function with similar flexibility) or `histplot` (an axes-level function for histograms).\n",
      "  warnings.warn(msg, FutureWarning)\n"
     ]
    },
    {
     "data": {
      "text/plain": [
       "<AxesSubplot:xlabel='CC', ylabel='Density'>"
      ]
     },
     "execution_count": 150,
     "metadata": {},
     "output_type": "execute_result"
    },
    {
     "data": {
      "image/png": "[encoded data removed]",
      "text/plain": [
       "<Figure size 432x288 with 1 Axes>"
      ]
     },
     "metadata": {},
     "output_type": "display_data"
    }
   ],
   "source": [
    "sns.distplot(dfUsedCar['CC'])"
   ]
  },
  {
   "cell_type": "code",
   "execution_count": 151,
   "id": "f779245b",
   "metadata": {
    "scrolled": true
   },
   "outputs": [
    {
     "name": "stderr",
     "output_type": "stream",
     "text": [
      "C:\\Users\\Acer\\anaconda3\\lib\\site-packages\\seaborn\\distributions.py:2619: FutureWarning: `distplot` is a deprecated function and will be removed in a future version. Please adapt your code to use either `displot` (a figure-level function with similar flexibility) or `histplot` (an axes-level function for histograms).\n",
      "  warnings.warn(msg, FutureWarning)\n"
     ]
    },
    {
     "data": {
      "text/plain": [
       "<AxesSubplot:xlabel='Make_label', ylabel='Density'>"
      ]
     },
     "execution_count": 151,
     "metadata": {},
     "output_type": "execute_result"
    },
    {
     "data": {
      "image/png": "[encoded data removed]",
      "text/plain": [
       "<Figure size 432x288 with 1 Axes>"
      ]
     },
     "metadata": {},
     "output_type": "display_data"
    }
   ],
   "source": [
    "sns.distplot(dfUsedCar['Make_label'])"
   ]
  },
  {
   "cell_type": "code",
   "execution_count": 152,
   "id": "375a7df9",
   "metadata": {},
   "outputs": [
    {
     "name": "stderr",
     "output_type": "stream",
     "text": [
      "C:\\Users\\Acer\\anaconda3\\lib\\site-packages\\seaborn\\_decorators.py:36: FutureWarning: Pass the following variables as keyword args: x, y. From version 0.12, the only valid positional argument will be `data`, and passing other arguments without an explicit keyword will result in an error or misinterpretation.\n",
      "  warnings.warn(\n"
     ]
    },
    {
     "data": {
      "text/plain": [
       "<seaborn.axisgrid.JointGrid at 0x24c9796dee0>"
      ]
     },
     "execution_count": 152,
     "metadata": {},
     "output_type": "execute_result"
    },
    {
     "data": {
      "image/png": "[encoded data removed]",
      "text/plain": [
       "<Figure size 432x432 with 3 Axes>"
      ]
     },
     "metadata": {},
     "output_type": "display_data"
    }
   ],
   "source": [
    "sns.jointplot(dfUsedCar['Make_Year'], dfUsedCar['CC'])"
   ]
  },
  {
   "cell_type": "code",
   "execution_count": 153,
   "id": "f86b87fd",
   "metadata": {
    "scrolled": true
   },
   "outputs": [
    {
     "name": "stderr",
     "output_type": "stream",
     "text": [
      "C:\\Users\\Acer\\anaconda3\\lib\\site-packages\\seaborn\\_decorators.py:36: FutureWarning: Pass the following variables as keyword args: x, y. From version 0.12, the only valid positional argument will be `data`, and passing other arguments without an explicit keyword will result in an error or misinterpretation.\n",
      "  warnings.warn(\n"
     ]
    },
    {
     "data": {
      "text/plain": [
       "<seaborn.axisgrid.JointGrid at 0x24c92e27220>"
      ]
     },
     "execution_count": 153,
     "metadata": {},
     "output_type": "execute_result"
    },
    {
     "data": {
      "image/png": "[encoded data removed]",
      "text/plain": [
       "<Figure size 432x432 with 3 Axes>"
      ]
     },
     "metadata": {},
     "output_type": "display_data"
    }
   ],
   "source": [
    "sns.jointplot(dfUsedCar['Make_Year'], dfUsedCar['Make_label'])"
   ]
  },
  {
   "cell_type": "markdown",
   "id": "ba9cd941",
   "metadata": {},
   "source": [
    "# 7 Create Model"
   ]
  },
  {
   "cell_type": "code",
   "execution_count": 156,
   "id": "4e136600",
   "metadata": {},
   "outputs": [],
   "source": [
    "X = dfUsedCar.drop(['Version','Registered City','Model'],axis=1)\n",
    "Y = dfUsedCar['Price']"
   ]
  },
  {
   "cell_type": "code",
   "execution_count": 157,
   "id": "ecfac2ff",
   "metadata": {},
   "outputs": [
    {
     "name": "stdout",
     "output_type": "stream",
     "text": [
      "           Price  Make_Year    CC  Mileage  Make_label  Adam  Audi  BMW  \\\n",
      "0      7400000.0       2019  1500     2000          25     0     0    0   \n",
      "1      1065000.0       2019   660    68000          43     0     0    0   \n",
      "2      9300000.0       2015  1800    70000           1     0     1    0   \n",
      "3      2375000.0       2014  1500    99900          61     0     0    0   \n",
      "4      2600000.0       2017  1300    55000          25     0     0    0   \n",
      "...          ...        ...   ...      ...         ...   ...   ...  ...   \n",
      "80567   750000.0       2015   800    98000          59     0     0    0   \n",
      "80568  1480000.0       2020   660     7800          59     0     0    0   \n",
      "80569  2700000.0       2016  1300    81000          61     0     0    0   \n",
      "80570   600000.0       2013  1000        2          18     0     0    0   \n",
      "80571  2620000.0       2013  1800   100000          25     0     0    0   \n",
      "\n",
      "       Bentley  Buick  ...  United  Volkswagen  Volvo  ZOTYE  Assembly_label  \\\n",
      "0            0      0  ...       0           0      0      0               0   \n",
      "1            0      0  ...       0           0      0      0               0   \n",
      "2            0      0  ...       0           0      0      0               1   \n",
      "3            0      0  ...       0           0      0      0               0   \n",
      "4            0      0  ...       0           0      0      0               1   \n",
      "...        ...    ...  ...     ...         ...    ...    ...             ...   \n",
      "80567        0      0  ...       0           0      0      0               1   \n",
      "80568        0      0  ...       0           0      0      0               1   \n",
      "80569        0      0  ...       0           0      0      0               1   \n",
      "80570        0      0  ...       0           0      0      0               1   \n",
      "80571        0      0  ...       0           0      0      0               0   \n",
      "\n",
      "       Imported  Local  Transmission_label  Automatic  Manual  \n",
      "0             1      0                   0          1       0  \n",
      "1             1      0                   0          1       0  \n",
      "2             0      1                   0          1       0  \n",
      "3             1      0                   0          1       0  \n",
      "4             0      1                   1          0       1  \n",
      "...         ...    ...                 ...        ...     ...  \n",
      "80567         0      1                   1          0       1  \n",
      "80568         0      1                   1          0       1  \n",
      "80569         0      1                   0          1       0  \n",
      "80570         0      1                   1          0       1  \n",
      "80571         1      0                   0          1       0  \n",
      "\n",
      "[80572 rows x 77 columns]\n"
     ]
    }
   ],
   "source": [
    "print(X)"
   ]
  },
  {
   "cell_type": "code",
   "execution_count": 158,
   "id": "a9af2b03",
   "metadata": {},
   "outputs": [
    {
     "name": "stdout",
     "output_type": "stream",
     "text": [
      "0        7400000.0\n",
      "1        1065000.0\n",
      "2        9300000.0\n",
      "3        2375000.0\n",
      "4        2600000.0\n",
      "           ...    \n",
      "80567     750000.0\n",
      "80568    1480000.0\n",
      "80569    2700000.0\n",
      "80570     600000.0\n",
      "80571    2620000.0\n",
      "Name: Price, Length: 80572, dtype: object\n"
     ]
    }
   ],
   "source": [
    "print(Y)"
   ]
  },
  {
   "cell_type": "markdown",
   "id": "29bcda9d",
   "metadata": {},
   "source": [
    "# 7.1 create train and test dataset"
   ]
  },
  {
   "cell_type": "code",
   "execution_count": 159,
   "id": "9bf9982d",
   "metadata": {},
   "outputs": [],
   "source": [
    "#create train and test dataset\n",
    "X_train, X_test, Y_train, Y_test = train_test_split(X, Y, test_size = 0.4, random_state = 40)\n"
   ]
  },
  {
   "cell_type": "code",
   "execution_count": 160,
   "id": "47a88a36",
   "metadata": {},
   "outputs": [
    {
     "data": {
      "text/html": [
       "<div>\n",
       "<style scoped>\n",
       "    .dataframe tbody tr th:only-of-type {\n",
       "        vertical-align: middle;\n",
       "    }\n",
       "\n",
       "    .dataframe tbody tr th {\n",
       "        vertical-align: top;\n",
       "    }\n",
       "\n",
       "    .dataframe thead th {\n",
       "        text-align: right;\n",
       "    }\n",
       "</style>\n",
       "<table border=\"1\" class=\"dataframe\">\n",
       "  <thead>\n",
       "    <tr style=\"text-align: right;\">\n",
       "      <th></th>\n",
       "      <th>Price</th>\n",
       "      <th>Make_Year</th>\n",
       "      <th>CC</th>\n",
       "      <th>Mileage</th>\n",
       "      <th>Make_label</th>\n",
       "      <th>Adam</th>\n",
       "      <th>Audi</th>\n",
       "      <th>BMW</th>\n",
       "      <th>Bentley</th>\n",
       "      <th>Buick</th>\n",
       "      <th>...</th>\n",
       "      <th>United</th>\n",
       "      <th>Volkswagen</th>\n",
       "      <th>Volvo</th>\n",
       "      <th>ZOTYE</th>\n",
       "      <th>Assembly_label</th>\n",
       "      <th>Imported</th>\n",
       "      <th>Local</th>\n",
       "      <th>Transmission_label</th>\n",
       "      <th>Automatic</th>\n",
       "      <th>Manual</th>\n",
       "    </tr>\n",
       "  </thead>\n",
       "  <tbody>\n",
       "    <tr>\n",
       "      <th>54052</th>\n",
       "      <td>520000.0</td>\n",
       "      <td>2005</td>\n",
       "      <td>800</td>\n",
       "      <td>80000</td>\n",
       "      <td>59</td>\n",
       "      <td>0</td>\n",
       "      <td>0</td>\n",
       "      <td>0</td>\n",
       "      <td>0</td>\n",
       "      <td>0</td>\n",
       "      <td>...</td>\n",
       "      <td>0</td>\n",
       "      <td>0</td>\n",
       "      <td>0</td>\n",
       "      <td>0</td>\n",
       "      <td>1</td>\n",
       "      <td>0</td>\n",
       "      <td>1</td>\n",
       "      <td>1</td>\n",
       "      <td>0</td>\n",
       "      <td>1</td>\n",
       "    </tr>\n",
       "    <tr>\n",
       "      <th>4734</th>\n",
       "      <td>2445000.0</td>\n",
       "      <td>2018</td>\n",
       "      <td>1500</td>\n",
       "      <td>42000</td>\n",
       "      <td>25</td>\n",
       "      <td>0</td>\n",
       "      <td>0</td>\n",
       "      <td>0</td>\n",
       "      <td>0</td>\n",
       "      <td>0</td>\n",
       "      <td>...</td>\n",
       "      <td>0</td>\n",
       "      <td>0</td>\n",
       "      <td>0</td>\n",
       "      <td>0</td>\n",
       "      <td>1</td>\n",
       "      <td>0</td>\n",
       "      <td>1</td>\n",
       "      <td>1</td>\n",
       "      <td>0</td>\n",
       "      <td>1</td>\n",
       "    </tr>\n",
       "    <tr>\n",
       "      <th>22820</th>\n",
       "      <td>615000.0</td>\n",
       "      <td>2008</td>\n",
       "      <td>800</td>\n",
       "      <td>55000</td>\n",
       "      <td>59</td>\n",
       "      <td>0</td>\n",
       "      <td>0</td>\n",
       "      <td>0</td>\n",
       "      <td>0</td>\n",
       "      <td>0</td>\n",
       "      <td>...</td>\n",
       "      <td>0</td>\n",
       "      <td>0</td>\n",
       "      <td>0</td>\n",
       "      <td>0</td>\n",
       "      <td>1</td>\n",
       "      <td>0</td>\n",
       "      <td>1</td>\n",
       "      <td>1</td>\n",
       "      <td>0</td>\n",
       "      <td>1</td>\n",
       "    </tr>\n",
       "    <tr>\n",
       "      <th>48989</th>\n",
       "      <td>1854000.0</td>\n",
       "      <td>2021</td>\n",
       "      <td>1800</td>\n",
       "      <td>1</td>\n",
       "      <td>61</td>\n",
       "      <td>0</td>\n",
       "      <td>0</td>\n",
       "      <td>0</td>\n",
       "      <td>0</td>\n",
       "      <td>0</td>\n",
       "      <td>...</td>\n",
       "      <td>0</td>\n",
       "      <td>0</td>\n",
       "      <td>0</td>\n",
       "      <td>0</td>\n",
       "      <td>1</td>\n",
       "      <td>0</td>\n",
       "      <td>1</td>\n",
       "      <td>0</td>\n",
       "      <td>1</td>\n",
       "      <td>0</td>\n",
       "    </tr>\n",
       "    <tr>\n",
       "      <th>62031</th>\n",
       "      <td>1515000.0</td>\n",
       "      <td>2017</td>\n",
       "      <td>1000</td>\n",
       "      <td>60000</td>\n",
       "      <td>59</td>\n",
       "      <td>0</td>\n",
       "      <td>0</td>\n",
       "      <td>0</td>\n",
       "      <td>0</td>\n",
       "      <td>0</td>\n",
       "      <td>...</td>\n",
       "      <td>0</td>\n",
       "      <td>0</td>\n",
       "      <td>0</td>\n",
       "      <td>0</td>\n",
       "      <td>1</td>\n",
       "      <td>0</td>\n",
       "      <td>1</td>\n",
       "      <td>1</td>\n",
       "      <td>0</td>\n",
       "      <td>1</td>\n",
       "    </tr>\n",
       "  </tbody>\n",
       "</table>\n",
       "<p>5 rows × 77 columns</p>\n",
       "</div>"
      ],
      "text/plain": [
       "           Price  Make_Year    CC  Mileage  Make_label  Adam  Audi  BMW  \\\n",
       "54052   520000.0       2005   800    80000          59     0     0    0   \n",
       "4734   2445000.0       2018  1500    42000          25     0     0    0   \n",
       "22820   615000.0       2008   800    55000          59     0     0    0   \n",
       "48989  1854000.0       2021  1800        1          61     0     0    0   \n",
       "62031  1515000.0       2017  1000    60000          59     0     0    0   \n",
       "\n",
       "       Bentley  Buick  ...  United  Volkswagen  Volvo  ZOTYE  Assembly_label  \\\n",
       "54052        0      0  ...       0           0      0      0               1   \n",
       "4734         0      0  ...       0           0      0      0               1   \n",
       "22820        0      0  ...       0           0      0      0               1   \n",
       "48989        0      0  ...       0           0      0      0               1   \n",
       "62031        0      0  ...       0           0      0      0               1   \n",
       "\n",
       "       Imported  Local  Transmission_label  Automatic  Manual  \n",
       "54052         0      1                   1          0       1  \n",
       "4734          0      1                   1          0       1  \n",
       "22820         0      1                   1          0       1  \n",
       "48989         0      1                   0          1       0  \n",
       "62031         0      1                   1          0       1  \n",
       "\n",
       "[5 rows x 77 columns]"
      ]
     },
     "execution_count": 160,
     "metadata": {},
     "output_type": "execute_result"
    }
   ],
   "source": [
    "\n",
    "X_train.head()"
   ]
  },
  {
   "cell_type": "markdown",
   "id": "f9663afe",
   "metadata": {},
   "source": [
    "# 7.2 Apply Linear regression"
   ]
  },
  {
   "cell_type": "code",
   "execution_count": 161,
   "id": "6ca0080c",
   "metadata": {},
   "outputs": [],
   "source": [
    "linear = LinearRegression()"
   ]
  },
  {
   "cell_type": "code",
   "execution_count": 162,
   "id": "34ca4131",
   "metadata": {},
   "outputs": [
    {
     "data": {
      "text/plain": [
       "LinearRegression()"
      ]
     },
     "execution_count": 162,
     "metadata": {},
     "output_type": "execute_result"
    }
   ],
   "source": [
    "linear.fit(X_train,Y_train)"
   ]
  },
  {
   "cell_type": "markdown",
   "id": "6f85bff8",
   "metadata": {},
   "source": [
    "# 7.3 Linear regression Model evaluation"
   ]
  },
  {
   "cell_type": "code",
   "execution_count": 163,
   "id": "4ce4b823",
   "metadata": {},
   "outputs": [],
   "source": [
    "#Predict using training dataset\n",
    "training_dataset_prediction = linear.predict(X_train)"
   ]
  },
  {
   "cell_type": "code",
   "execution_count": 164,
   "id": "3d4c362c",
   "metadata": {},
   "outputs": [
    {
     "name": "stdout",
     "output_type": "stream",
     "text": [
      "R squared Error =  1.0\n"
     ]
    }
   ],
   "source": [
    "#R squatrd error\n",
    "r_squatrd_error_score = metrics.r2_score(Y_train, training_dataset_prediction)\n",
    "print(\"R squared Error = \", r_squatrd_error_score)"
   ]
  },
  {
   "cell_type": "markdown",
   "id": "c07695ab",
   "metadata": {},
   "source": [
    "# 7.4 Visualize the actual prices and the predicted prices"
   ]
  },
  {
   "cell_type": "code",
   "execution_count": 165,
   "id": "14ae5b87",
   "metadata": {},
   "outputs": [
    {
     "data": {
      "image/png": "[encoded data removed]",
      "text/plain": [
       "<Figure size 432x288 with 1 Axes>"
      ]
     },
     "metadata": {},
     "output_type": "display_data"
    }
   ],
   "source": [
    "plt.scatter(Y_train,training_dataset_prediction)\n",
    "plt.xlabel(\"Actual Price\")\n",
    "plt.ylabel(\"Predicted Price\")\n",
    "plt.title(\" Actual Price vs Predictes Price\")\n",
    "plt.show()"
   ]
  },
  {
   "cell_type": "code",
   "execution_count": 166,
   "id": "d73ad6f1",
   "metadata": {},
   "outputs": [],
   "source": [
    "#Predict using testing dataset\n",
    "test_dataset_prediction = linear.predict(X_test)"
   ]
  },
  {
   "cell_type": "code",
   "execution_count": 167,
   "id": "102c6f7e",
   "metadata": {},
   "outputs": [
    {
     "name": "stdout",
     "output_type": "stream",
     "text": [
      "R squared Error =  1.0\n"
     ]
    }
   ],
   "source": [
    "#R squatrd error\n",
    "r_squatrd_error_score = metrics.r2_score(Y_test, test_dataset_prediction)\n",
    "print(\"R squared Error = \", r_squatrd_error_score)"
   ]
  },
  {
   "cell_type": "code",
   "execution_count": 168,
   "id": "067787db",
   "metadata": {
    "scrolled": true
   },
   "outputs": [
    {
     "data": {
      "image/png": "[encoded data removed]",
      "text/plain": [
       "<Figure size 432x288 with 1 Axes>"
      ]
     },
     "metadata": {},
     "output_type": "display_data"
    }
   ],
   "source": [
    "plt.scatter(Y_test,test_dataset_prediction)\n",
    "plt.xlabel(\"Actual Price\")\n",
    "plt.ylabel(\"Predicted Price\")\n",
    "plt.title(\" Actual Price vs Predictes Price\")\n",
    "plt.show()"
   ]
  },
  {
   "cell_type": "code",
   "execution_count": null,
   "id": "53b7f7d7",
   "metadata": {},
   "outputs": [],
   "source": []
  }
 ],
 "metadata": {
  "kernelspec": {
   "display_name": "Python 3 (ipykernel)",
   "language": "python",
   "name": "python3"
  },
  "language_info": {
   "codemirror_mode": {
    "name": "ipython",
    "version": 3
   },
   "file_extension": ".py",
   "mimetype": "text/x-python",
   "name": "python",
   "nbconvert_exporter": "python",
   "pygments_lexer": "ipython3",
   "version": "3.9.7"
  }
 },
 "nbformat": 4,
 "nbformat_minor": 5
}
