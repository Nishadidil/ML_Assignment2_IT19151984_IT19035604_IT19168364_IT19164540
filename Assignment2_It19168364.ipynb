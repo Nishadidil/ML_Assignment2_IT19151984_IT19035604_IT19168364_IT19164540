{
 "cells": [
  {
   "cell_type": "code",
   "execution_count": 1,
   "id": "68d8f246",
   "metadata": {
    "id": "68d8f246"
   },
   "outputs": [],
   "source": [
    "#import libraries\n",
    "import pandas as pd\n",
    "import numpy as np\n",
    "import seaborn as sns\n",
    "import os\n",
    "from sklearn.preprocessing import LabelEncoder\n",
    "from sklearn.model_selection import train_test_split\n",
    "from sklearn.linear_model import LinearRegression\n",
    "from sklearn.linear_model import Lasso\n",
    "from sklearn import metrics\n",
    "import matplotlib.pyplot as plt\n",
    "%matplotlib inline\n",
    "from sklearn.preprocessing import StandardScaler"
   ]
  },
  {
   "cell_type": "markdown",
   "id": "Sr2qI7WDW9jl",
   "metadata": {
    "id": "Sr2qI7WDW9jl"
   },
   "source": [
    " Collection and Processing"
   ]
  },
  {
   "cell_type": "code",
   "execution_count": 2,
   "id": "1fb580d4",
   "metadata": {
    "colab": {
     "base_uri": "https://localhost:8080/"
    },
    "id": "1fb580d4",
    "outputId": "f10eddcc-ba66-46e4-c36a-49f24a223ca7"
   },
   "outputs": [
    {
     "name": "stdout",
     "output_type": "stream",
     "text": [
      "['.ipynb_checkpoints', 'Assignment2Final.ipynb', 'Assignment2_It19168364.ipynb', 'README.md', 'Used_car_prices_in_Pakistan 2021_rawD.csv']\n"
     ]
    }
   ],
   "source": [
    "#print names of files in ML_assignment folder\n",
    "print(os.listdir())"
   ]
  },
  {
   "cell_type": "code",
   "execution_count": 3,
   "id": "5e0e11fc",
   "metadata": {
    "id": "5e0e11fc"
   },
   "outputs": [],
   "source": [
    "#import data-set\n",
    "df = pd.read_csv(\"Used_car_prices_in_Pakistan 2021_rawD.csv\")"
   ]
  },
  {
   "cell_type": "code",
   "execution_count": 4,
   "id": "051b35e7",
   "metadata": {
    "colab": {
     "base_uri": "https://localhost:8080/",
     "height": 392
    },
    "id": "051b35e7",
    "outputId": "382632fe-5614-4a67-f6ba-7953506d852f"
   },
   "outputs": [
    {
     "data": {
      "text/html": [
       "<div>\n",
       "<style scoped>\n",
       "    .dataframe tbody tr th:only-of-type {\n",
       "        vertical-align: middle;\n",
       "    }\n",
       "\n",
       "    .dataframe tbody tr th {\n",
       "        vertical-align: top;\n",
       "    }\n",
       "\n",
       "    .dataframe thead th {\n",
       "        text-align: right;\n",
       "    }\n",
       "</style>\n",
       "<table border=\"1\" class=\"dataframe\">\n",
       "  <thead>\n",
       "    <tr style=\"text-align: right;\">\n",
       "      <th></th>\n",
       "      <th>Make</th>\n",
       "      <th>Model</th>\n",
       "      <th>Version</th>\n",
       "      <th>Price</th>\n",
       "      <th>Make_Year</th>\n",
       "      <th>CC</th>\n",
       "      <th>Assembly</th>\n",
       "      <th>Mileage</th>\n",
       "      <th>Registered City</th>\n",
       "      <th>Transmission</th>\n",
       "    </tr>\n",
       "  </thead>\n",
       "  <tbody>\n",
       "    <tr>\n",
       "      <th>0</th>\n",
       "      <td>Honda</td>\n",
       "      <td>Insight</td>\n",
       "      <td>NaN</td>\n",
       "      <td>7400000.0</td>\n",
       "      <td>2019</td>\n",
       "      <td>1500</td>\n",
       "      <td>Imported</td>\n",
       "      <td>2000</td>\n",
       "      <td>Un-Registered</td>\n",
       "      <td>Automatic</td>\n",
       "    </tr>\n",
       "    <tr>\n",
       "      <th>1</th>\n",
       "      <td>Mitsubishi</td>\n",
       "      <td>Minica</td>\n",
       "      <td>Black Minica</td>\n",
       "      <td>1065000.0</td>\n",
       "      <td>2019</td>\n",
       "      <td>660</td>\n",
       "      <td>Imported</td>\n",
       "      <td>68000</td>\n",
       "      <td>Lahore</td>\n",
       "      <td>Automatic</td>\n",
       "    </tr>\n",
       "    <tr>\n",
       "      <th>2</th>\n",
       "      <td>Audi</td>\n",
       "      <td>A6</td>\n",
       "      <td>1.8 TFSI Business Class Edition</td>\n",
       "      <td>9300000.0</td>\n",
       "      <td>2015</td>\n",
       "      <td>1800</td>\n",
       "      <td>Local</td>\n",
       "      <td>70000</td>\n",
       "      <td>Lahore</td>\n",
       "      <td>Automatic</td>\n",
       "    </tr>\n",
       "    <tr>\n",
       "      <th>3</th>\n",
       "      <td>Toyota</td>\n",
       "      <td>Aqua</td>\n",
       "      <td>G</td>\n",
       "      <td>2375000.0</td>\n",
       "      <td>2014</td>\n",
       "      <td>1500</td>\n",
       "      <td>Imported</td>\n",
       "      <td>99900</td>\n",
       "      <td>Islamabad</td>\n",
       "      <td>Automatic</td>\n",
       "    </tr>\n",
       "    <tr>\n",
       "      <th>4</th>\n",
       "      <td>Honda</td>\n",
       "      <td>City</td>\n",
       "      <td>1.3 i-VTEC</td>\n",
       "      <td>2600000.0</td>\n",
       "      <td>2017</td>\n",
       "      <td>1300</td>\n",
       "      <td>Local</td>\n",
       "      <td>55000</td>\n",
       "      <td>Islamabad</td>\n",
       "      <td>Manual</td>\n",
       "    </tr>\n",
       "  </tbody>\n",
       "</table>\n",
       "</div>"
      ],
      "text/plain": [
       "         Make    Model                          Version      Price  Make_Year  \\\n",
       "0       Honda  Insight                              NaN  7400000.0       2019   \n",
       "1  Mitsubishi   Minica                     Black Minica  1065000.0       2019   \n",
       "2        Audi       A6  1.8 TFSI Business Class Edition  9300000.0       2015   \n",
       "3      Toyota     Aqua                                G  2375000.0       2014   \n",
       "4       Honda     City                       1.3 i-VTEC  2600000.0       2017   \n",
       "\n",
       "     CC  Assembly  Mileage Registered City Transmission  \n",
       "0  1500  Imported     2000   Un-Registered    Automatic  \n",
       "1   660  Imported    68000          Lahore    Automatic  \n",
       "2  1800     Local    70000          Lahore    Automatic  \n",
       "3  1500  Imported    99900       Islamabad    Automatic  \n",
       "4  1300     Local    55000       Islamabad       Manual  "
      ]
     },
     "execution_count": 4,
     "metadata": {},
     "output_type": "execute_result"
    }
   ],
   "source": [
    "#first five rows\n",
    "df.head()"
   ]
  },
  {
   "cell_type": "code",
   "execution_count": 5,
   "id": "d3b85f80",
   "metadata": {
    "colab": {
     "base_uri": "https://localhost:8080/",
     "height": 305
    },
    "id": "d3b85f80",
    "outputId": "5e6fed79-1b97-4ae4-b617-0db604620427"
   },
   "outputs": [
    {
     "data": {
      "text/html": [
       "<div>\n",
       "<style scoped>\n",
       "    .dataframe tbody tr th:only-of-type {\n",
       "        vertical-align: middle;\n",
       "    }\n",
       "\n",
       "    .dataframe tbody tr th {\n",
       "        vertical-align: top;\n",
       "    }\n",
       "\n",
       "    .dataframe thead th {\n",
       "        text-align: right;\n",
       "    }\n",
       "</style>\n",
       "<table border=\"1\" class=\"dataframe\">\n",
       "  <thead>\n",
       "    <tr style=\"text-align: right;\">\n",
       "      <th></th>\n",
       "      <th>Make</th>\n",
       "      <th>Model</th>\n",
       "      <th>Version</th>\n",
       "      <th>Price</th>\n",
       "      <th>Make_Year</th>\n",
       "      <th>CC</th>\n",
       "      <th>Assembly</th>\n",
       "      <th>Mileage</th>\n",
       "      <th>Registered City</th>\n",
       "      <th>Transmission</th>\n",
       "    </tr>\n",
       "  </thead>\n",
       "  <tbody>\n",
       "    <tr>\n",
       "      <th>80567</th>\n",
       "      <td>Suzuki</td>\n",
       "      <td>Bolan</td>\n",
       "      <td>NaN</td>\n",
       "      <td>750000.0</td>\n",
       "      <td>2015</td>\n",
       "      <td>800</td>\n",
       "      <td>Local</td>\n",
       "      <td>98000</td>\n",
       "      <td>Lahore</td>\n",
       "      <td>Manual</td>\n",
       "    </tr>\n",
       "    <tr>\n",
       "      <th>80568</th>\n",
       "      <td>Suzuki</td>\n",
       "      <td>Alto</td>\n",
       "      <td>VXR</td>\n",
       "      <td>1480000.0</td>\n",
       "      <td>2020</td>\n",
       "      <td>660</td>\n",
       "      <td>Local</td>\n",
       "      <td>7800</td>\n",
       "      <td>Karachi</td>\n",
       "      <td>Manual</td>\n",
       "    </tr>\n",
       "    <tr>\n",
       "      <th>80569</th>\n",
       "      <td>Toyota</td>\n",
       "      <td>Corolla</td>\n",
       "      <td>GLi Automatic 1.3 VVTi</td>\n",
       "      <td>2700000.0</td>\n",
       "      <td>2016</td>\n",
       "      <td>1300</td>\n",
       "      <td>Local</td>\n",
       "      <td>81000</td>\n",
       "      <td>Islamabad</td>\n",
       "      <td>Automatic</td>\n",
       "    </tr>\n",
       "    <tr>\n",
       "      <th>80570</th>\n",
       "      <td>FAW</td>\n",
       "      <td>X-PV</td>\n",
       "      <td>Standard</td>\n",
       "      <td>600000.0</td>\n",
       "      <td>2013</td>\n",
       "      <td>1000</td>\n",
       "      <td>Local</td>\n",
       "      <td>2</td>\n",
       "      <td>Lahore</td>\n",
       "      <td>Manual</td>\n",
       "    </tr>\n",
       "    <tr>\n",
       "      <th>80571</th>\n",
       "      <td>Honda</td>\n",
       "      <td>Civic</td>\n",
       "      <td>VTi Prosmatec 1.8 i-VTEC</td>\n",
       "      <td>2620000.0</td>\n",
       "      <td>2013</td>\n",
       "      <td>1800</td>\n",
       "      <td>Imported</td>\n",
       "      <td>100000</td>\n",
       "      <td>Islamabad</td>\n",
       "      <td>Automatic</td>\n",
       "    </tr>\n",
       "  </tbody>\n",
       "</table>\n",
       "</div>"
      ],
      "text/plain": [
       "         Make    Model                   Version      Price  Make_Year    CC  \\\n",
       "80567  Suzuki    Bolan                       NaN   750000.0       2015   800   \n",
       "80568  Suzuki     Alto                       VXR  1480000.0       2020   660   \n",
       "80569  Toyota  Corolla    GLi Automatic 1.3 VVTi  2700000.0       2016  1300   \n",
       "80570     FAW     X-PV                  Standard   600000.0       2013  1000   \n",
       "80571   Honda    Civic  VTi Prosmatec 1.8 i-VTEC  2620000.0       2013  1800   \n",
       "\n",
       "       Assembly  Mileage Registered City Transmission  \n",
       "80567     Local    98000          Lahore       Manual  \n",
       "80568     Local     7800         Karachi       Manual  \n",
       "80569     Local    81000       Islamabad    Automatic  \n",
       "80570     Local        2          Lahore       Manual  \n",
       "80571  Imported   100000       Islamabad    Automatic  "
      ]
     },
     "execution_count": 5,
     "metadata": {},
     "output_type": "execute_result"
    }
   ],
   "source": [
    "#last five rows\n",
    "df.tail()"
   ]
  },
  {
   "cell_type": "code",
   "execution_count": 6,
   "id": "11660508",
   "metadata": {
    "colab": {
     "base_uri": "https://localhost:8080/"
    },
    "id": "11660508",
    "outputId": "a7dc4c50-4706-48e3-d9ed-f7cc4a9694a2"
   },
   "outputs": [
    {
     "data": {
      "text/plain": [
       "(80572, 10)"
      ]
     },
     "execution_count": 6,
     "metadata": {},
     "output_type": "execute_result"
    }
   ],
   "source": [
    "#shape of the dataset\n",
    "df.shape"
   ]
  },
  {
   "cell_type": "markdown",
   "id": "72dd82ce",
   "metadata": {},
   "source": [
    "# vizualizing  categorical data"
   ]
  },
  {
   "cell_type": "code",
   "execution_count": 7,
   "id": "VGALsY_fYMc6",
   "metadata": {
    "colab": {
     "base_uri": "https://localhost:8080/"
    },
    "id": "VGALsY_fYMc6",
    "outputId": "9792925b-3e37-4ff9-bbad-649a073d95d3"
   },
   "outputs": [
    {
     "name": "stdout",
     "output_type": "stream",
     "text": [
      "<class 'pandas.core.frame.DataFrame'>\n",
      "RangeIndex: 80572 entries, 0 to 80571\n",
      "Data columns (total 10 columns):\n",
      " #   Column           Non-Null Count  Dtype \n",
      "---  ------           --------------  ----- \n",
      " 0   Make             80572 non-null  object\n",
      " 1   Model            80572 non-null  object\n",
      " 2   Version          73800 non-null  object\n",
      " 3   Price            80572 non-null  object\n",
      " 4   Make_Year        80572 non-null  int64 \n",
      " 5   CC               80572 non-null  int64 \n",
      " 6   Assembly         80572 non-null  object\n",
      " 7   Mileage          80572 non-null  int64 \n",
      " 8   Registered City  80572 non-null  object\n",
      " 9   Transmission     80572 non-null  object\n",
      "dtypes: int64(3), object(7)\n",
      "memory usage: 6.1+ MB\n"
     ]
    }
   ],
   "source": [
    "#get information about the dataset\n",
    "df.info()"
   ]
  },
  {
   "cell_type": "code",
   "execution_count": 8,
   "id": "926db464",
   "metadata": {},
   "outputs": [
    {
     "data": {
      "text/html": [
       "<div>\n",
       "<style scoped>\n",
       "    .dataframe tbody tr th:only-of-type {\n",
       "        vertical-align: middle;\n",
       "    }\n",
       "\n",
       "    .dataframe tbody tr th {\n",
       "        vertical-align: top;\n",
       "    }\n",
       "\n",
       "    .dataframe thead th {\n",
       "        text-align: right;\n",
       "    }\n",
       "</style>\n",
       "<table border=\"1\" class=\"dataframe\">\n",
       "  <thead>\n",
       "    <tr style=\"text-align: right;\">\n",
       "      <th></th>\n",
       "      <th>Make_Year</th>\n",
       "      <th>CC</th>\n",
       "      <th>Mileage</th>\n",
       "    </tr>\n",
       "  </thead>\n",
       "  <tbody>\n",
       "    <tr>\n",
       "      <th>count</th>\n",
       "      <td>80572.000000</td>\n",
       "      <td>80572.000000</td>\n",
       "      <td>80572.000000</td>\n",
       "    </tr>\n",
       "    <tr>\n",
       "      <th>mean</th>\n",
       "      <td>2011.724209</td>\n",
       "      <td>1404.083267</td>\n",
       "      <td>85653.660080</td>\n",
       "    </tr>\n",
       "    <tr>\n",
       "      <th>std</th>\n",
       "      <td>6.953399</td>\n",
       "      <td>684.458171</td>\n",
       "      <td>82241.870901</td>\n",
       "    </tr>\n",
       "    <tr>\n",
       "      <th>min</th>\n",
       "      <td>1990.000000</td>\n",
       "      <td>1.000000</td>\n",
       "      <td>1.000000</td>\n",
       "    </tr>\n",
       "    <tr>\n",
       "      <th>25%</th>\n",
       "      <td>2007.000000</td>\n",
       "      <td>1000.000000</td>\n",
       "      <td>36500.000000</td>\n",
       "    </tr>\n",
       "    <tr>\n",
       "      <th>50%</th>\n",
       "      <td>2013.000000</td>\n",
       "      <td>1300.000000</td>\n",
       "      <td>73000.000000</td>\n",
       "    </tr>\n",
       "    <tr>\n",
       "      <th>75%</th>\n",
       "      <td>2017.000000</td>\n",
       "      <td>1600.000000</td>\n",
       "      <td>110520.000000</td>\n",
       "    </tr>\n",
       "    <tr>\n",
       "      <th>max</th>\n",
       "      <td>2021.000000</td>\n",
       "      <td>10000.000000</td>\n",
       "      <td>999999.000000</td>\n",
       "    </tr>\n",
       "  </tbody>\n",
       "</table>\n",
       "</div>"
      ],
      "text/plain": [
       "          Make_Year            CC        Mileage\n",
       "count  80572.000000  80572.000000   80572.000000\n",
       "mean    2011.724209   1404.083267   85653.660080\n",
       "std        6.953399    684.458171   82241.870901\n",
       "min     1990.000000      1.000000       1.000000\n",
       "25%     2007.000000   1000.000000   36500.000000\n",
       "50%     2013.000000   1300.000000   73000.000000\n",
       "75%     2017.000000   1600.000000  110520.000000\n",
       "max     2021.000000  10000.000000  999999.000000"
      ]
     },
     "execution_count": 8,
     "metadata": {},
     "output_type": "execute_result"
    }
   ],
   "source": [
    "df.describe()"
   ]
  },
  {
   "cell_type": "code",
   "execution_count": 9,
   "id": "ebb973d3",
   "metadata": {},
   "outputs": [
    {
     "data": {
      "text/plain": [
       "Index(['Make', 'Model', 'Version', 'Price', 'Make_Year', 'CC', 'Assembly',\n",
       "       'Mileage', 'Registered City', 'Transmission'],\n",
       "      dtype='object')"
      ]
     },
     "execution_count": 9,
     "metadata": {},
     "output_type": "execute_result"
    }
   ],
   "source": [
    "df.columns"
   ]
  },
  {
   "cell_type": "code",
   "execution_count": 10,
   "id": "0e4d4550",
   "metadata": {},
   "outputs": [
    {
     "name": "stdout",
     "output_type": "stream",
     "text": [
      "Local       54498\n",
      "Imported    26074\n",
      "Name: Assembly, dtype: int64\n",
      "Automatic    40408\n",
      "Manual       40164\n",
      "Name: Transmission, dtype: int64\n"
     ]
    }
   ],
   "source": [
    "print(df['Assembly'].value_counts())\n",
    "print(df['Transmission'].value_counts())"
   ]
  },
  {
   "cell_type": "code",
   "execution_count": 11,
   "id": "25d976d8",
   "metadata": {},
   "outputs": [],
   "source": [
    "assembly = df['Assembly']\n",
    "transmission = df['Transmission']\n",
    "selling_price = df['Price']"
   ]
  },
  {
   "cell_type": "code",
   "execution_count": 12,
   "id": "2f75f398",
   "metadata": {},
   "outputs": [],
   "source": [
    "from matplotlib import style"
   ]
  },
  {
   "cell_type": "code",
   "execution_count": null,
   "id": "183df496",
   "metadata": {},
   "outputs": [],
   "source": [
    "style.use('ggplot')\n",
    "fig = plt.figure(figsize=(15,5))\n",
    "fig.suptitle('Visualizing catecorical data collumns')\n",
    "plt.subplot(1,2,1)\n",
    "plt.bar(assembly,selling_price, color='royalblue')\n",
    "plt.xlabel(\"Assembly\")\n",
    "plt.ylabel(\"Selling price\")\n",
    "plt.subplot(1,2,2)\n",
    "plt.bar(transmission,selling_price, color='red')\n",
    "plt.xlabel('Transmission Type')\n",
    "plt.show()"
   ]
  },
  {
   "cell_type": "markdown",
   "id": "7c189c30",
   "metadata": {
    "id": "7c189c30"
   },
   "source": [
    "# Data Cleaning : Detecting NAN values"
   ]
  },
  {
   "cell_type": "code",
   "execution_count": null,
   "id": "cfc25797",
   "metadata": {
    "colab": {
     "base_uri": "https://localhost:8080/"
    },
    "id": "cfc25797",
    "outputId": "3fd24e28-16cf-4fb6-da84-e9b0f53f32a1"
   },
   "outputs": [],
   "source": [
    "#Number of null value\n",
    "df.isnull().sum()"
   ]
  },
  {
   "cell_type": "markdown",
   "id": "5588d03a",
   "metadata": {
    "id": "5588d03a"
   },
   "source": [
    "# Detecting null values"
   ]
  },
  {
   "cell_type": "code",
   "execution_count": null,
   "id": "d848773c",
   "metadata": {
    "id": "d848773c"
   },
   "outputs": [],
   "source": [
    "missing_value=[\"NaN\",np.nan]\n",
    "df = pd.read_csv(\"Used_car_prices_in_Pakistan 2021_rawD.csv\", na_values=missing_value)"
   ]
  },
  {
   "cell_type": "code",
   "execution_count": null,
   "id": "4dd8bb7a",
   "metadata": {
    "colab": {
     "base_uri": "https://localhost:8080/"
    },
    "id": "4dd8bb7a",
    "outputId": "43e7ef00-f12a-4992-a91b-3d0c03563147"
   },
   "outputs": [],
   "source": [
    "df.isnull().any()"
   ]
  },
  {
   "cell_type": "code",
   "execution_count": null,
   "id": "cbb0215f",
   "metadata": {
    "colab": {
     "base_uri": "https://localhost:8080/"
    },
    "id": "cbb0215f",
    "outputId": "832b40df-f4ea-44ba-a536-4e9ce90de67a"
   },
   "outputs": [],
   "source": [
    "#Number of null value\n",
    "df.isnull().sum()"
   ]
  },
  {
   "cell_type": "code",
   "execution_count": null,
   "id": "308d94c2",
   "metadata": {
    "colab": {
     "base_uri": "https://localhost:8080/"
    },
    "id": "308d94c2",
    "outputId": "ae988cb2-c103-4c3e-9af4-e30796430ab0"
   },
   "outputs": [],
   "source": [
    "# Mean value % in null values\n",
    "df.isnull().mean()"
   ]
  },
  {
   "cell_type": "code",
   "execution_count": null,
   "id": "5d79556e",
   "metadata": {
    "colab": {
     "base_uri": "https://localhost:8080/",
     "height": 521
    },
    "id": "5d79556e",
    "outputId": "88ddbe1d-1a9e-4fb7-ed57-6d730c2b32a8"
   },
   "outputs": [],
   "source": [
    "df['Version'].value_counts().plot.bar()"
   ]
  },
  {
   "cell_type": "code",
   "execution_count": null,
   "id": "fd38aeb7",
   "metadata": {
    "colab": {
     "base_uri": "https://localhost:8080/",
     "height": 354
    },
    "id": "fd38aeb7",
    "outputId": "7acfe8aa-8526-460a-b0f3-588698aeb2c8"
   },
   "outputs": [],
   "source": [
    "#display null values using graph\n",
    "sns.heatmap(df.isnull(), yticklabels=False, annot=True)"
   ]
  },
  {
   "cell_type": "markdown",
   "id": "0caa8b75",
   "metadata": {
    "id": "0caa8b75"
   },
   "source": [
    "# Add mean value in 'version' variable to the null values"
   ]
  },
  {
   "cell_type": "code",
   "execution_count": null,
   "id": "8f0be0a8",
   "metadata": {
    "colab": {
     "base_uri": "https://localhost:8080/"
    },
    "id": "8f0be0a8",
    "outputId": "b07f72dc-33c6-440d-c549-6b641fc26e68"
   },
   "outputs": [],
   "source": [
    "df['Version'].mode()"
   ]
  },
  {
   "cell_type": "code",
   "execution_count": null,
   "id": "be569e7f",
   "metadata": {
    "id": "be569e7f"
   },
   "outputs": [],
   "source": [
    "df['Version'].fillna('GLi 1.3 VVTi', inplace=True)"
   ]
  },
  {
   "cell_type": "code",
   "execution_count": null,
   "id": "533a83ef",
   "metadata": {
    "colab": {
     "base_uri": "https://localhost:8080/"
    },
    "id": "533a83ef",
    "outputId": "ed5de5c7-065d-4f4f-e942-ad0514b84d77"
   },
   "outputs": [],
   "source": [
    "df['Version'].isnull().sum()"
   ]
  },
  {
   "cell_type": "code",
   "execution_count": null,
   "id": "859a6974",
   "metadata": {
    "colab": {
     "base_uri": "https://localhost:8080/",
     "height": 521
    },
    "id": "859a6974",
    "outputId": "add18e6b-ec03-4f7f-c18a-4dd0fbd43a24"
   },
   "outputs": [],
   "source": [
    "df['Version'].value_counts().plot.bar()"
   ]
  },
  {
   "cell_type": "markdown",
   "id": "e0b1f602",
   "metadata": {
    "id": "e0b1f602"
   },
   "source": [
    "# Data Preprocessing"
   ]
  },
  {
   "cell_type": "markdown",
   "id": "mFHEDyIqiZAW",
   "metadata": {
    "id": "mFHEDyIqiZAW"
   },
   "source": [
    "### 3.1 CategoricalEncoder"
   ]
  },
  {
   "cell_type": "code",
   "execution_count": null,
   "id": "Y5FXUEpcZcIo",
   "metadata": {
    "colab": {
     "base_uri": "https://localhost:8080/"
    },
    "id": "Y5FXUEpcZcIo",
    "outputId": "bde0df33-6c83-44e2-bbfb-ea1d4119586e"
   },
   "outputs": [],
   "source": [
    "#categorical data distridution illustration\n",
    "print(df.Transmission.value_counts())\n",
    "print(df.Assembly.value_counts())"
   ]
  },
  {
   "cell_type": "code",
   "execution_count": null,
   "id": "OmsRbj9ykRoQ",
   "metadata": {
    "id": "OmsRbj9ykRoQ"
   },
   "outputs": [],
   "source": [
    "#encoding the \"Transmission\" Column\n",
    "df.replace({'Transmission':{'Automatic':0,'Manual':1}},inplace=True)\n",
    "\n",
    "#encoding the \"Assembly\" Column\n",
    "df.replace({'Assembly':{'Local':0,'Imported':1}},inplace=True)"
   ]
  },
  {
   "cell_type": "code",
   "execution_count": null,
   "id": "B1tyHFMRmYru",
   "metadata": {
    "colab": {
     "base_uri": "https://localhost:8080/",
     "height": 392
    },
    "id": "B1tyHFMRmYru",
    "outputId": "925aa261-eb63-40b1-ff8b-e0bc7330c9c6"
   },
   "outputs": [],
   "source": [
    "df.head()"
   ]
  },
  {
   "cell_type": "markdown",
   "id": "6usjU7CQnMLL",
   "metadata": {
    "id": "6usjU7CQnMLL"
   },
   "source": [
    "### Spliting the data into Traning data and Testing data."
   ]
  },
  {
   "cell_type": "code",
   "execution_count": null,
   "id": "rFFOb0TCnZXT",
   "metadata": {
    "id": "rFFOb0TCnZXT"
   },
   "outputs": [],
   "source": [
    "X = df.drop(['Price'],axis=1)\n",
    "Y = df['Price']"
   ]
  },
  {
   "cell_type": "code",
   "execution_count": null,
   "id": "ABS2giI5oge-",
   "metadata": {
    "colab": {
     "base_uri": "https://localhost:8080/"
    },
    "id": "ABS2giI5oge-",
    "outputId": "fefdeb0b-263d-46b0-ab1a-01f00a10b9f7"
   },
   "outputs": [],
   "source": [
    "print(X)"
   ]
  },
  {
   "cell_type": "code",
   "execution_count": null,
   "id": "23i4l3SPopB5",
   "metadata": {
    "colab": {
     "base_uri": "https://localhost:8080/"
    },
    "id": "23i4l3SPopB5",
    "outputId": "7e82d1b8-e56d-4905-9209-1ae6f660411d"
   },
   "outputs": [],
   "source": [
    "print(Y)"
   ]
  },
  {
   "cell_type": "markdown",
   "id": "B-0an-VypSDr",
   "metadata": {
    "id": "B-0an-VypSDr"
   },
   "source": [
    "### Splitting Traning and Testing data"
   ]
  },
  {
   "cell_type": "code",
   "execution_count": null,
   "id": "p6ZpjXplpRqa",
   "metadata": {
    "id": "p6ZpjXplpRqa"
   },
   "outputs": [],
   "source": [
    "X_train, X_test, Y_train, Y_test = train_test_split(X, Y, test_size = 0.1, random_state = 2)"
   ]
  },
  {
   "cell_type": "markdown",
   "id": "6B4C3-YoqQEj",
   "metadata": {
    "id": "6B4C3-YoqQEj"
   },
   "source": [
    "### Traning Model"
   ]
  },
  {
   "cell_type": "markdown",
   "id": "f_SGcbQXqYRz",
   "metadata": {
    "id": "f_SGcbQXqYRz"
   },
   "source": [
    "## 1.Linear Regression"
   ]
  },
  {
   "cell_type": "code",
   "execution_count": null,
   "id": "Zlq3lk-GqOdX",
   "metadata": {
    "id": "Zlq3lk-GqOdX"
   },
   "outputs": [],
   "source": [
    "#loading the linear regression model\n",
    "lin_reg_model = LinearRegression()"
   ]
  },
  {
   "cell_type": "code",
   "execution_count": null,
   "id": "3bkkrigCpJMU",
   "metadata": {
    "id": "3bkkrigCpJMU"
   },
   "outputs": [],
   "source": []
  },
  {
   "cell_type": "markdown",
   "id": "fb7b3b30",
   "metadata": {
    "id": "fb7b3b30"
   },
   "source": [
    "# 3.1 LableEncoder"
   ]
  },
  {
   "cell_type": "code",
   "execution_count": null,
   "id": "6ba199b1",
   "metadata": {
    "id": "6ba199b1",
    "outputId": "da90c9c5-b8aa-4931-a109-609ccc8603d0"
   },
   "outputs": [],
   "source": [
    "# data types in each colunm\n",
    "df.dtypes"
   ]
  },
  {
   "cell_type": "markdown",
   "id": "e267a7c5",
   "metadata": {
    "id": "e267a7c5"
   },
   "source": [
    "# 3.1.1 LableEncoding an 'Make' variable (one-hot encoding)"
   ]
  },
  {
   "cell_type": "code",
   "execution_count": null,
   "id": "f906d93a",
   "metadata": {
    "id": "f906d93a",
    "outputId": "80d631e4-bc78-47d3-d1b7-2fcc5a7f6980"
   },
   "outputs": [],
   "source": [
    "df['Make'].unique()"
   ]
  },
  {
   "cell_type": "code",
   "execution_count": null,
   "id": "a22cfc35",
   "metadata": {
    "id": "a22cfc35"
   },
   "outputs": [],
   "source": [
    "encode = LabelEncoder()"
   ]
  },
  {
   "cell_type": "code",
   "execution_count": null,
   "id": "4514b797",
   "metadata": {
    "id": "4514b797",
    "outputId": "0c6a499c-d34f-4c98-8d27-e976996c2b7c"
   },
   "outputs": [],
   "source": [
    "encode.fit_transform(df['Make'])"
   ]
  },
  {
   "cell_type": "code",
   "execution_count": null,
   "id": "9d4dc3d3",
   "metadata": {
    "id": "9d4dc3d3"
   },
   "outputs": [],
   "source": [
    "df['Make_label']=encode.fit_transform(df['Make'])"
   ]
  },
  {
   "cell_type": "code",
   "execution_count": null,
   "id": "ca99880b",
   "metadata": {
    "id": "ca99880b",
    "outputId": "3d525e56-f53e-418b-809a-c327a5438a92"
   },
   "outputs": [],
   "source": [
    "df['Make_label'].value_counts()"
   ]
  },
  {
   "cell_type": "code",
   "execution_count": null,
   "id": "6339e0dc",
   "metadata": {
    "id": "6339e0dc",
    "outputId": "01fb5333-e584-4549-eda7-f1c35a4993b6"
   },
   "outputs": [],
   "source": [
    "df['Make'].value_counts()"
   ]
  },
  {
   "cell_type": "markdown",
   "id": "85470f17",
   "metadata": {
    "id": "85470f17"
   },
   "source": [
    "# Start one-hot encoding"
   ]
  },
  {
   "cell_type": "code",
   "execution_count": null,
   "id": "c71130b5",
   "metadata": {
    "id": "c71130b5"
   },
   "outputs": [],
   "source": [
    "add_columns = pd.get_dummies(df['Make'])"
   ]
  },
  {
   "cell_type": "code",
   "execution_count": null,
   "id": "82a49aad",
   "metadata": {
    "id": "82a49aad",
    "outputId": "d3e3262a-356c-4c99-8210-682276cabe37"
   },
   "outputs": [],
   "source": [
    "add_columns"
   ]
  },
  {
   "cell_type": "code",
   "execution_count": null,
   "id": "848346df",
   "metadata": {
    "id": "848346df",
    "outputId": "f8663e25-195a-4a6b-bc29-c9dd07c7ae44"
   },
   "outputs": [],
   "source": [
    "df.join(add_columns)"
   ]
  },
  {
   "cell_type": "code",
   "execution_count": null,
   "id": "5dc46258",
   "metadata": {
    "id": "5dc46258"
   },
   "outputs": [],
   "source": [
    "df.drop(['Make'], axis = 1, inplace = True)"
   ]
  },
  {
   "cell_type": "code",
   "execution_count": null,
   "id": "bb329b01",
   "metadata": {
    "id": "bb329b01",
    "outputId": "2775d47f-943a-4cfa-d013-21785753f40d"
   },
   "outputs": [],
   "source": [
    "df.columns"
   ]
  },
  {
   "cell_type": "code",
   "execution_count": null,
   "id": "eb67098b",
   "metadata": {
    "id": "eb67098b"
   },
   "outputs": [],
   "source": [
    "df = df.join(add_columns)"
   ]
  },
  {
   "cell_type": "code",
   "execution_count": null,
   "id": "7ce97e8c",
   "metadata": {
    "id": "7ce97e8c",
    "outputId": "cbc6f3e4-5f1a-4650-bb9b-11154fd5aabd"
   },
   "outputs": [],
   "source": [
    "df"
   ]
  },
  {
   "cell_type": "markdown",
   "id": "860dcb0a",
   "metadata": {
    "id": "860dcb0a"
   },
   "source": [
    "# 3.1.2 LableEncoding an 'Assembly' variable (one-hot encoding)"
   ]
  },
  {
   "cell_type": "code",
   "execution_count": null,
   "id": "2e407f54",
   "metadata": {
    "id": "2e407f54",
    "outputId": "916e6637-ac9e-4f32-c297-b7d1e23adc42"
   },
   "outputs": [],
   "source": [
    "df['Assembly'].unique()"
   ]
  },
  {
   "cell_type": "code",
   "execution_count": null,
   "id": "2d771561",
   "metadata": {
    "id": "2d771561"
   },
   "outputs": [],
   "source": [
    "encode = LabelEncoder()"
   ]
  },
  {
   "cell_type": "code",
   "execution_count": null,
   "id": "99004ba0",
   "metadata": {
    "id": "99004ba0",
    "outputId": "18d5adee-f529-43ae-efd5-c7f738a39b5e"
   },
   "outputs": [],
   "source": [
    "encode.fit_transform(df['Assembly'])"
   ]
  },
  {
   "cell_type": "code",
   "execution_count": null,
   "id": "e2f2c6ed",
   "metadata": {
    "id": "e2f2c6ed"
   },
   "outputs": [],
   "source": [
    "df['Assembly_label']=encode.fit_transform(df['Assembly'])"
   ]
  },
  {
   "cell_type": "code",
   "execution_count": null,
   "id": "ea4593d5",
   "metadata": {
    "id": "ea4593d5",
    "outputId": "e735a4d6-8ffd-41e5-b075-9a456609eca8"
   },
   "outputs": [],
   "source": [
    "df['Assembly_label'].value_counts()"
   ]
  },
  {
   "cell_type": "code",
   "execution_count": null,
   "id": "1c34fabe",
   "metadata": {
    "id": "1c34fabe",
    "outputId": "a2ee2522-8f46-4f50-a29c-d6f89d19b00e"
   },
   "outputs": [],
   "source": [
    "df['Assembly'].value_counts()"
   ]
  },
  {
   "cell_type": "markdown",
   "id": "fb9d0a65",
   "metadata": {
    "id": "fb9d0a65"
   },
   "source": [
    "# Start one-hot encoding"
   ]
  },
  {
   "cell_type": "code",
   "execution_count": null,
   "id": "058fb016",
   "metadata": {
    "id": "058fb016"
   },
   "outputs": [],
   "source": [
    "add_columns = pd.get_dummies(df['Assembly'])"
   ]
  },
  {
   "cell_type": "code",
   "execution_count": null,
   "id": "1ce6fa77",
   "metadata": {
    "id": "1ce6fa77",
    "outputId": "cbc93d19-0069-42ad-dab6-fca220935ac6"
   },
   "outputs": [],
   "source": [
    "add_columns"
   ]
  },
  {
   "cell_type": "code",
   "execution_count": null,
   "id": "8006ecfb",
   "metadata": {
    "id": "8006ecfb",
    "outputId": "5e646858-11a8-4ca9-c547-aa3bc2049e93"
   },
   "outputs": [],
   "source": [
    "df.join(add_columns)"
   ]
  },
  {
   "cell_type": "code",
   "execution_count": null,
   "id": "8388e762",
   "metadata": {
    "id": "8388e762"
   },
   "outputs": [],
   "source": [
    "df.drop(['Assembly'], axis = 1, inplace = True)"
   ]
  },
  {
   "cell_type": "code",
   "execution_count": null,
   "id": "dae4f5f2",
   "metadata": {
    "id": "dae4f5f2",
    "outputId": "09405cd4-073f-4b9a-9ccc-6cf9c9d15c9e"
   },
   "outputs": [],
   "source": [
    "df.columns"
   ]
  },
  {
   "cell_type": "code",
   "execution_count": null,
   "id": "5955786c",
   "metadata": {
    "id": "5955786c"
   },
   "outputs": [],
   "source": [
    "df = df.join(add_columns)"
   ]
  },
  {
   "cell_type": "code",
   "execution_count": null,
   "id": "b549b4d6",
   "metadata": {
    "id": "b549b4d6",
    "outputId": "04052dd8-b03b-417f-e5d6-fa5776ed196e"
   },
   "outputs": [],
   "source": [
    "df"
   ]
  },
  {
   "cell_type": "markdown",
   "id": "e8ecccc4",
   "metadata": {
    "id": "e8ecccc4"
   },
   "source": [
    "# 3.1.3 LableEncoding an 'Transmission' variable (one-hot encoding)"
   ]
  },
  {
   "cell_type": "code",
   "execution_count": null,
   "id": "249c55ad",
   "metadata": {
    "id": "249c55ad",
    "outputId": "5d1b526b-a9e9-4691-d4ee-a56be0b6ab37"
   },
   "outputs": [],
   "source": [
    "df['Transmission'].unique()"
   ]
  },
  {
   "cell_type": "code",
   "execution_count": null,
   "id": "80c2189a",
   "metadata": {
    "id": "80c2189a"
   },
   "outputs": [],
   "source": [
    "encode = LabelEncoder()"
   ]
  },
  {
   "cell_type": "code",
   "execution_count": null,
   "id": "4e4f1533",
   "metadata": {
    "id": "4e4f1533",
    "outputId": "5f6e561a-0bcc-4762-ae37-95c46a6481b6"
   },
   "outputs": [],
   "source": [
    "encode.fit_transform(df['Transmission'])"
   ]
  },
  {
   "cell_type": "code",
   "execution_count": null,
   "id": "4cdcfb68",
   "metadata": {
    "id": "4cdcfb68"
   },
   "outputs": [],
   "source": [
    "df['Transmission_label']=encode.fit_transform(df['Transmission'])"
   ]
  },
  {
   "cell_type": "code",
   "execution_count": null,
   "id": "9f2ceacb",
   "metadata": {
    "id": "9f2ceacb",
    "outputId": "10d9216e-3f83-4072-da24-0214d5819a0a"
   },
   "outputs": [],
   "source": [
    "df['Transmission_label'].value_counts()"
   ]
  },
  {
   "cell_type": "code",
   "execution_count": null,
   "id": "93aa0857",
   "metadata": {
    "id": "93aa0857",
    "outputId": "bc0e1e86-c38f-401f-cb66-22ab477c5457"
   },
   "outputs": [],
   "source": [
    "df['Transmission'].value_counts()"
   ]
  },
  {
   "cell_type": "markdown",
   "id": "fb0ad472",
   "metadata": {
    "id": "fb0ad472"
   },
   "source": [
    "# Start one-hot encoding"
   ]
  },
  {
   "cell_type": "code",
   "execution_count": null,
   "id": "1195831e",
   "metadata": {
    "id": "1195831e"
   },
   "outputs": [],
   "source": [
    "add_columns = pd.get_dummies(df['Transmission'])"
   ]
  },
  {
   "cell_type": "code",
   "execution_count": null,
   "id": "2c1e6412",
   "metadata": {
    "id": "2c1e6412",
    "outputId": "500f6529-dbd4-4b2e-961f-85f29c36cdb2"
   },
   "outputs": [],
   "source": [
    "add_columns"
   ]
  },
  {
   "cell_type": "code",
   "execution_count": null,
   "id": "2a3deb27",
   "metadata": {
    "id": "2a3deb27",
    "outputId": "ceb23df8-45e9-416e-a010-b65c0ed11a23"
   },
   "outputs": [],
   "source": [
    "df.join(add_columns)"
   ]
  },
  {
   "cell_type": "code",
   "execution_count": null,
   "id": "ce271bd2",
   "metadata": {
    "id": "ce271bd2"
   },
   "outputs": [],
   "source": [
    "df.drop(['Transmission'], axis = 1, inplace = True)"
   ]
  },
  {
   "cell_type": "code",
   "execution_count": null,
   "id": "ed8305ff",
   "metadata": {
    "id": "ed8305ff",
    "outputId": "3de2f058-9d84-4d73-e34d-770dfd278272"
   },
   "outputs": [],
   "source": [
    "df.columns\n"
   ]
  },
  {
   "cell_type": "code",
   "execution_count": null,
   "id": "8781a7c0",
   "metadata": {
    "id": "8781a7c0"
   },
   "outputs": [],
   "source": [
    "df = df.join(add_columns)"
   ]
  },
  {
   "cell_type": "code",
   "execution_count": null,
   "id": "87a5f418",
   "metadata": {
    "id": "87a5f418",
    "outputId": "2370218f-3b57-4e12-d554-fcdb8acc1873",
    "scrolled": true
   },
   "outputs": [],
   "source": [
    "df"
   ]
  },
  {
   "cell_type": "markdown",
   "id": "88b72d6e",
   "metadata": {
    "id": "88b72d6e"
   },
   "source": [
    "# 3.2 Standardization"
   ]
  },
  {
   "cell_type": "code",
   "execution_count": null,
   "id": "24ef00a1",
   "metadata": {
    "id": "24ef00a1",
    "outputId": "d6ec6ee9-7e21-4300-d977-7420dd46c0b6",
    "scrolled": true
   },
   "outputs": [],
   "source": [
    "df.dtypes"
   ]
  },
  {
   "cell_type": "code",
   "execution_count": null,
   "id": "3127c631",
   "metadata": {
    "id": "3127c631"
   },
   "outputs": [],
   "source": [
    "#X = df.iloc[:, [3,4,8,9,10,11,12,13,14,15,16,17,18,19,20,21,22,23,79]]\n",
    "X = df.iloc[:, [3,4]]\n",
    "y = df.iloc[:, 2]"
   ]
  },
  {
   "cell_type": "code",
   "execution_count": null,
   "id": "e7730d9f",
   "metadata": {
    "id": "e7730d9f",
    "outputId": "dbfd21df-0943-452f-a013-0d03ea1d87dd"
   },
   "outputs": [],
   "source": [
    "X.head()"
   ]
  },
  {
   "cell_type": "markdown",
   "id": "e434d96d",
   "metadata": {
    "id": "e434d96d"
   },
   "source": [
    "# Seperate dependent and independent variables in dataset"
   ]
  },
  {
   "cell_type": "markdown",
   "id": "d654ab6d",
   "metadata": {
    "id": "d654ab6d"
   },
   "source": [
    "# 1.1 indepepend variable"
   ]
  },
  {
   "cell_type": "markdown",
   "id": "vhlcLOM3X9ec",
   "metadata": {
    "id": "vhlcLOM3X9ec"
   },
   "source": []
  },
  {
   "cell_type": "code",
   "execution_count": null,
   "id": "82fd9264",
   "metadata": {
    "id": "82fd9264"
   },
   "outputs": [],
   "source": [
    "x=df[['Make_Year','CC']]\n"
   ]
  },
  {
   "cell_type": "code",
   "execution_count": null,
   "id": "4d24084a",
   "metadata": {
    "id": "4d24084a",
    "outputId": "4e3b51f5-eaf3-43e6-ea86-ec7925723186"
   },
   "outputs": [],
   "source": [
    "#Display independent variable\n",
    "x"
   ]
  },
  {
   "cell_type": "code",
   "execution_count": null,
   "id": "2c279e34",
   "metadata": {
    "id": "2c279e34"
   },
   "outputs": [],
   "source": [
    "x=df[['Make_Year','CC']].values"
   ]
  },
  {
   "cell_type": "code",
   "execution_count": null,
   "id": "33bf45c4",
   "metadata": {
    "id": "33bf45c4",
    "outputId": "f7b7ad4b-10b5-4532-f7f4-0c3c294b94b5"
   },
   "outputs": [],
   "source": [
    "#Display independent variable\n",
    "x"
   ]
  },
  {
   "cell_type": "markdown",
   "id": "239a8fac",
   "metadata": {
    "id": "239a8fac"
   },
   "source": [
    "# 1.2 dependent Variable"
   ]
  },
  {
   "cell_type": "code",
   "execution_count": null,
   "id": "89ab41a4",
   "metadata": {
    "id": "89ab41a4"
   },
   "outputs": [],
   "source": [
    "y=df[['Price']]"
   ]
  },
  {
   "cell_type": "code",
   "execution_count": null,
   "id": "7c304cb2",
   "metadata": {
    "colab": {
     "base_uri": "https://localhost:8080/",
     "height": 523
    },
    "id": "7c304cb2",
    "outputId": "62e5ddc5-b055-4380-8449-06781b0f1c72"
   },
   "outputs": [],
   "source": [
    "y"
   ]
  },
  {
   "cell_type": "code",
   "execution_count": null,
   "id": "e4a7596e",
   "metadata": {
    "id": "e4a7596e"
   },
   "outputs": [],
   "source": []
  },
  {
   "cell_type": "code",
   "execution_count": null,
   "id": "f638a273",
   "metadata": {
    "id": "f638a273"
   },
   "outputs": [],
   "source": []
  },
  {
   "cell_type": "code",
   "execution_count": null,
   "id": "e9eaab1d",
   "metadata": {
    "id": "e9eaab1d"
   },
   "outputs": [],
   "source": []
  },
  {
   "cell_type": "code",
   "execution_count": null,
   "id": "c9a0a523",
   "metadata": {
    "id": "c9a0a523"
   },
   "outputs": [],
   "source": []
  }
 ],
 "metadata": {
  "colab": {
   "name": "Assignment2Final.ipynb",
   "provenance": []
  },
  "kernelspec": {
   "display_name": "Python 3 (ipykernel)",
   "language": "python",
   "name": "python3"
  },
  "language_info": {
   "codemirror_mode": {
    "name": "ipython",
    "version": 3
   },
   "file_extension": ".py",
   "mimetype": "text/x-python",
   "name": "python",
   "nbconvert_exporter": "python",
   "pygments_lexer": "ipython3",
   "version": "3.9.12"
  }
 },
 "nbformat": 4,
 "nbformat_minor": 5
}
