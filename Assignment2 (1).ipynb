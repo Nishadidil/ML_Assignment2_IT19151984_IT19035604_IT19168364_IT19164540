{
 "cells": [
  {
   "cell_type": "code",
   "execution_count": 1,
   "id": "e54c3251",
   "metadata": {},
   "outputs": [],
   "source": [
    "#import libraries\n",
    "import pandas as pd\n",
    "import numpy as np\n",
    "import seaborn as sns\n",
    "import os"
   ]
  },
  {
   "cell_type": "code",
   "execution_count": 2,
   "id": "b50ae34d",
   "metadata": {},
   "outputs": [
    {
     "name": "stdout",
     "output_type": "stream",
     "text": [
      "['.ipynb_checkpoints', 'Assignment2.ipynb', 'data_cleaning.ipynb', 'loan.csv', 'Used_car_prices_in_Pakistan 2021_rawD.csv']\n"
     ]
    }
   ],
   "source": [
    "#print names of files in ML_assignment folder\n",
    "print(os.listdir())"
   ]
  },
  {
   "cell_type": "code",
   "execution_count": 3,
   "id": "9dc790df",
   "metadata": {},
   "outputs": [],
   "source": [
    "#import data-set\n",
    "df = pd.read_csv(\"Used_car_prices_in_Pakistan 2021_rawD.csv\")"
   ]
  },
  {
   "cell_type": "code",
   "execution_count": 4,
   "id": "b77d86a4",
   "metadata": {},
   "outputs": [
    {
     "data": {
      "text/html": [
       "<div>\n",
       "<style scoped>\n",
       "    .dataframe tbody tr th:only-of-type {\n",
       "        vertical-align: middle;\n",
       "    }\n",
       "\n",
       "    .dataframe tbody tr th {\n",
       "        vertical-align: top;\n",
       "    }\n",
       "\n",
       "    .dataframe thead th {\n",
       "        text-align: right;\n",
       "    }\n",
       "</style>\n",
       "<table border=\"1\" class=\"dataframe\">\n",
       "  <thead>\n",
       "    <tr style=\"text-align: right;\">\n",
       "      <th></th>\n",
       "      <th>Make</th>\n",
       "      <th>Model</th>\n",
       "      <th>Version</th>\n",
       "      <th>Price</th>\n",
       "      <th>Make_Year</th>\n",
       "      <th>CC</th>\n",
       "      <th>Assembly</th>\n",
       "      <th>Mileage</th>\n",
       "      <th>Registered City</th>\n",
       "      <th>Transmission</th>\n",
       "    </tr>\n",
       "  </thead>\n",
       "  <tbody>\n",
       "    <tr>\n",
       "      <th>0</th>\n",
       "      <td>Honda</td>\n",
       "      <td>Insight</td>\n",
       "      <td>NaN</td>\n",
       "      <td>7400000.0</td>\n",
       "      <td>2019</td>\n",
       "      <td>1500</td>\n",
       "      <td>Imported</td>\n",
       "      <td>2000</td>\n",
       "      <td>Un-Registered</td>\n",
       "      <td>Automatic</td>\n",
       "    </tr>\n",
       "    <tr>\n",
       "      <th>1</th>\n",
       "      <td>Mitsubishi</td>\n",
       "      <td>Minica</td>\n",
       "      <td>Black Minica</td>\n",
       "      <td>1065000.0</td>\n",
       "      <td>2019</td>\n",
       "      <td>660</td>\n",
       "      <td>Imported</td>\n",
       "      <td>68000</td>\n",
       "      <td>Lahore</td>\n",
       "      <td>Automatic</td>\n",
       "    </tr>\n",
       "    <tr>\n",
       "      <th>2</th>\n",
       "      <td>Audi</td>\n",
       "      <td>A6</td>\n",
       "      <td>1.8 TFSI Business Class Edition</td>\n",
       "      <td>9300000.0</td>\n",
       "      <td>2015</td>\n",
       "      <td>1800</td>\n",
       "      <td>Local</td>\n",
       "      <td>70000</td>\n",
       "      <td>Lahore</td>\n",
       "      <td>Automatic</td>\n",
       "    </tr>\n",
       "    <tr>\n",
       "      <th>3</th>\n",
       "      <td>Toyota</td>\n",
       "      <td>Aqua</td>\n",
       "      <td>G</td>\n",
       "      <td>2375000.0</td>\n",
       "      <td>2014</td>\n",
       "      <td>1500</td>\n",
       "      <td>Imported</td>\n",
       "      <td>99900</td>\n",
       "      <td>Islamabad</td>\n",
       "      <td>Automatic</td>\n",
       "    </tr>\n",
       "    <tr>\n",
       "      <th>4</th>\n",
       "      <td>Honda</td>\n",
       "      <td>City</td>\n",
       "      <td>1.3 i-VTEC</td>\n",
       "      <td>2600000.0</td>\n",
       "      <td>2017</td>\n",
       "      <td>1300</td>\n",
       "      <td>Local</td>\n",
       "      <td>55000</td>\n",
       "      <td>Islamabad</td>\n",
       "      <td>Manual</td>\n",
       "    </tr>\n",
       "  </tbody>\n",
       "</table>\n",
       "</div>"
      ],
      "text/plain": [
       "         Make    Model                          Version      Price  Make_Year  \\\n",
       "0       Honda  Insight                              NaN  7400000.0       2019   \n",
       "1  Mitsubishi   Minica                     Black Minica  1065000.0       2019   \n",
       "2        Audi       A6  1.8 TFSI Business Class Edition  9300000.0       2015   \n",
       "3      Toyota     Aqua                                G  2375000.0       2014   \n",
       "4       Honda     City                       1.3 i-VTEC  2600000.0       2017   \n",
       "\n",
       "     CC  Assembly  Mileage Registered City Transmission  \n",
       "0  1500  Imported     2000   Un-Registered    Automatic  \n",
       "1   660  Imported    68000          Lahore    Automatic  \n",
       "2  1800     Local    70000          Lahore    Automatic  \n",
       "3  1500  Imported    99900       Islamabad    Automatic  \n",
       "4  1300     Local    55000       Islamabad       Manual  "
      ]
     },
     "execution_count": 4,
     "metadata": {},
     "output_type": "execute_result"
    }
   ],
   "source": [
    "#first five rows\n",
    "df.head()"
   ]
  },
  {
   "cell_type": "code",
   "execution_count": 5,
   "id": "9b628627",
   "metadata": {
    "scrolled": true
   },
   "outputs": [
    {
     "data": {
      "text/html": [
       "<div>\n",
       "<style scoped>\n",
       "    .dataframe tbody tr th:only-of-type {\n",
       "        vertical-align: middle;\n",
       "    }\n",
       "\n",
       "    .dataframe tbody tr th {\n",
       "        vertical-align: top;\n",
       "    }\n",
       "\n",
       "    .dataframe thead th {\n",
       "        text-align: right;\n",
       "    }\n",
       "</style>\n",
       "<table border=\"1\" class=\"dataframe\">\n",
       "  <thead>\n",
       "    <tr style=\"text-align: right;\">\n",
       "      <th></th>\n",
       "      <th>Make</th>\n",
       "      <th>Model</th>\n",
       "      <th>Version</th>\n",
       "      <th>Price</th>\n",
       "      <th>Make_Year</th>\n",
       "      <th>CC</th>\n",
       "      <th>Assembly</th>\n",
       "      <th>Mileage</th>\n",
       "      <th>Registered City</th>\n",
       "      <th>Transmission</th>\n",
       "    </tr>\n",
       "  </thead>\n",
       "  <tbody>\n",
       "    <tr>\n",
       "      <th>80567</th>\n",
       "      <td>Suzuki</td>\n",
       "      <td>Bolan</td>\n",
       "      <td>NaN</td>\n",
       "      <td>750000.0</td>\n",
       "      <td>2015</td>\n",
       "      <td>800</td>\n",
       "      <td>Local</td>\n",
       "      <td>98000</td>\n",
       "      <td>Lahore</td>\n",
       "      <td>Manual</td>\n",
       "    </tr>\n",
       "    <tr>\n",
       "      <th>80568</th>\n",
       "      <td>Suzuki</td>\n",
       "      <td>Alto</td>\n",
       "      <td>VXR</td>\n",
       "      <td>1480000.0</td>\n",
       "      <td>2020</td>\n",
       "      <td>660</td>\n",
       "      <td>Local</td>\n",
       "      <td>7800</td>\n",
       "      <td>Karachi</td>\n",
       "      <td>Manual</td>\n",
       "    </tr>\n",
       "    <tr>\n",
       "      <th>80569</th>\n",
       "      <td>Toyota</td>\n",
       "      <td>Corolla</td>\n",
       "      <td>GLi Automatic 1.3 VVTi</td>\n",
       "      <td>2700000.0</td>\n",
       "      <td>2016</td>\n",
       "      <td>1300</td>\n",
       "      <td>Local</td>\n",
       "      <td>81000</td>\n",
       "      <td>Islamabad</td>\n",
       "      <td>Automatic</td>\n",
       "    </tr>\n",
       "    <tr>\n",
       "      <th>80570</th>\n",
       "      <td>FAW</td>\n",
       "      <td>X-PV</td>\n",
       "      <td>Standard</td>\n",
       "      <td>600000.0</td>\n",
       "      <td>2013</td>\n",
       "      <td>1000</td>\n",
       "      <td>Local</td>\n",
       "      <td>2</td>\n",
       "      <td>Lahore</td>\n",
       "      <td>Manual</td>\n",
       "    </tr>\n",
       "    <tr>\n",
       "      <th>80571</th>\n",
       "      <td>Honda</td>\n",
       "      <td>Civic</td>\n",
       "      <td>VTi Prosmatec 1.8 i-VTEC</td>\n",
       "      <td>2620000.0</td>\n",
       "      <td>2013</td>\n",
       "      <td>1800</td>\n",
       "      <td>Imported</td>\n",
       "      <td>100000</td>\n",
       "      <td>Islamabad</td>\n",
       "      <td>Automatic</td>\n",
       "    </tr>\n",
       "  </tbody>\n",
       "</table>\n",
       "</div>"
      ],
      "text/plain": [
       "         Make    Model                   Version      Price  Make_Year    CC  \\\n",
       "80567  Suzuki    Bolan                       NaN   750000.0       2015   800   \n",
       "80568  Suzuki     Alto                       VXR  1480000.0       2020   660   \n",
       "80569  Toyota  Corolla    GLi Automatic 1.3 VVTi  2700000.0       2016  1300   \n",
       "80570     FAW     X-PV                  Standard   600000.0       2013  1000   \n",
       "80571   Honda    Civic  VTi Prosmatec 1.8 i-VTEC  2620000.0       2013  1800   \n",
       "\n",
       "       Assembly  Mileage Registered City Transmission  \n",
       "80567     Local    98000          Lahore       Manual  \n",
       "80568     Local     7800         Karachi       Manual  \n",
       "80569     Local    81000       Islamabad    Automatic  \n",
       "80570     Local        2          Lahore       Manual  \n",
       "80571  Imported   100000       Islamabad    Automatic  "
      ]
     },
     "execution_count": 5,
     "metadata": {},
     "output_type": "execute_result"
    }
   ],
   "source": [
    "#last five rows\n",
    "df.tail()"
   ]
  },
  {
   "cell_type": "markdown",
   "id": "d459a6b7",
   "metadata": {},
   "source": [
    "# Data Cleaning : Detecting NAN values"
   ]
  },
  {
   "cell_type": "code",
   "execution_count": 6,
   "id": "2922384a",
   "metadata": {},
   "outputs": [
    {
     "data": {
      "text/plain": [
       "Make                  0\n",
       "Model                 0\n",
       "Version            6772\n",
       "Price                 0\n",
       "Make_Year             0\n",
       "CC                    0\n",
       "Assembly              0\n",
       "Mileage               0\n",
       "Registered City       0\n",
       "Transmission          0\n",
       "dtype: int64"
      ]
     },
     "execution_count": 6,
     "metadata": {},
     "output_type": "execute_result"
    }
   ],
   "source": [
    "#Number of null value\n",
    "df.isnull().sum()"
   ]
  },
  {
   "cell_type": "code",
   "execution_count": 7,
   "id": "f8b5c9c8",
   "metadata": {},
   "outputs": [
    {
     "data": {
      "text/plain": [
       "Make               False\n",
       "Model              False\n",
       "Version             True\n",
       "Price              False\n",
       "Make_Year          False\n",
       "CC                 False\n",
       "Assembly           False\n",
       "Mileage            False\n",
       "Registered City    False\n",
       "Transmission       False\n",
       "dtype: bool"
      ]
     },
     "execution_count": 7,
     "metadata": {},
     "output_type": "execute_result"
    }
   ],
   "source": [
    "df.isnull().any()"
   ]
  },
  {
   "cell_type": "code",
   "execution_count": null,
   "id": "a2e98e9a",
   "metadata": {},
   "outputs": [],
   "source": [
    "#display null values using graph\n",
    "sns.heatmap(df.isnull(), yticklabels=False, annot=True)"
   ]
  },
  {
   "cell_type": "markdown",
   "id": "8ca53163",
   "metadata": {},
   "source": [
    "# Remove null values"
   ]
  },
  {
   "cell_type": "code",
   "execution_count": null,
   "id": "41109b43",
   "metadata": {},
   "outputs": [],
   "source": [
    "missing_value=[\"NaN\",np.nan]\n",
    "df = pd.read_csv(\"Used_car_prices_in_Pakistan 2021_rawD.csv\", na_values)"
   ]
  },
  {
   "cell_type": "code",
   "execution_count": null,
   "id": "e862de35",
   "metadata": {},
   "outputs": [],
   "source": [
    "df.isnull()"
   ]
  },
  {
   "cell_type": "code",
   "execution_count": null,
   "id": "2f39f561",
   "metadata": {},
   "outputs": [],
   "source": [
    "#data types in each colunm\n",
    "df.dtypes"
   ]
  },
  {
   "cell_type": "code",
   "execution_count": null,
   "id": "2ce7657c",
   "metadata": {},
   "outputs": [],
   "source": [
    "#shape of the data\n",
    "df.shape"
   ]
  },
  {
   "cell_type": "code",
   "execution_count": null,
   "id": "d6a38327",
   "metadata": {},
   "outputs": [],
   "source": [
    "x = df.iloc[:, [4,5]]\n",
    "y = df.iloc[:, 3]"
   ]
  },
  {
   "cell_type": "code",
   "execution_count": null,
   "id": "2a705365",
   "metadata": {},
   "outputs": [],
   "source": [
    "x.head()"
   ]
  },
  {
   "cell_type": "code",
   "execution_count": null,
   "id": "c73817ab",
   "metadata": {},
   "outputs": [],
   "source": [
    "df.describe()"
   ]
  },
  {
   "cell_type": "code",
   "execution_count": null,
   "id": "08ec52d7",
   "metadata": {},
   "outputs": [],
   "source": [
    "\n",
    "df.corr()"
   ]
  },
  {
   "cell_type": "code",
   "execution_count": null,
   "id": "5fbf88d6",
   "metadata": {},
   "outputs": [],
   "source": [
    "df['Price'].describe()"
   ]
  },
  {
   "cell_type": "code",
   "execution_count": null,
   "id": "96a5f819",
   "metadata": {},
   "outputs": [],
   "source": []
  }
 ],
 "metadata": {
  "kernelspec": {
   "display_name": "Python 3 (ipykernel)",
   "language": "python",
   "name": "python3"
  },
  "language_info": {
   "codemirror_mode": {
    "name": "ipython",
    "version": 3
   },
   "file_extension": ".py",
   "mimetype": "text/x-python",
   "name": "python",
   "nbconvert_exporter": "python",
   "pygments_lexer": "ipython3",
   "version": "3.9.7"
  }
 },
 "nbformat": 4,
 "nbformat_minor": 5
}
